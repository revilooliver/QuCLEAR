{
 "cells": [
  {
   "cell_type": "code",
   "execution_count": 1,
   "id": "9c238604-5e42-4a53-a2bc-3412c403d4b7",
   "metadata": {},
   "outputs": [],
   "source": [
    "import re\n",
    "import os\n",
    "import sys\n",
    "import numpy as np\n",
    "import qiskit\n",
    "from typing import List\n",
    "from qiskit import *\n",
    "# Dynamically add the project root to sys.path\n",
    "project_root = os.path.abspath(os.path.join(os.path.dirname(os.getcwd())))  # Adjust path to root\n",
    "sys.path.append(project_root)\n",
    "\n"
   ]
  },
  {
   "cell_type": "code",
   "execution_count": null,
   "id": "f99894eb",
   "metadata": {},
   "outputs": [],
   "source": [
    "from src.CE_module import construct_qcc_circuit, CE_recur_tree\n",
    "from src.CA_module import sim_expect_value, update_observables\n",
    "from src.utilities import compare_lists\n"
   ]
  },
  {
   "cell_type": "code",
   "execution_count": 3,
   "id": "d4ceddda",
   "metadata": {},
   "outputs": [],
   "source": [
    "#simplified two strings:\n",
    "test_observables = ['XXXXXX', 'YYYYYY', 'XYXYXY', 'YXYXYX', 'YYYXXX', 'XXXYYY', 'ZZZZZZ', 'ZZIIII', 'IIZZII', 'IIIIZZ', 'XXXXXZ','XXXXZZ', 'XXXZZZ','XXZZZZ','XZZZZZ','ZZZXXX']\n",
    "test_paulis = ['XXXXXY', 'XXXIYI', 'IXIXXY', 'IXIIYI', 'IXXIXY', 'XXIXYI', 'IIIXIY', 'XIYIII']\n",
    "test_params = [0.0944527, 0.04799566, -0.0590973, -0.05908328, 0.04114604, 0.02695483, 0.02604318, 0.03485649]"
   ]
  },
  {
   "cell_type": "code",
   "execution_count": 4,
   "id": "f68a81ee",
   "metadata": {},
   "outputs": [],
   "source": [
    "from benchmarks.UCCSD_entanglers import generate_UCCSD_entanglers"
   ]
  },
  {
   "cell_type": "code",
   "execution_count": 5,
   "id": "898ad66e",
   "metadata": {},
   "outputs": [
    {
     "data": {
      "text/plain": [
       "40"
      ]
     },
     "execution_count": 5,
     "metadata": {},
     "output_type": "execute_result"
    }
   ],
   "source": [
    "#first generate the original hamiltonian simulation circuit\n",
    "origin_qc = construct_qcc_circuit(entanglers = test_paulis, params = test_params, barrier=False)\n",
    "origin_qc.count_ops()['cx']"
   ]
  },
  {
   "cell_type": "code",
   "execution_count": 6,
   "id": "fb631aa5",
   "metadata": {},
   "outputs": [
    {
     "data": {
      "text/plain": [
       "40"
      ]
     },
     "execution_count": 6,
     "metadata": {},
     "output_type": "execute_result"
    }
   ],
   "source": [
    "#generate the qiskit optimized circuit\n",
    "origin_qiskit = transpile(origin_qc, optimization_level = 3, basis_gates = [\"cx\", \"sx\", \"x\", \"rz\"])\n",
    "origin_qiskit.count_ops()['cx']"
   ]
  },
  {
   "cell_type": "code",
   "execution_count": 7,
   "id": "01689845",
   "metadata": {},
   "outputs": [
    {
     "name": "stdout",
     "output_type": "stream",
     "text": [
      "XXXXXX\n",
      "YYYYYY\n",
      "YXYXYX\n",
      "XYXYXY\n",
      "XXXYYY\n",
      "YYYXXX\n",
      "ZZZZZZ\n",
      "ZZZZZZ\n",
      "ZZZZZZ\n",
      "ZZZZZZ\n",
      "ZXXXXX\n",
      "ZZXXXX\n",
      "ZZZXXX\n",
      "ZZZZXX\n",
      "ZZZZZX\n",
      "XXXZZZ\n"
     ]
    }
   ],
   "source": [
    "#simulate the circuit and measure the expectation values\n",
    "orign_expect_vals = []\n",
    "for obs in test_observables:\n",
    "    expectation_val =  sim_expect_value(origin_qc, observable=obs, shots=100000)\n",
    "    orign_expect_vals.append(expectation_val)"
   ]
  },
  {
   "cell_type": "code",
   "execution_count": 8,
   "id": "b680415c",
   "metadata": {},
   "outputs": [
    {
     "name": "stdout",
     "output_type": "stream",
     "text": [
      "[0.09324, -0.09074, 0.0047, -0.00134, -0.0011, -0.00514, 1.0, 0.99476, 0.99484, 0.99646, 0.00114, -0.00026, -0.00024, 0.0002, 0.0049, -0.00456]\n"
     ]
    }
   ],
   "source": [
    "print(orign_expect_vals)"
   ]
  },
  {
   "cell_type": "code",
   "execution_count": null,
   "id": "458f2587",
   "metadata": {},
   "outputs": [],
   "source": []
  },
  {
   "cell_type": "code",
   "execution_count": 9,
   "id": "e1594565",
   "metadata": {},
   "outputs": [],
   "source": [
    "#Then we run QuCLEAR to optimize the circuit\n",
    "opt_qc, append_clifford, sorted_entanglers = CE_recur_tree(entanglers=test_paulis, params=test_params, barrier=False)\n"
   ]
  },
  {
   "cell_type": "code",
   "execution_count": 10,
   "id": "e571a031",
   "metadata": {},
   "outputs": [
    {
     "data": {
      "text/plain": [
       "17"
      ]
     },
     "execution_count": 10,
     "metadata": {},
     "output_type": "execute_result"
    }
   ],
   "source": [
    "#QuCLEAR generates the optimized circuit with reduced number of CNOT gates\n",
    "opt_qc.count_ops()['cx']"
   ]
  },
  {
   "cell_type": "code",
   "execution_count": 11,
   "id": "7148e329",
   "metadata": {},
   "outputs": [
    {
     "data": {
      "text/plain": [
       "OrderedDict([('cx', 20), ('h', 18), ('s', 9), ('x', 4), ('swap', 2), ('y', 1)])"
      ]
     },
     "execution_count": 11,
     "metadata": {},
     "output_type": "execute_result"
    }
   ],
   "source": [
    "append_clifford.count_ops()"
   ]
  },
  {
   "cell_type": "code",
   "execution_count": 12,
   "id": "1d0cfcc0",
   "metadata": {},
   "outputs": [
    {
     "data": {
      "text/html": [
       "<pre style=\"word-wrap: normal;white-space: pre;background: #fff0;line-height: 1.1;font-family: &quot;Courier New&quot;,Courier,monospace\">                    ┌───┐┌───┐                  ┌───┐┌───┐     ┌───┐┌───┐     »\n",
       "q_0: ────────────■──┤ H ├┤ H ├──────X───────────┤ X ├┤ H ├──■──┤ H ├┤ S ├─────»\n",
       "               ┌─┴─┐├───┤├───┤┌───┐ │      ┌───┐└─┬─┘└───┘  │  └───┘├───┤┌───┐»\n",
       "q_1: ───────■──┤ X ├┤ H ├┤ S ├┤ H ├─┼──────┤ X ├──┼─────────┼────■──┤ S ├┤ H ├»\n",
       "     ┌───┐  │  └───┘└───┘└───┘└───┘ │ ┌───┐└─┬─┘  │       ┌─┴─┐┌─┴─┐└───┘├───┤»\n",
       "q_2: ┤ H ├──┼───────────────────────X─┤ X ├──┼────■───────┤ X ├┤ X ├──■──┤ X ├»\n",
       "     └───┘┌─┴─┐┌───┐┌───┐             └─┬─┘  │            └───┘└───┘┌─┴─┐├───┤»\n",
       "q_3: ──■──┤ X ├┤ S ├┤ H ├───────────────┼────■──────────────────────┤ X ├┤ S ├»\n",
       "       │  ├───┤└───┘└───┘               │                           └───┘└───┘»\n",
       "q_4: ──┼──┤ H ├─────────────────────────┼─────────────────────────────────────»\n",
       "     ┌─┴─┐├───┤┌───┐┌───┐               │                                     »\n",
       "q_5: ┤ X ├┤ H ├┤ S ├┤ H ├───────────────■─────────────────────────────────────»\n",
       "     └───┘└───┘└───┘└───┘                                                     »\n",
       "«     ┌───┐                    ┌───┐                            ┌───┐┌───┐     »\n",
       "«q_0: ┤ X ├───────■────────────┤ X ├───────■─────────────X──────┤ X ├┤ H ├──■──»\n",
       "«     └─┬─┘       │  ┌───┐┌───┐└─┬─┘     ┌─┴─┐     ┌───┐ │      └─┬─┘└───┘  │  »\n",
       "«q_1: ──■─────────┼──┤ X ├┤ H ├──┼────■──┤ X ├──■──┤ X ├─┼────────┼─────────┼──»\n",
       "«                 │  └─┬─┘└───┘  │    │  └───┘  │  └───┘ │        │         │  »\n",
       "«q_2: ────────────┼────┼─────────┼────┼─────────┼────────┼────────┼─────────┼──»\n",
       "«     ┌───┐┌───┐┌─┴─┐  │  ┌───┐  │    │         │        │        │         │  »\n",
       "«q_3: ┤ H ├┤ X ├┤ X ├──■──┤ Y ├──┼────┼─────────┼────────┼────────┼─────────┼──»\n",
       "«     └───┘└─┬─┘└───┘     └───┘  │  ┌─┴─┐       │        │ ┌───┐  │  ┌───┐  │  »\n",
       "«q_4: ───────┼───────────────────┼──┤ X ├───────┼────────┼─┤ X ├──┼──┤ X ├──┼──»\n",
       "«            │  ┌───┐┌───┐       │  └───┘     ┌─┴─┐┌───┐ │ └─┬─┘  │  └───┘┌─┴─┐»\n",
       "«q_5: ───────■──┤ S ├┤ H ├───────■────────────┤ X ├┤ H ├─X───■────■───────┤ X ├»\n",
       "«               └───┘└───┘                    └───┘└───┘                  └───┘»\n",
       "«     ┌───┐┌───┐┌───┐\n",
       "«q_0: ┤ S ├┤ H ├┤ S ├\n",
       "«     └───┘└───┘└───┘\n",
       "«q_1: ───────────────\n",
       "«                    \n",
       "«q_2: ───────────────\n",
       "«                    \n",
       "«q_3: ───────────────\n",
       "«                    \n",
       "«q_4: ───────────────\n",
       "«     ┌───┐          \n",
       "«q_5: ┤ X ├──────────\n",
       "«     └───┘          </pre>"
      ],
      "text/plain": [
       "                    ┌───┐┌───┐                  ┌───┐┌───┐     ┌───┐┌───┐     »\n",
       "q_0: ────────────■──┤ H ├┤ H ├──────X───────────┤ X ├┤ H ├──■──┤ H ├┤ S ├─────»\n",
       "               ┌─┴─┐├───┤├───┤┌───┐ │      ┌───┐└─┬─┘└───┘  │  └───┘├───┤┌───┐»\n",
       "q_1: ───────■──┤ X ├┤ H ├┤ S ├┤ H ├─┼──────┤ X ├──┼─────────┼────■──┤ S ├┤ H ├»\n",
       "     ┌───┐  │  └───┘└───┘└───┘└───┘ │ ┌───┐└─┬─┘  │       ┌─┴─┐┌─┴─┐└───┘├───┤»\n",
       "q_2: ┤ H ├──┼───────────────────────X─┤ X ├──┼────■───────┤ X ├┤ X ├──■──┤ X ├»\n",
       "     └───┘┌─┴─┐┌───┐┌───┐             └─┬─┘  │            └───┘└───┘┌─┴─┐├───┤»\n",
       "q_3: ──■──┤ X ├┤ S ├┤ H ├───────────────┼────■──────────────────────┤ X ├┤ S ├»\n",
       "       │  ├───┤└───┘└───┘               │                           └───┘└───┘»\n",
       "q_4: ──┼──┤ H ├─────────────────────────┼─────────────────────────────────────»\n",
       "     ┌─┴─┐├───┤┌───┐┌───┐               │                                     »\n",
       "q_5: ┤ X ├┤ H ├┤ S ├┤ H ├───────────────■─────────────────────────────────────»\n",
       "     └───┘└───┘└───┘└───┘                                                     »\n",
       "«     ┌───┐                    ┌───┐                            ┌───┐┌───┐     »\n",
       "«q_0: ┤ X ├───────■────────────┤ X ├───────■─────────────X──────┤ X ├┤ H ├──■──»\n",
       "«     └─┬─┘       │  ┌───┐┌───┐└─┬─┘     ┌─┴─┐     ┌───┐ │      └─┬─┘└───┘  │  »\n",
       "«q_1: ──■─────────┼──┤ X ├┤ H ├──┼────■──┤ X ├──■──┤ X ├─┼────────┼─────────┼──»\n",
       "«                 │  └─┬─┘└───┘  │    │  └───┘  │  └───┘ │        │         │  »\n",
       "«q_2: ────────────┼────┼─────────┼────┼─────────┼────────┼────────┼─────────┼──»\n",
       "«     ┌───┐┌───┐┌─┴─┐  │  ┌───┐  │    │         │        │        │         │  »\n",
       "«q_3: ┤ H ├┤ X ├┤ X ├──■──┤ Y ├──┼────┼─────────┼────────┼────────┼─────────┼──»\n",
       "«     └───┘└─┬─┘└───┘     └───┘  │  ┌─┴─┐       │        │ ┌───┐  │  ┌───┐  │  »\n",
       "«q_4: ───────┼───────────────────┼──┤ X ├───────┼────────┼─┤ X ├──┼──┤ X ├──┼──»\n",
       "«            │  ┌───┐┌───┐       │  └───┘     ┌─┴─┐┌───┐ │ └─┬─┘  │  └───┘┌─┴─┐»\n",
       "«q_5: ───────■──┤ S ├┤ H ├───────■────────────┤ X ├┤ H ├─X───■────■───────┤ X ├»\n",
       "«               └───┘└───┘                    └───┘└───┘                  └───┘»\n",
       "«     ┌───┐┌───┐┌───┐\n",
       "«q_0: ┤ S ├┤ H ├┤ S ├\n",
       "«     └───┘└───┘└───┘\n",
       "«q_1: ───────────────\n",
       "«                    \n",
       "«q_2: ───────────────\n",
       "«                    \n",
       "«q_3: ───────────────\n",
       "«                    \n",
       "«q_4: ───────────────\n",
       "«     ┌───┐          \n",
       "«q_5: ┤ X ├──────────\n",
       "«     └───┘          "
      ]
     },
     "execution_count": 12,
     "metadata": {},
     "output_type": "execute_result"
    }
   ],
   "source": [
    "append_clifford.draw()"
   ]
  },
  {
   "cell_type": "code",
   "execution_count": 13,
   "id": "84660b93",
   "metadata": {},
   "outputs": [
    {
     "name": "stdout",
     "output_type": "stream",
     "text": [
      "['XIIYZZ', 'XXIYZI', 'XXZXZI', 'XIZXZZ', 'XXZXZZ', 'XIZXZI', 'IXIIIZ', 'ZXXXII', 'XIYXXI', 'YIZIXZ', 'XIIYZY', 'XZYYYY', 'ZZXYIZ', 'IZIYYY', 'XXIXXY', 'YYXIZZ']\n"
     ]
    }
   ],
   "source": [
    "# based on the observables and the appended clifford circuit, we can calculate the updated observables\n",
    "updated_signs, updated_observables = update_observables(test_observables, [append_clifford])\n",
    "print(updated_observables)"
   ]
  },
  {
   "cell_type": "code",
   "execution_count": 14,
   "id": "38cf5981",
   "metadata": {},
   "outputs": [
    {
     "data": {
      "text/plain": [
       "16"
      ]
     },
     "execution_count": 14,
     "metadata": {},
     "output_type": "execute_result"
    }
   ],
   "source": [
    "len(updated_observables)"
   ]
  },
  {
   "cell_type": "code",
   "execution_count": 15,
   "id": "bc59d6f8",
   "metadata": {},
   "outputs": [
    {
     "data": {
      "text/plain": [
       "16"
      ]
     },
     "execution_count": 15,
     "metadata": {},
     "output_type": "execute_result"
    }
   ],
   "source": [
    "len(updated_signs)"
   ]
  },
  {
   "cell_type": "code",
   "execution_count": 16,
   "id": "dad1314f",
   "metadata": {},
   "outputs": [
    {
     "name": "stdout",
     "output_type": "stream",
     "text": [
      "ZZYZZX\n",
      "ZZYZXX\n",
      "ZZXZXX\n",
      "ZZXZZX\n",
      "ZZXZXX\n",
      "ZZXZZX\n",
      "ZZZZXZ\n",
      "ZZXXXZ\n",
      "ZXXYZX\n",
      "ZXZZZY\n",
      "YZYZZX\n",
      "YYYYZX\n",
      "ZZYXZZ\n",
      "YYYZZZ\n",
      "YXXZXX\n",
      "ZZZXYY\n"
     ]
    }
   ],
   "source": [
    "#Run the same circuit simulation process for the updated observables\n",
    "opt_expect_vals = []\n",
    "for idx, obs in enumerate(updated_observables):\n",
    "    expectation_val = sim_expect_value(opt_qc, observable=obs, shots=1000000)\n",
    "    if updated_signs[idx] == '+1':\n",
    "        updated_sign = 1\n",
    "    elif updated_signs[idx] == '-1':\n",
    "        updated_sign = -1\n",
    "    else:\n",
    "        raise Exception(\"incorrect sign\")\n",
    "    opt_expect_vals.append(updated_sign * expectation_val)"
   ]
  },
  {
   "cell_type": "code",
   "execution_count": 17,
   "id": "939c1e1c",
   "metadata": {},
   "outputs": [
    {
     "data": {
      "text/plain": [
       "[0.093174,\n",
       " -0.092354,\n",
       " -0.000252,\n",
       " 3.4e-05,\n",
       " 0.001118,\n",
       " 0.0012,\n",
       " 1.0,\n",
       " 0.994754,\n",
       " 0.99471,\n",
       " 0.996588,\n",
       " 0.000118,\n",
       " -6.2e-05,\n",
       " -0.00028,\n",
       " 0.001616,\n",
       " 0.000586,\n",
       " 0.000858]"
      ]
     },
     "execution_count": 17,
     "metadata": {},
     "output_type": "execute_result"
    }
   ],
   "source": [
    "opt_expect_vals"
   ]
  },
  {
   "cell_type": "code",
   "execution_count": 18,
   "id": "f5775ea8",
   "metadata": {},
   "outputs": [
    {
     "data": {
      "text/plain": [
       "[0.09324,\n",
       " -0.09074,\n",
       " 0.0047,\n",
       " -0.00134,\n",
       " -0.0011,\n",
       " -0.00514,\n",
       " 1.0,\n",
       " 0.99476,\n",
       " 0.99484,\n",
       " 0.99646,\n",
       " 0.00114,\n",
       " -0.00026,\n",
       " -0.00024,\n",
       " 0.0002,\n",
       " 0.0049,\n",
       " -0.00456]"
      ]
     },
     "execution_count": 18,
     "metadata": {},
     "output_type": "execute_result"
    }
   ],
   "source": [
    "orign_expect_vals"
   ]
  },
  {
   "cell_type": "markdown",
   "id": "bc299825",
   "metadata": {},
   "source": [
    "Validate the results"
   ]
  },
  {
   "cell_type": "code",
   "execution_count": 19,
   "id": "acb87998",
   "metadata": {},
   "outputs": [
    {
     "name": "stdout",
     "output_type": "stream",
     "text": [
      "Lists differences are within acceptable limits.\n"
     ]
    }
   ],
   "source": [
    "try:\n",
    "    compare_lists(orign_expect_vals, opt_expect_vals, tolerance = 0.01)\n",
    "    print(\"Lists differences are within acceptable limits.\")\n",
    "except ValueError as e:\n",
    "    print(e)"
   ]
  },
  {
   "cell_type": "code",
   "execution_count": null,
   "id": "47388103",
   "metadata": {},
   "outputs": [],
   "source": []
  },
  {
   "cell_type": "code",
   "execution_count": null,
   "id": "d2df91c7",
   "metadata": {},
   "outputs": [],
   "source": []
  },
  {
   "cell_type": "code",
   "execution_count": null,
   "id": "e9da0737",
   "metadata": {},
   "outputs": [],
   "source": []
  },
  {
   "cell_type": "code",
   "execution_count": null,
   "id": "9eb04f6e",
   "metadata": {},
   "outputs": [],
   "source": []
  }
 ],
 "metadata": {
  "kernelspec": {
   "display_name": "QuClear_test",
   "language": "python",
   "name": "python3"
  },
  "language_info": {
   "codemirror_mode": {
    "name": "ipython",
    "version": 3
   },
   "file_extension": ".py",
   "mimetype": "text/x-python",
   "name": "python",
   "nbconvert_exporter": "python",
   "pygments_lexer": "ipython3",
   "version": "3.10.14"
  }
 },
 "nbformat": 4,
 "nbformat_minor": 5
}
