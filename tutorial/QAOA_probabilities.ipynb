{
 "cells": [
  {
   "cell_type": "code",
   "execution_count": 1,
   "id": "9c238604-5e42-4a53-a2bc-3412c403d4b7",
   "metadata": {},
   "outputs": [],
   "source": [
    "import re\n",
    "import json\n",
    "import time\n",
    "import os\n",
    "import sys\n",
    "import numpy as np\n",
    "import qiskit\n",
    "\n",
    "from qiskit import transpile\n",
    "from qiskit_aer import AerSimulator\n",
    "from qiskit.converters import circuit_to_dag\n",
    "\n",
    "# Dynamically add the project root to sys.path\n",
    "project_root = os.path.abspath(os.path.join(os.path.dirname(os.getcwd())))  # Adjust path to root\n",
    "sys.path.append(project_root)"
   ]
  },
  {
   "cell_type": "code",
   "execution_count": 2,
   "id": "49ba8c7f",
   "metadata": {},
   "outputs": [],
   "source": [
    "from src.CE_module import construct_qcc_circuit, CE_recur_tree\n",
    "from src.CA_module import extract_CNOT_network, update_probabilities\n",
    "from src.utilities import compare_lists, generate_pauli_strings\n",
    "from benchmarks.UCCSD_entanglers import generate_UCCSD_entanglers"
   ]
  },
  {
   "cell_type": "code",
   "execution_count": 3,
   "id": "daed7329",
   "metadata": {},
   "outputs": [
    {
     "data": {
      "text/plain": [
       "24"
      ]
     },
     "execution_count": 3,
     "metadata": {},
     "output_type": "execute_result"
    }
   ],
   "source": [
    "#QAOA for MAXCUT \n",
    "cost_hamiltonian = ['IIIZZ', 'IIZIZ', 'ZIIIZ', 'IIZZI', 'IZZII', 'ZZIII']\n",
    "mixer_hamiltonian = ['XIIII', 'IXIII', 'IIXII', 'IIIXI', 'IIIIX']\n",
    "test_paulis = (cost_hamiltonian + mixer_hamiltonian)* 2\n",
    "test_params = [3.271] * 6 +   [2.874] * 5 + [2.641] * 6 + [0.9339]* 5\n",
    "\n",
    "start_time = time.time()\n",
    "opt_qc, append_clifford, sorted_entanglers = CE_recur_tree(entanglers=test_paulis, params=test_params, barrier=False)\n",
    "opt_qiskit = transpile(opt_qc, optimization_level=3, basis_gates=[\"cx\", \"sx\", \"x\", \"rz\"])\n",
    "\n",
    "#need to add a layer of hadamard gates:\n",
    "for i in range(0, len(test_paulis[0])):\n",
    "    opt_qc.h(i)\n",
    "opt_qc.measure_active()\n",
    "end_time = time.time()\n",
    "combined_time = end_time - start_time\n",
    "\n",
    "\n",
    "origin_qc = construct_qcc_circuit(entanglers = test_paulis, params = test_params, barrier=False)\n",
    "#generate the qiskit optimized circuit\n",
    "origin_qiskit = transpile(origin_qc, optimization_level = 3, basis_gates = [\"cx\", \"sx\", \"x\", \"rz\"])\n",
    "origin_qiskit.measure_active() \n",
    "origin_qiskit.count_ops()['cx']"
   ]
  },
  {
   "cell_type": "code",
   "execution_count": 4,
   "id": "57acdeca",
   "metadata": {},
   "outputs": [
    {
     "data": {
      "text/html": [
       "<pre style=\"word-wrap: normal;white-space: pre;background: #fff0;line-height: 1.1;font-family: &quot;Courier New&quot;,Courier,monospace\">                    ┌───┐                     \n",
       "q_0: ────────────■──┤ H ├─X───■────■────■─────\n",
       "               ┌─┴─┐├───┤ │   │  ┌─┴─┐  │     \n",
       "q_1: ───────■──┤ X ├┤ H ├─┼───┼──┤ X ├──┼───X─\n",
       "          ┌─┴─┐├───┤└───┘ │   │  └───┘┌─┴─┐ │ \n",
       "q_2: ──■──┤ X ├┤ H ├──────┼───┼───────┤ X ├─X─\n",
       "       │  ├───┤└───┘      │   │       └───┘   \n",
       "q_3: ──┼──┤ H ├───────────┼───┼───────────────\n",
       "     ┌─┴─┐├───┤           │ ┌─┴─┐             \n",
       "q_4: ┤ X ├┤ H ├───────────X─┤ X ├─────────────\n",
       "     └───┘└───┘             └───┘             </pre>"
      ],
      "text/plain": [
       "                    ┌───┐                     \n",
       "q_0: ────────────■──┤ H ├─X───■────■────■─────\n",
       "               ┌─┴─┐├───┤ │   │  ┌─┴─┐  │     \n",
       "q_1: ───────■──┤ X ├┤ H ├─┼───┼──┤ X ├──┼───X─\n",
       "          ┌─┴─┐├───┤└───┘ │   │  └───┘┌─┴─┐ │ \n",
       "q_2: ──■──┤ X ├┤ H ├──────┼───┼───────┤ X ├─X─\n",
       "       │  ├───┤└───┘      │   │       └───┘   \n",
       "q_3: ──┼──┤ H ├───────────┼───┼───────────────\n",
       "     ┌─┴─┐├───┤           │ ┌─┴─┐             \n",
       "q_4: ┤ X ├┤ H ├───────────X─┤ X ├─────────────\n",
       "     └───┘└───┘             └───┘             "
      ]
     },
     "execution_count": 4,
     "metadata": {},
     "output_type": "execute_result"
    }
   ],
   "source": [
    "append_clifford.draw()"
   ]
  },
  {
   "cell_type": "code",
   "execution_count": 5,
   "id": "102dc5a6",
   "metadata": {},
   "outputs": [
    {
     "data": {
      "text/plain": [
       "OrderedDict([('cx', 22),\n",
       "             ('rz', 22),\n",
       "             ('h', 20),\n",
       "             ('measure', 5),\n",
       "             ('barrier', 1)])"
      ]
     },
     "execution_count": 5,
     "metadata": {},
     "output_type": "execute_result"
    }
   ],
   "source": [
    "opt_qc.count_ops()"
   ]
  },
  {
   "cell_type": "code",
   "execution_count": 6,
   "id": "978b400f",
   "metadata": {},
   "outputs": [
    {
     "data": {
      "text/html": [
       "<pre style=\"word-wrap: normal;white-space: pre;background: #fff0;line-height: 1.1;font-family: &quot;Courier New&quot;,Courier,monospace\">                                                                      »\n",
       "      q_0: ──■─────────────────■─────────────────■─────────────────■──»\n",
       "           ┌─┴─┐┌───────────┐  │                 │      ┌───┐      │  »\n",
       "      q_1: ┤ X ├┤ Rz(3.271) ├──┼─────────────────┼──────┤ X ├──────┼──»\n",
       "           └───┘└───────────┘┌─┴─┐┌───────────┐  │      └─┬─┘      │  »\n",
       "      q_2: ──────────────────┤ X ├┤ Rz(3.271) ├──┼────────■────────┼──»\n",
       "                             └───┘└───────────┘  │               ┌─┴─┐»\n",
       "      q_3: ──────────────────────────────────────┼───────────────┤ X ├»\n",
       "                                               ┌─┴─┐┌───────────┐└───┘»\n",
       "      q_4: ────────────────────────────────────┤ X ├┤ Rz(3.271) ├─────»\n",
       "                                               └───┘└───────────┘     »\n",
       "measure: 5/═══════════════════════════════════════════════════════════»\n",
       "                                                                      »\n",
       "«               ┌───┐                                       ┌───┐    »\n",
       "«      q_0: ────┤ H ├───────────────────────────────────────┤ X ├────»\n",
       "«           ┌───┴───┴───┐    ┌───┐    ┌───────────┐┌───┐    └─┬─┘    »\n",
       "«      q_1: ┤ Rz(3.271) ├────┤ H ├────┤ Rz(2.874) ├┤ X ├──────┼──────»\n",
       "«           └───┬───┬───┘┌───┴───┴───┐└───┬───┬───┘└─┬─┘      │      »\n",
       "«      q_2: ────┤ X ├────┤ Rz(3.271) ├────┤ H ├──────■────────┼──────»\n",
       "«               └─┬─┘    └───────────┘    ├───┤               │      »\n",
       "«      q_3: ──────■────────────■──────────┤ H ├───────────────■──────»\n",
       "«                            ┌─┴─┐    ┌───┴───┴───┐┌───┐┌───────────┐»\n",
       "«      q_4: ─────────────────┤ X ├────┤ Rz(3.271) ├┤ H ├┤ Rz(2.874) ├»\n",
       "«                            └───┘    └───────────┘└───┘└───────────┘»\n",
       "«measure: 5/═════════════════════════════════════════════════════════»\n",
       "«                                                                    »\n",
       "«           ┌───────────┐┌───┐                               ┌───┐┌───────────┐»\n",
       "«      q_0: ┤ Rz(2.874) ├┤ H ├───────────────■───────────────┤ X ├┤ Rz(2.641) ├»\n",
       "«           ├───────────┤├───┤┌───────────┐  │               └─┬─┘└───┬───┬───┘»\n",
       "«      q_1: ┤ Rz(2.874) ├┤ H ├┤ Rz(2.641) ├──┼─────────────────┼──────┤ X ├────»\n",
       "«           └───────────┘├───┤└───────────┘┌─┴─┐┌───────────┐  │      └─┬─┘    »\n",
       "«      q_2: ──────■──────┤ H ├─────────────┤ X ├┤ Rz(2.641) ├──┼────────■──────»\n",
       "«               ┌─┴─┐    ├───┤┌───────────┐├───┤└───────────┘  │               »\n",
       "«      q_3: ────┤ X ├────┤ X ├┤ Rz(2.874) ├┤ H ├───────────────┼────────■──────»\n",
       "«               └───┘    └─┬─┘└───┬───┬───┘└───┘               │      ┌─┴─┐    »\n",
       "«      q_4: ───────────────■──────┤ H ├────────────────────────■──────┤ X ├────»\n",
       "«                                 └───┘                               └───┘    »\n",
       "«measure: 5/═══════════════════════════════════════════════════════════════════»\n",
       "«                                                                              »\n",
       "«                                 ┌───┐     ┌────────────┐                  »\n",
       "«      q_0: ───────────────■──────┤ H ├─────┤ Rz(0.9339) ├──────────────────»\n",
       "«           ┌───────────┐  │      └───┘     └────────────┘    ┌───┐         »\n",
       "«      q_1: ┤ Rz(2.641) ├──┼──────────────────────■───────────┤ H ├─────────»\n",
       "«           └───┬───┬───┘  │  ┌────────────┐      │           └───┘         »\n",
       "«      q_2: ────┤ H ├──────┼──┤ Rz(0.9339) ├──────┼─────────────────────────»\n",
       "«               ├───┤      │  └────────────┘      │                         »\n",
       "«      q_3: ────┤ H ├──────┼──────────────────────┼─────────────────────────»\n",
       "«           ┌───┴───┴───┐┌─┴─┐                  ┌─┴─┐     ┌───────────┐┌───┐»\n",
       "«      q_4: ┤ Rz(2.641) ├┤ X ├──────────────────┤ X ├─────┤ Rz(2.641) ├┤ H ├»\n",
       "«           └───────────┘└───┘                  └───┘     └───────────┘└───┘»\n",
       "«measure: 5/════════════════════════════════════════════════════════════════»\n",
       "«                                                                           »\n",
       "«                                                      ┌───┐                   »\n",
       "«      q_0: ────────────────────────────────────────■──┤ H ├───────────────────»\n",
       "«                              ┌───┐┌────────────┐┌─┴─┐└───┘┌───┐              »\n",
       "«      q_1: ───────────────────┤ X ├┤ Rz(0.9339) ├┤ X ├──■──┤ H ├──────────────»\n",
       "«                              └─┬─┘└────────────┘└───┘┌─┴─┐└───┘    ┌───┐     »\n",
       "«      q_2: ─────────────────────┼─────────────────────┤ X ├──■──────┤ H ├─────»\n",
       "«           ┌───┐┌────────────┐  │      ┌───┐          └───┘  │      └───┘     »\n",
       "«      q_3: ┤ X ├┤ Rz(0.9339) ├──┼──────┤ H ├─────────────────┼────────────────»\n",
       "«           └─┬─┘└────────────┘  │      └───┘               ┌─┴─┐┌────────────┐»\n",
       "«      q_4: ──■──────────────────■──────────────────────────┤ X ├┤ Rz(0.9339) ├»\n",
       "«                                                           └───┘└────────────┘»\n",
       "«measure: 5/═══════════════════════════════════════════════════════════════════»\n",
       "«                                                                              »\n",
       "«                 ░ ┌─┐            \n",
       "«      q_0: ──────░─┤M├────────────\n",
       "«                 ░ └╥┘┌─┐         \n",
       "«      q_1: ──────░──╫─┤M├─────────\n",
       "«                 ░  ║ └╥┘┌─┐      \n",
       "«      q_2: ──────░──╫──╫─┤M├──────\n",
       "«                 ░  ║  ║ └╥┘┌─┐   \n",
       "«      q_3: ──────░──╫──╫──╫─┤M├───\n",
       "«           ┌───┐ ░  ║  ║  ║ └╥┘┌─┐\n",
       "«      q_4: ┤ H ├─░──╫──╫──╫──╫─┤M├\n",
       "«           └───┘ ░  ║  ║  ║  ║ └╥┘\n",
       "«measure: 5/═════════╩══╩══╩══╩══╩═\n",
       "«                    0  1  2  3  4 </pre>"
      ],
      "text/plain": [
       "                                                                      »\n",
       "      q_0: ──■─────────────────■─────────────────■─────────────────■──»\n",
       "           ┌─┴─┐┌───────────┐  │                 │      ┌───┐      │  »\n",
       "      q_1: ┤ X ├┤ Rz(3.271) ├──┼─────────────────┼──────┤ X ├──────┼──»\n",
       "           └───┘└───────────┘┌─┴─┐┌───────────┐  │      └─┬─┘      │  »\n",
       "      q_2: ──────────────────┤ X ├┤ Rz(3.271) ├──┼────────■────────┼──»\n",
       "                             └───┘└───────────┘  │               ┌─┴─┐»\n",
       "      q_3: ──────────────────────────────────────┼───────────────┤ X ├»\n",
       "                                               ┌─┴─┐┌───────────┐└───┘»\n",
       "      q_4: ────────────────────────────────────┤ X ├┤ Rz(3.271) ├─────»\n",
       "                                               └───┘└───────────┘     »\n",
       "measure: 5/═══════════════════════════════════════════════════════════»\n",
       "                                                                      »\n",
       "«               ┌───┐                                       ┌───┐    »\n",
       "«      q_0: ────┤ H ├───────────────────────────────────────┤ X ├────»\n",
       "«           ┌───┴───┴───┐    ┌───┐    ┌───────────┐┌───┐    └─┬─┘    »\n",
       "«      q_1: ┤ Rz(3.271) ├────┤ H ├────┤ Rz(2.874) ├┤ X ├──────┼──────»\n",
       "«           └───┬───┬───┘┌───┴───┴───┐└───┬───┬───┘└─┬─┘      │      »\n",
       "«      q_2: ────┤ X ├────┤ Rz(3.271) ├────┤ H ├──────■────────┼──────»\n",
       "«               └─┬─┘    └───────────┘    ├───┤               │      »\n",
       "«      q_3: ──────■────────────■──────────┤ H ├───────────────■──────»\n",
       "«                            ┌─┴─┐    ┌───┴───┴───┐┌───┐┌───────────┐»\n",
       "«      q_4: ─────────────────┤ X ├────┤ Rz(3.271) ├┤ H ├┤ Rz(2.874) ├»\n",
       "«                            └───┘    └───────────┘└───┘└───────────┘»\n",
       "«measure: 5/═════════════════════════════════════════════════════════»\n",
       "«                                                                    »\n",
       "«           ┌───────────┐┌───┐                               ┌───┐┌───────────┐»\n",
       "«      q_0: ┤ Rz(2.874) ├┤ H ├───────────────■───────────────┤ X ├┤ Rz(2.641) ├»\n",
       "«           ├───────────┤├───┤┌───────────┐  │               └─┬─┘└───┬───┬───┘»\n",
       "«      q_1: ┤ Rz(2.874) ├┤ H ├┤ Rz(2.641) ├──┼─────────────────┼──────┤ X ├────»\n",
       "«           └───────────┘├───┤└───────────┘┌─┴─┐┌───────────┐  │      └─┬─┘    »\n",
       "«      q_2: ──────■──────┤ H ├─────────────┤ X ├┤ Rz(2.641) ├──┼────────■──────»\n",
       "«               ┌─┴─┐    ├───┤┌───────────┐├───┤└───────────┘  │               »\n",
       "«      q_3: ────┤ X ├────┤ X ├┤ Rz(2.874) ├┤ H ├───────────────┼────────■──────»\n",
       "«               └───┘    └─┬─┘└───┬───┬───┘└───┘               │      ┌─┴─┐    »\n",
       "«      q_4: ───────────────■──────┤ H ├────────────────────────■──────┤ X ├────»\n",
       "«                                 └───┘                               └───┘    »\n",
       "«measure: 5/═══════════════════════════════════════════════════════════════════»\n",
       "«                                                                              »\n",
       "«                                 ┌───┐     ┌────────────┐                  »\n",
       "«      q_0: ───────────────■──────┤ H ├─────┤ Rz(0.9339) ├──────────────────»\n",
       "«           ┌───────────┐  │      └───┘     └────────────┘    ┌───┐         »\n",
       "«      q_1: ┤ Rz(2.641) ├──┼──────────────────────■───────────┤ H ├─────────»\n",
       "«           └───┬───┬───┘  │  ┌────────────┐      │           └───┘         »\n",
       "«      q_2: ────┤ H ├──────┼──┤ Rz(0.9339) ├──────┼─────────────────────────»\n",
       "«               ├───┤      │  └────────────┘      │                         »\n",
       "«      q_3: ────┤ H ├──────┼──────────────────────┼─────────────────────────»\n",
       "«           ┌───┴───┴───┐┌─┴─┐                  ┌─┴─┐     ┌───────────┐┌───┐»\n",
       "«      q_4: ┤ Rz(2.641) ├┤ X ├──────────────────┤ X ├─────┤ Rz(2.641) ├┤ H ├»\n",
       "«           └───────────┘└───┘                  └───┘     └───────────┘└───┘»\n",
       "«measure: 5/════════════════════════════════════════════════════════════════»\n",
       "«                                                                           »\n",
       "«                                                      ┌───┐                   »\n",
       "«      q_0: ────────────────────────────────────────■──┤ H ├───────────────────»\n",
       "«                              ┌───┐┌────────────┐┌─┴─┐└───┘┌───┐              »\n",
       "«      q_1: ───────────────────┤ X ├┤ Rz(0.9339) ├┤ X ├──■──┤ H ├──────────────»\n",
       "«                              └─┬─┘└────────────┘└───┘┌─┴─┐└───┘    ┌───┐     »\n",
       "«      q_2: ─────────────────────┼─────────────────────┤ X ├──■──────┤ H ├─────»\n",
       "«           ┌───┐┌────────────┐  │      ┌───┐          └───┘  │      └───┘     »\n",
       "«      q_3: ┤ X ├┤ Rz(0.9339) ├──┼──────┤ H ├─────────────────┼────────────────»\n",
       "«           └─┬─┘└────────────┘  │      └───┘               ┌─┴─┐┌────────────┐»\n",
       "«      q_4: ──■──────────────────■──────────────────────────┤ X ├┤ Rz(0.9339) ├»\n",
       "«                                                           └───┘└────────────┘»\n",
       "«measure: 5/═══════════════════════════════════════════════════════════════════»\n",
       "«                                                                              »\n",
       "«                 ░ ┌─┐            \n",
       "«      q_0: ──────░─┤M├────────────\n",
       "«                 ░ └╥┘┌─┐         \n",
       "«      q_1: ──────░──╫─┤M├─────────\n",
       "«                 ░  ║ └╥┘┌─┐      \n",
       "«      q_2: ──────░──╫──╫─┤M├──────\n",
       "«                 ░  ║  ║ └╥┘┌─┐   \n",
       "«      q_3: ──────░──╫──╫──╫─┤M├───\n",
       "«           ┌───┐ ░  ║  ║  ║ └╥┘┌─┐\n",
       "«      q_4: ┤ H ├─░──╫──╫──╫──╫─┤M├\n",
       "«           └───┘ ░  ║  ║  ║  ║ └╥┘\n",
       "«measure: 5/═════════╩══╩══╩══╩══╩═\n",
       "«                    0  1  2  3  4 "
      ]
     },
     "execution_count": 6,
     "metadata": {},
     "output_type": "execute_result"
    }
   ],
   "source": [
    "opt_qc.draw()"
   ]
  },
  {
   "cell_type": "code",
   "execution_count": 7,
   "id": "c12e40df",
   "metadata": {},
   "outputs": [
    {
     "data": {
      "text/html": [
       "<pre style=\"word-wrap: normal;white-space: pre;background: #fff0;line-height: 1.1;font-family: &quot;Courier New&quot;,Courier,monospace\">                    ┌───┐                     \n",
       "q_0: ────────────■──┤ H ├─X───■────■────■─────\n",
       "               ┌─┴─┐├───┤ │   │  ┌─┴─┐  │     \n",
       "q_1: ───────■──┤ X ├┤ H ├─┼───┼──┤ X ├──┼───X─\n",
       "          ┌─┴─┐├───┤└───┘ │   │  └───┘┌─┴─┐ │ \n",
       "q_2: ──■──┤ X ├┤ H ├──────┼───┼───────┤ X ├─X─\n",
       "       │  ├───┤└───┘      │   │       └───┘   \n",
       "q_3: ──┼──┤ H ├───────────┼───┼───────────────\n",
       "     ┌─┴─┐├───┤           │ ┌─┴─┐             \n",
       "q_4: ┤ X ├┤ H ├───────────X─┤ X ├─────────────\n",
       "     └───┘└───┘             └───┘             </pre>"
      ],
      "text/plain": [
       "                    ┌───┐                     \n",
       "q_0: ────────────■──┤ H ├─X───■────■────■─────\n",
       "               ┌─┴─┐├───┤ │   │  ┌─┴─┐  │     \n",
       "q_1: ───────■──┤ X ├┤ H ├─┼───┼──┤ X ├──┼───X─\n",
       "          ┌─┴─┐├───┤└───┘ │   │  └───┘┌─┴─┐ │ \n",
       "q_2: ──■──┤ X ├┤ H ├──────┼───┼───────┤ X ├─X─\n",
       "       │  ├───┤└───┘      │   │       └───┘   \n",
       "q_3: ──┼──┤ H ├───────────┼───┼───────────────\n",
       "     ┌─┴─┐├───┤           │ ┌─┴─┐             \n",
       "q_4: ┤ X ├┤ H ├───────────X─┤ X ├─────────────\n",
       "     └───┘└───┘             └───┘             "
      ]
     },
     "execution_count": 7,
     "metadata": {},
     "output_type": "execute_result"
    }
   ],
   "source": [
    "append_clifford.draw()"
   ]
  },
  {
   "cell_type": "code",
   "execution_count": 9,
   "id": "f1699f97",
   "metadata": {},
   "outputs": [],
   "source": [
    "cnot_network = extract_CNOT_network(append_clifford)"
   ]
  },
  {
   "cell_type": "code",
   "execution_count": 10,
   "id": "19b2fa46",
   "metadata": {},
   "outputs": [],
   "source": [
    "#Run the original circuit on a noiseless simulator:\n",
    "simulator = AerSimulator()\n",
    "origin_result = simulator.run(origin_qiskit, shots = 10000).result()"
   ]
  },
  {
   "cell_type": "code",
   "execution_count": 11,
   "id": "ed24a9b5",
   "metadata": {},
   "outputs": [],
   "source": [
    "def get_top_k_values(input_dict, k):\n",
    "    # Sort the dictionary by values in descending order and return the top k items\n",
    "    sorted_items = sorted(input_dict.items(), key=lambda item: item[1], reverse=True)\n",
    "    return sorted_items[:k]"
   ]
  },
  {
   "cell_type": "code",
   "execution_count": 12,
   "id": "f9587d7b",
   "metadata": {},
   "outputs": [],
   "source": [
    "origin_probs= origin_result.get_counts()"
   ]
  },
  {
   "cell_type": "code",
   "execution_count": 13,
   "id": "25ac8f99",
   "metadata": {},
   "outputs": [
    {
     "name": "stdout",
     "output_type": "stream",
     "text": [
      "[('11111', 3556), ('11110', 1045), ('11011', 1029), ('11101', 697), ('10111', 658), ('01111', 652), ('11010', 344), ('10110', 206), ('01011', 205), ('11001', 202), ('11100', 191), ('01110', 174), ('10011', 159), ('01101', 151), ('10101', 147), ('00111', 137), ('10010', 64), ('01010', 59), ('00011', 43), ('00101', 42)]\n"
     ]
    }
   ],
   "source": [
    "top_k_states_origin = get_top_k_values(origin_probs, 20)\n",
    "print(top_k_states_origin)"
   ]
  },
  {
   "cell_type": "code",
   "execution_count": 14,
   "id": "8903b3af",
   "metadata": {},
   "outputs": [],
   "source": [
    "#Run the optimized circuit on a noiseless simulator:\n",
    "\n",
    "opt_result = simulator.run(opt_qc, shots = 10000).result()"
   ]
  },
  {
   "cell_type": "code",
   "execution_count": 15,
   "id": "93d067ae",
   "metadata": {},
   "outputs": [],
   "source": [
    "dag = circuit_to_dag(cnot_network)\n",
    "updated_states = {}\n",
    "\n",
    "updated_probs = update_probabilities(opt_result.get_counts(), dag)\n"
   ]
  },
  {
   "cell_type": "code",
   "execution_count": 16,
   "id": "94fd251d",
   "metadata": {},
   "outputs": [],
   "source": [
    "from qiskit.quantum_info.analysis import hellinger_fidelity"
   ]
  },
  {
   "cell_type": "code",
   "execution_count": 17,
   "id": "642e5dbc",
   "metadata": {},
   "outputs": [
    {
     "data": {
      "text/plain": [
       "0.9975860784733286"
      ]
     },
     "execution_count": 17,
     "metadata": {},
     "output_type": "execute_result"
    }
   ],
   "source": [
    "hellinger_fidelity(origin_probs, updated_probs)"
   ]
  },
  {
   "cell_type": "code",
   "execution_count": 18,
   "id": "8dc7efd2",
   "metadata": {},
   "outputs": [
    {
     "name": "stdout",
     "output_type": "stream",
     "text": [
      "[('11111', 3556), ('11110', 1045), ('11011', 1029), ('11101', 697), ('10111', 658), ('01111', 652), ('11010', 344), ('10110', 206), ('01011', 205), ('11001', 202), ('11100', 191), ('01110', 174), ('10011', 159), ('01101', 151), ('10101', 147), ('00111', 137), ('10010', 64), ('01010', 59), ('00011', 43), ('00101', 42)]\n"
     ]
    }
   ],
   "source": [
    "top_k_states_origin = get_top_k_values(origin_probs, 20)\n",
    "print(top_k_states_origin)"
   ]
  },
  {
   "cell_type": "code",
   "execution_count": 19,
   "id": "58990aee",
   "metadata": {},
   "outputs": [
    {
     "name": "stdout",
     "output_type": "stream",
     "text": [
      "[('11111', 3528), ('11110', 1067), ('11011', 1053), ('11101', 720), ('01111', 670), ('10111', 626), ('11010', 434), ('01011', 213), ('10110', 195), ('00111', 188), ('11001', 177), ('11100', 171), ('01110', 164), ('10011', 144), ('01101', 125), ('10101', 115), ('11000', 52), ('01010', 48), ('00110', 45), ('10010', 43)]\n"
     ]
    }
   ],
   "source": [
    "top_k_states_updated = get_top_k_values(updated_probs, 20)\n",
    "print(top_k_states_updated)"
   ]
  },
  {
   "cell_type": "code",
   "execution_count": null,
   "id": "8716d6f2",
   "metadata": {},
   "outputs": [],
   "source": []
  },
  {
   "cell_type": "code",
   "execution_count": null,
   "id": "87a7b9ca",
   "metadata": {},
   "outputs": [],
   "source": []
  },
  {
   "cell_type": "code",
   "execution_count": null,
   "id": "7010f942",
   "metadata": {},
   "outputs": [],
   "source": []
  },
  {
   "cell_type": "code",
   "execution_count": null,
   "id": "a2df54d9",
   "metadata": {},
   "outputs": [],
   "source": []
  }
 ],
 "metadata": {
  "kernelspec": {
   "display_name": "QuClear_test",
   "language": "python",
   "name": "python3"
  },
  "language_info": {
   "codemirror_mode": {
    "name": "ipython",
    "version": 3
   },
   "file_extension": ".py",
   "mimetype": "text/x-python",
   "name": "python",
   "nbconvert_exporter": "python",
   "pygments_lexer": "ipython3",
   "version": "3.10.14"
  }
 },
 "nbformat": 4,
 "nbformat_minor": 5
}
