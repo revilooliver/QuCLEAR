{
 "cells": [
  {
   "cell_type": "code",
   "execution_count": 1,
   "id": "9c238604-5e42-4a53-a2bc-3412c403d4b7",
   "metadata": {},
   "outputs": [],
   "source": [
    "import re\n",
    "import json\n",
    "import time\n",
    "import os\n",
    "import sys\n",
    "import numpy as np\n",
    "import qiskit\n",
    "\n",
    "from qiskit import transpile\n",
    "from qiskit_aer import AerSimulator\n",
    "from qiskit.converters import circuit_to_dag\n",
    "\n",
    "# Dynamically add the project root to sys.path\n",
    "project_root = os.path.abspath(os.path.join(os.path.dirname(os.getcwd())))  # Adjust path to root\n",
    "sys.path.append(project_root)"
   ]
  },
  {
   "cell_type": "code",
   "execution_count": 2,
   "id": "49ba8c7f",
   "metadata": {},
   "outputs": [],
   "source": [
    "from src.CE_module import construct_qcc_circuit, CE_recur_tree\n",
    "from src.CA_module import extract_CNOT_network, update_probabilities, CA_post_QAOA"
   ]
  },
  {
   "cell_type": "code",
   "execution_count": 3,
   "id": "daed7329",
   "metadata": {},
   "outputs": [
    {
     "data": {
      "text/plain": [
       "24"
      ]
     },
     "execution_count": 3,
     "metadata": {},
     "output_type": "execute_result"
    }
   ],
   "source": [
    "#QAOA for MAXCUT \n",
    "cost_hamiltonian = ['IIIZZ', 'IIZIZ', 'ZIIIZ', 'IIZZI', 'IZZII', 'ZZIII']\n",
    "mixer_hamiltonian = ['XIIII', 'IXIII', 'IIXII', 'IIIXI', 'IIIIX']\n",
    "test_paulis = (cost_hamiltonian + mixer_hamiltonian)* 2\n",
    "test_params = [3.271] * 6 +   [2.874] * 5 + [2.641] * 6 + [0.9339]* 5\n",
    "start_time = time.time()\n",
    "opt_qc, append_clifford, sorted_entanglers = CE_recur_tree(entanglers=test_paulis, params=test_params, barrier=False)\n",
    "opt_qiskit = transpile(opt_qc, optimization_level=3, basis_gates=[\"cx\", \"sx\", \"x\", \"rz\"])\n",
    "\n",
    "end_time = time.time()\n",
    "combined_time = end_time - start_time\n",
    "\n",
    "\n",
    "origin_qc = construct_qcc_circuit(entanglers = test_paulis, params = test_params, barrier=False)\n",
    "#generate the qiskit optimized circuit\n",
    "origin_qiskit = transpile(origin_qc, optimization_level = 3, basis_gates = [\"cx\", \"sx\", \"x\", \"rz\"])\n",
    "origin_qiskit.measure_active() \n",
    "origin_qiskit.count_ops()['cx']"
   ]
  },
  {
   "cell_type": "code",
   "execution_count": 4,
   "id": "57acdeca",
   "metadata": {},
   "outputs": [
    {
     "data": {
      "text/html": [
       "<pre style=\"word-wrap: normal;white-space: pre;background: #fff0;line-height: 1.1;font-family: &quot;Courier New&quot;,Courier,monospace\">                    ┌───┐                     \n",
       "q_0: ────────────■──┤ H ├─X───■────■────■─────\n",
       "               ┌─┴─┐├───┤ │   │  ┌─┴─┐  │     \n",
       "q_1: ───────■──┤ X ├┤ H ├─┼───┼──┤ X ├──┼───X─\n",
       "          ┌─┴─┐├───┤└───┘ │   │  └───┘┌─┴─┐ │ \n",
       "q_2: ──■──┤ X ├┤ H ├──────┼───┼───────┤ X ├─X─\n",
       "       │  ├───┤└───┘      │   │       └───┘   \n",
       "q_3: ──┼──┤ H ├───────────┼───┼───────────────\n",
       "     ┌─┴─┐├───┤           │ ┌─┴─┐             \n",
       "q_4: ┤ X ├┤ H ├───────────X─┤ X ├─────────────\n",
       "     └───┘└───┘             └───┘             </pre>"
      ],
      "text/plain": [
       "                    ┌───┐                     \n",
       "q_0: ────────────■──┤ H ├─X───■────■────■─────\n",
       "               ┌─┴─┐├───┤ │   │  ┌─┴─┐  │     \n",
       "q_1: ───────■──┤ X ├┤ H ├─┼───┼──┤ X ├──┼───X─\n",
       "          ┌─┴─┐├───┤└───┘ │   │  └───┘┌─┴─┐ │ \n",
       "q_2: ──■──┤ X ├┤ H ├──────┼───┼───────┤ X ├─X─\n",
       "       │  ├───┤└───┘      │   │       └───┘   \n",
       "q_3: ──┼──┤ H ├───────────┼───┼───────────────\n",
       "     ┌─┴─┐├───┤           │ ┌─┴─┐             \n",
       "q_4: ┤ X ├┤ H ├───────────X─┤ X ├─────────────\n",
       "     └───┘└───┘             └───┘             "
      ]
     },
     "execution_count": 4,
     "metadata": {},
     "output_type": "execute_result"
    }
   ],
   "source": [
    "append_clifford.draw()"
   ]
  },
  {
   "cell_type": "code",
   "execution_count": 5,
   "id": "102dc5a6",
   "metadata": {},
   "outputs": [
    {
     "data": {
      "text/plain": [
       "OrderedDict([('cx', 22), ('rz', 22), ('h', 15)])"
      ]
     },
     "execution_count": 5,
     "metadata": {},
     "output_type": "execute_result"
    }
   ],
   "source": [
    "opt_qc.count_ops()"
   ]
  },
  {
   "cell_type": "code",
   "execution_count": 6,
   "id": "978b400f",
   "metadata": {},
   "outputs": [
    {
     "data": {
      "text/html": [
       "<pre style=\"word-wrap: normal;white-space: pre;background: #fff0;line-height: 1.1;font-family: &quot;Courier New&quot;,Courier,monospace\">                                                                    ┌───┐    »\n",
       "q_0: ──■─────────────────■─────────────────■─────────────────■──────┤ H ├────»\n",
       "     ┌─┴─┐┌───────────┐  │                 │      ┌───┐      │  ┌───┴───┴───┐»\n",
       "q_1: ┤ X ├┤ Rz(3.271) ├──┼─────────────────┼──────┤ X ├──────┼──┤ Rz(3.271) ├»\n",
       "     └───┘└───────────┘┌─┴─┐┌───────────┐  │      └─┬─┘      │  └───┬───┬───┘»\n",
       "q_2: ──────────────────┤ X ├┤ Rz(3.271) ├──┼────────■────────┼──────┤ X ├────»\n",
       "                       └───┘└───────────┘  │               ┌─┴─┐    └─┬─┘    »\n",
       "q_3: ──────────────────────────────────────┼───────────────┤ X ├──────■──────»\n",
       "                                         ┌─┴─┐┌───────────┐└───┘             »\n",
       "q_4: ────────────────────────────────────┤ X ├┤ Rz(3.271) ├──────────────────»\n",
       "                                         └───┘└───────────┘                  »\n",
       "«                                        ┌───┐    ┌───────────┐┌───┐»\n",
       "«q_0: ───────────────────────────────────┤ X ├────┤ Rz(2.874) ├┤ H ├»\n",
       "«         ┌───┐    ┌───────────┐┌───┐    └─┬─┘    ├───────────┤├───┤»\n",
       "«q_1: ────┤ H ├────┤ Rz(2.874) ├┤ X ├──────┼──────┤ Rz(2.874) ├┤ H ├»\n",
       "«     ┌───┴───┴───┐└───┬───┬───┘└─┬─┘      │      └───────────┘├───┤»\n",
       "«q_2: ┤ Rz(3.271) ├────┤ H ├──────■────────┼────────────■──────┤ H ├»\n",
       "«     └───────────┘    ├───┤               │          ┌─┴─┐    ├───┤»\n",
       "«q_3: ──────■──────────┤ H ├───────────────■──────────┤ X ├────┤ X ├»\n",
       "«         ┌─┴─┐    ┌───┴───┴───┐┌───┐┌───────────┐    └───┘    └─┬─┘»\n",
       "«q_4: ────┤ X ├────┤ Rz(3.271) ├┤ H ├┤ Rz(2.874) ├───────────────■──»\n",
       "«         └───┘    └───────────┘└───┘└───────────┘                  »\n",
       "«                                    ┌───┐┌───────────┐                  »\n",
       "«q_0: ───────────────■───────────────┤ X ├┤ Rz(2.641) ├───────────────■──»\n",
       "«     ┌───────────┐  │               └─┬─┘└───┬───┬───┘┌───────────┐  │  »\n",
       "«q_1: ┤ Rz(2.641) ├──┼─────────────────┼──────┤ X ├────┤ Rz(2.641) ├──┼──»\n",
       "«     └───────────┘┌─┴─┐┌───────────┐  │      └─┬─┘    └───┬───┬───┘  │  »\n",
       "«q_2: ─────────────┤ X ├┤ Rz(2.641) ├──┼────────■──────────┤ H ├──────┼──»\n",
       "«     ┌───────────┐├───┤└───────────┘  │                   ├───┤      │  »\n",
       "«q_3: ┤ Rz(2.874) ├┤ H ├───────────────┼────────■──────────┤ H ├──────┼──»\n",
       "«     └───┬───┬───┘└───┘               │      ┌─┴─┐    ┌───┴───┴───┐┌─┴─┐»\n",
       "«q_4: ────┤ H ├────────────────────────■──────┤ X ├────┤ Rz(2.641) ├┤ X ├»\n",
       "«         └───┘                               └───┘    └───────────┘└───┘»\n",
       "«         ┌───┐     ┌────────────┐                                          »\n",
       "«q_0: ────┤ H ├─────┤ Rz(0.9339) ├──────────────────────────────────────────»\n",
       "«         └───┘     └────────────┘    ┌───┐                            ┌───┐»\n",
       "«q_1: ────────────────────■───────────┤ H ├────────────────────────────┤ X ├»\n",
       "«     ┌────────────┐      │           └───┘                            └─┬─┘»\n",
       "«q_2: ┤ Rz(0.9339) ├──────┼──────────────────────────────────────────────┼──»\n",
       "«     └────────────┘      │                         ┌───┐┌────────────┐  │  »\n",
       "«q_3: ────────────────────┼─────────────────────────┤ X ├┤ Rz(0.9339) ├──┼──»\n",
       "«                       ┌─┴─┐     ┌───────────┐┌───┐└─┬─┘└────────────┘  │  »\n",
       "«q_4: ──────────────────┤ X ├─────┤ Rz(2.641) ├┤ H ├──■──────────────────■──»\n",
       "«                       └───┘     └───────────┘└───┘                        »\n",
       "«                                                \n",
       "«q_0: ────────────────■──────────────────────────\n",
       "«     ┌────────────┐┌─┴─┐                        \n",
       "«q_1: ┤ Rz(0.9339) ├┤ X ├──■─────────────────────\n",
       "«     └────────────┘└───┘┌─┴─┐                   \n",
       "«q_2: ───────────────────┤ X ├──■────────────────\n",
       "«                        └───┘  │                \n",
       "«q_3: ──────────────────────────┼────────────────\n",
       "«                             ┌─┴─┐┌────────────┐\n",
       "«q_4: ────────────────────────┤ X ├┤ Rz(0.9339) ├\n",
       "«                             └───┘└────────────┘</pre>"
      ],
      "text/plain": [
       "                                                                    ┌───┐    »\n",
       "q_0: ──■─────────────────■─────────────────■─────────────────■──────┤ H ├────»\n",
       "     ┌─┴─┐┌───────────┐  │                 │      ┌───┐      │  ┌───┴───┴───┐»\n",
       "q_1: ┤ X ├┤ Rz(3.271) ├──┼─────────────────┼──────┤ X ├──────┼──┤ Rz(3.271) ├»\n",
       "     └───┘└───────────┘┌─┴─┐┌───────────┐  │      └─┬─┘      │  └───┬───┬───┘»\n",
       "q_2: ──────────────────┤ X ├┤ Rz(3.271) ├──┼────────■────────┼──────┤ X ├────»\n",
       "                       └───┘└───────────┘  │               ┌─┴─┐    └─┬─┘    »\n",
       "q_3: ──────────────────────────────────────┼───────────────┤ X ├──────■──────»\n",
       "                                         ┌─┴─┐┌───────────┐└───┘             »\n",
       "q_4: ────────────────────────────────────┤ X ├┤ Rz(3.271) ├──────────────────»\n",
       "                                         └───┘└───────────┘                  »\n",
       "«                                        ┌───┐    ┌───────────┐┌───┐»\n",
       "«q_0: ───────────────────────────────────┤ X ├────┤ Rz(2.874) ├┤ H ├»\n",
       "«         ┌───┐    ┌───────────┐┌───┐    └─┬─┘    ├───────────┤├───┤»\n",
       "«q_1: ────┤ H ├────┤ Rz(2.874) ├┤ X ├──────┼──────┤ Rz(2.874) ├┤ H ├»\n",
       "«     ┌───┴───┴───┐└───┬───┬───┘└─┬─┘      │      └───────────┘├───┤»\n",
       "«q_2: ┤ Rz(3.271) ├────┤ H ├──────■────────┼────────────■──────┤ H ├»\n",
       "«     └───────────┘    ├───┤               │          ┌─┴─┐    ├───┤»\n",
       "«q_3: ──────■──────────┤ H ├───────────────■──────────┤ X ├────┤ X ├»\n",
       "«         ┌─┴─┐    ┌───┴───┴───┐┌───┐┌───────────┐    └───┘    └─┬─┘»\n",
       "«q_4: ────┤ X ├────┤ Rz(3.271) ├┤ H ├┤ Rz(2.874) ├───────────────■──»\n",
       "«         └───┘    └───────────┘└───┘└───────────┘                  »\n",
       "«                                    ┌───┐┌───────────┐                  »\n",
       "«q_0: ───────────────■───────────────┤ X ├┤ Rz(2.641) ├───────────────■──»\n",
       "«     ┌───────────┐  │               └─┬─┘└───┬───┬───┘┌───────────┐  │  »\n",
       "«q_1: ┤ Rz(2.641) ├──┼─────────────────┼──────┤ X ├────┤ Rz(2.641) ├──┼──»\n",
       "«     └───────────┘┌─┴─┐┌───────────┐  │      └─┬─┘    └───┬───┬───┘  │  »\n",
       "«q_2: ─────────────┤ X ├┤ Rz(2.641) ├──┼────────■──────────┤ H ├──────┼──»\n",
       "«     ┌───────────┐├───┤└───────────┘  │                   ├───┤      │  »\n",
       "«q_3: ┤ Rz(2.874) ├┤ H ├───────────────┼────────■──────────┤ H ├──────┼──»\n",
       "«     └───┬───┬───┘└───┘               │      ┌─┴─┐    ┌───┴───┴───┐┌─┴─┐»\n",
       "«q_4: ────┤ H ├────────────────────────■──────┤ X ├────┤ Rz(2.641) ├┤ X ├»\n",
       "«         └───┘                               └───┘    └───────────┘└───┘»\n",
       "«         ┌───┐     ┌────────────┐                                          »\n",
       "«q_0: ────┤ H ├─────┤ Rz(0.9339) ├──────────────────────────────────────────»\n",
       "«         └───┘     └────────────┘    ┌───┐                            ┌───┐»\n",
       "«q_1: ────────────────────■───────────┤ H ├────────────────────────────┤ X ├»\n",
       "«     ┌────────────┐      │           └───┘                            └─┬─┘»\n",
       "«q_2: ┤ Rz(0.9339) ├──────┼──────────────────────────────────────────────┼──»\n",
       "«     └────────────┘      │                         ┌───┐┌────────────┐  │  »\n",
       "«q_3: ────────────────────┼─────────────────────────┤ X ├┤ Rz(0.9339) ├──┼──»\n",
       "«                       ┌─┴─┐     ┌───────────┐┌───┐└─┬─┘└────────────┘  │  »\n",
       "«q_4: ──────────────────┤ X ├─────┤ Rz(2.641) ├┤ H ├──■──────────────────■──»\n",
       "«                       └───┘     └───────────┘└───┘                        »\n",
       "«                                                \n",
       "«q_0: ────────────────■──────────────────────────\n",
       "«     ┌────────────┐┌─┴─┐                        \n",
       "«q_1: ┤ Rz(0.9339) ├┤ X ├──■─────────────────────\n",
       "«     └────────────┘└───┘┌─┴─┐                   \n",
       "«q_2: ───────────────────┤ X ├──■────────────────\n",
       "«                        └───┘  │                \n",
       "«q_3: ──────────────────────────┼────────────────\n",
       "«                             ┌─┴─┐┌────────────┐\n",
       "«q_4: ────────────────────────┤ X ├┤ Rz(0.9339) ├\n",
       "«                             └───┘└────────────┘"
      ]
     },
     "execution_count": 6,
     "metadata": {},
     "output_type": "execute_result"
    }
   ],
   "source": [
    "opt_qc.draw()"
   ]
  },
  {
   "cell_type": "code",
   "execution_count": 7,
   "id": "c12e40df",
   "metadata": {},
   "outputs": [
    {
     "data": {
      "text/html": [
       "<pre style=\"word-wrap: normal;white-space: pre;background: #fff0;line-height: 1.1;font-family: &quot;Courier New&quot;,Courier,monospace\">                    ┌───┐                     \n",
       "q_0: ────────────■──┤ H ├─X───■────■────■─────\n",
       "               ┌─┴─┐├───┤ │   │  ┌─┴─┐  │     \n",
       "q_1: ───────■──┤ X ├┤ H ├─┼───┼──┤ X ├──┼───X─\n",
       "          ┌─┴─┐├───┤└───┘ │   │  └───┘┌─┴─┐ │ \n",
       "q_2: ──■──┤ X ├┤ H ├──────┼───┼───────┤ X ├─X─\n",
       "       │  ├───┤└───┘      │   │       └───┘   \n",
       "q_3: ──┼──┤ H ├───────────┼───┼───────────────\n",
       "     ┌─┴─┐├───┤           │ ┌─┴─┐             \n",
       "q_4: ┤ X ├┤ H ├───────────X─┤ X ├─────────────\n",
       "     └───┘└───┘             └───┘             </pre>"
      ],
      "text/plain": [
       "                    ┌───┐                     \n",
       "q_0: ────────────■──┤ H ├─X───■────■────■─────\n",
       "               ┌─┴─┐├───┤ │   │  ┌─┴─┐  │     \n",
       "q_1: ───────■──┤ X ├┤ H ├─┼───┼──┤ X ├──┼───X─\n",
       "          ┌─┴─┐├───┤└───┘ │   │  └───┘┌─┴─┐ │ \n",
       "q_2: ──■──┤ X ├┤ H ├──────┼───┼───────┤ X ├─X─\n",
       "       │  ├───┤└───┘      │   │       └───┘   \n",
       "q_3: ──┼──┤ H ├───────────┼───┼───────────────\n",
       "     ┌─┴─┐├───┤           │ ┌─┴─┐             \n",
       "q_4: ┤ X ├┤ H ├───────────X─┤ X ├─────────────\n",
       "     └───┘└───┘             └───┘             "
      ]
     },
     "execution_count": 7,
     "metadata": {},
     "output_type": "execute_result"
    }
   ],
   "source": [
    "append_clifford.draw()"
   ]
  },
  {
   "cell_type": "code",
   "execution_count": 8,
   "id": "f1699f97",
   "metadata": {},
   "outputs": [],
   "source": [
    "cnot_network, hadamard_counts = extract_CNOT_network(append_clifford)"
   ]
  },
  {
   "cell_type": "code",
   "execution_count": 9,
   "id": "051c399f",
   "metadata": {},
   "outputs": [],
   "source": [
    "opt_qc = CA_post_QAOA(opt_qc, hadamard_counts)"
   ]
  },
  {
   "cell_type": "code",
   "execution_count": 10,
   "id": "19b2fa46",
   "metadata": {},
   "outputs": [],
   "source": [
    "#Run the original circuit on a noiseless simulator:\n",
    "simulator = AerSimulator()\n",
    "origin_result = simulator.run(origin_qiskit, shots = 10000).result()"
   ]
  },
  {
   "cell_type": "code",
   "execution_count": 11,
   "id": "ed24a9b5",
   "metadata": {},
   "outputs": [],
   "source": [
    "def get_top_k_values(input_dict, k):\n",
    "    # Sort the dictionary by values in descending order and return the top k items\n",
    "    sorted_items = sorted(input_dict.items(), key=lambda item: item[1], reverse=True)\n",
    "    return sorted_items[:k]"
   ]
  },
  {
   "cell_type": "code",
   "execution_count": 12,
   "id": "f9587d7b",
   "metadata": {},
   "outputs": [],
   "source": [
    "origin_probs= origin_result.get_counts()"
   ]
  },
  {
   "cell_type": "code",
   "execution_count": 13,
   "id": "25ac8f99",
   "metadata": {},
   "outputs": [
    {
     "name": "stdout",
     "output_type": "stream",
     "text": [
      "[('11111', 3637), ('11011', 1128), ('11110', 1019), ('11101', 714), ('01111', 655), ('10111', 636), ('11010', 382), ('01011', 188), ('10110', 186), ('11100', 176), ('00111', 168), ('10011', 155), ('11001', 152), ('01110', 141), ('10101', 131), ('01101', 128), ('10010', 57), ('01010', 45), ('00011', 43), ('11000', 42)]\n"
     ]
    }
   ],
   "source": [
    "top_k_states_origin = get_top_k_values(origin_probs, 20)\n",
    "print(top_k_states_origin)"
   ]
  },
  {
   "cell_type": "code",
   "execution_count": 14,
   "id": "8903b3af",
   "metadata": {},
   "outputs": [],
   "source": [
    "#Run the optimized circuit on a noiseless simulator:\n",
    "\n",
    "opt_result = simulator.run(opt_qc, shots = 10000).result()"
   ]
  },
  {
   "cell_type": "code",
   "execution_count": 15,
   "id": "93d067ae",
   "metadata": {},
   "outputs": [],
   "source": [
    "dag = circuit_to_dag(cnot_network)\n",
    "updated_states = {}\n",
    "\n",
    "updated_probs = update_probabilities(opt_result.get_counts(), dag)\n"
   ]
  },
  {
   "cell_type": "code",
   "execution_count": 16,
   "id": "94fd251d",
   "metadata": {},
   "outputs": [],
   "source": [
    "from qiskit.quantum_info.analysis import hellinger_fidelity"
   ]
  },
  {
   "cell_type": "code",
   "execution_count": 17,
   "id": "642e5dbc",
   "metadata": {},
   "outputs": [
    {
     "data": {
      "text/plain": [
       "0.9980825883296066"
      ]
     },
     "execution_count": 17,
     "metadata": {},
     "output_type": "execute_result"
    }
   ],
   "source": [
    "hellinger_fidelity(origin_probs, updated_probs)"
   ]
  },
  {
   "cell_type": "code",
   "execution_count": 18,
   "id": "8dc7efd2",
   "metadata": {},
   "outputs": [
    {
     "name": "stdout",
     "output_type": "stream",
     "text": [
      "[('11111', 3637), ('11011', 1128), ('11110', 1019), ('11101', 714), ('01111', 655), ('10111', 636), ('11010', 382), ('01011', 188), ('10110', 186), ('11100', 176), ('00111', 168), ('10011', 155), ('11001', 152), ('01110', 141), ('10101', 131), ('01101', 128), ('10010', 57), ('01010', 45), ('00011', 43), ('11000', 42)]\n"
     ]
    }
   ],
   "source": [
    "top_k_states_origin = get_top_k_values(origin_probs, 20)\n",
    "print(top_k_states_origin)"
   ]
  },
  {
   "cell_type": "code",
   "execution_count": 19,
   "id": "58990aee",
   "metadata": {},
   "outputs": [
    {
     "name": "stdout",
     "output_type": "stream",
     "text": [
      "[('11111', 3580), ('11011', 1074), ('11110', 1024), ('10111', 712), ('11101', 698), ('01111', 660), ('11010', 338), ('01011', 199), ('10110', 197), ('11100', 186), ('01110', 175), ('11001', 169), ('00111', 157), ('10011', 141), ('10101', 131), ('01101', 117), ('10010', 51), ('11000', 48), ('00011', 47), ('01010', 47)]\n"
     ]
    }
   ],
   "source": [
    "top_k_states_updated = get_top_k_values(updated_probs, 20)\n",
    "print(top_k_states_updated)"
   ]
  },
  {
   "cell_type": "code",
   "execution_count": null,
   "id": "8716d6f2",
   "metadata": {},
   "outputs": [],
   "source": []
  },
  {
   "cell_type": "code",
   "execution_count": null,
   "id": "87a7b9ca",
   "metadata": {},
   "outputs": [],
   "source": []
  },
  {
   "cell_type": "code",
   "execution_count": null,
   "id": "7010f942",
   "metadata": {},
   "outputs": [],
   "source": []
  },
  {
   "cell_type": "code",
   "execution_count": null,
   "id": "a2df54d9",
   "metadata": {},
   "outputs": [],
   "source": []
  }
 ],
 "metadata": {
  "kernelspec": {
   "display_name": "QuCLEAR_env",
   "language": "python",
   "name": "python3"
  },
  "language_info": {
   "codemirror_mode": {
    "name": "ipython",
    "version": 3
   },
   "file_extension": ".py",
   "mimetype": "text/x-python",
   "name": "python",
   "nbconvert_exporter": "python",
   "pygments_lexer": "ipython3",
   "version": "3.10.15"
  }
 },
 "nbformat": 4,
 "nbformat_minor": 5
}
