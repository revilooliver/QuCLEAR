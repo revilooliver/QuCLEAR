{
 "cells": [
  {
   "cell_type": "code",
   "execution_count": 8,
   "id": "9c238604-5e42-4a53-a2bc-3412c403d4b7",
   "metadata": {},
   "outputs": [],
   "source": [
    "import re\n",
    "import qiskit\n",
    "import json\n",
    "import time\n",
    "\n",
    "import numpy as np\n",
    "from typing import List\n",
    "from qiskit import transpile\n",
    "import time\n",
    "\n",
    "from fast_generator import fc_tree_commute_recur_lookahead_fast\n",
    "\n",
    "from benchmarks.UCCSD_entanglers import generate_UCCSD_entanglers\n",
    "from circuit_generator import construct_qcc_circuit\n",
    "\n",
    "import numpy as np\n",
    "from qiskit_ibm_runtime.fake_provider import FakeSherbrooke"
   ]
  },
  {
   "cell_type": "code",
   "execution_count": 9,
   "id": "42e7d866",
   "metadata": {},
   "outputs": [],
   "source": [
    "#Compare json files in a specific folder\n",
    "import os, json\n",
    "def run_experiment_folder(folder_path = None, filename = None, save_output = False, threshold = 1):\n",
    "\n",
    "    if filename == None:\n",
    "        file_list = os.listdir(folder_path)\n",
    "    else:\n",
    "        file_list = [filename]\n",
    "    # Iterate over all files in the folder\n",
    "    for filename in file_list:\n",
    "        # Check if the file is a JSON file\n",
    "        if filename.endswith(\".json\"):\n",
    "            results = []\n",
    "            # Print the filename\n",
    "            print(filename)\n",
    "            with open(folder_path + '/' + filename, \"r\") as file:\n",
    "                paulis = json.load(file)\n",
    "\n",
    "            # Function to check if a string contains only 'I' characters\n",
    "            def is_all_identity(pauli):\n",
    "                return all(char == 'I' for char in pauli)\n",
    "\n",
    "            # Filter the list to remove all identity Paulis\n",
    "            test_paulis = [pauli for pauli in paulis if not is_all_identity(pauli)]\n",
    "            test_params = [0.01 * i for i in range(len(test_paulis))]\n",
    "\n",
    "            # Measure time for our method\n",
    "            start_time = time.time()\n",
    "            opt_qc_f, append_clifford_f, sorted_entanglers_f = fc_tree_commute_recur_lookahead_fast(entanglers=test_paulis, params=test_params, barrier=False, threshold=threshold)\n",
    "            opt_qc_f = transpile(opt_qc_f, optimization_level=0, basis_gates=[\"cx\", \"sx\", \"x\", \"rz\"], coupling_map=FakeSherbrooke().coupling_map)\n",
    "            end_time = time.time()\n",
    "            our_time = end_time - start_time\n",
    "\n",
    "            start_time = time.time()\n",
    "            opt_qc_f2, append_clifford_f2, sorted_entanglers_f2 = fc_tree_commute_recur_lookahead_fast(entanglers=test_paulis, params=test_params, barrier=False, threshold=threshold)\n",
    "            opt_qiskit = transpile(opt_qc_f2, optimization_level=3, basis_gates=[\"cx\", \"sx\", \"x\", \"rz\"], coupling_map=FakeSherbrooke().coupling_map)\n",
    "            end_time = time.time()\n",
    "            combined_time = end_time - start_time\n",
    "        \n",
    "            # Collect results\n",
    "            result = {\n",
    "                \"num_paulis\": len(test_paulis),\n",
    "                \"times\": {\n",
    "                    \"our_time\": our_time,\n",
    "                    \"combined_time\": combined_time\n",
    "                },\n",
    "                \"gate_counts\": {\n",
    "                    \"our_method\": opt_qc_f.count_ops().get('cx', 0),\n",
    "                    \"combined_method\": opt_qiskit.count_ops().get('cx', 0)\n",
    "                },\n",
    "                \"circuit_entangling_depth\": {\n",
    "                    \"our_method\": opt_qc_f.depth(lambda instr: len(instr.qubits) > 1),\n",
    "                    \"combined_method\": opt_qiskit.depth(lambda instr: len(instr.qubits) > 1)\n",
    "                },\n",
    "                \"test_paulis_file\": f'benchmarks/results_hardware_topology/test_new_' + filename\n",
    "            }\n",
    "            print(result)\n",
    "            results.append(result)\n",
    "            if save_output == True:\n",
    "                # Save test_paulis to a separate JSON file\n",
    "                with open(f'benchmarks/results_hardware_topology/test_new_' + filename, 'w') as paulis_file:\n",
    "                    json.dump([test_paulis, results], paulis_file, indent=4)\n",
    "    \n",
    "\n",
    "    "
   ]
  },
  {
   "cell_type": "code",
   "execution_count": 10,
   "id": "63f85128",
   "metadata": {},
   "outputs": [],
   "source": [
    "#Compare a given list of paulis\n",
    "def run_experiment_paulis(test_paulis, test_params = None, save_output = False, threshold = 1, filename = \"Paulis\"):\n",
    "\n",
    "    results = []\n",
    "\n",
    "    def is_all_identity(pauli):\n",
    "        return all(char == 'I' for char in pauli)\n",
    "    paulis = test_paulis\n",
    "    # Filter the list to remove all identity Paulis\n",
    "    test_paulis = [pauli for pauli in paulis if not is_all_identity(pauli)]\n",
    "    if test_params is None:\n",
    "        test_params = [0.01 * i for i in range(len(test_paulis))]\n",
    "\n",
    "    # Measure time for our method\n",
    "    start_time = time.time()\n",
    "    opt_qc_f, append_clifford_f, sorted_entanglers_f = fc_tree_commute_recur_lookahead_fast(entanglers=test_paulis, params=test_params, barrier=False, threshold=threshold)\n",
    "    opt_qc_f = transpile(opt_qc_f, optimization_level=0, basis_gates=[\"cx\", \"sx\", \"x\", \"rz\"], coupling_map=FakeSherbrooke().coupling_map)\n",
    "    end_time = time.time()\n",
    "    our_time = end_time - start_time\n",
    "\n",
    "    start_time = time.time()\n",
    "    opt_qc_f2, append_clifford_f2, sorted_entanglers_f2 = fc_tree_commute_recur_lookahead_fast(entanglers=test_paulis, params=test_params, barrier=False, threshold=threshold)\n",
    "    opt_qiskit = transpile(opt_qc_f2, optimization_level=3, basis_gates=[\"cx\", \"sx\", \"x\", \"rz\"], coupling_map=FakeSherbrooke().coupling_map)\n",
    "    end_time = time.time()\n",
    "    combined_time = end_time - start_time\n",
    "    \n",
    "    # Collect results\n",
    "    result = {\n",
    "        \"num_paulis\": len(test_paulis),\n",
    "        \"times\": {\n",
    "            \"our_time\": our_time,\n",
    "            \"combined_time\": combined_time\n",
    "        },\n",
    "        \"gate_counts\": {\n",
    "            \"our_method\": opt_qc_f.count_ops().get('cx', 0),\n",
    "            \"combined_method\": opt_qiskit.count_ops().get('cx', 0)\n",
    "        },\n",
    "        \"circuit_entangling_depth\": {\n",
    "            \"our_method\": opt_qc_f.depth(lambda instr: len(instr.qubits) > 1),\n",
    "            \"combined_method\": opt_qiskit.depth(lambda instr: len(instr.qubits) > 1)\n",
    "        },\n",
    "        \"test_paulis_file\": f'benchmarks/results_hardware_topology/test_new_' + filename\n",
    "    }\n",
    "    print(result)\n",
    "    results.append(result)\n",
    "    if save_output == True:\n",
    "        # Save test_paulis to a separate JSON file\n",
    "        with open(f'benchmarks/results_hardware_topology/test_new_' + filename, 'w') as paulis_file:\n",
    "            json.dump([test_paulis, results], paulis_file, indent=4)\n",
    "    return sorted_entanglers_f\n",
    "    \n",
    "\n",
    "    "
   ]
  },
  {
   "cell_type": "code",
   "execution_count": 11,
   "id": "3c33dc7b",
   "metadata": {},
   "outputs": [
    {
     "name": "stdout",
     "output_type": "stream",
     "text": [
      "{'num_paulis': 24, 'times': {'our_time': 0.8522214889526367, 'combined_time': 0.5211782455444336}, 'gate_counts': {'our_method': 99, 'combined_method': 28}, 'circuit_entangling_depth': {'our_method': 69, 'combined_method': 22}, 'test_paulis_file': 'benchmarks/results_hardware_topology/test_new_Paulis24.json'}\n",
      "{'num_paulis': 80, 'times': {'our_time': 2.0131237506866455, 'combined_time': 1.3821959495544434}, 'gate_counts': {'our_method': 446, 'combined_method': 191}, 'circuit_entangling_depth': {'our_method': 306, 'combined_method': 164}, 'test_paulis_file': 'benchmarks/results_hardware_topology/test_new_Paulis80.json'}\n",
      "{'num_paulis': 320, 'times': {'our_time': 7.859485626220703, 'combined_time': 5.250932931900024}, 'gate_counts': {'our_method': 1962, 'combined_method': 999}, 'circuit_entangling_depth': {'our_method': 1283, 'combined_method': 770}, 'test_paulis_file': 'benchmarks/results_hardware_topology/test_new_Paulis320.json'}\n"
     ]
    }
   ],
   "source": [
    "#first compare the UCCSD ansatz\n",
    "electrons_list = [2, 2, 4, 6, 8, 10,]# 12]\n",
    "orbitals_list = [4, 6, 8, 12, 16, 20,]# 24]\n",
    "#First evaluate the UCCSD ansatz:\n",
    "for i, (x, y) in enumerate(zip(electrons_list, orbitals_list)):\n",
    "    test_paulis = generate_UCCSD_entanglers(x, y)\n",
    "    entanglers = run_experiment_paulis(test_paulis = test_paulis, save_output = True, threshold = 1, filename=f\"Paulis{len(test_paulis)}.json\")"
   ]
  },
  {
   "cell_type": "code",
   "execution_count": null,
   "id": "5bac21d1",
   "metadata": {},
   "outputs": [
    {
     "name": "stdout",
     "output_type": "stream",
     "text": [
      "benzene.json\n"
     ]
    },
    {
     "ename": "KeyboardInterrupt",
     "evalue": "",
     "output_type": "error",
     "traceback": [
      "\u001b[1;31m---------------------------------------------------------------------------\u001b[0m",
      "\u001b[1;31mKeyError\u001b[0m                                  Traceback (most recent call last)",
      "File \u001b[1;32mc:\\Users\\main\\Documents\\Dropbox\\ANL\\ObservableUpdate\\Clifford_extraction\\fast_generator.py:752\u001b[0m, in \u001b[0;36mfind_leaves\u001b[1;34m(sorted_entanglers_params_inv, curr_pauli, updated_paulis, qc_tree, tree_list, commute_idx, pauli_idx, append_clifford)\u001b[0m\n\u001b[0;32m    751\u001b[0m \u001b[38;5;28;01mtry\u001b[39;00m:\n\u001b[1;32m--> 752\u001b[0m     compare_pauli \u001b[38;5;241m=\u001b[39m \u001b[43mupdated_paulis\u001b[49m\u001b[43m[\u001b[49m\u001b[43m(\u001b[49m\u001b[43mcommute_idx\u001b[49m\u001b[43m,\u001b[49m\u001b[43m \u001b[49m\u001b[43mpauli_idx\u001b[49m\u001b[43m)\u001b[49m\u001b[43m]\u001b[49m\n\u001b[0;32m    753\u001b[0m \u001b[38;5;28;01mexcept\u001b[39;00m:\n",
      "\u001b[1;31mKeyError\u001b[0m: (109, 3)",
      "\nDuring handling of the above exception, another exception occurred:\n",
      "\u001b[1;31mKeyboardInterrupt\u001b[0m                         Traceback (most recent call last)",
      "Cell \u001b[1;32mIn[6], line 2\u001b[0m\n\u001b[0;32m      1\u001b[0m \u001b[38;5;66;03m#Then compare the Hamiltonian simulation paulis in HS_paulis folder\u001b[39;00m\n\u001b[1;32m----> 2\u001b[0m \u001b[43mrun_experiment_folder\u001b[49m\u001b[43m(\u001b[49m\u001b[43mfolder_path\u001b[49m\u001b[43m \u001b[49m\u001b[38;5;241;43m=\u001b[39;49m\u001b[43m \u001b[49m\u001b[38;5;124;43m\"\u001b[39;49m\u001b[38;5;124;43mbenchmarks/HS_paulis\u001b[39;49m\u001b[38;5;124;43m\"\u001b[39;49m\u001b[43m,\u001b[49m\u001b[43m \u001b[49m\u001b[43msave_output\u001b[49m\u001b[43m \u001b[49m\u001b[38;5;241;43m=\u001b[39;49m\u001b[43m \u001b[49m\u001b[38;5;28;43;01mFalse\u001b[39;49;00m\u001b[43m,\u001b[49m\u001b[43m \u001b[49m\u001b[43mthreshold\u001b[49m\u001b[43m \u001b[49m\u001b[38;5;241;43m=\u001b[39;49m\u001b[43m \u001b[49m\u001b[38;5;241;43m1\u001b[39;49m\u001b[43m)\u001b[49m\n",
      "Cell \u001b[1;32mIn[3], line 29\u001b[0m, in \u001b[0;36mrun_experiment_folder\u001b[1;34m(folder_path, filename, save_output, threshold)\u001b[0m\n\u001b[0;32m     27\u001b[0m \u001b[38;5;66;03m# Measure time for our method\u001b[39;00m\n\u001b[0;32m     28\u001b[0m start_time \u001b[38;5;241m=\u001b[39m time\u001b[38;5;241m.\u001b[39mtime()\n\u001b[1;32m---> 29\u001b[0m opt_qc_f, append_clifford_f, sorted_entanglers_f \u001b[38;5;241m=\u001b[39m \u001b[43mfc_tree_commute_recur_lookahead_fast\u001b[49m\u001b[43m(\u001b[49m\u001b[43mentanglers\u001b[49m\u001b[38;5;241;43m=\u001b[39;49m\u001b[43mtest_paulis\u001b[49m\u001b[43m,\u001b[49m\u001b[43m \u001b[49m\u001b[43mparams\u001b[49m\u001b[38;5;241;43m=\u001b[39;49m\u001b[43mtest_params\u001b[49m\u001b[43m,\u001b[49m\u001b[43m \u001b[49m\u001b[43mbarrier\u001b[49m\u001b[38;5;241;43m=\u001b[39;49m\u001b[38;5;28;43;01mFalse\u001b[39;49;00m\u001b[43m,\u001b[49m\u001b[43m \u001b[49m\u001b[43mthreshold\u001b[49m\u001b[38;5;241;43m=\u001b[39;49m\u001b[43mthreshold\u001b[49m\u001b[43m)\u001b[49m\n\u001b[0;32m     30\u001b[0m opt_qc_f \u001b[38;5;241m=\u001b[39m transpile(opt_qc_f, optimization_level\u001b[38;5;241m=\u001b[39m\u001b[38;5;241m0\u001b[39m, basis_gates\u001b[38;5;241m=\u001b[39m[\u001b[38;5;124m\"\u001b[39m\u001b[38;5;124mcx\u001b[39m\u001b[38;5;124m\"\u001b[39m, \u001b[38;5;124m\"\u001b[39m\u001b[38;5;124msx\u001b[39m\u001b[38;5;124m\"\u001b[39m, \u001b[38;5;124m\"\u001b[39m\u001b[38;5;124mx\u001b[39m\u001b[38;5;124m\"\u001b[39m, \u001b[38;5;124m\"\u001b[39m\u001b[38;5;124mrz\u001b[39m\u001b[38;5;124m\"\u001b[39m], coupling_map\u001b[38;5;241m=\u001b[39mFakeSherbrooke()\u001b[38;5;241m.\u001b[39mcoupling_map)\n\u001b[0;32m     31\u001b[0m end_time \u001b[38;5;241m=\u001b[39m time\u001b[38;5;241m.\u001b[39mtime()\n",
      "File \u001b[1;32mc:\\Users\\main\\Documents\\Dropbox\\ANL\\ObservableUpdate\\Clifford_extraction\\fast_generator.py:2197\u001b[0m, in \u001b[0;36mfc_tree_commute_recur_lookahead_fast\u001b[1;34m(entanglers, params, barrier, threshold)\u001b[0m\n\u001b[0;32m   2195\u001b[0m next_commute_idx, next_pauli_idx \u001b[38;5;241m=\u001b[39m gen_next_pauli_idx(sorted_entanglers_params,commute_idx, pauli_idx)\n\u001b[0;32m   2196\u001b[0m tree_list \u001b[38;5;241m=\u001b[39m [\u001b[38;5;28mlen\u001b[39m(curr_pauli) \u001b[38;5;241m-\u001b[39m \u001b[38;5;241m1\u001b[39m \u001b[38;5;241m-\u001b[39m i \u001b[38;5;28;01mfor\u001b[39;00m i \u001b[38;5;129;01min\u001b[39;00m \u001b[38;5;28mrange\u001b[39m(\u001b[38;5;28mlen\u001b[39m(curr_pauli)) \u001b[38;5;28;01mif\u001b[39;00m curr_pauli[i] \u001b[38;5;241m!=\u001b[39m \u001b[38;5;124m'\u001b[39m\u001b[38;5;124mI\u001b[39m\u001b[38;5;124m'\u001b[39m]\n\u001b[1;32m-> 2197\u001b[0m sq_index \u001b[38;5;241m=\u001b[39m \u001b[43mfind_leaves\u001b[49m\u001b[43m(\u001b[49m\u001b[43msorted_entanglers_params\u001b[49m\u001b[43m,\u001b[49m\u001b[43m \u001b[49m\u001b[43mcurr_pauli\u001b[49m\u001b[43m \u001b[49m\u001b[38;5;241;43m=\u001b[39;49m\u001b[43m \u001b[49m\u001b[43mcurr_pauli\u001b[49m\u001b[43m,\u001b[49m\u001b[43m \u001b[49m\u001b[43mupdated_paulis\u001b[49m\u001b[43m \u001b[49m\u001b[38;5;241;43m=\u001b[39;49m\u001b[43m \u001b[49m\u001b[43m{\u001b[49m\u001b[43m}\u001b[49m\u001b[43m,\u001b[49m\u001b[43m \u001b[49m\u001b[43mqc_tree\u001b[49m\u001b[43m \u001b[49m\u001b[38;5;241;43m=\u001b[39;49m\u001b[43m \u001b[49m\u001b[43minit_cx_tree\u001b[49m\u001b[43m,\u001b[49m\u001b[43m \u001b[49m\u001b[43mtree_list\u001b[49m\u001b[43m \u001b[49m\u001b[38;5;241;43m=\u001b[39;49m\u001b[43m \u001b[49m\u001b[43mtree_list\u001b[49m\u001b[43m,\u001b[49m\u001b[43m \u001b[49m\u001b[43mcommute_idx\u001b[49m\u001b[43m \u001b[49m\u001b[38;5;241;43m=\u001b[39;49m\u001b[43m \u001b[49m\u001b[43mnext_commute_idx\u001b[49m\u001b[43m,\u001b[49m\u001b[43m \u001b[49m\u001b[43mpauli_idx\u001b[49m\u001b[43m \u001b[49m\u001b[38;5;241;43m=\u001b[39;49m\u001b[43m \u001b[49m\u001b[43mnext_pauli_idx\u001b[49m\u001b[43m,\u001b[49m\u001b[43m \u001b[49m\u001b[43mappend_clifford\u001b[49m\u001b[43m \u001b[49m\u001b[38;5;241;43m=\u001b[39;49m\u001b[43m \u001b[49m\u001b[43mappend_clifford\u001b[49m\u001b[43m)\u001b[49m\n\u001b[0;32m   2198\u001b[0m \u001b[38;5;66;03m#sq_index, init_cx_tree = find_single_tree_lookahead_adapt(base_entangler_inv = curr_pauli, match_entangler_inv = updated_entanglers[0], lookahead_entanglers_inv = updated_entanglers)\u001b[39;00m\n\u001b[0;32m   2199\u001b[0m init_clif \u001b[38;5;241m=\u001b[39m sq_qc\u001b[38;5;241m.\u001b[39minverse()\n",
      "File \u001b[1;32mc:\\Users\\main\\Documents\\Dropbox\\ANL\\ObservableUpdate\\Clifford_extraction\\fast_generator.py:790\u001b[0m, in \u001b[0;36mfind_leaves\u001b[1;34m(sorted_entanglers_params_inv, curr_pauli, updated_paulis, qc_tree, tree_list, commute_idx, pauli_idx, append_clifford)\u001b[0m\n\u001b[0;32m    788\u001b[0m     Y_root \u001b[38;5;241m=\u001b[39m Y_leaves[\u001b[38;5;241m0\u001b[39m]\n\u001b[0;32m    789\u001b[0m \u001b[38;5;28;01melif\u001b[39;00m \u001b[38;5;28mlen\u001b[39m(Y_leaves) \u001b[38;5;241m>\u001b[39m \u001b[38;5;241m1\u001b[39m:\n\u001b[1;32m--> 790\u001b[0m     Y_root \u001b[38;5;241m=\u001b[39m \u001b[43mfind_leaves\u001b[49m\u001b[43m(\u001b[49m\u001b[43msorted_entanglers_params_inv\u001b[49m\u001b[43m,\u001b[49m\u001b[43m \u001b[49m\u001b[43mcurr_pauli\u001b[49m\u001b[43m,\u001b[49m\u001b[43m \u001b[49m\u001b[43mupdated_paulis\u001b[49m\u001b[43m,\u001b[49m\u001b[43m \u001b[49m\u001b[43mqc_tree\u001b[49m\u001b[43m,\u001b[49m\u001b[43m \u001b[49m\u001b[43mY_leaves\u001b[49m\u001b[43m,\u001b[49m\u001b[43m \u001b[49m\u001b[43mnext_commute_idx\u001b[49m\u001b[43m,\u001b[49m\u001b[43m \u001b[49m\u001b[43mnext_pauli_idx\u001b[49m\u001b[43m,\u001b[49m\u001b[43m \u001b[49m\u001b[43mappend_clifford\u001b[49m\u001b[43m)\u001b[49m\n\u001b[0;32m    791\u001b[0m \u001b[38;5;28;01mif\u001b[39;00m \u001b[38;5;28mlen\u001b[39m(Z_leaves) \u001b[38;5;241m==\u001b[39m \u001b[38;5;241m1\u001b[39m:\n\u001b[0;32m    792\u001b[0m     Z_root \u001b[38;5;241m=\u001b[39m Z_leaves[\u001b[38;5;241m0\u001b[39m]\n",
      "File \u001b[1;32mc:\\Users\\main\\Documents\\Dropbox\\ANL\\ObservableUpdate\\Clifford_extraction\\fast_generator.py:794\u001b[0m, in \u001b[0;36mfind_leaves\u001b[1;34m(sorted_entanglers_params_inv, curr_pauli, updated_paulis, qc_tree, tree_list, commute_idx, pauli_idx, append_clifford)\u001b[0m\n\u001b[0;32m    792\u001b[0m     Z_root \u001b[38;5;241m=\u001b[39m Z_leaves[\u001b[38;5;241m0\u001b[39m]\n\u001b[0;32m    793\u001b[0m \u001b[38;5;28;01melif\u001b[39;00m \u001b[38;5;28mlen\u001b[39m(Z_leaves) \u001b[38;5;241m>\u001b[39m \u001b[38;5;241m1\u001b[39m:\n\u001b[1;32m--> 794\u001b[0m     Z_root \u001b[38;5;241m=\u001b[39m \u001b[43mfind_leaves\u001b[49m\u001b[43m(\u001b[49m\u001b[43msorted_entanglers_params_inv\u001b[49m\u001b[43m,\u001b[49m\u001b[43m \u001b[49m\u001b[43mcurr_pauli\u001b[49m\u001b[43m,\u001b[49m\u001b[43m \u001b[49m\u001b[43mupdated_paulis\u001b[49m\u001b[43m,\u001b[49m\u001b[43m \u001b[49m\u001b[43mqc_tree\u001b[49m\u001b[43m,\u001b[49m\u001b[43m \u001b[49m\u001b[43mZ_leaves\u001b[49m\u001b[43m,\u001b[49m\u001b[43m \u001b[49m\u001b[43mnext_commute_idx\u001b[49m\u001b[43m,\u001b[49m\u001b[43m \u001b[49m\u001b[43mnext_pauli_idx\u001b[49m\u001b[43m,\u001b[49m\u001b[43m \u001b[49m\u001b[43mappend_clifford\u001b[49m\u001b[43m)\u001b[49m\n\u001b[0;32m    795\u001b[0m \u001b[38;5;28;01mif\u001b[39;00m \u001b[38;5;28mlen\u001b[39m(I_leaves) \u001b[38;5;241m==\u001b[39m \u001b[38;5;241m1\u001b[39m:\n\u001b[0;32m    796\u001b[0m     I_root \u001b[38;5;241m=\u001b[39m I_leaves[\u001b[38;5;241m0\u001b[39m]\n",
      "File \u001b[1;32mc:\\Users\\main\\Documents\\Dropbox\\ANL\\ObservableUpdate\\Clifford_extraction\\fast_generator.py:755\u001b[0m, in \u001b[0;36mfind_leaves\u001b[1;34m(sorted_entanglers_params_inv, curr_pauli, updated_paulis, qc_tree, tree_list, commute_idx, pauli_idx, append_clifford)\u001b[0m\n\u001b[0;32m    753\u001b[0m \u001b[38;5;28;01mexcept\u001b[39;00m:\n\u001b[0;32m    754\u001b[0m     initial_compare_pauli_inv \u001b[38;5;241m=\u001b[39m sorted_entanglers_params_inv[commute_idx][pauli_idx][\u001b[38;5;241m0\u001b[39m]\n\u001b[1;32m--> 755\u001b[0m     temp_pauli \u001b[38;5;241m=\u001b[39m \u001b[43mupdate_paulis\u001b[49m\u001b[43m(\u001b[49m\u001b[43m[\u001b[49m\u001b[43minitial_compare_pauli_inv\u001b[49m\u001b[43m]\u001b[49m\u001b[43m,\u001b[49m\u001b[43m \u001b[49m\u001b[43mclifford_circuit\u001b[49m\u001b[43m \u001b[49m\u001b[38;5;241;43m=\u001b[39;49m\u001b[43m \u001b[49m\u001b[43mappend_clifford\u001b[49m\u001b[43m,\u001b[49m\u001b[43m \u001b[49m\u001b[43mparameters\u001b[49m\u001b[43m \u001b[49m\u001b[38;5;241;43m=\u001b[39;49m\u001b[43m \u001b[49m\u001b[38;5;28;43;01mFalse\u001b[39;49;00m\u001b[43m)\u001b[49m\n\u001b[0;32m    756\u001b[0m     pushed_sign, compare_pauli_inv \u001b[38;5;241m=\u001b[39m push_sq_pauli(entangler \u001b[38;5;241m=\u001b[39m temp_pauli[\u001b[38;5;241m0\u001b[39m], current_pauli \u001b[38;5;241m=\u001b[39m curr_pauli)\n\u001b[0;32m    757\u001b[0m     compare_pauli \u001b[38;5;241m=\u001b[39m compare_pauli_inv[::\u001b[38;5;241m-\u001b[39m\u001b[38;5;241m1\u001b[39m]\n",
      "File \u001b[1;32mc:\\Users\\main\\Documents\\Dropbox\\ANL\\ObservableUpdate\\Clifford_extraction\\fast_generator.py:1831\u001b[0m, in \u001b[0;36mupdate_paulis\u001b[1;34m(Paulis_params_list, clifford_circuit, parameters)\u001b[0m\n\u001b[0;32m   1829\u001b[0m \u001b[38;5;28;01mfor\u001b[39;00m Pauli_str \u001b[38;5;129;01min\u001b[39;00m Paulis_params_list:\n\u001b[0;32m   1830\u001b[0m     Pauli_op \u001b[38;5;241m=\u001b[39m convert_Pauli_op(Pauli_str)\n\u001b[1;32m-> 1831\u001b[0m     evolved_Pauli_op \u001b[38;5;241m=\u001b[39m \u001b[43mPauli_op\u001b[49m\u001b[38;5;241;43m.\u001b[39;49m\u001b[43mevolve\u001b[49m\u001b[43m(\u001b[49m\u001b[43mclifford_circuit\u001b[49m\u001b[43m)\u001b[49m\n\u001b[0;32m   1832\u001b[0m     evolved_sign, evolved_Pauli \u001b[38;5;241m=\u001b[39m split_pauli_string(evolved_Pauli_op\u001b[38;5;241m.\u001b[39mto_label())\n\u001b[0;32m   1833\u001b[0m     evolved_Paulis_list\u001b[38;5;241m.\u001b[39mappend(evolved_Pauli)\n",
      "File \u001b[1;32mc:\\Users\\main\\miniconda3\\envs\\QISKIT_LATEST\\Lib\\site-packages\\qiskit\\quantum_info\\operators\\symplectic\\pauli.py:601\u001b[0m, in \u001b[0;36mPauli.evolve\u001b[1;34m(self, other, qargs, frame)\u001b[0m\n\u001b[0;32m    597\u001b[0m \u001b[38;5;28;01mif\u001b[39;00m \u001b[38;5;129;01mnot\u001b[39;00m \u001b[38;5;28misinstance\u001b[39m(other, (Pauli, Instruction, QuantumCircuit, Clifford)):\n\u001b[0;32m    598\u001b[0m     \u001b[38;5;66;03m# Convert to a Pauli\u001b[39;00m\n\u001b[0;32m    599\u001b[0m     other \u001b[38;5;241m=\u001b[39m Pauli(other)\n\u001b[1;32m--> 601\u001b[0m \u001b[38;5;28;01mreturn\u001b[39;00m Pauli(\u001b[38;5;28;43msuper\u001b[39;49m\u001b[43m(\u001b[49m\u001b[43m)\u001b[49m\u001b[38;5;241;43m.\u001b[39;49m\u001b[43mevolve\u001b[49m\u001b[43m(\u001b[49m\u001b[43mother\u001b[49m\u001b[43m,\u001b[49m\u001b[43m \u001b[49m\u001b[43mqargs\u001b[49m\u001b[38;5;241;43m=\u001b[39;49m\u001b[43mqargs\u001b[49m\u001b[43m,\u001b[49m\u001b[43m \u001b[49m\u001b[43mframe\u001b[49m\u001b[38;5;241;43m=\u001b[39;49m\u001b[43mframe\u001b[49m\u001b[43m)\u001b[49m)\n",
      "File \u001b[1;32mc:\\Users\\main\\miniconda3\\envs\\QISKIT_LATEST\\Lib\\site-packages\\qiskit\\quantum_info\\operators\\symplectic\\base_pauli.py:291\u001b[0m, in \u001b[0;36mBasePauli.evolve\u001b[1;34m(self, other, qargs, frame)\u001b[0m\n\u001b[0;32m    289\u001b[0m \u001b[38;5;66;03m# Convert Clifford to quantum circuits\u001b[39;00m\n\u001b[0;32m    290\u001b[0m \u001b[38;5;28;01mif\u001b[39;00m \u001b[38;5;28misinstance\u001b[39m(other, Clifford):\n\u001b[1;32m--> 291\u001b[0m     \u001b[38;5;28;01mreturn\u001b[39;00m \u001b[38;5;28;43mself\u001b[39;49m\u001b[38;5;241;43m.\u001b[39;49m\u001b[43m_evolve_clifford\u001b[49m\u001b[43m(\u001b[49m\u001b[43mother\u001b[49m\u001b[43m,\u001b[49m\u001b[43m \u001b[49m\u001b[43mqargs\u001b[49m\u001b[38;5;241;43m=\u001b[39;49m\u001b[43mqargs\u001b[49m\u001b[43m,\u001b[49m\u001b[43m \u001b[49m\u001b[43mframe\u001b[49m\u001b[38;5;241;43m=\u001b[39;49m\u001b[43mframe\u001b[49m\u001b[43m)\u001b[49m\n\u001b[0;32m    293\u001b[0m \u001b[38;5;66;03m# Otherwise evolve by the inverse circuit to compute C^dg.P.C\u001b[39;00m\n\u001b[0;32m    294\u001b[0m \u001b[38;5;28;01mif\u001b[39;00m frame \u001b[38;5;241m==\u001b[39m \u001b[38;5;124m\"\u001b[39m\u001b[38;5;124ms\u001b[39m\u001b[38;5;124m\"\u001b[39m:\n",
      "File \u001b[1;32mc:\\Users\\main\\miniconda3\\envs\\QISKIT_LATEST\\Lib\\site-packages\\qiskit\\quantum_info\\operators\\symplectic\\base_pauli.py:304\u001b[0m, in \u001b[0;36mBasePauli._evolve_clifford\u001b[1;34m(self, other, qargs, frame)\u001b[0m\n\u001b[0;32m    302\u001b[0m     adj \u001b[38;5;241m=\u001b[39m other\n\u001b[0;32m    303\u001b[0m \u001b[38;5;28;01melse\u001b[39;00m:\n\u001b[1;32m--> 304\u001b[0m     adj \u001b[38;5;241m=\u001b[39m \u001b[43mother\u001b[49m\u001b[38;5;241;43m.\u001b[39;49m\u001b[43madjoint\u001b[49m\u001b[43m(\u001b[49m\u001b[43m)\u001b[49m\n\u001b[0;32m    306\u001b[0m \u001b[38;5;28;01mif\u001b[39;00m qargs \u001b[38;5;129;01mis\u001b[39;00m \u001b[38;5;28;01mNone\u001b[39;00m:\n\u001b[0;32m    307\u001b[0m     qargs_ \u001b[38;5;241m=\u001b[39m \u001b[38;5;28mslice\u001b[39m(\u001b[38;5;28;01mNone\u001b[39;00m)\n",
      "File \u001b[1;32mc:\\Users\\main\\miniconda3\\envs\\QISKIT_LATEST\\Lib\\site-packages\\qiskit\\quantum_info\\operators\\symplectic\\clifford.py:383\u001b[0m, in \u001b[0;36mClifford.adjoint\u001b[1;34m(self)\u001b[0m\n\u001b[0;32m    382\u001b[0m \u001b[38;5;28;01mdef\u001b[39;00m \u001b[38;5;21madjoint\u001b[39m(\u001b[38;5;28mself\u001b[39m):\n\u001b[1;32m--> 383\u001b[0m     \u001b[38;5;28;01mreturn\u001b[39;00m \u001b[43mClifford\u001b[49m\u001b[38;5;241;43m.\u001b[39;49m\u001b[43m_conjugate_transpose\u001b[49m\u001b[43m(\u001b[49m\u001b[38;5;28;43mself\u001b[39;49m\u001b[43m,\u001b[49m\u001b[43m \u001b[49m\u001b[38;5;124;43m\"\u001b[39;49m\u001b[38;5;124;43mA\u001b[39;49m\u001b[38;5;124;43m\"\u001b[39;49m\u001b[43m)\u001b[49m\n",
      "File \u001b[1;32mc:\\Users\\main\\miniconda3\\envs\\QISKIT_LATEST\\Lib\\site-packages\\qiskit\\quantum_info\\operators\\symplectic\\clifford.py:884\u001b[0m, in \u001b[0;36mClifford._conjugate_transpose\u001b[1;34m(clifford, method)\u001b[0m\n\u001b[0;32m    882\u001b[0m     ret\u001b[38;5;241m.\u001b[39mstab_z \u001b[38;5;241m=\u001b[39m tmp\u001b[38;5;241m.\u001b[39mT\n\u001b[0;32m    883\u001b[0m     \u001b[38;5;66;03m# Update phase\u001b[39;00m\n\u001b[1;32m--> 884\u001b[0m     ret\u001b[38;5;241m.\u001b[39mphase \u001b[38;5;241m^\u001b[39m\u001b[38;5;241m=\u001b[39m \u001b[43mclifford\u001b[49m\u001b[38;5;241;43m.\u001b[39;49m\u001b[43mdot\u001b[49m\u001b[43m(\u001b[49m\u001b[43mret\u001b[49m\u001b[43m)\u001b[49m\u001b[38;5;241m.\u001b[39mphase\n\u001b[0;32m    885\u001b[0m \u001b[38;5;28;01mif\u001b[39;00m method \u001b[38;5;129;01min\u001b[39;00m [\u001b[38;5;124m\"\u001b[39m\u001b[38;5;124mC\u001b[39m\u001b[38;5;124m\"\u001b[39m, \u001b[38;5;124m\"\u001b[39m\u001b[38;5;124mT\u001b[39m\u001b[38;5;124m\"\u001b[39m]:\n\u001b[0;32m    886\u001b[0m     \u001b[38;5;66;03m# Apply conjugate\u001b[39;00m\n\u001b[0;32m    887\u001b[0m     ret\u001b[38;5;241m.\u001b[39mphase \u001b[38;5;241m^\u001b[39m\u001b[38;5;241m=\u001b[39m np\u001b[38;5;241m.\u001b[39mmod(_count_y(ret\u001b[38;5;241m.\u001b[39mx, ret\u001b[38;5;241m.\u001b[39mz), \u001b[38;5;241m2\u001b[39m)\u001b[38;5;241m.\u001b[39mastype(\u001b[38;5;28mbool\u001b[39m)\n",
      "File \u001b[1;32mc:\\Users\\main\\miniconda3\\envs\\QISKIT_LATEST\\Lib\\site-packages\\qiskit\\quantum_info\\operators\\mixins\\group.py:149\u001b[0m, in \u001b[0;36mGroupMixin.dot\u001b[1;34m(self, other, qargs)\u001b[0m\n\u001b[0;32m    133\u001b[0m \u001b[38;5;28;01mdef\u001b[39;00m \u001b[38;5;21mdot\u001b[39m(\u001b[38;5;28mself\u001b[39m, other, qargs\u001b[38;5;241m=\u001b[39m\u001b[38;5;28;01mNone\u001b[39;00m) \u001b[38;5;241m-\u001b[39m\u001b[38;5;241m>\u001b[39m Self:\n\u001b[0;32m    134\u001b[0m \u001b[38;5;250m    \u001b[39m\u001b[38;5;124;03m\"\"\"Return the right multiplied operator self * other.\u001b[39;00m\n\u001b[0;32m    135\u001b[0m \n\u001b[0;32m    136\u001b[0m \u001b[38;5;124;03m    Args:\u001b[39;00m\n\u001b[1;32m   (...)\u001b[0m\n\u001b[0;32m    147\u001b[0m \u001b[38;5;124;03m        Hence ``a.dot(b)`` is equivalent to ``a @ b``.\u001b[39;00m\n\u001b[0;32m    148\u001b[0m \u001b[38;5;124;03m    \"\"\"\u001b[39;00m\n\u001b[1;32m--> 149\u001b[0m     \u001b[38;5;28;01mreturn\u001b[39;00m \u001b[38;5;28;43mself\u001b[39;49m\u001b[38;5;241;43m.\u001b[39;49m\u001b[43mcompose\u001b[49m\u001b[43m(\u001b[49m\u001b[43mother\u001b[49m\u001b[43m,\u001b[49m\u001b[43m \u001b[49m\u001b[43mqargs\u001b[49m\u001b[38;5;241;43m=\u001b[39;49m\u001b[43mqargs\u001b[49m\u001b[43m,\u001b[49m\u001b[43m \u001b[49m\u001b[43mfront\u001b[49m\u001b[38;5;241;43m=\u001b[39;49m\u001b[38;5;28;43;01mTrue\u001b[39;49;00m\u001b[43m)\u001b[49m\n",
      "File \u001b[1;32mc:\\Users\\main\\miniconda3\\envs\\QISKIT_LATEST\\Lib\\site-packages\\qiskit\\quantum_info\\operators\\symplectic\\clifford.py:450\u001b[0m, in \u001b[0;36mClifford.compose\u001b[1;34m(self, other, qargs, front)\u001b[0m\n\u001b[0;32m    448\u001b[0m \u001b[38;5;28;01mif\u001b[39;00m \u001b[38;5;28mself\u001b[39m\u001b[38;5;241m.\u001b[39mnum_qubits \u001b[38;5;241m==\u001b[39m \u001b[38;5;241m1\u001b[39m:\n\u001b[0;32m    449\u001b[0m     \u001b[38;5;28;01mreturn\u001b[39;00m \u001b[38;5;28mself\u001b[39m\u001b[38;5;241m.\u001b[39m_compose_1q(left, right)\n\u001b[1;32m--> 450\u001b[0m \u001b[38;5;28;01mreturn\u001b[39;00m \u001b[38;5;28;43mself\u001b[39;49m\u001b[38;5;241;43m.\u001b[39;49m\u001b[43m_compose_general\u001b[49m\u001b[43m(\u001b[49m\u001b[43mleft\u001b[49m\u001b[43m,\u001b[49m\u001b[43m \u001b[49m\u001b[43mright\u001b[49m\u001b[43m)\u001b[49m\n",
      "File \u001b[1;32mc:\\Users\\main\\miniconda3\\envs\\QISKIT_LATEST\\Lib\\site-packages\\qiskit\\quantum_info\\operators\\symplectic\\clifford.py:466\u001b[0m, in \u001b[0;36mClifford._compose_general\u001b[1;34m(cls, first, second)\u001b[0m\n\u001b[0;32m    464\u001b[0m z1_select \u001b[38;5;241m=\u001b[39m z1[row2]\n\u001b[0;32m    465\u001b[0m x1_accum \u001b[38;5;241m=\u001b[39m np\u001b[38;5;241m.\u001b[39mlogical_xor\u001b[38;5;241m.\u001b[39maccumulate(x1_select, axis\u001b[38;5;241m=\u001b[39m\u001b[38;5;241m0\u001b[39m)\u001b[38;5;241m.\u001b[39mastype(np\u001b[38;5;241m.\u001b[39muint8)\n\u001b[1;32m--> 466\u001b[0m z1_accum \u001b[38;5;241m=\u001b[39m \u001b[43mnp\u001b[49m\u001b[38;5;241;43m.\u001b[39;49m\u001b[43mlogical_xor\u001b[49m\u001b[38;5;241;43m.\u001b[39;49m\u001b[43maccumulate\u001b[49m\u001b[43m(\u001b[49m\u001b[43mz1_select\u001b[49m\u001b[43m,\u001b[49m\u001b[43m \u001b[49m\u001b[43maxis\u001b[49m\u001b[38;5;241;43m=\u001b[39;49m\u001b[38;5;241;43m0\u001b[39;49m\u001b[43m)\u001b[49m\u001b[38;5;241m.\u001b[39mastype(np\u001b[38;5;241m.\u001b[39muint8)\n\u001b[0;32m    467\u001b[0m indexer \u001b[38;5;241m=\u001b[39m (x1_select[\u001b[38;5;241m1\u001b[39m:], z1_select[\u001b[38;5;241m1\u001b[39m:], x1_accum[:\u001b[38;5;241m-\u001b[39m\u001b[38;5;241m1\u001b[39m], z1_accum[:\u001b[38;5;241m-\u001b[39m\u001b[38;5;241m1\u001b[39m])\n\u001b[0;32m    468\u001b[0m ifacts[k] \u001b[38;5;241m+\u001b[39m\u001b[38;5;241m=\u001b[39m np\u001b[38;5;241m.\u001b[39msum(lookup[indexer])\n",
      "\u001b[1;31mKeyboardInterrupt\u001b[0m: "
     ]
    }
   ],
   "source": [
    "#Then compare the Hamiltonian simulation paulis in HS_paulis folder\n",
    "run_experiment_folder(folder_path = \"benchmarks/HS_paulis\", save_output = True, threshold = 1)"
   ]
  },
  {
   "cell_type": "code",
   "execution_count": null,
   "id": "f36637cf",
   "metadata": {},
   "outputs": [
    {
     "name": "stdout",
     "output_type": "stream",
     "text": [
      "max_cut_benchmark_n10_e45_l20.json\n",
      "{'num_paulis': 1100, 'times': {'our_time': 40.30887198448181, 'combined_time': 41.74835658073425}, 'gate_counts': {'our_method': 6566, 'combined_method': 3747}, 'circuit_entangling_depth': {'our_method': 3125, 'combined_method': 2541}, 'test_paulis_file': 'benchmarks/results_hardware_topology/test_new_max_cut_benchmark_n10_e45_l20.json'}\n",
      "max_cut_benchmark_n14_e60_l5.json\n"
     ]
    },
    {
     "ename": "KeyboardInterrupt",
     "evalue": "",
     "output_type": "error",
     "traceback": [
      "\u001b[1;31m---------------------------------------------------------------------------\u001b[0m",
      "\u001b[1;31mKeyboardInterrupt\u001b[0m                         Traceback (most recent call last)",
      "Cell \u001b[1;32mIn[7], line 3\u001b[0m\n\u001b[0;32m      1\u001b[0m \u001b[38;5;66;03m#Then compare the MAXCUT paulis in max_cut_paulis folder\u001b[39;00m\n\u001b[1;32m----> 3\u001b[0m \u001b[43mrun_experiment_folder\u001b[49m\u001b[43m(\u001b[49m\u001b[43mfolder_path\u001b[49m\u001b[43m \u001b[49m\u001b[38;5;241;43m=\u001b[39;49m\u001b[43m \u001b[49m\u001b[38;5;124;43m\"\u001b[39;49m\u001b[38;5;124;43mbenchmarks/max_cut_paulis\u001b[39;49m\u001b[38;5;124;43m\"\u001b[39;49m\u001b[43m,\u001b[49m\u001b[43m \u001b[49m\u001b[43msave_output\u001b[49m\u001b[43m \u001b[49m\u001b[38;5;241;43m=\u001b[39;49m\u001b[43m \u001b[49m\u001b[38;5;28;43;01mFalse\u001b[39;49;00m\u001b[43m,\u001b[49m\u001b[43m \u001b[49m\u001b[43mthreshold\u001b[49m\u001b[43m \u001b[49m\u001b[38;5;241;43m=\u001b[39;49m\u001b[43m \u001b[49m\u001b[38;5;241;43m1\u001b[39;49m\u001b[43m)\u001b[49m\n",
      "Cell \u001b[1;32mIn[3], line 53\u001b[0m, in \u001b[0;36mrun_experiment_folder\u001b[1;34m(folder_path, filename, save_output, threshold)\u001b[0m\n\u001b[0;32m     38\u001b[0m combined_time \u001b[38;5;241m=\u001b[39m end_time \u001b[38;5;241m-\u001b[39m start_time\n\u001b[0;32m     40\u001b[0m \u001b[38;5;66;03m# Collect results\u001b[39;00m\n\u001b[0;32m     41\u001b[0m result \u001b[38;5;241m=\u001b[39m {\n\u001b[0;32m     42\u001b[0m     \u001b[38;5;124m\"\u001b[39m\u001b[38;5;124mnum_paulis\u001b[39m\u001b[38;5;124m\"\u001b[39m: \u001b[38;5;28mlen\u001b[39m(test_paulis),\n\u001b[0;32m     43\u001b[0m     \u001b[38;5;124m\"\u001b[39m\u001b[38;5;124mtimes\u001b[39m\u001b[38;5;124m\"\u001b[39m: {\n\u001b[0;32m     44\u001b[0m         \u001b[38;5;124m\"\u001b[39m\u001b[38;5;124mour_time\u001b[39m\u001b[38;5;124m\"\u001b[39m: our_time,\n\u001b[0;32m     45\u001b[0m         \u001b[38;5;124m\"\u001b[39m\u001b[38;5;124mcombined_time\u001b[39m\u001b[38;5;124m\"\u001b[39m: combined_time\n\u001b[0;32m     46\u001b[0m     },\n\u001b[0;32m     47\u001b[0m     \u001b[38;5;124m\"\u001b[39m\u001b[38;5;124mgate_counts\u001b[39m\u001b[38;5;124m\"\u001b[39m: {\n\u001b[0;32m     48\u001b[0m         \u001b[38;5;124m\"\u001b[39m\u001b[38;5;124mour_method\u001b[39m\u001b[38;5;124m\"\u001b[39m: opt_qc_f\u001b[38;5;241m.\u001b[39mcount_ops()\u001b[38;5;241m.\u001b[39mget(\u001b[38;5;124m'\u001b[39m\u001b[38;5;124mcx\u001b[39m\u001b[38;5;124m'\u001b[39m, \u001b[38;5;241m0\u001b[39m),\n\u001b[0;32m     49\u001b[0m         \u001b[38;5;124m\"\u001b[39m\u001b[38;5;124mcombined_method\u001b[39m\u001b[38;5;124m\"\u001b[39m: opt_qiskit\u001b[38;5;241m.\u001b[39mcount_ops()\u001b[38;5;241m.\u001b[39mget(\u001b[38;5;124m'\u001b[39m\u001b[38;5;124mcx\u001b[39m\u001b[38;5;124m'\u001b[39m, \u001b[38;5;241m0\u001b[39m)\n\u001b[0;32m     50\u001b[0m     },\n\u001b[0;32m     51\u001b[0m     \u001b[38;5;124m\"\u001b[39m\u001b[38;5;124mcircuit_entangling_depth\u001b[39m\u001b[38;5;124m\"\u001b[39m: {\n\u001b[0;32m     52\u001b[0m         \u001b[38;5;124m\"\u001b[39m\u001b[38;5;124mour_method\u001b[39m\u001b[38;5;124m\"\u001b[39m: opt_qc_f\u001b[38;5;241m.\u001b[39mdepth(\u001b[38;5;28;01mlambda\u001b[39;00m instr: \u001b[38;5;28mlen\u001b[39m(instr\u001b[38;5;241m.\u001b[39mqubits) \u001b[38;5;241m>\u001b[39m \u001b[38;5;241m1\u001b[39m),\n\u001b[1;32m---> 53\u001b[0m         \u001b[38;5;124m\"\u001b[39m\u001b[38;5;124mcombined_method\u001b[39m\u001b[38;5;124m\"\u001b[39m: \u001b[43mopt_qiskit\u001b[49m\u001b[38;5;241;43m.\u001b[39;49m\u001b[43mdepth\u001b[49m\u001b[43m(\u001b[49m\u001b[38;5;28;43;01mlambda\u001b[39;49;00m\u001b[43m \u001b[49m\u001b[43minstr\u001b[49m\u001b[43m:\u001b[49m\u001b[43m \u001b[49m\u001b[38;5;28;43mlen\u001b[39;49m\u001b[43m(\u001b[49m\u001b[43minstr\u001b[49m\u001b[38;5;241;43m.\u001b[39;49m\u001b[43mqubits\u001b[49m\u001b[43m)\u001b[49m\u001b[43m \u001b[49m\u001b[38;5;241;43m>\u001b[39;49m\u001b[43m \u001b[49m\u001b[38;5;241;43m1\u001b[39;49m\u001b[43m)\u001b[49m\n\u001b[0;32m     54\u001b[0m     },\n\u001b[0;32m     55\u001b[0m     \u001b[38;5;124m\"\u001b[39m\u001b[38;5;124mtest_paulis_file\u001b[39m\u001b[38;5;124m\"\u001b[39m: \u001b[38;5;124mf\u001b[39m\u001b[38;5;124m'\u001b[39m\u001b[38;5;124mbenchmarks/results_hardware_topology/test_new_\u001b[39m\u001b[38;5;124m'\u001b[39m \u001b[38;5;241m+\u001b[39m filename\n\u001b[0;32m     56\u001b[0m }\n\u001b[0;32m     57\u001b[0m \u001b[38;5;28mprint\u001b[39m(result)\n\u001b[0;32m     58\u001b[0m results\u001b[38;5;241m.\u001b[39mappend(result)\n",
      "File \u001b[1;32mc:\\Users\\main\\miniconda3\\envs\\QISKIT_LATEST\\Lib\\site-packages\\qiskit\\circuit\\quantumcircuit.py:3350\u001b[0m, in \u001b[0;36mQuantumCircuit.depth\u001b[1;34m(self, filter_function)\u001b[0m\n\u001b[0;32m   3347\u001b[0m             objects\u001b[38;5;241m.\u001b[39mupdate(_builder_utils\u001b[38;5;241m.\u001b[39mnode_resources(var)\u001b[38;5;241m.\u001b[39mclbits)\n\u001b[0;32m   3349\u001b[0m \u001b[38;5;28;01mfor\u001b[39;00m instruction \u001b[38;5;129;01min\u001b[39;00m \u001b[38;5;28mself\u001b[39m\u001b[38;5;241m.\u001b[39m_data:\n\u001b[1;32m-> 3350\u001b[0m     objects \u001b[38;5;241m=\u001b[39m \u001b[38;5;28;43mset\u001b[39;49m\u001b[43m(\u001b[49m\u001b[43mitertools\u001b[49m\u001b[38;5;241;43m.\u001b[39;49m\u001b[43mchain\u001b[49m\u001b[43m(\u001b[49m\u001b[43minstruction\u001b[49m\u001b[38;5;241;43m.\u001b[39;49m\u001b[43mqubits\u001b[49m\u001b[43m,\u001b[49m\u001b[43m \u001b[49m\u001b[43minstruction\u001b[49m\u001b[38;5;241;43m.\u001b[39;49m\u001b[43mclbits\u001b[49m\u001b[43m)\u001b[49m\u001b[43m)\u001b[49m\n\u001b[0;32m   3351\u001b[0m     \u001b[38;5;28;01mif\u001b[39;00m (condition \u001b[38;5;241m:=\u001b[39m \u001b[38;5;28mgetattr\u001b[39m(instruction\u001b[38;5;241m.\u001b[39moperation, \u001b[38;5;124m\"\u001b[39m\u001b[38;5;124mcondition\u001b[39m\u001b[38;5;124m\"\u001b[39m, \u001b[38;5;28;01mNone\u001b[39;00m)) \u001b[38;5;129;01mis\u001b[39;00m \u001b[38;5;129;01mnot\u001b[39;00m \u001b[38;5;28;01mNone\u001b[39;00m:\n\u001b[0;32m   3352\u001b[0m         objects\u001b[38;5;241m.\u001b[39mupdate(_builder_utils\u001b[38;5;241m.\u001b[39mcondition_resources(condition)\u001b[38;5;241m.\u001b[39mclbits)\n",
      "File \u001b[1;32mc:\\Users\\main\\miniconda3\\envs\\QISKIT_LATEST\\Lib\\site-packages\\qiskit\\circuit\\bit.py:67\u001b[0m, in \u001b[0;36mBit.__hash__\u001b[1;34m(self)\u001b[0m\n\u001b[0;32m     64\u001b[0m         \u001b[38;5;28;01mreturn\u001b[39;00m \u001b[38;5;28mobject\u001b[39m\u001b[38;5;241m.\u001b[39m\u001b[38;5;21m__repr__\u001b[39m(\u001b[38;5;28mself\u001b[39m)\n\u001b[0;32m     65\u001b[0m     \u001b[38;5;28;01mreturn\u001b[39;00m \u001b[38;5;28mself\u001b[39m\u001b[38;5;241m.\u001b[39m_repr\n\u001b[1;32m---> 67\u001b[0m \u001b[38;5;28;01mdef\u001b[39;00m \u001b[38;5;21m__hash__\u001b[39m(\u001b[38;5;28mself\u001b[39m):\n\u001b[0;32m     68\u001b[0m     \u001b[38;5;28;01mreturn\u001b[39;00m \u001b[38;5;28mself\u001b[39m\u001b[38;5;241m.\u001b[39m_hash\n\u001b[0;32m     70\u001b[0m \u001b[38;5;28;01mdef\u001b[39;00m \u001b[38;5;21m__eq__\u001b[39m(\u001b[38;5;28mself\u001b[39m, other):\n",
      "\u001b[1;31mKeyboardInterrupt\u001b[0m: "
     ]
    }
   ],
   "source": [
    "#Then compare the MAXCUT paulis in max_cut_paulis folder\n",
    "\n",
    "run_experiment_folder(folder_path = \"benchmarks/max_cut_paulis\", save_output = True, threshold = 1)"
   ]
  },
  {
   "cell_type": "code",
   "execution_count": null,
   "id": "d82da7da",
   "metadata": {},
   "outputs": [
    {
     "name": "stdout",
     "output_type": "stream",
     "text": [
      "max_cut_benchmark_n10_e45_l20.json\n",
      "{'num_paulis': 1100, 'times': {'our_time': 6.538527727127075, 'combined_time': 7.667157173156738}, 'gate_counts': {'our_method': 1071, 'combined_method': 1071}, 'circuit_entangling_depth': {'our_method': 521, 'combined_method': 521}, 'test_paulis_file': 'benchmarks/results/test_new_max_cut_benchmark_n10_e45_l20.json'}\n",
      "max_cut_benchmark_n14_e60_l5.json\n",
      "{'num_paulis': 370, 'times': {'our_time': 8.88126802444458, 'combined_time': 8.358665227890015}, 'gate_counts': {'our_method': 380, 'combined_method': 380}, 'circuit_entangling_depth': {'our_method': 193, 'combined_method': 193}, 'test_paulis_file': 'benchmarks/results/test_new_max_cut_benchmark_n14_e60_l5.json'}\n"
     ]
    }
   ],
   "source": [
    "#since in the maxcut problems there are many commuting terms and it's slow to search through all of them,\n",
    "#we can set the threshold to 2 to early stop the search once found a simplified pauli of weight 2\n",
    "#you can see the run time difference, for the second benchmark runtime reduces from 30second to 7 seconds.\n",
    "\n",
    "run_experiment_folder(folder_path = \"benchmarks/max_cut_paulis\", save_output = True, threshold = 2)"
   ]
  },
  {
   "cell_type": "code",
   "execution_count": null,
   "id": "77c0d26d",
   "metadata": {},
   "outputs": [
    {
     "name": "stdout",
     "output_type": "stream",
     "text": [
      "labs_n10_layers1.json\n",
      "{'num_paulis': 80, 'times': {'our_time': 1.4028339385986328, 'combined_time': 1.476099967956543}, 'gate_counts': {'our_method': 106, 'combined_method': 106}, 'circuit_entangling_depth': {'our_method': 76, 'combined_method': 76}, 'test_paulis_file': 'benchmarks/results/test_new_labs_n10_layers1.json'}\n",
      "labs_n10_layers3.json\n",
      "{'num_paulis': 240, 'times': {'our_time': 3.956270456314087, 'combined_time': 4.352978467941284}, 'gate_counts': {'our_method': 296, 'combined_method': 296}, 'circuit_entangling_depth': {'our_method': 202, 'combined_method': 202}, 'test_paulis_file': 'benchmarks/results/test_new_labs_n10_layers3.json'}\n",
      "labs_n11_layers1.json\n",
      "{'num_paulis': 106, 'times': {'our_time': 3.0674691200256348, 'combined_time': 2.7372894287109375}, 'gate_counts': {'our_method': 137, 'combined_method': 137}, 'circuit_entangling_depth': {'our_method': 89, 'combined_method': 89}, 'test_paulis_file': 'benchmarks/results/test_new_labs_n11_layers1.json'}\n",
      "labs_n11_layers3.json\n",
      "{'num_paulis': 318, 'times': {'our_time': 7.486319065093994, 'combined_time': 7.5988547801971436}, 'gate_counts': {'our_method': 392, 'combined_method': 392}, 'circuit_entangling_depth': {'our_method': 258, 'combined_method': 258}, 'test_paulis_file': 'benchmarks/results/test_new_labs_n11_layers3.json'}\n",
      "labs_n12_layers1.json\n",
      "{'num_paulis': 137, 'times': {'our_time': 4.48841404914856, 'combined_time': 4.775655031204224}, 'gate_counts': {'our_method': 186, 'combined_method': 186}, 'circuit_entangling_depth': {'our_method': 125, 'combined_method': 125}, 'test_paulis_file': 'benchmarks/results/test_new_labs_n12_layers1.json'}\n",
      "labs_n12_layers3.json\n",
      "{'num_paulis': 411, 'times': {'our_time': 14.500159740447998, 'combined_time': 15.505523204803467}, 'gate_counts': {'our_method': 528, 'combined_method': 528}, 'circuit_entangling_depth': {'our_method': 349, 'combined_method': 349}, 'test_paulis_file': 'benchmarks/results/test_new_labs_n12_layers3.json'}\n",
      "labs_n13_layers1.json\n",
      "{'num_paulis': 174, 'times': {'our_time': 8.87239408493042, 'combined_time': 7.40664005279541}, 'gate_counts': {'our_method': 237, 'combined_method': 237}, 'circuit_entangling_depth': {'our_method': 149, 'combined_method': 149}, 'test_paulis_file': 'benchmarks/results/test_new_labs_n13_layers1.json'}\n",
      "labs_n13_layers3.json\n",
      "{'num_paulis': 522, 'times': {'our_time': 31.10848593711853, 'combined_time': 28.86223340034485}, 'gate_counts': {'our_method': 722, 'combined_method': 722}, 'circuit_entangling_depth': {'our_method': 484, 'combined_method': 484}, 'test_paulis_file': 'benchmarks/results/test_new_labs_n13_layers3.json'}\n",
      "labs_n14_layers1.json\n",
      "{'num_paulis': 217, 'times': {'our_time': 13.9177565574646, 'combined_time': 14.08711290359497}, 'gate_counts': {'our_method': 305, 'combined_method': 305}, 'circuit_entangling_depth': {'our_method': 190, 'combined_method': 190}, 'test_paulis_file': 'benchmarks/results/test_new_labs_n14_layers1.json'}\n",
      "labs_n14_layers3.json\n",
      "{'num_paulis': 651, 'times': {'our_time': 51.81622266769409, 'combined_time': 51.54758167266846}, 'gate_counts': {'our_method': 918, 'combined_method': 918}, 'circuit_entangling_depth': {'our_method': 586, 'combined_method': 586}, 'test_paulis_file': 'benchmarks/results/test_new_labs_n14_layers3.json'}\n",
      "labs_n15_layers1.json\n",
      "{'num_paulis': 267, 'times': {'our_time': 21.69683599472046, 'combined_time': 21.995200872421265}, 'gate_counts': {'our_method': 385, 'combined_method': 385}, 'circuit_entangling_depth': {'our_method': 255, 'combined_method': 255}, 'test_paulis_file': 'benchmarks/results/test_new_labs_n15_layers1.json'}\n",
      "labs_n15_layers3.json\n",
      "{'num_paulis': 801, 'times': {'our_time': 71.25963711738586, 'combined_time': 70.87026309967041}, 'gate_counts': {'our_method': 1121, 'combined_method': 1121}, 'circuit_entangling_depth': {'our_method': 718, 'combined_method': 718}, 'test_paulis_file': 'benchmarks/results/test_new_labs_n15_layers3.json'}\n",
      "labs_n16_layers1.json\n",
      "{'num_paulis': 324, 'times': {'our_time': 38.39311242103577, 'combined_time': 39.595471143722534}, 'gate_counts': {'our_method': 480, 'combined_method': 480}, 'circuit_entangling_depth': {'our_method': 311, 'combined_method': 311}, 'test_paulis_file': 'benchmarks/results/test_new_labs_n16_layers1.json'}\n",
      "labs_n16_layers3.json\n",
      "{'num_paulis': 972, 'times': {'our_time': 122.59886884689331, 'combined_time': 129.7100441455841}, 'gate_counts': {'our_method': 1463, 'combined_method': 1463}, 'circuit_entangling_depth': {'our_method': 931, 'combined_method': 931}, 'test_paulis_file': 'benchmarks/results/test_new_labs_n16_layers3.json'}\n",
      "labs_n17_layers1.json\n",
      "{'num_paulis': 389, 'times': {'our_time': 51.6299831867218, 'combined_time': 53.09148669242859}, 'gate_counts': {'our_method': 583, 'combined_method': 583}, 'circuit_entangling_depth': {'our_method': 372, 'combined_method': 372}, 'test_paulis_file': 'benchmarks/results/test_new_labs_n17_layers1.json'}\n",
      "labs_n17_layers3.json\n",
      "{'num_paulis': 1167, 'times': {'our_time': 185.01424837112427, 'combined_time': 197.39976286888123}, 'gate_counts': {'our_method': 1761, 'combined_method': 1761}, 'circuit_entangling_depth': {'our_method': 1131, 'combined_method': 1131}, 'test_paulis_file': 'benchmarks/results/test_new_labs_n17_layers3.json'}\n",
      "labs_n18_layers1.json\n",
      "{'num_paulis': 462, 'times': {'our_time': 91.22567892074585, 'combined_time': 99.07706499099731}, 'gate_counts': {'our_method': 723, 'combined_method': 723}, 'circuit_entangling_depth': {'our_method': 449, 'combined_method': 449}, 'test_paulis_file': 'benchmarks/results/test_new_labs_n18_layers1.json'}\n",
      "labs_n18_layers3.json\n",
      "{'num_paulis': 1386, 'times': {'our_time': 350.6332471370697, 'combined_time': 348.54603004455566}, 'gate_counts': {'our_method': 2133, 'combined_method': 2133}, 'circuit_entangling_depth': {'our_method': 1331, 'combined_method': 1331}, 'test_paulis_file': 'benchmarks/results/test_new_labs_n18_layers3.json'}\n",
      "labs_n19_layers1.json\n",
      "{'num_paulis': 544, 'times': {'our_time': 135.8767213821411, 'combined_time': 148.37800312042236}, 'gate_counts': {'our_method': 863, 'combined_method': 863}, 'circuit_entangling_depth': {'our_method': 542, 'combined_method': 542}, 'test_paulis_file': 'benchmarks/results/test_new_labs_n19_layers1.json'}\n",
      "labs_n19_layers3.json\n",
      "{'num_paulis': 1632, 'times': {'our_time': 444.8853085041046, 'combined_time': 439.20377469062805}, 'gate_counts': {'our_method': 2545, 'combined_method': 2545}, 'circuit_entangling_depth': {'our_method': 1627, 'combined_method': 1627}, 'test_paulis_file': 'benchmarks/results/test_new_labs_n19_layers3.json'}\n",
      "labs_n20_layers1.json\n",
      "{'num_paulis': 635, 'times': {'our_time': 232.13819479942322, 'combined_time': 222.17019701004028}, 'gate_counts': {'our_method': 1052, 'combined_method': 1052}, 'circuit_entangling_depth': {'our_method': 679, 'combined_method': 679}, 'test_paulis_file': 'benchmarks/results/test_new_labs_n20_layers1.json'}\n",
      "labs_n20_layers3.json\n",
      "{'num_paulis': 1905, 'times': {'our_time': 804.8506636619568, 'combined_time': 725.9248790740967}, 'gate_counts': {'our_method': 3262, 'combined_method': 3262}, 'circuit_entangling_depth': {'our_method': 2074, 'combined_method': 2074}, 'test_paulis_file': 'benchmarks/results/test_new_labs_n20_layers3.json'}\n",
      "labs_n5_layers1.json\n",
      "{'num_paulis': 12, 'times': {'our_time': 0.05602264404296875, 'combined_time': 0.0789492130279541}, 'gate_counts': {'our_method': 12, 'combined_method': 12}, 'circuit_entangling_depth': {'our_method': 10, 'combined_method': 10}, 'test_paulis_file': 'benchmarks/results/test_new_labs_n5_layers1.json'}\n",
      "labs_n5_layers3.json\n",
      "{'num_paulis': 36, 'times': {'our_time': 0.15113592147827148, 'combined_time': 0.17100811004638672}, 'gate_counts': {'our_method': 36, 'combined_method': 36}, 'circuit_entangling_depth': {'our_method': 29, 'combined_method': 29}, 'test_paulis_file': 'benchmarks/results/test_new_labs_n5_layers3.json'}\n",
      "labs_n6_layers1.json\n",
      "{'num_paulis': 19, 'times': {'our_time': 0.10685539245605469, 'combined_time': 0.14014720916748047}, 'gate_counts': {'our_method': 21, 'combined_method': 21}, 'circuit_entangling_depth': {'our_method': 13, 'combined_method': 13}, 'test_paulis_file': 'benchmarks/results/test_new_labs_n6_layers1.json'}\n",
      "labs_n6_layers3.json\n",
      "{'num_paulis': 57, 'times': {'our_time': 0.26283979415893555, 'combined_time': 0.31596851348876953}, 'gate_counts': {'our_method': 58, 'combined_method': 58}, 'circuit_entangling_depth': {'our_method': 41, 'combined_method': 41}, 'test_paulis_file': 'benchmarks/results/test_new_labs_n6_layers3.json'}\n",
      "labs_n7_layers1.json\n",
      "{'num_paulis': 29, 'times': {'our_time': 0.2152721881866455, 'combined_time': 0.2545623779296875}, 'gate_counts': {'our_method': 33, 'combined_method': 33}, 'circuit_entangling_depth': {'our_method': 25, 'combined_method': 25}, 'test_paulis_file': 'benchmarks/results/test_new_labs_n7_layers1.json'}\n",
      "labs_n7_layers3.json\n",
      "{'num_paulis': 87, 'times': {'our_time': 0.5752401351928711, 'combined_time': 0.6963605880737305}, 'gate_counts': {'our_method': 99, 'combined_method': 99}, 'circuit_entangling_depth': {'our_method': 74, 'combined_method': 74}, 'test_paulis_file': 'benchmarks/results/test_new_labs_n7_layers3.json'}\n",
      "labs_n8_layers1.json\n",
      "{'num_paulis': 42, 'times': {'our_time': 0.3635716438293457, 'combined_time': 0.40520572662353516}, 'gate_counts': {'our_method': 50, 'combined_method': 50}, 'circuit_entangling_depth': {'our_method': 33, 'combined_method': 33}, 'test_paulis_file': 'benchmarks/results/test_new_labs_n8_layers1.json'}\n",
      "labs_n8_layers3.json\n",
      "{'num_paulis': 126, 'times': {'our_time': 1.0165376663208008, 'combined_time': 1.1483759880065918}, 'gate_counts': {'our_method': 143, 'combined_method': 143}, 'circuit_entangling_depth': {'our_method': 103, 'combined_method': 103}, 'test_paulis_file': 'benchmarks/results/test_new_labs_n8_layers3.json'}\n",
      "labs_n9_layers1.json\n",
      "{'num_paulis': 59, 'times': {'our_time': 0.6804454326629639, 'combined_time': 0.7053506374359131}, 'gate_counts': {'our_method': 73, 'combined_method': 73}, 'circuit_entangling_depth': {'our_method': 46, 'combined_method': 46}, 'test_paulis_file': 'benchmarks/results/test_new_labs_n9_layers1.json'}\n",
      "labs_n9_layers3.json\n",
      "{'num_paulis': 177, 'times': {'our_time': 2.0899226665496826, 'combined_time': 2.2328553199768066}, 'gate_counts': {'our_method': 211, 'combined_method': 211}, 'circuit_entangling_depth': {'our_method': 144, 'combined_method': 144}, 'test_paulis_file': 'benchmarks/results/test_new_labs_n9_layers3.json'}\n"
     ]
    }
   ],
   "source": [
    "#Labs\n",
    "\n",
    "run_experiment_folder(folder_path = \"benchmarks/labs_paulis\", save_output = True, threshold= 2)"
   ]
  }
 ],
 "metadata": {
  "kernelspec": {
   "display_name": "Python 3 (ipykernel)",
   "language": "python",
   "name": "python3"
  },
  "language_info": {
   "codemirror_mode": {
    "name": "ipython",
    "version": 3
   },
   "file_extension": ".py",
   "mimetype": "text/x-python",
   "name": "python",
   "nbconvert_exporter": "python",
   "pygments_lexer": "ipython3",
   "version": "3.12.4"
  }
 },
 "nbformat": 4,
 "nbformat_minor": 5
}
