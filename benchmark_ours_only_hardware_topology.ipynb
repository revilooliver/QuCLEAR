{
 "cells": [
  {
   "cell_type": "code",
   "execution_count": 8,
   "id": "9c238604-5e42-4a53-a2bc-3412c403d4b7",
   "metadata": {},
   "outputs": [],
   "source": [
    "import re\n",
    "import qiskit\n",
    "import json\n",
    "import time\n",
    "\n",
    "import numpy as np\n",
    "from typing import List\n",
    "from qiskit import transpile\n",
    "import time\n",
    "\n",
    "from fast_generator import fc_tree_commute_recur_lookahead_fast\n",
    "\n",
    "from benchmarks.UCCSD_entanglers import generate_UCCSD_entanglers\n",
    "from circuit_generator import construct_qcc_circuit\n",
    "\n",
    "import numpy as np\n",
    "from qiskit_ibm_runtime.fake_provider import FakeSherbrooke"
   ]
  },
  {
   "cell_type": "code",
   "execution_count": 9,
   "id": "42e7d866",
   "metadata": {},
   "outputs": [],
   "source": [
    "#Compare json files in a specific folder\n",
    "import os, json\n",
    "def run_experiment_folder(folder_path = None, filename = None, save_output = False, threshold = 1):\n",
    "\n",
    "    if filename == None:\n",
    "        file_list = os.listdir(folder_path)\n",
    "    else:\n",
    "        file_list = [filename]\n",
    "    # Iterate over all files in the folder\n",
    "    for filename in file_list:\n",
    "        # Check if the file is a JSON file\n",
    "        if filename.endswith(\".json\"):\n",
    "            results = []\n",
    "            # Print the filename\n",
    "            print(filename)\n",
    "            with open(folder_path + '/' + filename, \"r\") as file:\n",
    "                paulis = json.load(file)\n",
    "\n",
    "            # Function to check if a string contains only 'I' characters\n",
    "            def is_all_identity(pauli):\n",
    "                return all(char == 'I' for char in pauli)\n",
    "\n",
    "            # Filter the list to remove all identity Paulis\n",
    "            test_paulis = [pauli for pauli in paulis if not is_all_identity(pauli)]\n",
    "            test_params = [0.01 * i for i in range(len(test_paulis))]\n",
    "\n",
    "            # Measure time for our method\n",
    "            start_time = time.time()\n",
    "            opt_qc_f, append_clifford_f, sorted_entanglers_f = fc_tree_commute_recur_lookahead_fast(entanglers=test_paulis, params=test_params, barrier=False, threshold=threshold)\n",
    "            opt_qc_f = transpile(opt_qc_f, optimization_level=0, basis_gates=[\"cx\", \"sx\", \"x\", \"rz\"], coupling_map=FakeSherbrooke().coupling_map)\n",
    "            end_time = time.time()\n",
    "            our_time = end_time - start_time\n",
    "\n",
    "            start_time = time.time()\n",
    "            opt_qc_f2, append_clifford_f2, sorted_entanglers_f2 = fc_tree_commute_recur_lookahead_fast(entanglers=test_paulis, params=test_params, barrier=False, threshold=threshold)\n",
    "            opt_qiskit = transpile(opt_qc_f2, optimization_level=3, basis_gates=[\"cx\", \"sx\", \"x\", \"rz\"], coupling_map=FakeSherbrooke().coupling_map)\n",
    "            end_time = time.time()\n",
    "            combined_time = end_time - start_time\n",
    "        \n",
    "            # Collect results\n",
    "            result = {\n",
    "                \"num_paulis\": len(test_paulis),\n",
    "                \"times\": {\n",
    "                    \"our_time\": our_time,\n",
    "                    \"combined_time\": combined_time\n",
    "                },\n",
    "                \"gate_counts\": {\n",
    "                    \"our_method\": opt_qc_f.count_ops().get('cx', 0),\n",
    "                    \"combined_method\": opt_qiskit.count_ops().get('cx', 0)\n",
    "                },\n",
    "                \"circuit_entangling_depth\": {\n",
    "                    \"our_method\": opt_qc_f.depth(lambda instr: len(instr.qubits) > 1),\n",
    "                    \"combined_method\": opt_qiskit.depth(lambda instr: len(instr.qubits) > 1)\n",
    "                },\n",
    "                \"test_paulis_file\": f'benchmarks/results_hardware_topology/test_new_' + filename\n",
    "            }\n",
    "            print(result)\n",
    "            results.append(result)\n",
    "            if save_output == True:\n",
    "                # Save test_paulis to a separate JSON file\n",
    "                with open(f'benchmarks/results_hardware_topology/test_new_' + filename, 'w') as paulis_file:\n",
    "                    json.dump([test_paulis, results], paulis_file, indent=4)\n",
    "    \n",
    "\n",
    "    "
   ]
  },
  {
   "cell_type": "code",
   "execution_count": 10,
   "id": "63f85128",
   "metadata": {},
   "outputs": [],
   "source": [
    "#Compare a given list of paulis\n",
    "def run_experiment_paulis(test_paulis, test_params = None, save_output = False, threshold = 1, filename = \"Paulis\"):\n",
    "\n",
    "    results = []\n",
    "\n",
    "    def is_all_identity(pauli):\n",
    "        return all(char == 'I' for char in pauli)\n",
    "    paulis = test_paulis\n",
    "    # Filter the list to remove all identity Paulis\n",
    "    test_paulis = [pauli for pauli in paulis if not is_all_identity(pauli)]\n",
    "    if test_params is None:\n",
    "        test_params = [0.01 * i for i in range(len(test_paulis))]\n",
    "\n",
    "    # Measure time for our method\n",
    "    start_time = time.time()\n",
    "    opt_qc_f, append_clifford_f, sorted_entanglers_f = fc_tree_commute_recur_lookahead_fast(entanglers=test_paulis, params=test_params, barrier=False, threshold=threshold)\n",
    "    opt_qc_f = transpile(opt_qc_f, optimization_level=0, basis_gates=[\"cx\", \"sx\", \"x\", \"rz\"], coupling_map=FakeSherbrooke().coupling_map)\n",
    "    end_time = time.time()\n",
    "    our_time = end_time - start_time\n",
    "\n",
    "    start_time = time.time()\n",
    "    opt_qc_f2, append_clifford_f2, sorted_entanglers_f2 = fc_tree_commute_recur_lookahead_fast(entanglers=test_paulis, params=test_params, barrier=False, threshold=threshold)\n",
    "    opt_qiskit = transpile(opt_qc_f2, optimization_level=3, basis_gates=[\"cx\", \"sx\", \"x\", \"rz\"], coupling_map=FakeSherbrooke().coupling_map)\n",
    "    end_time = time.time()\n",
    "    combined_time = end_time - start_time\n",
    "    \n",
    "    # Collect results\n",
    "    result = {\n",
    "        \"num_paulis\": len(test_paulis),\n",
    "        \"times\": {\n",
    "            \"our_time\": our_time,\n",
    "            \"combined_time\": combined_time\n",
    "        },\n",
    "        \"gate_counts\": {\n",
    "            \"our_method\": opt_qc_f.count_ops().get('cx', 0),\n",
    "            \"combined_method\": opt_qiskit.count_ops().get('cx', 0)\n",
    "        },\n",
    "        \"circuit_entangling_depth\": {\n",
    "            \"our_method\": opt_qc_f.depth(lambda instr: len(instr.qubits) > 1),\n",
    "            \"combined_method\": opt_qiskit.depth(lambda instr: len(instr.qubits) > 1)\n",
    "        },\n",
    "        \"test_paulis_file\": f'benchmarks/results_hardware_topology/test_new_' + filename\n",
    "    }\n",
    "    print(result)\n",
    "    results.append(result)\n",
    "    if save_output == True:\n",
    "        # Save test_paulis to a separate JSON file\n",
    "        with open(f'benchmarks/results_hardware_topology/test_new_' + filename, 'w') as paulis_file:\n",
    "            json.dump([test_paulis, results], paulis_file, indent=4)\n",
    "    return sorted_entanglers_f\n",
    "    \n",
    "\n",
    "    "
   ]
  },
  {
   "cell_type": "code",
   "execution_count": 11,
   "id": "3c33dc7b",
   "metadata": {},
   "outputs": [
    {
     "name": "stdout",
     "output_type": "stream",
     "text": [
      "{'num_paulis': 24, 'times': {'our_time': 0.8522214889526367, 'combined_time': 0.5211782455444336}, 'gate_counts': {'our_method': 99, 'combined_method': 28}, 'circuit_entangling_depth': {'our_method': 69, 'combined_method': 22}, 'test_paulis_file': 'benchmarks/results_hardware_topology/test_new_Paulis24.json'}\n",
      "{'num_paulis': 80, 'times': {'our_time': 2.0131237506866455, 'combined_time': 1.3821959495544434}, 'gate_counts': {'our_method': 446, 'combined_method': 191}, 'circuit_entangling_depth': {'our_method': 306, 'combined_method': 164}, 'test_paulis_file': 'benchmarks/results_hardware_topology/test_new_Paulis80.json'}\n",
      "{'num_paulis': 320, 'times': {'our_time': 7.859485626220703, 'combined_time': 5.250932931900024}, 'gate_counts': {'our_method': 1962, 'combined_method': 999}, 'circuit_entangling_depth': {'our_method': 1283, 'combined_method': 770}, 'test_paulis_file': 'benchmarks/results_hardware_topology/test_new_Paulis320.json'}\n",
      "{'num_paulis': 1656, 'times': {'our_time': 50.982120752334595, 'combined_time': 39.070143699645996}, 'gate_counts': {'our_method': 14620, 'combined_method': 6893}, 'circuit_entangling_depth': {'our_method': 8157, 'combined_method': 4456}, 'test_paulis_file': 'benchmarks/results_hardware_topology/test_new_Paulis1656.json'}\n",
      "{'num_paulis': 5376, 'times': {'our_time': 255.90238285064697, 'combined_time': 173.36868524551392}, 'gate_counts': {'our_method': 56470, 'combined_method': 29691}, 'circuit_entangling_depth': {'our_method': 29892, 'combined_method': 17124}, 'test_paulis_file': 'benchmarks/results_hardware_topology/test_new_Paulis5376.json'}\n",
      "{'num_paulis': 13400, 'times': {'our_time': 818.8614382743835, 'combined_time': 615.4494526386261}, 'gate_counts': {'our_method': 154798, 'combined_method': 101193}, 'circuit_entangling_depth': {'our_method': 76463, 'combined_method': 51926}, 'test_paulis_file': 'benchmarks/results_hardware_topology/test_new_Paulis13400.json'}\n"
     ]
    }
   ],
   "source": [
    "#first compare the UCCSD ansatz\n",
    "electrons_list = [2, 2, 4, 6, 8, 10,]# 12]\n",
    "orbitals_list = [4, 6, 8, 12, 16, 20,]# 24]\n",
    "#First evaluate the UCCSD ansatz:\n",
    "for i, (x, y) in enumerate(zip(electrons_list, orbitals_list)):\n",
    "    test_paulis = generate_UCCSD_entanglers(x, y)\n",
    "    entanglers = run_experiment_paulis(test_paulis = test_paulis, save_output = True, threshold = 1, filename=f\"Paulis{len(test_paulis)}.json\")"
   ]
  },
  {
   "cell_type": "code",
   "execution_count": 12,
   "id": "5bac21d1",
   "metadata": {},
   "outputs": [
    {
     "name": "stdout",
     "output_type": "stream",
     "text": [
      "benzene.json\n",
      "{'num_paulis': 1254, 'times': {'our_time': 55.87291216850281, 'combined_time': 52.09362244606018}, 'gate_counts': {'our_method': 17569, 'combined_method': 10090}, 'circuit_entangling_depth': {'our_method': 8842, 'combined_method': 6279}, 'test_paulis_file': 'benchmarks/results_hardware_topology/test_new_benzene.json'}\n",
      "H2O.json\n",
      "{'num_paulis': 184, 'times': {'our_time': 7.591831207275391, 'combined_time': 5.271944284439087}, 'gate_counts': {'our_method': 1453, 'combined_method': 789}, 'circuit_entangling_depth': {'our_method': 884, 'combined_method': 630}, 'test_paulis_file': 'benchmarks/results_hardware_topology/test_new_H2O.json'}\n",
      "LiH.json\n",
      "{'num_paulis': 61, 'times': {'our_time': 2.392238140106201, 'combined_time': 1.0513362884521484}, 'gate_counts': {'our_method': 244, 'combined_method': 158}, 'circuit_entangling_depth': {'our_method': 188, 'combined_method': 147}, 'test_paulis_file': 'benchmarks/results_hardware_topology/test_new_LiH.json'}\n"
     ]
    }
   ],
   "source": [
    "#Then compare the Hamiltonian simulation paulis in HS_paulis folder\n",
    "run_experiment_folder(folder_path = \"benchmarks/HS_paulis\", save_output = True, threshold = 1)"
   ]
  },
  {
   "cell_type": "code",
   "execution_count": 13,
   "id": "f36637cf",
   "metadata": {},
   "outputs": [
    {
     "name": "stdout",
     "output_type": "stream",
     "text": [
      "max_cut_benchmark_n10_e45_l20.json\n",
      "{'num_paulis': 1100, 'times': {'our_time': 48.069353342056274, 'combined_time': 44.474578619003296}, 'gate_counts': {'our_method': 6497, 'combined_method': 3828}, 'circuit_entangling_depth': {'our_method': 3132, 'combined_method': 2606}, 'test_paulis_file': 'benchmarks/results_hardware_topology/test_new_max_cut_benchmark_n10_e45_l20.json'}\n",
      "max_cut_benchmark_n14_e60_l5.json\n",
      "{'num_paulis': 370, 'times': {'our_time': 22.271981477737427, 'combined_time': 21.241143941879272}, 'gate_counts': {'our_method': 3886, 'combined_method': 1627}, 'circuit_entangling_depth': {'our_method': 1651, 'combined_method': 926}, 'test_paulis_file': 'benchmarks/results_hardware_topology/test_new_max_cut_benchmark_n14_e60_l5.json'}\n"
     ]
    }
   ],
   "source": [
    "#Then compare the MAXCUT paulis in max_cut_paulis folder\n",
    "\n",
    "run_experiment_folder(folder_path = \"benchmarks/max_cut_paulis\", save_output = True, threshold = 1)"
   ]
  },
  {
   "cell_type": "code",
   "execution_count": 14,
   "id": "d82da7da",
   "metadata": {},
   "outputs": [
    {
     "name": "stdout",
     "output_type": "stream",
     "text": [
      "max_cut_benchmark_n10_e45_l20.json\n",
      "{'num_paulis': 1100, 'times': {'our_time': 22.32520842552185, 'combined_time': 19.845942735671997}, 'gate_counts': {'our_method': 5085, 'combined_method': 3406}, 'circuit_entangling_depth': {'our_method': 2406, 'combined_method': 2359}, 'test_paulis_file': 'benchmarks/results_hardware_topology/test_new_max_cut_benchmark_n10_e45_l20.json'}\n",
      "max_cut_benchmark_n14_e60_l5.json\n",
      "{'num_paulis': 370, 'times': {'our_time': 15.574185371398926, 'combined_time': 16.234165906906128}, 'gate_counts': {'our_method': 3914, 'combined_method': 1618}, 'circuit_entangling_depth': {'our_method': 1615, 'combined_method': 926}, 'test_paulis_file': 'benchmarks/results_hardware_topology/test_new_max_cut_benchmark_n14_e60_l5.json'}\n"
     ]
    }
   ],
   "source": [
    "#since in the maxcut problems there are many commuting terms and it's slow to search through all of them,\n",
    "#we can set the threshold to 2 to early stop the search once found a simplified pauli of weight 2\n",
    "#you can see the run time difference, for the second benchmark runtime reduces from 30second to 7 seconds.\n",
    "\n",
    "run_experiment_folder(folder_path = \"benchmarks/max_cut_paulis\", save_output = True, threshold = 2)"
   ]
  },
  {
   "cell_type": "code",
   "execution_count": 15,
   "id": "77c0d26d",
   "metadata": {},
   "outputs": [
    {
     "name": "stdout",
     "output_type": "stream",
     "text": [
      "labs_n10_layers1.json\n",
      "{'num_paulis': 80, 'times': {'our_time': 3.417402505874634, 'combined_time': 3.739920139312744}, 'gate_counts': {'our_method': 802, 'combined_method': 389}, 'circuit_entangling_depth': {'our_method': 439, 'combined_method': 268}, 'test_paulis_file': 'benchmarks/results_hardware_topology/test_new_labs_n10_layers1.json'}\n",
      "labs_n10_layers3.json\n",
      "{'num_paulis': 240, 'times': {'our_time': 11.759809970855713, 'combined_time': 7.47677206993103}, 'gate_counts': {'our_method': 2216, 'combined_method': 1128}, 'circuit_entangling_depth': {'our_method': 1149, 'combined_method': 788}, 'test_paulis_file': 'benchmarks/results_hardware_topology/test_new_labs_n10_layers3.json'}\n",
      "labs_n11_layers1.json\n",
      "{'num_paulis': 106, 'times': {'our_time': 13.81656527519226, 'combined_time': 5.882989406585693}, 'gate_counts': {'our_method': 1226, 'combined_method': 534}, 'circuit_entangling_depth': {'our_method': 573, 'combined_method': 373}, 'test_paulis_file': 'benchmarks/results_hardware_topology/test_new_labs_n11_layers1.json'}\n",
      "labs_n11_layers3.json\n",
      "{'num_paulis': 318, 'times': {'our_time': 17.590307235717773, 'combined_time': 14.553801774978638}, 'gate_counts': {'our_method': 3110, 'combined_method': 1539}, 'circuit_entangling_depth': {'our_method': 1555, 'combined_method': 1069}, 'test_paulis_file': 'benchmarks/results_hardware_topology/test_new_labs_n11_layers3.json'}\n",
      "labs_n12_layers1.json\n",
      "{'num_paulis': 137, 'times': {'our_time': 10.147777557373047, 'combined_time': 9.396917819976807}, 'gate_counts': {'our_method': 1689, 'combined_method': 799}, 'circuit_entangling_depth': {'our_method': 807, 'combined_method': 497}, 'test_paulis_file': 'benchmarks/results_hardware_topology/test_new_labs_n12_layers1.json'}\n",
      "labs_n12_layers3.json\n",
      "{'num_paulis': 411, 'times': {'our_time': 30.185648202896118, 'combined_time': 25.702276706695557}, 'gate_counts': {'our_method': 4701, 'combined_method': 2399}, 'circuit_entangling_depth': {'our_method': 2250, 'combined_method': 1541}, 'test_paulis_file': 'benchmarks/results_hardware_topology/test_new_labs_n12_layers3.json'}\n",
      "labs_n13_layers1.json\n",
      "{'num_paulis': 174, 'times': {'our_time': 15.142823934555054, 'combined_time': 14.156555652618408}, 'gate_counts': {'our_method': 2202, 'combined_method': 1104}, 'circuit_entangling_depth': {'our_method': 1008, 'combined_method': 645}, 'test_paulis_file': 'benchmarks/results_hardware_topology/test_new_labs_n13_layers1.json'}\n",
      "labs_n13_layers3.json\n",
      "{'num_paulis': 522, 'times': {'our_time': 60.408636808395386, 'combined_time': 52.123116970062256}, 'gate_counts': {'our_method': 7028, 'combined_method': 3552}, 'circuit_entangling_depth': {'our_method': 3298, 'combined_method': 2194}, 'test_paulis_file': 'benchmarks/results_hardware_topology/test_new_labs_n13_layers3.json'}\n",
      "labs_n14_layers1.json\n",
      "{'num_paulis': 217, 'times': {'our_time': 24.08579730987549, 'combined_time': 24.21795654296875}, 'gate_counts': {'our_method': 3053, 'combined_method': 1507}, 'circuit_entangling_depth': {'our_method': 1349, 'combined_method': 851}, 'test_paulis_file': 'benchmarks/results_hardware_topology/test_new_labs_n14_layers1.json'}\n",
      "labs_n14_layers3.json\n",
      "{'num_paulis': 651, 'times': {'our_time': 88.68987774848938, 'combined_time': 88.15621852874756}, 'gate_counts': {'our_method': 9432, 'combined_method': 4902}, 'circuit_entangling_depth': {'our_method': 4343, 'combined_method': 2837}, 'test_paulis_file': 'benchmarks/results_hardware_topology/test_new_labs_n14_layers3.json'}\n",
      "labs_n15_layers1.json\n",
      "{'num_paulis': 267, 'times': {'our_time': 40.01972818374634, 'combined_time': 40.69427847862244}, 'gate_counts': {'our_method': 4207, 'combined_method': 1946}, 'circuit_entangling_depth': {'our_method': 1894, 'combined_method': 1104}, 'test_paulis_file': 'benchmarks/results_hardware_topology/test_new_labs_n15_layers1.json'}\n",
      "labs_n15_layers3.json\n",
      "{'num_paulis': 801, 'times': {'our_time': 132.96661233901978, 'combined_time': 125.14211010932922}, 'gate_counts': {'our_method': 12674, 'combined_method': 6450}, 'circuit_entangling_depth': {'our_method': 5660, 'combined_method': 3516}, 'test_paulis_file': 'benchmarks/results_hardware_topology/test_new_labs_n15_layers3.json'}\n",
      "labs_n16_layers1.json\n",
      "{'num_paulis': 324, 'times': {'our_time': 66.62742829322815, 'combined_time': 63.26884579658508}, 'gate_counts': {'our_method': 5463, 'combined_method': 2649}, 'circuit_entangling_depth': {'our_method': 2427, 'combined_method': 1416}, 'test_paulis_file': 'benchmarks/results_hardware_topology/test_new_labs_n16_layers1.json'}\n",
      "labs_n16_layers3.json\n",
      "{'num_paulis': 972, 'times': {'our_time': 205.79588174819946, 'combined_time': 211.31412410736084}, 'gate_counts': {'our_method': 15707, 'combined_method': 8537}, 'circuit_entangling_depth': {'our_method': 7158, 'combined_method': 4617}, 'test_paulis_file': 'benchmarks/results_hardware_topology/test_new_labs_n16_layers3.json'}\n",
      "labs_n17_layers1.json\n",
      "{'num_paulis': 389, 'times': {'our_time': 85.22036170959473, 'combined_time': 66.51209545135498}, 'gate_counts': {'our_method': 6031, 'combined_method': 3324}, 'circuit_entangling_depth': {'our_method': 2698, 'combined_method': 1893}, 'test_paulis_file': 'benchmarks/results_hardware_topology/test_new_labs_n17_layers1.json'}\n",
      "labs_n17_layers3.json\n",
      "{'num_paulis': 1167, 'times': {'our_time': 223.93612122535706, 'combined_time': 218.29867792129517}, 'gate_counts': {'our_method': 16395, 'combined_method': 10582}, 'circuit_entangling_depth': {'our_method': 7411, 'combined_method': 5631}, 'test_paulis_file': 'benchmarks/results_hardware_topology/test_new_labs_n17_layers3.json'}\n",
      "labs_n18_layers1.json\n",
      "{'num_paulis': 462, 'times': {'our_time': 98.7710325717926, 'combined_time': 100.66803026199341}, 'gate_counts': {'our_method': 6768, 'combined_method': 4237}, 'circuit_entangling_depth': {'our_method': 2907, 'combined_method': 2246}, 'test_paulis_file': 'benchmarks/results_hardware_topology/test_new_labs_n18_layers1.json'}\n",
      "labs_n18_layers3.json\n",
      "{'num_paulis': 1386, 'times': {'our_time': 361.34573459625244, 'combined_time': 387.36365365982056}, 'gate_counts': {'our_method': 19749, 'combined_method': 13245}, 'circuit_entangling_depth': {'our_method': 8690, 'combined_method': 6521}, 'test_paulis_file': 'benchmarks/results_hardware_topology/test_new_labs_n18_layers3.json'}\n",
      "labs_n19_layers1.json\n",
      "{'num_paulis': 544, 'times': {'our_time': 169.00787162780762, 'combined_time': 167.40480780601501}, 'gate_counts': {'our_method': 8519, 'combined_method': 5322}, 'circuit_entangling_depth': {'our_method': 3660, 'combined_method': 2687}, 'test_paulis_file': 'benchmarks/results_hardware_topology/test_new_labs_n19_layers1.json'}\n",
      "labs_n19_layers3.json\n",
      "{'num_paulis': 1632, 'times': {'our_time': 518.0615077018738, 'combined_time': 505.1300117969513}, 'gate_counts': {'our_method': 24352, 'combined_method': 16149}, 'circuit_entangling_depth': {'our_method': 10675, 'combined_method': 8125}, 'test_paulis_file': 'benchmarks/results_hardware_topology/test_new_labs_n19_layers3.json'}\n",
      "labs_n20_layers1.json\n",
      "{'num_paulis': 635, 'times': {'our_time': 245.11559057235718, 'combined_time': 239.81048560142517}, 'gate_counts': {'our_method': 9752, 'combined_method': 6628}, 'circuit_entangling_depth': {'our_method': 4229, 'combined_method': 3302}, 'test_paulis_file': 'benchmarks/results_hardware_topology/test_new_labs_n20_layers1.json'}\n",
      "labs_n20_layers3.json\n"
     ]
    }
   ],
   "source": [
    "#Labs\n",
    "\n",
    "run_experiment_folder(folder_path = \"benchmarks/labs_paulis\", save_output = True, threshold= 2)"
   ]
  }
 ],
 "metadata": {
  "kernelspec": {
   "display_name": "Python 3 (ipykernel)",
   "language": "python",
   "name": "python3"
  },
  "language_info": {
   "codemirror_mode": {
    "name": "ipython",
    "version": 3
   },
   "file_extension": ".py",
   "mimetype": "text/x-python",
   "name": "python",
   "nbconvert_exporter": "python",
   "pygments_lexer": "ipython3",
   "version": "3.12.4"
  }
 },
 "nbformat": 4,
 "nbformat_minor": 5
}
