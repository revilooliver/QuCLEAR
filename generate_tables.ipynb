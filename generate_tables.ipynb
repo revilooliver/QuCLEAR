{
 "cells": [
  {
   "cell_type": "code",
   "execution_count": 318,
   "metadata": {},
   "outputs": [],
   "source": [
    "import json\n",
    "import os"
   ]
  },
  {
   "cell_type": "code",
   "execution_count": 319,
   "metadata": {},
   "outputs": [],
   "source": [
    "import tables_utilities as tables_utl\n",
    "import importlib\n",
    "importlib.reload(tables_utl)\n",
    "file_dir=\"benchmarks/results/\""
   ]
  },
  {
   "cell_type": "code",
   "execution_count": 320,
   "metadata": {},
   "outputs": [
    {
     "name": "stdout",
     "output_type": "stream",
     "text": [
      "[[{'test_pytket_Paulis13400.json': {'num_paulis': 13400, 'times': {'pytket_time': 14278.826755285263}, 'gate_counts': {'pytket_method': 109130}, 'circuit_entangling_depth': {'pytket_method': 100585}, 'test_paulis_file': 'benchmarks/results/test_pytket_Paulis13400.json', 'num_qubits': 20}, 'test_pytket_Paulis1656.json': {'num_paulis': 1656, 'times': {'pytket_time': 365.96857595443726}, 'gate_counts': {'pytket_method': 8853}, 'circuit_entangling_depth': {'pytket_method': 7924}, 'test_paulis_file': 'benchmarks/results/test_pytket_Paulis1656.json', 'num_qubits': 12}, 'test_pytket_Paulis24.json': {'num_paulis': 24, 'times': {'pytket_time': 2.219089984893799}, 'gate_counts': {'pytket_method': 53}, 'circuit_entangling_depth': {'pytket_method': 50}, 'test_paulis_file': 'benchmarks/results/test_pytket_Paulis24.json', 'num_qubits': 4}, 'test_pytket_Paulis320.json': {'num_paulis': 320, 'times': {'pytket_time': 49.13372230529785}, 'gate_counts': {'pytket_method': 1257}, 'circuit_entangling_depth': {'pytket_method': 1112}, 'test_paulis_file': 'benchmarks/results/test_pytket_Paulis320.json', 'num_qubits': 8}, 'test_pytket_Paulis5376.json': {'num_paulis': 5376, 'times': {'pytket_time': 2224.6543033123016}, 'gate_counts': {'pytket_method': 36369}, 'circuit_entangling_depth': {'pytket_method': 33074}, 'test_paulis_file': 'benchmarks/results/test_pytket_Paulis5376.json', 'num_qubits': 16}, 'test_pytket_Paulis80.json': {'num_paulis': 80, 'times': {'pytket_time': 9.243333339691162}, 'gate_counts': {'pytket_method': 236}, 'circuit_entangling_depth': {'pytket_method': 211}, 'test_paulis_file': 'benchmarks/results/test_pytket_Paulis80.json', 'num_qubits': 6}}], [{'test_pytket_H2O.json': {'num_paulis': 184, 'times': {'pytket_time': 18.544445753097534}, 'gate_counts': {'pytket_method': 505}, 'circuit_entangling_depth': {'pytket_method': 442}, 'test_paulis_file': 'benchmarks/results/test_pytket_H2O.json', 'num_qubits': 8}}, {'test_pytket_LiH.json': {'num_paulis': 61, 'times': {'pytket_time': 5.009613752365112}, 'gate_counts': {'pytket_method': 132}, 'circuit_entangling_depth': {'pytket_method': 112}, 'test_paulis_file': 'benchmarks/results/test_pytket_LiH.json', 'num_qubits': 6}}, {'test_pytket_benzene.json': {'num_paulis': 1254, 'times': {'pytket_time': 210.8994414806366}, 'gate_counts': {'pytket_method': 4738}, 'circuit_entangling_depth': {'pytket_method': 4092}, 'test_paulis_file': 'benchmarks/results/test_pytket_benzene.json', 'num_qubits': 12}}], [{'test_pytket_max_cut_benchmark_connected_n10_e12_l1.json': {'num_paulis': 22, 'times': {'pytket_time': 0.8429925441741943}, 'gate_counts': {'pytket_method': 24}, 'circuit_entangling_depth': {'pytket_method': 12}, 'test_paulis_file': 'benchmarks/results/test_pytket_max_cut_benchmark_connected_n10_e12_l1.json', 'num_qubits': 10}, 'test_pytket_max_cut_benchmark_connected_n10_e12_l3.json': {'num_paulis': 66, 'times': {'pytket_time': 2.4773786067962646}, 'gate_counts': {'pytket_method': 74}, 'circuit_entangling_depth': {'pytket_method': 35}, 'test_paulis_file': 'benchmarks/results/test_pytket_max_cut_benchmark_connected_n10_e12_l3.json', 'num_qubits': 10}, 'test_pytket_max_cut_benchmark_connected_n15_e63_l1.json': {'num_paulis': 78, 'times': {'pytket_time': 4.440573215484619}, 'gate_counts': {'pytket_method': 137}, 'circuit_entangling_depth': {'pytket_method': 69}, 'test_paulis_file': 'benchmarks/results/test_pytket_max_cut_benchmark_connected_n15_e63_l1.json', 'num_qubits': 15}, 'test_pytket_max_cut_benchmark_connected_n15_e63_l3.json': {'num_paulis': 234, 'times': {'pytket_time': 12.164839029312134}, 'gate_counts': {'pytket_method': 359}, 'circuit_entangling_depth': {'pytket_method': 199}, 'test_paulis_file': 'benchmarks/results/test_pytket_max_cut_benchmark_connected_n15_e63_l3.json', 'num_qubits': 15}, 'test_pytket_max_cut_benchmark_connected_n20_e117_l1.json': {'num_paulis': 137, 'times': {'pytket_time': 10.178383588790894}, 'gate_counts': {'pytket_method': 298}, 'circuit_entangling_depth': {'pytket_method': 121}, 'test_paulis_file': 'benchmarks/results/test_pytket_max_cut_benchmark_connected_n20_e117_l1.json', 'num_qubits': 20}, 'test_pytket_max_cut_benchmark_connected_n20_e117_l3.json': {'num_paulis': 411, 'times': {'pytket_time': 25.03491711616516}, 'gate_counts': {'pytket_method': 733}, 'circuit_entangling_depth': {'pytket_method': 370}, 'test_paulis_file': 'benchmarks/results/test_pytket_max_cut_benchmark_connected_n20_e117_l3.json', 'num_qubits': 20}, 'test_pytket_max_cut_benchmark_regular_n10_e3_l1.json': {'num_paulis': 25, 'times': {'pytket_time': 1.184394359588623}, 'gate_counts': {'pytket_method': 34}, 'circuit_entangling_depth': {'pytket_method': 22}, 'test_paulis_file': 'benchmarks/results/test_pytket_max_cut_benchmark_regular_n10_e3_l1.json', 'num_qubits': 10}, 'test_pytket_max_cut_benchmark_regular_n10_e3_l3.json': {'num_paulis': 75, 'times': {'pytket_time': 3.543001890182495}, 'gate_counts': {'pytket_method': 94}, 'circuit_entangling_depth': {'pytket_method': 48}, 'test_paulis_file': 'benchmarks/results/test_pytket_max_cut_benchmark_regular_n10_e3_l3.json', 'num_qubits': 10}, 'test_pytket_max_cut_benchmark_regular_n15_e4_l1.json': {'num_paulis': 45, 'times': {'pytket_time': 2.0920305252075195}, 'gate_counts': {'pytket_method': 62}, 'circuit_entangling_depth': {'pytket_method': 36}, 'test_paulis_file': 'benchmarks/results/test_pytket_max_cut_benchmark_regular_n15_e4_l1.json', 'num_qubits': 15}, 'test_pytket_max_cut_benchmark_regular_n15_e4_l3.json': {'num_paulis': 135, 'times': {'pytket_time': 6.407801389694214}, 'gate_counts': {'pytket_method': 191}, 'circuit_entangling_depth': {'pytket_method': 82}, 'test_paulis_file': 'benchmarks/results/test_pytket_max_cut_benchmark_regular_n15_e4_l3.json', 'num_qubits': 15}, 'test_pytket_max_cut_benchmark_regular_n20_e3_l1.json': {'num_paulis': 50, 'times': {'pytket_time': 2.085986852645874}, 'gate_counts': {'pytket_method': 64}, 'circuit_entangling_depth': {'pytket_method': 29}, 'test_paulis_file': 'benchmarks/results/test_pytket_max_cut_benchmark_regular_n20_e3_l1.json', 'num_qubits': 20}, 'test_pytket_max_cut_benchmark_regular_n20_e3_l3.json': {'num_paulis': 150, 'times': {'pytket_time': 5.610608816146851}, 'gate_counts': {'pytket_method': 186}, 'circuit_entangling_depth': {'pytket_method': 68}, 'test_paulis_file': 'benchmarks/results/test_pytket_max_cut_benchmark_regular_n20_e3_l3.json', 'num_qubits': 20}}], [{'test_pytket_labs_n10_layers1.json': {'num_paulis': 80, 'times': {'pytket_time': 4.211660385131836}, 'gate_counts': {'pytket_method': 145}, 'circuit_entangling_depth': {'pytket_method': 127}, 'test_paulis_file': 'benchmarks/results/test_pytket_labs_n10_layers1.json', 'num_qubits': 10}, 'test_pytket_labs_n10_layers3.json': {'num_paulis': 240, 'times': {'pytket_time': 19.750001907348633}, 'gate_counts': {'pytket_method': 521}, 'circuit_entangling_depth': {'pytket_method': 466}, 'test_paulis_file': 'benchmarks/results/test_pytket_labs_n10_layers3.json', 'num_qubits': 10}, 'test_pytket_labs_n11_layers1.json': {'num_paulis': 106, 'times': {'pytket_time': 6.425624847412109}, 'gate_counts': {'pytket_method': 218}, 'circuit_entangling_depth': {'pytket_method': 182}, 'test_paulis_file': 'benchmarks/results/test_pytket_labs_n11_layers1.json', 'num_qubits': 11}, 'test_pytket_labs_n11_layers3.json': {'num_paulis': 318, 'times': {'pytket_time': 27.305473566055298}, 'gate_counts': {'pytket_method': 743}, 'circuit_entangling_depth': {'pytket_method': 648}, 'test_paulis_file': 'benchmarks/results/test_pytket_labs_n11_layers3.json', 'num_qubits': 11}, 'test_pytket_labs_n12_layers1.json': {'num_paulis': 137, 'times': {'pytket_time': 7.6034722328186035}, 'gate_counts': {'pytket_method': 256}, 'circuit_entangling_depth': {'pytket_method': 228}, 'test_paulis_file': 'benchmarks/results/test_pytket_labs_n12_layers1.json', 'num_qubits': 12}, 'test_pytket_labs_n12_layers3.json': {'num_paulis': 411, 'times': {'pytket_time': 36.43451476097107}, 'gate_counts': {'pytket_method': 963}, 'circuit_entangling_depth': {'pytket_method': 878}, 'test_paulis_file': 'benchmarks/results/test_pytket_labs_n12_layers3.json', 'num_qubits': 12}, 'test_pytket_labs_n13_layers1.json': {'num_paulis': 174, 'times': {'pytket_time': 12.835012435913086}, 'gate_counts': {'pytket_method': 398}, 'circuit_entangling_depth': {'pytket_method': 342}, 'test_paulis_file': 'benchmarks/results/test_pytket_labs_n13_layers1.json', 'num_qubits': 13}, 'test_pytket_labs_n13_layers3.json': {'num_paulis': 522, 'times': {'pytket_time': 52.728527545928955}, 'gate_counts': {'pytket_method': 1342}, 'circuit_entangling_depth': {'pytket_method': 1219}, 'test_paulis_file': 'benchmarks/results/test_pytket_labs_n13_layers3.json', 'num_qubits': 13}, 'test_pytket_labs_n14_layers1.json': {'num_paulis': 217, 'times': {'pytket_time': 16.04163384437561}, 'gate_counts': {'pytket_method': 489}, 'circuit_entangling_depth': {'pytket_method': 448}, 'test_paulis_file': 'benchmarks/results/test_pytket_labs_n14_layers1.json', 'num_qubits': 14}, 'test_pytket_labs_n14_layers3.json': {'num_paulis': 651, 'times': {'pytket_time': 67.04849553108215}, 'gate_counts': {'pytket_method': 1688}, 'circuit_entangling_depth': {'pytket_method': 1527}, 'test_paulis_file': 'benchmarks/results/test_pytket_labs_n14_layers3.json', 'num_qubits': 14}, 'test_pytket_labs_n15_layers1.json': {'num_paulis': 267, 'times': {'pytket_time': 21.348177433013916}, 'gate_counts': {'pytket_method': 641}, 'circuit_entangling_depth': {'pytket_method': 568}, 'test_paulis_file': 'benchmarks/results/test_pytket_labs_n15_layers1.json', 'num_qubits': 15}, 'test_pytket_labs_n15_layers3.json': {'num_paulis': 801, 'times': {'pytket_time': 84.51151752471924}, 'gate_counts': {'pytket_method': 2131}, 'circuit_entangling_depth': {'pytket_method': 1955}, 'test_paulis_file': 'benchmarks/results/test_pytket_labs_n15_layers3.json', 'num_qubits': 15}, 'test_pytket_labs_n16_layers1.json': {'num_paulis': 324, 'times': {'pytket_time': 27.25232696533203}, 'gate_counts': {'pytket_method': 813}, 'circuit_entangling_depth': {'pytket_method': 746}, 'test_paulis_file': 'benchmarks/results/test_pytket_labs_n16_layers1.json', 'num_qubits': 16}, 'test_pytket_labs_n16_layers3.json': {'num_paulis': 972, 'times': {'pytket_time': 106.96492767333984}, 'gate_counts': {'pytket_method': 2663}, 'circuit_entangling_depth': {'pytket_method': 2481}, 'test_paulis_file': 'benchmarks/results/test_pytket_labs_n16_layers3.json', 'num_qubits': 16}, 'test_pytket_labs_n17_layers1.json': {'num_paulis': 389, 'times': {'pytket_time': 34.0848548412323}, 'gate_counts': {'pytket_method': 1007}, 'circuit_entangling_depth': {'pytket_method': 941}, 'test_paulis_file': 'benchmarks/results/test_pytket_labs_n17_layers1.json', 'num_qubits': 17}, 'test_pytket_labs_n17_layers3.json': {'num_paulis': 1167, 'times': {'pytket_time': 137.83801198005676}, 'gate_counts': {'pytket_method': 3279}, 'circuit_entangling_depth': {'pytket_method': 3045}, 'test_paulis_file': 'benchmarks/results/test_pytket_labs_n17_layers3.json', 'num_qubits': 17}, 'test_pytket_labs_n18_layers1.json': {'num_paulis': 462, 'times': {'pytket_time': 40.78932499885559}, 'gate_counts': {'pytket_method': 1195}, 'circuit_entangling_depth': {'pytket_method': 1130}, 'test_paulis_file': 'benchmarks/results/test_pytket_labs_n18_layers1.json', 'num_qubits': 18}, 'test_pytket_labs_n18_layers3.json': {'num_paulis': 1386, 'times': {'pytket_time': 164.0201027393341}, 'gate_counts': {'pytket_method': 3889}, 'circuit_entangling_depth': {'pytket_method': 3667}, 'test_paulis_file': 'benchmarks/results/test_pytket_labs_n18_layers3.json', 'num_qubits': 18}, 'test_pytket_labs_n19_layers1.json': {'num_paulis': 544, 'times': {'pytket_time': 55.85687875747681}, 'gate_counts': {'pytket_method': 1509}, 'circuit_entangling_depth': {'pytket_method': 1412}, 'test_paulis_file': 'benchmarks/results/test_pytket_labs_n19_layers1.json', 'num_qubits': 19}, 'test_pytket_labs_n19_layers3.json': {'num_paulis': 1632, 'times': {'pytket_time': 205.28946542739868}, 'gate_counts': {'pytket_method': 4675}, 'circuit_entangling_depth': {'pytket_method': 4409}, 'test_paulis_file': 'benchmarks/results/test_pytket_labs_n19_layers3.json', 'num_qubits': 19}, 'test_pytket_labs_n20_layers1.json': {'num_paulis': 635, 'times': {'pytket_time': 64.22463750839233}, 'gate_counts': {'pytket_method': 1762}, 'circuit_entangling_depth': {'pytket_method': 1673}, 'test_paulis_file': 'benchmarks/results/test_pytket_labs_n20_layers1.json', 'num_qubits': 20}, 'test_pytket_labs_n20_layers3.json': {'num_paulis': 1905, 'times': {'pytket_time': 254.26628017425537}, 'gate_counts': {'pytket_method': 5594}, 'circuit_entangling_depth': {'pytket_method': 5297}, 'test_paulis_file': 'benchmarks/results/test_pytket_labs_n20_layers3.json', 'num_qubits': 20}, 'test_pytket_labs_n5_layers1.json': {'num_paulis': 12, 'times': {'pytket_time': 0.2982034683227539}, 'gate_counts': {'pytket_method': 15}, 'circuit_entangling_depth': {'pytket_method': 12}, 'test_paulis_file': 'benchmarks/results/test_pytket_labs_n5_layers1.json', 'num_qubits': 5}, 'test_pytket_labs_n5_layers3.json': {'num_paulis': 36, 'times': {'pytket_time': 1.5927445888519287}, 'gate_counts': {'pytket_method': 59}, 'circuit_entangling_depth': {'pytket_method': 54}, 'test_paulis_file': 'benchmarks/results/test_pytket_labs_n5_layers3.json', 'num_qubits': 5}, 'test_pytket_labs_n6_layers1.json': {'num_paulis': 19, 'times': {'pytket_time': 0.5505306720733643}, 'gate_counts': {'pytket_method': 24}, 'circuit_entangling_depth': {'pytket_method': 19}, 'test_paulis_file': 'benchmarks/results/test_pytket_labs_n6_layers1.json', 'num_qubits': 6}, 'test_pytket_labs_n6_layers3.json': {'num_paulis': 57, 'times': {'pytket_time': 3.0697972774505615}, 'gate_counts': {'pytket_method': 96}, 'circuit_entangling_depth': {'pytket_method': 87}, 'test_paulis_file': 'benchmarks/results/test_pytket_labs_n6_layers3.json', 'num_qubits': 6}, 'test_pytket_labs_n7_layers1.json': {'num_paulis': 29, 'times': {'pytket_time': 0.9255259037017822}, 'gate_counts': {'pytket_method': 40}, 'circuit_entangling_depth': {'pytket_method': 33}, 'test_paulis_file': 'benchmarks/results/test_pytket_labs_n7_layers1.json', 'num_qubits': 7}, 'test_pytket_labs_n7_layers3.json': {'num_paulis': 87, 'times': {'pytket_time': 5.200103759765625}, 'gate_counts': {'pytket_method': 168}, 'circuit_entangling_depth': {'pytket_method': 144}, 'test_paulis_file': 'benchmarks/results/test_pytket_labs_n7_layers3.json', 'num_qubits': 7}, 'test_pytket_labs_n8_layers1.json': {'num_paulis': 42, 'times': {'pytket_time': 1.3813083171844482}, 'gate_counts': {'pytket_method': 58}, 'circuit_entangling_depth': {'pytket_method': 48}, 'test_paulis_file': 'benchmarks/results/test_pytket_labs_n8_layers1.json', 'num_qubits': 8}, 'test_pytket_labs_n8_layers3.json': {'num_paulis': 126, 'times': {'pytket_time': 8.297826528549194}, 'gate_counts': {'pytket_method': 254}, 'circuit_entangling_depth': {'pytket_method': 219}, 'test_paulis_file': 'benchmarks/results/test_pytket_labs_n8_layers3.json', 'num_qubits': 8}, 'test_pytket_labs_n9_layers1.json': {'num_paulis': 59, 'times': {'pytket_time': 2.453476667404175}, 'gate_counts': {'pytket_method': 86}, 'circuit_entangling_depth': {'pytket_method': 69}, 'test_paulis_file': 'benchmarks/results/test_pytket_labs_n9_layers1.json', 'num_qubits': 9}, 'test_pytket_labs_n9_layers3.json': {'num_paulis': 177, 'times': {'pytket_time': 12.799797773361206}, 'gate_counts': {'pytket_method': 371}, 'circuit_entangling_depth': {'pytket_method': 325}, 'test_paulis_file': 'benchmarks/results/test_pytket_labs_n9_layers3.json', 'num_qubits': 9}}]]\n"
     ]
    }
   ],
   "source": [
    "experiments=[[\"Paulis\"], [\"H2O\", \"LiH\", \"benzene\"], [\"max_cut\"], [\"labs\"]]\n",
    "# all_tags=[\"new\", \"qiskit\", \"rustiq\", \"paulihedral\", \"pytket\"] #new==quclear\n",
    "quclear_tag=\"new\"\n",
    "quclear_tag2=\"our\"\n",
    "quclear_tag3=\"combined\"\n",
    "qiskit_tag=\"qiskit\"\n",
    "rustiq_tag=\"rustiq\"\n",
    "paulihedral_tag=\"paulihedral\"\n",
    "pytket_tag=\"pytket\"\n",
    "quclear_res=[[tables_utl.get_results(file_dir, quclear_tag, exper) for exper in block] for block in experiments]\n",
    "qiskit_res=[[tables_utl.get_results(file_dir, qiskit_tag, exper) for exper in block] for block in experiments]\n",
    "rustiq_res=[[tables_utl.get_results(file_dir, rustiq_tag, exper) for exper in block] for block in experiments]\n",
    "paulih_res=[[tables_utl.get_results(file_dir, paulihedral_tag, exper) for exper in block] for block in experiments]\n",
    "pytket_res=[[tables_utl.get_results(file_dir, pytket_tag, exper) for exper in block] for block in experiments]\n",
    "print(pytket_res)"
   ]
  },
  {
   "cell_type": "code",
   "execution_count": 321,
   "metadata": {},
   "outputs": [
    {
     "name": "stdout",
     "output_type": "stream",
     "text": [
      "True\n",
      "True\n",
      "True\n",
      "True\n",
      "True\n",
      "dict_keys(['test_new_Paulis13400.json', 'test_new_Paulis1656.json', 'test_new_Paulis24.json', 'test_new_Paulis320.json', 'test_new_Paulis5376.json', 'test_new_Paulis80.json'])\n"
     ]
    }
   ],
   "source": [
    "quclear_uccsd=tables_utl.get_metrics(quclear_res[0][0], quclear_tag3)\n",
    "quclear_hs=[tables_utl.get_metrics(exper, quclear_tag3) for exper in quclear_res[1]]\n",
    "quclear_max_cut=tables_utl.get_metrics(quclear_res[2][0], quclear_tag3)\n",
    "quclear_labs=tables_utl.get_metrics(quclear_res[3][0], quclear_tag3)\n",
    "\n",
    "qiskit_uccsd=tables_utl.get_metrics(qiskit_res[0][0], qiskit_tag)\n",
    "qiskit_hs=[tables_utl.get_metrics(exper, qiskit_tag) for exper in qiskit_res[1]]\n",
    "qiskit_max_cut=tables_utl.get_metrics(qiskit_res[2][0], qiskit_tag)\n",
    "qiskit_labs=tables_utl.get_metrics(qiskit_res[3][0], qiskit_tag)\n",
    "\n",
    "rustiq_uccsd=tables_utl.get_metrics(rustiq_res[0][0], rustiq_tag)\n",
    "rustiq_hs=[tables_utl.get_metrics(exper, rustiq_tag) for exper in rustiq_res[1]]\n",
    "rustiq_max_cut=tables_utl.get_metrics(rustiq_res[2][0], rustiq_tag)\n",
    "rustiq_labs=tables_utl.get_metrics(rustiq_res[3][0], rustiq_tag)\n",
    "\n",
    "paulih_uccsd=tables_utl.get_metrics(paulih_res[0][0], paulihedral_tag)\n",
    "paulih_hs=[tables_utl.get_metrics(exper, paulihedral_tag) for exper in paulih_res[1]]\n",
    "paulih_max_cut=tables_utl.get_metrics(paulih_res[2][0], paulihedral_tag)\n",
    "paulih_labs=tables_utl.get_metrics(paulih_res[3][0], paulihedral_tag)\n",
    "\n",
    "pytket_uccsd=tables_utl.get_metrics(pytket_res[0][0], pytket_tag)\n",
    "pytket_hs=[tables_utl.get_metrics(exper, pytket_tag) for exper in pytket_res[1]]\n",
    "pytket_max_cut=tables_utl.get_metrics(pytket_res[2][0], pytket_tag)\n",
    "pytket_labs=tables_utl.get_metrics(pytket_res[3][0], pytket_tag)\n",
    "\n",
    "\n",
    "tables_utl.test_lenghts_res(quclear_res)\n",
    "tables_utl.test_lenghts_res(qiskit_res)\n",
    "tables_utl.test_lenghts_res(rustiq_res)\n",
    "tables_utl.test_lenghts_res(paulih_res)\n",
    "tables_utl.test_lenghts_res(pytket_res)\n",
    "print(quclear_uccsd.keys())"
   ]
  },
  {
   "cell_type": "code",
   "execution_count": 322,
   "metadata": {},
   "outputs": [],
   "source": [
    "def get_table_row(quclear, qiskit, rustiq, paulih, pytket, file):\n",
    "    quclear_f,qiskit_f, rustiq_f, paulih_f, pytket_f= tables_utl.get_data_handles(quclear, qiskit, rustiq, paulih, pytket, file)\n",
    "    # uccsd1_prelude=\" \\\\multirow{7}{*}{UCCSD} & UCC-(2,4) \"\n",
    "    uccsd1_times=f\"  & {quclear_f[\"times\"]} & {qiskit_f[\"times\"]} & {rustiq_f[\"times\"]} & {paulih_f[\"times\"]} & {pytket_f[\"times\"]} \" \n",
    "    uccsd1_cnots=f\"  & {quclear_f[\"cnots\"]} & {qiskit_f[\"cnots\"]} & {rustiq_f[\"cnots\"]} & {paulih_f[\"cnots\"]} & {pytket_f[\"cnots\"]} \"\n",
    "    uccsd1_depths=f\" & {quclear_f[\"circuit_entangling_depth\"]} & {qiskit_f[\"circuit_entangling_depth\"]} & {rustiq_f[\"circuit_entangling_depth\"]} & {paulih_f[\"circuit_entangling_depth\"]} & {pytket_f[\"circuit_entangling_depth\"]}\"\n",
    "    # uccsd1_post=\" \\\\\\\\ \\\\cline{2-6} \"\n",
    "    uccsd1=uccsd1_cnots+uccsd1_depths+uccsd1_times\n",
    "    print(file)\n",
    "    print(uccsd1)"
   ]
  },
  {
   "cell_type": "code",
   "execution_count": 323,
   "metadata": {},
   "outputs": [
    {
     "name": "stdout",
     "output_type": "stream",
     "text": [
      "dict_keys(['test_new_Paulis13400.json', 'test_new_Paulis1656.json', 'test_new_Paulis24.json', 'test_new_Paulis320.json', 'test_new_Paulis5376.json', 'test_new_Paulis80.json'])\n",
      "test_new_Paulis13400.json\n",
      "  & 24302 & 72005 & 50913 & 28009 & 109130  & 15979 & 70705 & 34403 & 28009 & 100585  & 306.3307 & 342.6219 & 14802.1183 & 485.0297 & 14278.8268 \n",
      "\n",
      "test_new_Paulis1656.json\n",
      "  & 2580 & 5723 & 4705 & 3077 & 8853  & 1832 & 5582 & 3588 & 3077 & 7924  & 21.656 & 19.6461 & 10.7976 & 21.9652 & 365.9686 \n",
      "\n",
      "test_new_Paulis24.json\n",
      "  & 23 & 41 & 33 & 31 & 53  & 17 & 41 & 31 & 31 & 50  & 0.1327 & 0.1546 & 0.001 & 0.1167 & 2.2191 \n",
      "\n",
      "test_new_Paulis320.json\n",
      "  & 448 & 1003 & 795 & 519 & 1257  & 335 & 990 & 666 & 519 & 1112  & 3.0018 & 2.5905 & 0.0848 & 2.0904 & 49.1337 \n",
      "\n",
      "test_new_Paulis5376.json\n",
      "  & 8820 & 23498 & 18552 & 10743 & 36369  & 6153 & 23020 & 13092 & 10743 & 33074  & 98.4158 & 96.1222 & 759.8567 & 125.5834 & 2224.6543 \n",
      "\n",
      "test_new_Paulis80.json\n",
      "  & 106 & 181 & 161 & 125 & 236  & 82 & 178 & 145 & 125 & 211  & 0.561 & 0.5823 & 0.007 & 0.4777 & 9.2433 \n",
      "\n"
     ]
    }
   ],
   "source": [
    "#uccsd\n",
    "print(quclear_uccsd.keys())\n",
    "for file in sorted(quclear_uccsd.keys(),):\n",
    "    get_table_row(quclear_uccsd, qiskit_uccsd, rustiq_uccsd, paulih_uccsd, pytket_uccsd, file)\n",
    "    print()"
   ]
  },
  {
   "cell_type": "code",
   "execution_count": 324,
   "metadata": {},
   "outputs": [
    {
     "name": "stdout",
     "output_type": "stream",
     "text": [
      "dict_keys(['test_new_H2O.json'])\n",
      "test_new_H2O.json\n",
      "  & 274 & 786 & 350 & 471 & 505  & 189 & 769 & 267 & 461 & 442  & 1.7922 & 1.5299 & 0.0259 & 1.4013 & 18.5444 \n",
      "\n",
      "dict_keys(['test_new_LiH.json'])\n",
      "test_new_LiH.json\n",
      "  & 74 & 180 & 114 & 121 & 132  & 60 & 176 & 92 & 119 & 112  & 0.3999 & 0.3701 & 0.0059 & 0.3939 & 5.0096 \n",
      "\n",
      "dict_keys(['test_new_benzene.json'])\n",
      "test_new_benzene.json\n",
      "  & 2470 & 7602 & 3356 & 3267 & 4738  & 1481 & 7477 & 2321 & 3237 & 4092  & 18.4479 & 13.607 & 4.6286 & 15.9836 & 210.8994 \n",
      "\n"
     ]
    }
   ],
   "source": [
    "# Chemestry\n",
    "for idx, elem in enumerate(quclear_hs):\n",
    "    print(elem.keys())\n",
    "    for file in sorted(elem.keys()):\n",
    "        get_table_row(quclear_hs[idx], qiskit_hs[idx], rustiq_hs[idx], paulih_hs[idx], pytket_hs[idx], file)\n",
    "        print()"
   ]
  },
  {
   "cell_type": "code",
   "execution_count": 325,
   "metadata": {},
   "outputs": [
    {
     "name": "stdout",
     "output_type": "stream",
     "text": [
      "dict_keys(['test_new_labs_n10_layers1.json', 'test_new_labs_n10_layers3.json', 'test_new_labs_n11_layers1.json', 'test_new_labs_n11_layers3.json', 'test_new_labs_n12_layers1.json', 'test_new_labs_n12_layers3.json', 'test_new_labs_n13_layers1.json', 'test_new_labs_n13_layers3.json', 'test_new_labs_n14_layers1.json', 'test_new_labs_n14_layers3.json', 'test_new_labs_n15_layers1.json', 'test_new_labs_n15_layers3.json', 'test_new_labs_n16_layers1.json', 'test_new_labs_n16_layers3.json', 'test_new_labs_n17_layers1.json', 'test_new_labs_n17_layers3.json', 'test_new_labs_n18_layers1.json', 'test_new_labs_n18_layers3.json', 'test_new_labs_n19_layers1.json', 'test_new_labs_n19_layers3.json', 'test_new_labs_n20_layers1.json', 'test_new_labs_n20_layers3.json', 'test_new_labs_n5_layers1.json', 'test_new_labs_n5_layers3.json', 'test_new_labs_n6_layers1.json', 'test_new_labs_n6_layers3.json', 'test_new_labs_n7_layers1.json', 'test_new_labs_n7_layers3.json', 'test_new_labs_n8_layers1.json', 'test_new_labs_n8_layers3.json', 'test_new_labs_n9_layers1.json', 'test_new_labs_n9_layers3.json'])\n",
      "test_new_labs_n10_layers1.json\n",
      "  & 106 & 296 & 116 & 230 & 145  & 76 & 173 & 77 & 209 & 127  & 1.608 & 0.1553 & 0.0199 & 1.9484 & 4.2117 \n",
      "\n",
      "test_new_labs_n10_layers3.json\n",
      "  & 296 & 896 & 337 & 2070 & 521  & 202 & 519 & 231 & 605 & 466  & 4.4977 & 0.4669 & 0.0439 & 0.0997 & 19.75 \n",
      "\n",
      "test_new_labs_n11_layers1.json\n",
      "  & 137 & 422 & 165 & 316 & 218  & 89 & 228 & 121 & 287 & 182  & 3.6147 & 0.1805 & 0.0269 & 0.1552 & 6.4256 \n",
      "\n",
      "test_new_labs_n11_layers3.json\n",
      "  & 392 & 1274 & 456 & 2844 & 743  & 258 & 684 & 313 & 835 & 648  & 8.1348 & 0.828 & 0.0608 & 0.1634 & 27.3055 \n",
      "\n",
      "test_new_labs_n12_layers1.json\n",
      "  & 186 & 544 & 205 & 422 & 256  & 125 & 308 & 127 & 383 & 228  & 4.6477 & 0.4099 & 0.0469 & 0.2025 & 7.6035 \n",
      "\n",
      "test_new_labs_n12_layers3.json\n",
      "  & 528 & 1640 & 588 & 3798 & 963  & 349 & 922 & 377 & 1115 & 878  & 16.6251 & 0.9101 & 0.1008 & 0.193 & 36.4345 \n",
      "\n",
      "test_new_labs_n13_layers1.json\n",
      "  & 237 & 692 & 267 & 552 & 398  & 149 & 397 & 176 & 498 & 342  & 8.7941 & 0.4677 & 0.0519 & 0.3241 & 12.835 \n",
      "\n",
      "test_new_labs_n13_layers3.json\n",
      "  & 722 & 2084 & 808 & 4968 & 1342  & 484 & 1191 & 543 & 1456 & 1219  & 35.7879 & 1.0223 & 0.1646 & 0.2533 & 52.7285 \n",
      "\n",
      "test_new_labs_n14_layers1.json\n",
      "  & 305 & 922 & 378 & 704 & 489  & 190 & 568 & 220 & 637 & 448  & 15.2493 & 0.388 & 0.0908 & 0.3466 & 16.0416 \n",
      "\n",
      "test_new_labs_n14_layers3.json\n",
      "  & 918 & 2774 & 1029 & 6336 & 1688  & 586 & 1704 & 685 & 1865 & 1527  & 61.3467 & 1.3155 & 0.2695 & 0.3451 & 67.0485 \n",
      "\n",
      "test_new_labs_n15_layers1.json\n",
      "  & 385 & 1208 & 457 & 880 & 641  & 255 & 672 & 281 & 797 & 568  & 21.797 & 0.5156 & 0.1077 & 0.4199 & 21.3482 \n",
      "\n",
      "test_new_labs_n15_layers3.json\n",
      "  & 1121 & 3632 & 1368 & 7920 & 2131  & 718 & 2014 & 929 & 2341 & 1955  & 80.6458 & 1.876 & 0.4319 & 0.4063 & 84.5115 \n",
      "\n",
      "test_new_labs_n16_layers1.json\n",
      "  & 480 & 1486 & 558 & 1084 & 813  & 311 & 915 & 374 & 983 & 746  & 44.6501 & 0.6174 & 0.1631 & 0.558 & 27.2523 \n",
      "\n",
      "test_new_labs_n16_layers3.json\n",
      "  & 1463 & 4466 & 1661 & 9756 & 2663  & 931 & 2741 & 1113 & 2891 & 2481  & 138.1593 & 2.0819 & 0.6084 & 0.6697 & 106.9649 \n",
      "\n",
      "test_new_labs_n17_layers1.json\n",
      "  & 583 & 1726 & 655 & 1318 & 1007  & 372 & 1137 & 410 & 1196 & 941  & 57.188 & 0.8178 & 0.3201 & 0.8053 & 34.0849 \n",
      "\n",
      "test_new_labs_n17_layers3.json\n",
      "  & 1761 & 5186 & 2095 & 11862 & 3279  & 1131 & 3411 & 1354 & 3526 & 3045  & 210.4167 & 2.2841 & 0.9697 & 0.6049 & 137.838 \n",
      "\n",
      "test_new_labs_n18_layers1.json\n",
      "  & 723 & 2020 & 819 & 1584 & 1195  & 449 & 1291 & 480 & 1441 & 1130  & 95.0434 & 0.9243 & 0.2992 & 0.7804 & 40.7893 \n",
      "\n",
      "test_new_labs_n18_layers3.json\n",
      "  & 2133 & 6068 & 2614 & 14256 & 3889  & 1331 & 3875 & 1660 & 4253 & 3667  & 342.0166 & 3.4039 & 1.8347 & 0.8519 & 164.0201 \n",
      "\n",
      "test_new_labs_n19_layers1.json\n",
      "  & 863 & 2472 & 980 & 1884 & 1509  & 542 & 1617 & 587 & 1715 & 1412  & 130.424 & 1.1973 & 0.445 & 1.0053 & 55.8569 \n",
      "\n",
      "test_new_labs_n19_layers3.json\n",
      "  & 2545 & 7424 & 3191 & 16956 & 4675  & 1627 & 4857 & 2047 & 5071 & 4409  & 402.0306 & 5.2268 & 2.2219 & 0.9709 & 205.2895 \n",
      "\n",
      "test_new_labs_n20_layers1.json\n",
      "  & 1052 & 2914 & 1138 & 2218 & 1762  & 679 & 1731 & 677 & 2023 & 1673  & 210.1475 & 1.4367 & 0.5801 & 1.2457 & 64.2246 \n",
      "\n",
      "test_new_labs_n20_layers3.json\n",
      "  & 3262 & 8750 & 3841 & 19962 & 5594  & 2074 & 5193 & 2482 & 5987 & 5297  & 850.039 & 5.0974 & 2.8653 & 1.2726 & 254.2663 \n",
      "\n",
      "test_new_labs_n5_layers1.json\n",
      "  & 12 & 20 & 12 & 18 & 15  & 10 & 17 & 9 & 16 & 12  & 0.1007 & 0.018 & 0.002 & 0.0135 & 0.2982 \n",
      "\n",
      "test_new_labs_n5_layers3.json\n",
      "  & 36 & 72 & 34 & 162 & 59  & 29 & 63 & 25 & 48 & 54  & 0.2164 & 0.0598 & 0.002 & 0.019 & 1.5927 \n",
      "\n",
      "test_new_labs_n6_layers1.json\n",
      "  & 21 & 44 & 23 & 38 & 24  & 13 & 39 & 17 & 35 & 19  & 0.1892 & 0.0279 & 0.003 & 0.0259 & 0.5505 \n",
      "\n",
      "test_new_labs_n6_layers3.json\n",
      "  & 58 & 144 & 57 & 342 & 96  & 41 & 123 & 44 & 103 & 87  & 0.5362 & 0.0947 & 0.003 & 0.018 & 3.0698 \n",
      "\n",
      "test_new_labs_n7_layers1.json\n",
      "  & 33 & 80 & 42 & 66 & 40  & 25 & 61 & 36 & 59 & 33  & 0.3855 & 0.0419 & 0.004 & 0.0319 & 0.9255 \n",
      "\n",
      "test_new_labs_n7_layers3.json\n",
      "  & 99 & 248 & 111 & 594 & 168  & 74 & 187 & 87 & 175 & 144  & 0.7634 & 0.1496 & 0.006 & 0.0339 & 5.2001 \n",
      "\n",
      "test_new_labs_n8_layers1.json\n",
      "  & 50 & 132 & 63 & 106 & 58  & 33 & 82 & 43 & 96 & 48  & 0.4817 & 0.0578 & 0.006 & 0.0459 & 1.3813 \n",
      "\n",
      "test_new_labs_n8_layers3.json\n",
      "  & 143 & 408 & 163 & 954 & 254  & 103 & 246 & 124 & 278 & 219  & 1.4297 & 0.2254 & 0.012 & 0.0603 & 8.2978 \n",
      "\n",
      "test_new_labs_n9_layers1.json\n",
      "  & 73 & 204 & 94 & 160 & 86  & 46 & 121 & 66 & 144 & 69  & 0.8707 & 0.2593 & 0.011 & 0.0768 & 2.4535 \n",
      "\n",
      "test_new_labs_n9_layers3.json\n",
      "  & 211 & 624 & 230 & 1440 & 371  & 144 & 359 & 161 & 418 & 325  & 2.6211 & 0.3441 & 0.0209 & 0.0768 & 12.7998 \n",
      "\n"
     ]
    }
   ],
   "source": [
    "#labs\n",
    "print(quclear_labs.keys())\n",
    "for file in sorted(quclear_labs.keys(),):\n",
    "    get_table_row(quclear_labs, qiskit_labs, rustiq_labs, paulih_labs, pytket_labs, file)\n",
    "    print()"
   ]
  },
  {
   "cell_type": "code",
   "execution_count": 326,
   "metadata": {},
   "outputs": [
    {
     "name": "stdout",
     "output_type": "stream",
     "text": [
      "dict_keys(['test_new_max_cut_benchmark_connected_n10_e12_l1.json', 'test_new_max_cut_benchmark_connected_n10_e12_l3.json', 'test_new_max_cut_benchmark_connected_n15_e63_l1.json', 'test_new_max_cut_benchmark_connected_n15_e63_l3.json', 'test_new_max_cut_benchmark_connected_n20_e117_l1.json', 'test_new_max_cut_benchmark_connected_n20_e117_l3.json', 'test_new_max_cut_benchmark_regular_n10_e3_l1.json', 'test_new_max_cut_benchmark_regular_n10_e3_l3.json', 'test_new_max_cut_benchmark_regular_n15_e4_l1.json', 'test_new_max_cut_benchmark_regular_n15_e4_l3.json', 'test_new_max_cut_benchmark_regular_n20_e3_l1.json', 'test_new_max_cut_benchmark_regular_n20_e3_l3.json'])\n",
      "test_new_max_cut_benchmark_connected_n10_e12_l1.json\n",
      "  & 26 & 22 & 33 & 24 & 24  & 21 & 10 & 18 & 12 & 12  & 0.2528 & 0.0319 & 0.009 & 0.016 & 0.843 \n",
      "\n",
      "test_new_max_cut_benchmark_connected_n10_e12_l3.json\n",
      "  & 68 & 70 & 74 & 216 & 74  & 43 & 26 & 43 & 28 & 35  & 0.7266 & 0.0987 & 0.01 & 0.015 & 2.4774 \n",
      "\n",
      "test_new_max_cut_benchmark_connected_n15_e63_l1.json\n",
      "  & 93 & 114 & 108 & 102 & 137  & 51 & 36 & 59 & 42 & 69  & 2.4541 & 0.6096 & 0.0389 & 0.0904 & 4.4406 \n",
      "\n",
      "test_new_max_cut_benchmark_connected_n15_e63_l3.json\n",
      "  & 262 & 346 & 290 & 918 & 359  & 137 & 100 & 159 & 90 & 199  & 7.5885 & 0.3875 & 0.0638 & 0.0738 & 12.1648 \n",
      "\n",
      "test_new_max_cut_benchmark_connected_n20_e117_l1.json\n",
      "  & 146 & 216 & 188 & 192 & 298  & 65 & 56 & 85 & 56 & 121  & 8.8241 & 0.1715 & 0.0918 & 0.2055 & 10.1784 \n",
      "\n",
      "test_new_max_cut_benchmark_connected_n20_e117_l3.json\n",
      "  & 430 & 652 & 566 & 1728 & 733  & 187 & 164 & 314 & 124 & 370  & 25.203 & 0.7475 & 0.2284 & 0.1379 & 25.0349 \n",
      "\n",
      "test_new_max_cut_benchmark_regular_n10_e3_l1.json\n",
      "  & 35 & 28 & 39 & 30 & 34  & 19 & 14 & 24 & 12 & 22  & 0.2748 & 0.0299 & 0.009 & 0.0179 & 1.1844 \n",
      "\n",
      "test_new_max_cut_benchmark_regular_n10_e3_l3.json\n",
      "  & 96 & 88 & 103 & 270 & 94  & 52 & 32 & 56 & 28 & 48  & 0.8937 & 0.1057 & 0.017 & 0.017 & 3.543 \n",
      "\n",
      "test_new_max_cut_benchmark_regular_n15_e4_l1.json\n",
      "  & 68 & 58 & 94 & 60 & 62  & 32 & 28 & 50 & 26 & 36  & 1.0259 & 0.0678 & 0.0399 & 0.0299 & 2.092 \n",
      "\n",
      "test_new_max_cut_benchmark_regular_n15_e4_l3.json\n",
      "  & 181 & 178 & 246 & 540 & 191  & 91 & 76 & 142 & 56 & 82  & 2.9994 & 0.195 & 0.0449 & 0.0439 & 6.4078 \n",
      "\n",
      "test_new_max_cut_benchmark_regular_n20_e3_l1.json\n",
      "  & 57 & 58 & 90 & 60 & 64  & 20 & 18 & 44 & 18 & 29  & 1.5965 & 0.0673 & 0.0598 & 0.0419 & 2.086 \n",
      "\n",
      "test_new_max_cut_benchmark_regular_n20_e3_l3.json\n",
      "  & 175 & 178 & 263 & 540 & 186  & 54 & 38 & 125 & 38 & 68  & 4.2431 & 0.2487 & 0.0943 & 0.0349 & 5.6106 \n",
      "\n"
     ]
    }
   ],
   "source": [
    "#maxcut\n",
    "print(quclear_max_cut.keys())\n",
    "for file in sorted(quclear_max_cut.keys(),):\n",
    "    get_table_row(quclear_max_cut, qiskit_max_cut, rustiq_max_cut, paulih_max_cut, pytket_max_cut, file)\n",
    "    print()"
   ]
  }
 ],
 "metadata": {
  "kernelspec": {
   "display_name": "pytket_latest",
   "language": "python",
   "name": "python3"
  },
  "language_info": {
   "codemirror_mode": {
    "name": "ipython",
    "version": 3
   },
   "file_extension": ".py",
   "mimetype": "text/x-python",
   "name": "python",
   "nbconvert_exporter": "python",
   "pygments_lexer": "ipython3",
   "version": "3.12.4"
  }
 },
 "nbformat": 4,
 "nbformat_minor": 2
}
