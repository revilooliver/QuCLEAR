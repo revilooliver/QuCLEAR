{
 "cells": [
  {
   "cell_type": "code",
   "execution_count": 1,
   "id": "9c238604-5e42-4a53-a2bc-3412c403d4b7",
   "metadata": {},
   "outputs": [],
   "source": [
    "import re\n",
    "import qiskit\n",
    "import json\n",
    "import time\n",
    "\n",
    "from qiskit import transpile\n",
    "import time\n",
    "import os\n",
    "import random\n",
    "\n",
    "from fast_generator import fc_tree_commute_recur_lookahead_fast\n",
    "\n",
    "from benchmarks.UCCSD_entanglers import generate_UCCSD_entanglers\n",
    "# from circuit_generator import construct_qcc_circuit\n",
    "from utilities import generate_pauli_strings\n",
    "from fast_generator import update_paulis\n",
    "from qiskit.converters import circuit_to_dag"
   ]
  },
  {
   "cell_type": "code",
   "execution_count": 2,
   "id": "3c33dc7b",
   "metadata": {},
   "outputs": [],
   "source": [
    "#first compare the UCCSD ansatz\n",
    "test_paulis = generate_UCCSD_entanglers(10, 20)\n",
    "test_params = [0.01 * i for i in range(len(test_paulis))]\n",
    "\n",
    "start_time = time.time()\n",
    "opt_qc_f2, append_clifford_f2, sorted_entanglers_f2 = fc_tree_commute_recur_lookahead_fast(entanglers=test_paulis, params=test_params, barrier=False)\n",
    "opt_qiskit = transpile(opt_qc_f2, optimization_level=3, basis_gates=[\"cx\", \"sx\", \"x\", \"rz\"])\n",
    "end_time = time.time()\n",
    "combined_time = end_time - start_time"
   ]
  },
  {
   "cell_type": "code",
   "execution_count": 3,
   "id": "3119d1f0",
   "metadata": {},
   "outputs": [
    {
     "data": {
      "text/plain": [
       "OrderedDict([('rz', 36715), ('cx', 24302), ('sx', 23524), ('x', 907)])"
      ]
     },
     "execution_count": 3,
     "metadata": {},
     "output_type": "execute_result"
    }
   ],
   "source": [
    "opt_qiskit.count_ops()"
   ]
  },
  {
   "cell_type": "code",
   "execution_count": 4,
   "id": "e3a9e086",
   "metadata": {},
   "outputs": [
    {
     "name": "stdout",
     "output_type": "stream",
     "text": [
      "num_obs 10 compile_time 0.051860809326171875\n",
      "num_obs 50 compile_time 0.26828980445861816\n",
      "num_obs 100 compile_time 0.45281982421875\n",
      "num_obs 500 compile_time 2.3160064220428467\n",
      "num_obs 1000 compile_time 4.539279460906982\n",
      "num_obs 5000 compile_time 23.06069779396057\n"
     ]
    }
   ],
   "source": [
    "for num_obs in [10, 50, 100, 500, 1000, 5000]:\n",
    "    random_paulis = generate_pauli_strings(20, num_obs)\n",
    "    start_time = time.time()\n",
    "    new_obs = update_paulis(random_paulis, append_clifford_f2, parameters = False)\n",
    "    end_time = time.time()\n",
    "    compile_time = end_time - start_time\n",
    "    print(\"num_obs\", num_obs, \"compile_time\", compile_time)"
   ]
  },
  {
   "cell_type": "code",
   "execution_count": 5,
   "id": "daed7329",
   "metadata": {},
   "outputs": [],
   "source": [
    "#then compare the compile time for MAXCUT \n",
    "with open(\"benchmarks/max_cut_paulis/max_cut_benchmark_regular_n20_e12_l1.json\", \"r\") as file:\n",
    "    test_paulis = json.load(file)\n",
    "test_params = [0.01 * i for i in range(len(test_paulis))]\n",
    "\n",
    "start_time = time.time()\n",
    "opt_qc, append_clifford, sorted_entanglers = fc_tree_commute_recur_lookahead_fast(entanglers=test_paulis, params=test_params, barrier=False)\n",
    "opt_qiskit = transpile(opt_qc, optimization_level=3, basis_gates=[\"cx\", \"sx\", \"x\", \"rz\"])\n",
    "end_time = time.time()\n",
    "combined_time = end_time - start_time"
   ]
  },
  {
   "cell_type": "code",
   "execution_count": 6,
   "id": "f9587d7b",
   "metadata": {},
   "outputs": [
    {
     "data": {
      "text/plain": [
       "OrderedDict([('cx', 171), ('rz', 156), ('sx', 20)])"
      ]
     },
     "execution_count": 6,
     "metadata": {},
     "output_type": "execute_result"
    }
   ],
   "source": [
    "opt_qiskit.count_ops()"
   ]
  },
  {
   "cell_type": "code",
   "execution_count": 7,
   "id": "3e74da85",
   "metadata": {},
   "outputs": [],
   "source": [
    "def generate_binary_states(n, m):\n",
    "    states = []\n",
    "    for _ in range(m):\n",
    "        state = ''.join(random.choice(['0', '1']) for _ in range(n))\n",
    "        states.append(state)\n",
    "    return states"
   ]
  },
  {
   "cell_type": "code",
   "execution_count": 8,
   "id": "623a8bf2",
   "metadata": {},
   "outputs": [],
   "source": [
    "def apply_cnot(binary_value, control_index, target_index):\n",
    "    # Convert binary string to a list of characters for easy manipulation\n",
    "    binary_list = list(binary_value)\n",
    "    \n",
    "    # Apply CNOT: If the control qubit is 1, flip the target qubit\n",
    "    if binary_list[control_index] == '1':\n",
    "        binary_list[target_index] = '0' if binary_list[target_index] == '1' else '1'\n",
    "    \n",
    "    # Convert list back to binary string\n",
    "    return ''.join(binary_list)"
   ]
  },
  {
   "cell_type": "code",
   "execution_count": 9,
   "id": "1abf0788",
   "metadata": {},
   "outputs": [],
   "source": [
    "def update_probabilities(states, circuit_dag):\n",
    "    updated_states = []\n",
    "    for state in states:\n",
    "        for node in circuit_dag.topological_op_nodes():\n",
    "            if node.name == 'cx':\n",
    "                control_qubit = node.qargs[0]._index\n",
    "                target_qubit = node.qargs[1]._index\n",
    "                new_state = apply_cnot(state, control_qubit, target_qubit)\n",
    "                updated_states.append(new_state)\n",
    "    return updated_states\n"
   ]
  },
  {
   "cell_type": "code",
   "execution_count": 10,
   "id": "93d067ae",
   "metadata": {},
   "outputs": [
    {
     "name": "stdout",
     "output_type": "stream",
     "text": [
      "num_states 10 compile_time 0.0029921531677246094\n",
      "num_states 50 compile_time 0.0169527530670166\n",
      "num_states 100 compile_time 0.03191375732421875\n",
      "num_states 500 compile_time 0.16050934791564941\n",
      "num_states 1000 compile_time 0.3251302242279053\n",
      "num_states 5000 compile_time 1.675201654434204\n"
     ]
    }
   ],
   "source": [
    "dag = circuit_to_dag(opt_qc.inverse())\n",
    "for num_states in [10, 50, 100, 500, 1000, 5000]:\n",
    "    random_states =  generate_binary_states(20, num_states)\n",
    "    start_time = time.time()\n",
    "    new_states = update_probabilities(random_states, dag)\n",
    "    end_time = time.time()\n",
    "    compile_time = end_time - start_time\n",
    "    print(\"num_states\", num_states, \"compile_time\", compile_time)"
   ]
  }
 ],
 "metadata": {
  "kernelspec": {
   "display_name": "Python 3 (ipykernel)",
   "language": "python",
   "name": "python3"
  },
  "language_info": {
   "codemirror_mode": {
    "name": "ipython",
    "version": 3
   },
   "file_extension": ".py",
   "mimetype": "text/x-python",
   "name": "python",
   "nbconvert_exporter": "python",
   "pygments_lexer": "ipython3",
   "version": "3.12.4"
  }
 },
 "nbformat": 4,
 "nbformat_minor": 5
}
