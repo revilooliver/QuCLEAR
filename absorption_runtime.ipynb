{
 "cells": [
  {
   "cell_type": "code",
   "execution_count": 17,
   "id": "9c238604-5e42-4a53-a2bc-3412c403d4b7",
   "metadata": {},
   "outputs": [],
   "source": [
    "import re\n",
    "import qiskit\n",
    "import json\n",
    "import time\n",
    "\n",
    "from qiskit import transpile\n",
    "import time\n",
    "import os\n",
    "import random\n",
    "\n",
    "from fast_generator import fc_tree_commute_recur_lookahead_fast\n",
    "\n",
    "from benchmarks.UCCSD_entanglers import generate_UCCSD_entanglers\n",
    "# from circuit_generator import construct_qcc_circuit\n",
    "from utilities import generate_pauli_strings\n",
    "from fast_generator import update_paulis\n",
    "from qiskit.converters import circuit_to_dag"
   ]
  },
  {
   "cell_type": "code",
   "execution_count": 3,
   "id": "3c33dc7b",
   "metadata": {},
   "outputs": [],
   "source": [
    "#first compare the UCCSD ansatz\n",
    "test_paulis = generate_UCCSD_entanglers(10, 20)\n",
    "test_params = [0.01 * i for i in range(len(test_paulis))]\n",
    "\n",
    "start_time = time.time()\n",
    "opt_qc_f2, append_clifford_f2, sorted_entanglers_f2 = fc_tree_commute_recur_lookahead_fast(entanglers=test_paulis, params=test_params, barrier=False)\n",
    "opt_qiskit = transpile(opt_qc_f2, optimization_level=3, basis_gates=[\"cx\", \"sx\", \"x\", \"rz\"])\n",
    "end_time = time.time()\n",
    "combined_time = end_time - start_time"
   ]
  },
  {
   "cell_type": "code",
   "execution_count": 7,
   "id": "3119d1f0",
   "metadata": {},
   "outputs": [
    {
     "data": {
      "text/plain": [
       "OrderedDict([('rz', 36717), ('cx', 24302), ('sx', 23527), ('x', 885)])"
      ]
     },
     "execution_count": 7,
     "metadata": {},
     "output_type": "execute_result"
    }
   ],
   "source": [
    "opt_qiskit.count_ops()"
   ]
  },
  {
   "cell_type": "code",
   "execution_count": 8,
   "id": "e3a9e086",
   "metadata": {},
   "outputs": [
    {
     "name": "stdout",
     "output_type": "stream",
     "text": [
      "num_obs 10 compile_time 0.06680083274841309\n",
      "num_obs 50 compile_time 0.22482085227966309\n",
      "num_obs 100 compile_time 0.43289709091186523\n",
      "num_obs 500 compile_time 2.2241010665893555\n",
      "num_obs 1000 compile_time 4.587507963180542\n",
      "num_obs 5000 compile_time 23.168376207351685\n"
     ]
    }
   ],
   "source": [
    "for num_obs in [10, 50, 100, 500, 1000, 5000]:\n",
    "    random_paulis = generate_pauli_strings(20, num_obs)\n",
    "    start_time = time.time()\n",
    "    new_obs = update_paulis(random_paulis, append_clifford_f2, parameters = False)\n",
    "    end_time = time.time()\n",
    "    compile_time = end_time - start_time\n",
    "    print(\"num_obs\", num_obs, \"compile_time\", compile_time)"
   ]
  },
  {
   "cell_type": "code",
   "execution_count": 10,
   "id": "daed7329",
   "metadata": {},
   "outputs": [],
   "source": [
    "#then compare the compile time for MAXCUT \n",
    "with open(\"benchmarks/max_cut_paulis/max_cut_benchmark_regular_n20_e12_l1.json\", \"r\") as file:\n",
    "    test_paulis = json.load(file)\n",
    "test_params = [0.01 * i for i in range(len(test_paulis))]\n",
    "\n",
    "start_time = time.time()\n",
    "opt_qc, append_clifford, sorted_entanglers = fc_tree_commute_recur_lookahead_fast(entanglers=test_paulis, params=test_params, barrier=False)\n",
    "opt_qiskit = transpile(opt_qc, optimization_level=3, basis_gates=[\"cx\", \"sx\", \"x\", \"rz\"])\n",
    "end_time = time.time()\n",
    "combined_time = end_time - start_time"
   ]
  },
  {
   "cell_type": "code",
   "execution_count": 11,
   "id": "f9587d7b",
   "metadata": {},
   "outputs": [
    {
     "data": {
      "text/plain": [
       "OrderedDict([('cx', 171), ('rz', 156), ('sx', 20)])"
      ]
     },
     "execution_count": 11,
     "metadata": {},
     "output_type": "execute_result"
    }
   ],
   "source": [
    "opt_qiskit.count_ops()"
   ]
  },
  {
   "cell_type": "code",
   "execution_count": 18,
   "id": "3e74da85",
   "metadata": {},
   "outputs": [],
   "source": [
    "def generate_binary_states(n, m):\n",
    "    states = []\n",
    "    for _ in range(m):\n",
    "        state = ''.join(random.choice(['0', '1']) for _ in range(n))\n",
    "        states.append(state)\n",
    "    return states"
   ]
  },
  {
   "cell_type": "code",
   "execution_count": 34,
   "id": "623a8bf2",
   "metadata": {},
   "outputs": [],
   "source": [
    "def apply_cnot(binary_value, control_index, target_index):\n",
    "    # Convert binary string to a list of characters for easy manipulation\n",
    "    binary_list = list(binary_value)\n",
    "    \n",
    "    # Apply CNOT: If the control qubit is 1, flip the target qubit\n",
    "    if binary_list[control_index] == '1':\n",
    "        binary_list[target_index] = '0' if binary_list[target_index] == '1' else '1'\n",
    "    \n",
    "    # Convert list back to binary string\n",
    "    return ''.join(binary_list)"
   ]
  },
  {
   "cell_type": "code",
   "execution_count": 35,
   "id": "1abf0788",
   "metadata": {},
   "outputs": [],
   "source": [
    "def update_probabilities(states, circuit_dag):\n",
    "    updated_states = []\n",
    "    for state in states:\n",
    "        for node in circuit_dag.topological_op_nodes():\n",
    "            if node.name == 'cx':\n",
    "                control_qubit = node.qargs[0]._index\n",
    "                target_qubit = node.qargs[1]._index\n",
    "                new_state = apply_cnot(state, control_qubit, target_qubit)\n",
    "                updated_states.append(new_state)\n",
    "    return updated_states\n"
   ]
  },
  {
   "cell_type": "code",
   "execution_count": 38,
   "id": "93d067ae",
   "metadata": {},
   "outputs": [
    {
     "name": "stdout",
     "output_type": "stream",
     "text": [
      "num_obs 10 compile_time 0.015575885772705078\n",
      "num_obs 50 compile_time 0.023077964782714844\n",
      "num_obs 100 compile_time 0.0392758846282959\n",
      "num_obs 500 compile_time 0.16843724250793457\n",
      "num_obs 1000 compile_time 0.36461687088012695\n",
      "num_obs 5000 compile_time 1.7517030239105225\n"
     ]
    }
   ],
   "source": [
    "dag = circuit_to_dag(opt_qc.inverse())\n",
    "for num_states in [10, 50, 100, 500, 1000, 5000]:\n",
    "    random_states =  generate_binary_states(20, num_states)\n",
    "    start_time = time.time()\n",
    "    new_states = update_probabilities(random_states, dag)\n",
    "    end_time = time.time()\n",
    "    compile_time = end_time - start_time\n",
    "    print(\"num_obs\", num_states, \"compile_time\", compile_time)"
   ]
  }
 ],
 "metadata": {
  "kernelspec": {
   "display_name": "Python 3 (ipykernel)",
   "language": "python",
   "name": "python3"
  },
  "language_info": {
   "codemirror_mode": {
    "name": "ipython",
    "version": 3
   },
   "file_extension": ".py",
   "mimetype": "text/x-python",
   "name": "python",
   "nbconvert_exporter": "python",
   "pygments_lexer": "ipython3",
   "version": "3.10.14"
  }
 },
 "nbformat": 4,
 "nbformat_minor": 5
}
