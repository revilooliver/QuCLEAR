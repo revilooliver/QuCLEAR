{
 "cells": [
  {
   "cell_type": "code",
   "execution_count": 1,
   "id": "9c238604-5e42-4a53-a2bc-3412c403d4b7",
   "metadata": {},
   "outputs": [],
   "source": [
    "import re\n",
    "import qiskit\n",
    "import json\n",
    "import time\n",
    "\n",
    "import numpy as np\n",
    "from typing import List\n",
    "from qiskit import *\n",
    "import time\n",
    "\n",
    "from fast_generator import fc_tree_commute_recur_lookahead_fast\n",
    "\n",
    "from benchmarks.UCCSD_entanglers import generate_UCCSD_entanglers\n",
    "from circuit_generator import construct_qcc_circuit\n",
    "\n",
    "import numpy as np\n",
    "from rustiq import pauli_network_synthesis, Metric\n",
    "from rustiq.utils import entangling_count, entangling_depth"
   ]
  },
  {
   "cell_type": "code",
   "execution_count": 2,
   "id": "42e7d866",
   "metadata": {},
   "outputs": [],
   "source": [
    "#Compare json files in a specific folder\n",
    "import os, json\n",
    "def run_experiment_folder(folder_path = None, filename = None, save_output = False, threshold = 1):\n",
    "\n",
    "    results = []\n",
    "    if filename == None:\n",
    "        file_list = os.listdir(folder_path)\n",
    "    else:\n",
    "        file_list = [filename]\n",
    "    # Iterate over all files in the folder\n",
    "    for filename in file_list:\n",
    "        # Check if the file is a JSON file\n",
    "        if filename.endswith(\".json\"):\n",
    "            # Print the filename\n",
    "            print(filename)\n",
    "            with open(folder_path + '/' + filename, \"r\") as file:\n",
    "                paulis = json.load(file)\n",
    "\n",
    "            # Function to check if a string contains only 'I' characters\n",
    "            def is_all_identity(pauli):\n",
    "                return all(char == 'I' for char in pauli)\n",
    "\n",
    "            # Filter the list to remove all identity Paulis\n",
    "            test_paulis = [pauli for pauli in paulis if not is_all_identity(pauli)]\n",
    "            test_params = [0.01 * i for i in range(len(test_paulis))]\n",
    "\n",
    "            # Measure time for our method\n",
    "            start_time = time.time()\n",
    "            opt_qc_f, append_clifford_f, sorted_entanglers_f = fc_tree_commute_recur_lookahead_fast(entanglers=test_paulis, params=test_params, barrier=False, threshold=threshold)\n",
    "            end_time = time.time()\n",
    "            our_time = end_time - start_time\n",
    "\n",
    "            start_time = time.time()\n",
    "            opt_qc_f2, append_clifford_f2, sorted_entanglers_f2 = fc_tree_commute_recur_lookahead_fast(entanglers=test_paulis, params=test_params, barrier=False, threshold=threshold)\n",
    "            opt_qiskit = transpile(opt_qc_f2, optimization_level=3, basis_gates=[\"cx\", \"sx\", \"x\", \"rz\"])\n",
    "            end_time = time.time()\n",
    "            combined_time = end_time - start_time\n",
    "            \n",
    "            # Measure time for Qiskit method\n",
    "            start_time = time.time()\n",
    "            origin_qc = construct_qcc_circuit(entanglers=test_paulis, params=test_params, barrier=False)\n",
    "            origin_qiskit = transpile(origin_qc, optimization_level=3, basis_gates=[\"cx\", \"sx\", \"x\", \"rz\"])\n",
    "            end_time = time.time()\n",
    "            qiskit_time = end_time - start_time\n",
    "\n",
    "            # Measure time for RustiQ method\n",
    "            start_time = time.time()\n",
    "            circuit = pauli_network_synthesis(test_paulis, Metric.COUNT, True, fix_clifford=True)\n",
    "            end_time = time.time()\n",
    "            rustiq_time = end_time - start_time\n",
    "        \n",
    "            # Collect results\n",
    "            result = {\n",
    "                \"num_paulis\": len(test_paulis),\n",
    "                \"times\": {\n",
    "                    \"our_time\": our_time,\n",
    "                    \"combined_time\": combined_time,\n",
    "                    \"qiskit_time\": qiskit_time,\n",
    "                    \"rustiq_time\": rustiq_time\n",
    "                },\n",
    "                \"gate_counts\": {\n",
    "                    \"our_method\": opt_qc_f.count_ops().get('cx', 0),\n",
    "                    \"combined_method\": opt_qiskit.count_ops().get('cx', 0),\n",
    "                    \"qiskit_method\": origin_qiskit.count_ops().get('cx', 0),\n",
    "                    \"rustiq_method\": entangling_count(circuit)\n",
    "                },\n",
    "                \"test_paulis_file\": f'benchmarks/results/test_' + filename\n",
    "            }\n",
    "            print(result)\n",
    "            results.append(result)\n",
    "            if save_output == True:\n",
    "                # Save test_paulis to a separate JSON file\n",
    "                with open(f'benchmarks/results/test_' + filename, 'w') as paulis_file:\n",
    "                    json.dump(test_paulis, paulis_file, indent=4)\n",
    "    \n",
    "\n",
    "    "
   ]
  },
  {
   "cell_type": "code",
   "execution_count": 3,
   "id": "63f85128",
   "metadata": {},
   "outputs": [],
   "source": [
    "#Compare a given list of paulis\n",
    "def run_experiment_paulis(test_paulis, test_params = None, save_output = False, threshold = 1, filename = \"Paulis\"):\n",
    "\n",
    "    results = []\n",
    "\n",
    "    def is_all_identity(pauli):\n",
    "        return all(char == 'I' for char in pauli)\n",
    "    paulis = test_paulis\n",
    "    # Filter the list to remove all identity Paulis\n",
    "    test_paulis = [pauli for pauli in paulis if not is_all_identity(pauli)]\n",
    "    if test_params is None:\n",
    "        test_params = [0.01 * i for i in range(len(test_paulis))]\n",
    "\n",
    "    # Measure time for our method\n",
    "    start_time = time.time()\n",
    "    opt_qc_f, append_clifford_f, sorted_entanglers_f = fc_tree_commute_recur_lookahead_fast(entanglers=test_paulis, params=test_params, barrier=False, threshold=threshold)\n",
    "    end_time = time.time()\n",
    "    our_time = end_time - start_time\n",
    "\n",
    "    start_time = time.time()\n",
    "    opt_qc_f2, append_clifford_f2, sorted_entanglers_f2 = fc_tree_commute_recur_lookahead_fast(entanglers=test_paulis, params=test_params, barrier=False, threshold=threshold)\n",
    "    opt_qiskit = transpile(opt_qc_f2, optimization_level=3, basis_gates=[\"cx\", \"sx\", \"x\", \"rz\"])\n",
    "    end_time = time.time()\n",
    "    combined_time = end_time - start_time\n",
    "    \n",
    "    # Measure time for Qiskit method\n",
    "    start_time = time.time()\n",
    "    origin_qc = construct_qcc_circuit(entanglers=test_paulis, params=test_params, barrier=False)\n",
    "    origin_qiskit = transpile(origin_qc, optimization_level=3, basis_gates=[\"cx\", \"sx\", \"x\", \"rz\"])\n",
    "    end_time = time.time()\n",
    "    qiskit_time = end_time - start_time\n",
    "\n",
    "    # Measure time for RustiQ method\n",
    "    start_time = time.time()\n",
    "    circuit = pauli_network_synthesis(test_paulis, Metric.COUNT, True, fix_clifford=True)\n",
    "    end_time = time.time()\n",
    "    rustiq_time = end_time - start_time\n",
    "    \n",
    "    # Collect results\n",
    "    result = {\n",
    "        \"num_paulis\": len(test_paulis),\n",
    "        \"times\": {\n",
    "            \"our_time\": our_time,\n",
    "            \"combined_time\": combined_time,\n",
    "            \"qiskit_time\": qiskit_time,\n",
    "            \"rustiq_time\": rustiq_time\n",
    "        },\n",
    "        \"gate_counts\": {\n",
    "            \"our_method\": opt_qc_f.count_ops().get('cx', 0),\n",
    "            \"combined_method\": opt_qiskit.count_ops().get('cx', 0),\n",
    "            \"qiskit_method\": origin_qiskit.count_ops().get('cx', 0),\n",
    "            \"rustiq_method\": entangling_count(circuit)\n",
    "        },\n",
    "        \"test_paulis_file\": f'benchmarks/results/test_' + filename\n",
    "    }\n",
    "    print(result)\n",
    "    results.append(result)\n",
    "    if save_output == True:\n",
    "        # Save test_paulis to a separate JSON file\n",
    "        with open(f'benchmarks/results/test_' + filename, 'w') as paulis_file:\n",
    "            json.dump(test_paulis, paulis_file, indent=4)\n",
    "    return sorted_entanglers_f\n",
    "    \n",
    "\n",
    "    "
   ]
  },
  {
   "cell_type": "code",
   "execution_count": 5,
   "id": "3c33dc7b",
   "metadata": {},
   "outputs": [
    {
     "name": "stdout",
     "output_type": "stream",
     "text": [
      "{'num_paulis': 24, 'times': {'our_time': 0.15991997718811035, 'combined_time': 0.6117300987243652, 'qiskit_time': 0.18233180046081543, 'rustiq_time': 0.002371072769165039}, 'gate_counts': {'our_method': 27, 'combined_method': 23, 'qiskit_method': 41, 'rustiq_method': 33}, 'test_paulis_file': 'benchmarks/results/test_Paulis'}\n",
      "{'num_paulis': 80, 'times': {'our_time': 0.4239389896392822, 'combined_time': 0.6682000160217285, 'qiskit_time': 0.4792649745941162, 'rustiq_time': 0.008862972259521484}, 'gate_counts': {'our_method': 119, 'combined_method': 106, 'qiskit_method': 181, 'rustiq_method': 162}, 'test_paulis_file': 'benchmarks/results/test_Paulis'}\n",
      "{'num_paulis': 320, 'times': {'our_time': 2.189055919647217, 'combined_time': 2.999169111251831, 'qiskit_time': 2.184493064880371, 'rustiq_time': 0.11479330062866211}, 'gate_counts': {'our_method': 507, 'combined_method': 448, 'qiskit_method': 1003, 'rustiq_method': 794}, 'test_paulis_file': 'benchmarks/results/test_Paulis'}\n"
     ]
    },
    {
     "ename": "KeyboardInterrupt",
     "evalue": "",
     "output_type": "error",
     "traceback": [
      "\u001b[0;31m---------------------------------------------------------------------------\u001b[0m",
      "\u001b[0;31mKeyError\u001b[0m                                  Traceback (most recent call last)",
      "File \u001b[0;32m~/Documents/quantum_computing/research/clifford_extraction/github/github_clean/Clifford_extraction/fast_generator.py:752\u001b[0m, in \u001b[0;36mfind_leaves\u001b[0;34m(sorted_entanglers_params_inv, curr_pauli, updated_paulis, qc_tree, tree_list, commute_idx, pauli_idx, append_clifford)\u001b[0m\n\u001b[1;32m    751\u001b[0m \u001b[38;5;28;01mtry\u001b[39;00m:\n\u001b[0;32m--> 752\u001b[0m     compare_pauli \u001b[38;5;241m=\u001b[39m \u001b[43mupdated_paulis\u001b[49m\u001b[43m[\u001b[49m\u001b[43m(\u001b[49m\u001b[43mcommute_idx\u001b[49m\u001b[43m,\u001b[49m\u001b[43m \u001b[49m\u001b[43mpauli_idx\u001b[49m\u001b[43m)\u001b[49m\u001b[43m]\u001b[49m\n\u001b[1;32m    753\u001b[0m \u001b[38;5;28;01mexcept\u001b[39;00m:\n",
      "\u001b[0;31mKeyError\u001b[0m: (738, 0)",
      "\nDuring handling of the above exception, another exception occurred:\n",
      "\u001b[0;31mKeyboardInterrupt\u001b[0m                         Traceback (most recent call last)",
      "Cell \u001b[0;32mIn[5], line 7\u001b[0m\n\u001b[1;32m      5\u001b[0m \u001b[38;5;28;01mfor\u001b[39;00m i, (x, y) \u001b[38;5;129;01min\u001b[39;00m \u001b[38;5;28menumerate\u001b[39m(\u001b[38;5;28mzip\u001b[39m(electrons_list, orbitals_list)):\n\u001b[1;32m      6\u001b[0m     test_paulis \u001b[38;5;241m=\u001b[39m generate_UCCSD_entanglers(x, y)\n\u001b[0;32m----> 7\u001b[0m     entanglers \u001b[38;5;241m=\u001b[39m \u001b[43mrun_experiment_paulis\u001b[49m\u001b[43m(\u001b[49m\u001b[43mtest_paulis\u001b[49m\u001b[43m \u001b[49m\u001b[38;5;241;43m=\u001b[39;49m\u001b[43m \u001b[49m\u001b[43mtest_paulis\u001b[49m\u001b[43m,\u001b[49m\u001b[43m \u001b[49m\u001b[43msave_output\u001b[49m\u001b[43m \u001b[49m\u001b[38;5;241;43m=\u001b[39;49m\u001b[43m \u001b[49m\u001b[38;5;28;43;01mFalse\u001b[39;49;00m\u001b[43m,\u001b[49m\u001b[43m \u001b[49m\u001b[43mthreshold\u001b[49m\u001b[43m \u001b[49m\u001b[38;5;241;43m=\u001b[39;49m\u001b[43m \u001b[49m\u001b[38;5;241;43m1\u001b[39;49m\u001b[43m)\u001b[49m\n",
      "Cell \u001b[0;32mIn[3], line 21\u001b[0m, in \u001b[0;36mrun_experiment_paulis\u001b[0;34m(test_paulis, test_params, save_output, threshold, filename)\u001b[0m\n\u001b[1;32m     18\u001b[0m our_time \u001b[38;5;241m=\u001b[39m end_time \u001b[38;5;241m-\u001b[39m start_time\n\u001b[1;32m     20\u001b[0m start_time \u001b[38;5;241m=\u001b[39m time\u001b[38;5;241m.\u001b[39mtime()\n\u001b[0;32m---> 21\u001b[0m opt_qc_f2, append_clifford_f2, sorted_entanglers_f2 \u001b[38;5;241m=\u001b[39m \u001b[43mfc_tree_commute_recur_lookahead_fast\u001b[49m\u001b[43m(\u001b[49m\u001b[43mentanglers\u001b[49m\u001b[38;5;241;43m=\u001b[39;49m\u001b[43mtest_paulis\u001b[49m\u001b[43m,\u001b[49m\u001b[43m \u001b[49m\u001b[43mparams\u001b[49m\u001b[38;5;241;43m=\u001b[39;49m\u001b[43mtest_params\u001b[49m\u001b[43m,\u001b[49m\u001b[43m \u001b[49m\u001b[43mbarrier\u001b[49m\u001b[38;5;241;43m=\u001b[39;49m\u001b[38;5;28;43;01mFalse\u001b[39;49;00m\u001b[43m,\u001b[49m\u001b[43m \u001b[49m\u001b[43mthreshold\u001b[49m\u001b[38;5;241;43m=\u001b[39;49m\u001b[43mthreshold\u001b[49m\u001b[43m)\u001b[49m\n\u001b[1;32m     22\u001b[0m opt_qiskit \u001b[38;5;241m=\u001b[39m transpile(opt_qc_f2, optimization_level\u001b[38;5;241m=\u001b[39m\u001b[38;5;241m3\u001b[39m, basis_gates\u001b[38;5;241m=\u001b[39m[\u001b[38;5;124m\"\u001b[39m\u001b[38;5;124mcx\u001b[39m\u001b[38;5;124m\"\u001b[39m, \u001b[38;5;124m\"\u001b[39m\u001b[38;5;124msx\u001b[39m\u001b[38;5;124m\"\u001b[39m, \u001b[38;5;124m\"\u001b[39m\u001b[38;5;124mx\u001b[39m\u001b[38;5;124m\"\u001b[39m, \u001b[38;5;124m\"\u001b[39m\u001b[38;5;124mrz\u001b[39m\u001b[38;5;124m\"\u001b[39m])\n\u001b[1;32m     23\u001b[0m end_time \u001b[38;5;241m=\u001b[39m time\u001b[38;5;241m.\u001b[39mtime()\n",
      "File \u001b[0;32m~/Documents/quantum_computing/research/clifford_extraction/github/github_clean/Clifford_extraction/fast_generator.py:2197\u001b[0m, in \u001b[0;36mfc_tree_commute_recur_lookahead_fast\u001b[0;34m(entanglers, params, barrier, threshold)\u001b[0m\n\u001b[1;32m   2195\u001b[0m next_commute_idx, next_pauli_idx \u001b[38;5;241m=\u001b[39m gen_next_pauli_idx(sorted_entanglers_params,commute_idx, pauli_idx)\n\u001b[1;32m   2196\u001b[0m tree_list \u001b[38;5;241m=\u001b[39m [\u001b[38;5;28mlen\u001b[39m(curr_pauli) \u001b[38;5;241m-\u001b[39m \u001b[38;5;241m1\u001b[39m \u001b[38;5;241m-\u001b[39m i \u001b[38;5;28;01mfor\u001b[39;00m i \u001b[38;5;129;01min\u001b[39;00m \u001b[38;5;28mrange\u001b[39m(\u001b[38;5;28mlen\u001b[39m(curr_pauli)) \u001b[38;5;28;01mif\u001b[39;00m curr_pauli[i] \u001b[38;5;241m!=\u001b[39m \u001b[38;5;124m'\u001b[39m\u001b[38;5;124mI\u001b[39m\u001b[38;5;124m'\u001b[39m]\n\u001b[0;32m-> 2197\u001b[0m sq_index \u001b[38;5;241m=\u001b[39m \u001b[43mfind_leaves\u001b[49m\u001b[43m(\u001b[49m\u001b[43msorted_entanglers_params\u001b[49m\u001b[43m,\u001b[49m\u001b[43m \u001b[49m\u001b[43mcurr_pauli\u001b[49m\u001b[43m \u001b[49m\u001b[38;5;241;43m=\u001b[39;49m\u001b[43m \u001b[49m\u001b[43mcurr_pauli\u001b[49m\u001b[43m,\u001b[49m\u001b[43m \u001b[49m\u001b[43mupdated_paulis\u001b[49m\u001b[43m \u001b[49m\u001b[38;5;241;43m=\u001b[39;49m\u001b[43m \u001b[49m\u001b[43m{\u001b[49m\u001b[43m}\u001b[49m\u001b[43m,\u001b[49m\u001b[43m \u001b[49m\u001b[43mqc_tree\u001b[49m\u001b[43m \u001b[49m\u001b[38;5;241;43m=\u001b[39;49m\u001b[43m \u001b[49m\u001b[43minit_cx_tree\u001b[49m\u001b[43m,\u001b[49m\u001b[43m \u001b[49m\u001b[43mtree_list\u001b[49m\u001b[43m \u001b[49m\u001b[38;5;241;43m=\u001b[39;49m\u001b[43m \u001b[49m\u001b[43mtree_list\u001b[49m\u001b[43m,\u001b[49m\u001b[43m \u001b[49m\u001b[43mcommute_idx\u001b[49m\u001b[43m \u001b[49m\u001b[38;5;241;43m=\u001b[39;49m\u001b[43m \u001b[49m\u001b[43mnext_commute_idx\u001b[49m\u001b[43m,\u001b[49m\u001b[43m \u001b[49m\u001b[43mpauli_idx\u001b[49m\u001b[43m \u001b[49m\u001b[38;5;241;43m=\u001b[39;49m\u001b[43m \u001b[49m\u001b[43mnext_pauli_idx\u001b[49m\u001b[43m,\u001b[49m\u001b[43m \u001b[49m\u001b[43mappend_clifford\u001b[49m\u001b[43m \u001b[49m\u001b[38;5;241;43m=\u001b[39;49m\u001b[43m \u001b[49m\u001b[43mappend_clifford\u001b[49m\u001b[43m)\u001b[49m\n\u001b[1;32m   2198\u001b[0m \u001b[38;5;66;03m#sq_index, init_cx_tree = find_single_tree_lookahead_adapt(base_entangler_inv = curr_pauli, match_entangler_inv = updated_entanglers[0], lookahead_entanglers_inv = updated_entanglers)\u001b[39;00m\n\u001b[1;32m   2199\u001b[0m init_clif \u001b[38;5;241m=\u001b[39m sq_qc\u001b[38;5;241m.\u001b[39minverse()\n",
      "File \u001b[0;32m~/Documents/quantum_computing/research/clifford_extraction/github/github_clean/Clifford_extraction/fast_generator.py:794\u001b[0m, in \u001b[0;36mfind_leaves\u001b[0;34m(sorted_entanglers_params_inv, curr_pauli, updated_paulis, qc_tree, tree_list, commute_idx, pauli_idx, append_clifford)\u001b[0m\n\u001b[1;32m    792\u001b[0m     Z_root \u001b[38;5;241m=\u001b[39m Z_leaves[\u001b[38;5;241m0\u001b[39m]\n\u001b[1;32m    793\u001b[0m \u001b[38;5;28;01melif\u001b[39;00m \u001b[38;5;28mlen\u001b[39m(Z_leaves) \u001b[38;5;241m>\u001b[39m \u001b[38;5;241m1\u001b[39m:\n\u001b[0;32m--> 794\u001b[0m     Z_root \u001b[38;5;241m=\u001b[39m \u001b[43mfind_leaves\u001b[49m\u001b[43m(\u001b[49m\u001b[43msorted_entanglers_params_inv\u001b[49m\u001b[43m,\u001b[49m\u001b[43m \u001b[49m\u001b[43mcurr_pauli\u001b[49m\u001b[43m,\u001b[49m\u001b[43m \u001b[49m\u001b[43mupdated_paulis\u001b[49m\u001b[43m,\u001b[49m\u001b[43m \u001b[49m\u001b[43mqc_tree\u001b[49m\u001b[43m,\u001b[49m\u001b[43m \u001b[49m\u001b[43mZ_leaves\u001b[49m\u001b[43m,\u001b[49m\u001b[43m \u001b[49m\u001b[43mnext_commute_idx\u001b[49m\u001b[43m,\u001b[49m\u001b[43m \u001b[49m\u001b[43mnext_pauli_idx\u001b[49m\u001b[43m,\u001b[49m\u001b[43m \u001b[49m\u001b[43mappend_clifford\u001b[49m\u001b[43m)\u001b[49m\n\u001b[1;32m    795\u001b[0m \u001b[38;5;28;01mif\u001b[39;00m \u001b[38;5;28mlen\u001b[39m(I_leaves) \u001b[38;5;241m==\u001b[39m \u001b[38;5;241m1\u001b[39m:\n\u001b[1;32m    796\u001b[0m     I_root \u001b[38;5;241m=\u001b[39m I_leaves[\u001b[38;5;241m0\u001b[39m]\n",
      "File \u001b[0;32m~/Documents/quantum_computing/research/clifford_extraction/github/github_clean/Clifford_extraction/fast_generator.py:755\u001b[0m, in \u001b[0;36mfind_leaves\u001b[0;34m(sorted_entanglers_params_inv, curr_pauli, updated_paulis, qc_tree, tree_list, commute_idx, pauli_idx, append_clifford)\u001b[0m\n\u001b[1;32m    753\u001b[0m \u001b[38;5;28;01mexcept\u001b[39;00m:\n\u001b[1;32m    754\u001b[0m     initial_compare_pauli_inv \u001b[38;5;241m=\u001b[39m sorted_entanglers_params_inv[commute_idx][pauli_idx][\u001b[38;5;241m0\u001b[39m]\n\u001b[0;32m--> 755\u001b[0m     temp_pauli \u001b[38;5;241m=\u001b[39m \u001b[43mupdate_paulis\u001b[49m\u001b[43m(\u001b[49m\u001b[43m[\u001b[49m\u001b[43minitial_compare_pauli_inv\u001b[49m\u001b[43m]\u001b[49m\u001b[43m,\u001b[49m\u001b[43m \u001b[49m\u001b[43mclifford_circuit\u001b[49m\u001b[43m \u001b[49m\u001b[38;5;241;43m=\u001b[39;49m\u001b[43m \u001b[49m\u001b[43mappend_clifford\u001b[49m\u001b[43m,\u001b[49m\u001b[43m \u001b[49m\u001b[43mparameters\u001b[49m\u001b[43m \u001b[49m\u001b[38;5;241;43m=\u001b[39;49m\u001b[43m \u001b[49m\u001b[38;5;28;43;01mFalse\u001b[39;49;00m\u001b[43m)\u001b[49m\n\u001b[1;32m    756\u001b[0m     pushed_sign, compare_pauli_inv \u001b[38;5;241m=\u001b[39m push_sq_pauli(entangler \u001b[38;5;241m=\u001b[39m temp_pauli[\u001b[38;5;241m0\u001b[39m], current_pauli \u001b[38;5;241m=\u001b[39m curr_pauli)\n\u001b[1;32m    757\u001b[0m     compare_pauli \u001b[38;5;241m=\u001b[39m compare_pauli_inv[::\u001b[38;5;241m-\u001b[39m\u001b[38;5;241m1\u001b[39m]\n",
      "File \u001b[0;32m~/Documents/quantum_computing/research/clifford_extraction/github/github_clean/Clifford_extraction/fast_generator.py:1831\u001b[0m, in \u001b[0;36mupdate_paulis\u001b[0;34m(Paulis_params_list, clifford_circuit, parameters)\u001b[0m\n\u001b[1;32m   1829\u001b[0m \u001b[38;5;28;01mfor\u001b[39;00m Pauli_str \u001b[38;5;129;01min\u001b[39;00m Paulis_params_list:\n\u001b[1;32m   1830\u001b[0m     Pauli_op \u001b[38;5;241m=\u001b[39m convert_Pauli_op(Pauli_str)\n\u001b[0;32m-> 1831\u001b[0m     evolved_Pauli_op \u001b[38;5;241m=\u001b[39m \u001b[43mPauli_op\u001b[49m\u001b[38;5;241;43m.\u001b[39;49m\u001b[43mevolve\u001b[49m\u001b[43m(\u001b[49m\u001b[43mclifford_circuit\u001b[49m\u001b[43m)\u001b[49m\n\u001b[1;32m   1832\u001b[0m     evolved_sign, evolved_Pauli \u001b[38;5;241m=\u001b[39m split_pauli_string(evolved_Pauli_op\u001b[38;5;241m.\u001b[39mto_label())\n\u001b[1;32m   1833\u001b[0m     evolved_Paulis_list\u001b[38;5;241m.\u001b[39mappend(evolved_Pauli)\n",
      "File \u001b[0;32m~/Documents/quantum_computing/anaconda/anaconda3/envs/qiskit1.0/lib/python3.10/site-packages/qiskit/quantum_info/operators/symplectic/pauli.py:601\u001b[0m, in \u001b[0;36mPauli.evolve\u001b[0;34m(self, other, qargs, frame)\u001b[0m\n\u001b[1;32m    597\u001b[0m \u001b[38;5;28;01mif\u001b[39;00m \u001b[38;5;129;01mnot\u001b[39;00m \u001b[38;5;28misinstance\u001b[39m(other, (Pauli, Instruction, QuantumCircuit, Clifford)):\n\u001b[1;32m    598\u001b[0m     \u001b[38;5;66;03m# Convert to a Pauli\u001b[39;00m\n\u001b[1;32m    599\u001b[0m     other \u001b[38;5;241m=\u001b[39m Pauli(other)\n\u001b[0;32m--> 601\u001b[0m \u001b[38;5;28;01mreturn\u001b[39;00m Pauli(\u001b[38;5;28;43msuper\u001b[39;49m\u001b[43m(\u001b[49m\u001b[43m)\u001b[49m\u001b[38;5;241;43m.\u001b[39;49m\u001b[43mevolve\u001b[49m\u001b[43m(\u001b[49m\u001b[43mother\u001b[49m\u001b[43m,\u001b[49m\u001b[43m \u001b[49m\u001b[43mqargs\u001b[49m\u001b[38;5;241;43m=\u001b[39;49m\u001b[43mqargs\u001b[49m\u001b[43m,\u001b[49m\u001b[43m \u001b[49m\u001b[43mframe\u001b[49m\u001b[38;5;241;43m=\u001b[39;49m\u001b[43mframe\u001b[49m\u001b[43m)\u001b[49m)\n",
      "File \u001b[0;32m~/Documents/quantum_computing/anaconda/anaconda3/envs/qiskit1.0/lib/python3.10/site-packages/qiskit/quantum_info/operators/symplectic/base_pauli.py:291\u001b[0m, in \u001b[0;36mBasePauli.evolve\u001b[0;34m(self, other, qargs, frame)\u001b[0m\n\u001b[1;32m    289\u001b[0m \u001b[38;5;66;03m# Convert Clifford to quantum circuits\u001b[39;00m\n\u001b[1;32m    290\u001b[0m \u001b[38;5;28;01mif\u001b[39;00m \u001b[38;5;28misinstance\u001b[39m(other, Clifford):\n\u001b[0;32m--> 291\u001b[0m     \u001b[38;5;28;01mreturn\u001b[39;00m \u001b[38;5;28;43mself\u001b[39;49m\u001b[38;5;241;43m.\u001b[39;49m\u001b[43m_evolve_clifford\u001b[49m\u001b[43m(\u001b[49m\u001b[43mother\u001b[49m\u001b[43m,\u001b[49m\u001b[43m \u001b[49m\u001b[43mqargs\u001b[49m\u001b[38;5;241;43m=\u001b[39;49m\u001b[43mqargs\u001b[49m\u001b[43m,\u001b[49m\u001b[43m \u001b[49m\u001b[43mframe\u001b[49m\u001b[38;5;241;43m=\u001b[39;49m\u001b[43mframe\u001b[49m\u001b[43m)\u001b[49m\n\u001b[1;32m    293\u001b[0m \u001b[38;5;66;03m# Otherwise evolve by the inverse circuit to compute C^dg.P.C\u001b[39;00m\n\u001b[1;32m    294\u001b[0m \u001b[38;5;28;01mif\u001b[39;00m frame \u001b[38;5;241m==\u001b[39m \u001b[38;5;124m\"\u001b[39m\u001b[38;5;124ms\u001b[39m\u001b[38;5;124m\"\u001b[39m:\n",
      "File \u001b[0;32m~/Documents/quantum_computing/anaconda/anaconda3/envs/qiskit1.0/lib/python3.10/site-packages/qiskit/quantum_info/operators/symplectic/base_pauli.py:329\u001b[0m, in \u001b[0;36mBasePauli._evolve_clifford\u001b[0;34m(self, other, qargs, frame)\u001b[0m\n\u001b[1;32m    327\u001b[0m \u001b[38;5;28;01mif\u001b[39;00m idx_\u001b[38;5;241m.\u001b[39many():\n\u001b[1;32m    328\u001b[0m     \u001b[38;5;28;01mif\u001b[39;00m np\u001b[38;5;241m.\u001b[39msum(idx_) \u001b[38;5;241m==\u001b[39m num_paulis:\n\u001b[0;32m--> 329\u001b[0m         \u001b[43mret\u001b[49m\u001b[38;5;241;43m.\u001b[39;49m\u001b[43mcompose\u001b[49m\u001b[43m(\u001b[49m\u001b[43mrow\u001b[49m\u001b[43m,\u001b[49m\u001b[43m \u001b[49m\u001b[43mqargs\u001b[49m\u001b[38;5;241;43m=\u001b[39;49m\u001b[43mqargs\u001b[49m\u001b[43m,\u001b[49m\u001b[43m \u001b[49m\u001b[43minplace\u001b[49m\u001b[38;5;241;43m=\u001b[39;49m\u001b[38;5;28;43;01mTrue\u001b[39;49;00m\u001b[43m)\u001b[49m\n\u001b[1;32m    330\u001b[0m     \u001b[38;5;28;01melse\u001b[39;00m:\n\u001b[1;32m    331\u001b[0m         ret[idx_] \u001b[38;5;241m=\u001b[39m ret[idx_]\u001b[38;5;241m.\u001b[39mcompose(row, qargs\u001b[38;5;241m=\u001b[39mqargs)\n",
      "File \u001b[0;32m~/Documents/quantum_computing/anaconda/anaconda3/envs/qiskit1.0/lib/python3.10/site-packages/qiskit/quantum_info/operators/symplectic/pauli.py:485\u001b[0m, in \u001b[0;36mPauli.compose\u001b[0;34m(self, other, qargs, front, inplace)\u001b[0m\n\u001b[1;32m    483\u001b[0m \u001b[38;5;28;01mif\u001b[39;00m \u001b[38;5;129;01mnot\u001b[39;00m \u001b[38;5;28misinstance\u001b[39m(other, Pauli):\n\u001b[1;32m    484\u001b[0m     other \u001b[38;5;241m=\u001b[39m Pauli(other)\n\u001b[0;32m--> 485\u001b[0m \u001b[38;5;28;01mreturn\u001b[39;00m Pauli(\u001b[38;5;28;43msuper\u001b[39;49m\u001b[43m(\u001b[49m\u001b[43m)\u001b[49m\u001b[38;5;241;43m.\u001b[39;49m\u001b[43mcompose\u001b[49m\u001b[43m(\u001b[49m\u001b[43mother\u001b[49m\u001b[43m,\u001b[49m\u001b[43m \u001b[49m\u001b[43mqargs\u001b[49m\u001b[38;5;241;43m=\u001b[39;49m\u001b[43mqargs\u001b[49m\u001b[43m,\u001b[49m\u001b[43m \u001b[49m\u001b[43mfront\u001b[49m\u001b[38;5;241;43m=\u001b[39;49m\u001b[43mfront\u001b[49m\u001b[43m,\u001b[49m\u001b[43m \u001b[49m\u001b[43minplace\u001b[49m\u001b[38;5;241;43m=\u001b[39;49m\u001b[43minplace\u001b[49m\u001b[43m)\u001b[49m)\n",
      "File \u001b[0;32m~/Documents/quantum_computing/anaconda/anaconda3/envs/qiskit1.0/lib/python3.10/site-packages/qiskit/quantum_info/operators/symplectic/base_pauli.py:144\u001b[0m, in \u001b[0;36mBasePauli.compose\u001b[0;34m(self, other, qargs, front, inplace)\u001b[0m\n\u001b[1;32m    142\u001b[0m     phase \u001b[38;5;241m+\u001b[39m\u001b[38;5;241m=\u001b[39m \u001b[38;5;241m2\u001b[39m \u001b[38;5;241m*\u001b[39m _count_y(x1, z2, dtype\u001b[38;5;241m=\u001b[39mphase\u001b[38;5;241m.\u001b[39mdtype)\n\u001b[1;32m    143\u001b[0m \u001b[38;5;28;01melse\u001b[39;00m:\n\u001b[0;32m--> 144\u001b[0m     phase \u001b[38;5;241m+\u001b[39m\u001b[38;5;241m=\u001b[39m \u001b[38;5;241m2\u001b[39m \u001b[38;5;241m*\u001b[39m \u001b[43m_count_y\u001b[49m\u001b[43m(\u001b[49m\u001b[43mx2\u001b[49m\u001b[43m,\u001b[49m\u001b[43m \u001b[49m\u001b[43mz1\u001b[49m\u001b[43m,\u001b[49m\u001b[43m \u001b[49m\u001b[43mdtype\u001b[49m\u001b[38;5;241;43m=\u001b[39;49m\u001b[43mphase\u001b[49m\u001b[38;5;241;43m.\u001b[39;49m\u001b[43mdtype\u001b[49m\u001b[43m)\u001b[49m\n\u001b[1;32m    146\u001b[0m \u001b[38;5;66;03m# Update Pauli\u001b[39;00m\n\u001b[1;32m    147\u001b[0m x \u001b[38;5;241m=\u001b[39m np\u001b[38;5;241m.\u001b[39mlogical_xor(x1, x2)\n",
      "File \u001b[0;32m~/Documents/quantum_computing/anaconda/anaconda3/envs/qiskit1.0/lib/python3.10/site-packages/qiskit/quantum_info/operators/symplectic/base_pauli.py:706\u001b[0m, in \u001b[0;36m_count_y\u001b[0;34m(x, z, dtype)\u001b[0m\n\u001b[1;32m    704\u001b[0m \u001b[38;5;28;01mdef\u001b[39;00m \u001b[38;5;21m_count_y\u001b[39m(x, z, dtype\u001b[38;5;241m=\u001b[39m\u001b[38;5;28;01mNone\u001b[39;00m):\n\u001b[1;32m    705\u001b[0m \u001b[38;5;250m    \u001b[39m\u001b[38;5;124;03m\"\"\"Count the number of I Paulis\"\"\"\u001b[39;00m\n\u001b[0;32m--> 706\u001b[0m     \u001b[38;5;28;01mreturn\u001b[39;00m \u001b[43m(\u001b[49m\u001b[43mx\u001b[49m\u001b[43m \u001b[49m\u001b[38;5;241;43m&\u001b[39;49m\u001b[43m \u001b[49m\u001b[43mz\u001b[49m\u001b[43m)\u001b[49m\u001b[38;5;241;43m.\u001b[39;49m\u001b[43msum\u001b[49m\u001b[43m(\u001b[49m\u001b[43maxis\u001b[49m\u001b[38;5;241;43m=\u001b[39;49m\u001b[38;5;241;43m1\u001b[39;49m\u001b[43m,\u001b[49m\u001b[43m \u001b[49m\u001b[43mdtype\u001b[49m\u001b[38;5;241;43m=\u001b[39;49m\u001b[43mdtype\u001b[49m\u001b[43m)\u001b[49m\n",
      "File \u001b[0;32m~/Documents/quantum_computing/anaconda/anaconda3/envs/qiskit1.0/lib/python3.10/site-packages/numpy/core/_methods.py:49\u001b[0m, in \u001b[0;36m_sum\u001b[0;34m(a, axis, dtype, out, keepdims, initial, where)\u001b[0m\n\u001b[1;32m     47\u001b[0m \u001b[38;5;28;01mdef\u001b[39;00m \u001b[38;5;21m_sum\u001b[39m(a, axis\u001b[38;5;241m=\u001b[39m\u001b[38;5;28;01mNone\u001b[39;00m, dtype\u001b[38;5;241m=\u001b[39m\u001b[38;5;28;01mNone\u001b[39;00m, out\u001b[38;5;241m=\u001b[39m\u001b[38;5;28;01mNone\u001b[39;00m, keepdims\u001b[38;5;241m=\u001b[39m\u001b[38;5;28;01mFalse\u001b[39;00m,\n\u001b[1;32m     48\u001b[0m          initial\u001b[38;5;241m=\u001b[39m_NoValue, where\u001b[38;5;241m=\u001b[39m\u001b[38;5;28;01mTrue\u001b[39;00m):\n\u001b[0;32m---> 49\u001b[0m     \u001b[38;5;28;01mreturn\u001b[39;00m \u001b[43mumr_sum\u001b[49m\u001b[43m(\u001b[49m\u001b[43ma\u001b[49m\u001b[43m,\u001b[49m\u001b[43m \u001b[49m\u001b[43maxis\u001b[49m\u001b[43m,\u001b[49m\u001b[43m \u001b[49m\u001b[43mdtype\u001b[49m\u001b[43m,\u001b[49m\u001b[43m \u001b[49m\u001b[43mout\u001b[49m\u001b[43m,\u001b[49m\u001b[43m \u001b[49m\u001b[43mkeepdims\u001b[49m\u001b[43m,\u001b[49m\u001b[43m \u001b[49m\u001b[43minitial\u001b[49m\u001b[43m,\u001b[49m\u001b[43m \u001b[49m\u001b[43mwhere\u001b[49m\u001b[43m)\u001b[49m\n",
      "\u001b[0;31mKeyboardInterrupt\u001b[0m: "
     ]
    }
   ],
   "source": [
    "#first compare the UCCSD ansatz\n",
    "electrons_list = [2, 2, 4, 6, 8, 10, 12]\n",
    "orbitals_list = [4, 6, 8, 12, 16, 20, 24]\n",
    "#First evaluate the UCCSD ansatz:\n",
    "for i, (x, y) in enumerate(zip(electrons_list, orbitals_list)):\n",
    "    test_paulis = generate_UCCSD_entanglers(x, y)\n",
    "    entanglers = run_experiment_paulis(test_paulis = test_paulis, save_output = False, threshold = 1)"
   ]
  },
  {
   "cell_type": "code",
   "execution_count": 7,
   "id": "5bac21d1",
   "metadata": {},
   "outputs": [
    {
     "name": "stdout",
     "output_type": "stream",
     "text": [
      "LiH.json\n",
      "{'num_paulis': 61, 'times': {'our_time': 0.41883397102355957, 'combined_time': 0.5098741054534912, 'qiskit_time': 0.2713038921356201, 'rustiq_time': 0.006908893585205078}, 'gate_counts': {'our_method': 76, 'combined_method': 74, 'qiskit_method': 180, 'rustiq_method': 114}, 'test_paulis_file': 'benchmarks/results/test_LiH.json'}\n",
      "H2O.json\n",
      "{'num_paulis': 184, 'times': {'our_time': 1.826855182647705, 'combined_time': 2.0217039585113525, 'qiskit_time': 1.5432188510894775, 'rustiq_time': 0.05791306495666504}, 'gate_counts': {'our_method': 277, 'combined_method': 274, 'qiskit_method': 786, 'rustiq_method': 352}, 'test_paulis_file': 'benchmarks/results/test_H2O.json'}\n",
      "benzene.json\n",
      "{'num_paulis': 1254, 'times': {'our_time': 18.847551107406616, 'combined_time': 22.20553994178772, 'qiskit_time': 12.602912902832031, 'rustiq_time': 7.250926733016968}, 'gate_counts': {'our_method': 2479, 'combined_method': 2470, 'qiskit_method': 7602, 'rustiq_method': 3356}, 'test_paulis_file': 'benchmarks/results/test_benzene.json'}\n"
     ]
    }
   ],
   "source": [
    "#Then compare the Hamiltonian simulation paulis in HS_paulis folder\n",
    "run_experiment_folder(folder_path = \"benchmarks/HS_paulis\", save_output = False, threshold = 1)"
   ]
  },
  {
   "cell_type": "code",
   "execution_count": 11,
   "id": "f36637cf",
   "metadata": {},
   "outputs": [
    {
     "name": "stdout",
     "output_type": "stream",
     "text": [
      "max_cut_benchmark_n14_e60_l5.json\n",
      "{'num_paulis': 370, 'times': {'our_time': 17.008366107940674, 'combined_time': 14.982296228408813, 'qiskit_time': 0.5040137767791748, 'rustiq_time': 0.09271717071533203}, 'gate_counts': {'our_method': 355, 'combined_method': 355, 'qiskit_method': 588, 'rustiq_method': 463}, 'test_paulis_file': 'benchmarks/results/test_max_cut_benchmark_n14_e60_l5.json'}\n",
      "max_cut_benchmark_n10_e45_l20.json\n",
      "{'num_paulis': 1100, 'times': {'our_time': 28.745305061340332, 'combined_time': 30.85427188873291, 'qiskit_time': 2.1607210636138916, 'rustiq_time': 0.5809931755065918}, 'gate_counts': {'our_method': 1001, 'combined_method': 1001, 'qiskit_method': 1798, 'rustiq_method': 1119}, 'test_paulis_file': 'benchmarks/results/test_max_cut_benchmark_n10_e45_l20.json'}\n"
     ]
    }
   ],
   "source": [
    "#Then compare the MAXCUT paulis in max_cut_paulis folder\n",
    "\n",
    "run_experiment_folder(folder_path = \"benchmarks/max_cut_paulis\", save_output = False, threshold = 1)"
   ]
  },
  {
   "cell_type": "code",
   "execution_count": 12,
   "id": "d82da7da",
   "metadata": {},
   "outputs": [
    {
     "name": "stdout",
     "output_type": "stream",
     "text": [
      "max_cut_benchmark_n14_e60_l5.json\n",
      "{'num_paulis': 370, 'times': {'our_time': 8.170368909835815, 'combined_time': 8.644093990325928, 'qiskit_time': 0.4975261688232422, 'rustiq_time': 0.09200096130371094}, 'gate_counts': {'our_method': 380, 'combined_method': 380, 'qiskit_method': 588, 'rustiq_method': 462}, 'test_paulis_file': 'benchmarks/results/test_max_cut_benchmark_n14_e60_l5.json'}\n",
      "max_cut_benchmark_n10_e45_l20.json\n",
      "{'num_paulis': 1100, 'times': {'our_time': 5.964715003967285, 'combined_time': 7.297049045562744, 'qiskit_time': 1.737131118774414, 'rustiq_time': 0.5721719264984131}, 'gate_counts': {'our_method': 1071, 'combined_method': 1071, 'qiskit_method': 1798, 'rustiq_method': 1119}, 'test_paulis_file': 'benchmarks/results/test_max_cut_benchmark_n10_e45_l20.json'}\n"
     ]
    }
   ],
   "source": [
    "#since in the maxcut problems there are many commuting terms and it's slow to search through all of them,\n",
    "#we can set the threshold to 2 to early stop the search once found a simplified pauli of weight 2\n",
    "#you can see the run time difference, for the second benchmark runtime reduces from 30second to 7 seconds.\n",
    "\n",
    "run_experiment_folder(folder_path = \"benchmarks/max_cut_paulis\", save_output = False, threshold = 2)"
   ]
  },
  {
   "cell_type": "code",
   "execution_count": null,
   "id": "77c0d26d",
   "metadata": {},
   "outputs": [],
   "source": []
  },
  {
   "cell_type": "code",
   "execution_count": null,
   "id": "3933c6ff",
   "metadata": {},
   "outputs": [],
   "source": []
  }
 ],
 "metadata": {
  "kernelspec": {
   "display_name": "Python 3 (ipykernel)",
   "language": "python",
   "name": "python3"
  },
  "language_info": {
   "codemirror_mode": {
    "name": "ipython",
    "version": 3
   },
   "file_extension": ".py",
   "mimetype": "text/x-python",
   "name": "python",
   "nbconvert_exporter": "python",
   "pygments_lexer": "ipython3",
   "version": "3.10.14"
  }
 },
 "nbformat": 4,
 "nbformat_minor": 5
}
