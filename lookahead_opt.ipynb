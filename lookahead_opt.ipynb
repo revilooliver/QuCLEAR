{
 "cells": [
  {
   "cell_type": "code",
   "execution_count": 1,
   "id": "9c238604-5e42-4a53-a2bc-3412c403d4b7",
   "metadata": {},
   "outputs": [],
   "source": [
    "import re\n",
    "import qiskit\n",
    "import numpy as np\n",
    "from typing import List\n",
    "from qiskit import *\n"
   ]
  },
  {
   "cell_type": "code",
   "execution_count": 2,
   "id": "f99894eb",
   "metadata": {},
   "outputs": [],
   "source": [
    "from circuit_generator import construct_qcc_circuit, simulate_expectationval, update_observables \\\n",
    "             ,fc_tree_circuit, fc_tree_commute_circuit, fc_tree_commute_lookahead_circuit\n",
    "from utils import compare_lists\n"
   ]
  },
  {
   "cell_type": "code",
   "execution_count": 3,
   "id": "6e7e021b",
   "metadata": {},
   "outputs": [],
   "source": [
    "# test_observable = 'ZZZZZZ'\n",
    "# test_paulis = ['XXXXXY', 'XXXIYI', 'IXIXXY', 'IXIIYI', 'IXXIXY', 'XXIXYI', 'IIIXIY', 'XIYIII']\n",
    "# test_params = [0.0944527, 0.04799566, -0.0590973, -0.05908328, 0.04114604, 0.02695483, 0.02604318, 0.03485649]"
   ]
  },
  {
   "cell_type": "code",
   "execution_count": 4,
   "id": "feac7833",
   "metadata": {},
   "outputs": [],
   "source": [
    "# test_observable = 'ZZZZZZZZ'\n",
    "# test_paulis = ['XXIIIIXY', 'IIXXXYII', 'IXXIXIIY', 'XIIXIXYI',\n",
    "#                   'XXIIXYII', 'IXIXIXIY', 'XIXIXIYI', 'IIXXIIXY']\n",
    "# test_params = [1.16692654, 0.27223177, -0.93402707, -0.92067998, 0.06852241, -0.42444632, -0.41270851, -0.01068001]"
   ]
  },
  {
   "cell_type": "code",
   "execution_count": 5,
   "id": "d4ceddda",
   "metadata": {},
   "outputs": [],
   "source": [
    "# #simplified two strings:\n",
    "# test_observables = ['XXXXXX', 'YYYYYY', 'XYXYXY', 'YXYXYX', 'YYYXXX', 'XXXYYY', 'ZZZZZZ', 'ZZIIII', 'IIZZII', 'IIIIZZ', 'XXXXXZ','XXXXZZ', 'XXXZZZ','XXZZZZ','XZZZZZ','ZZZXXX']\n",
    "# test_paulis = ['XXXXXY', 'XXXIYI', 'IXIXXY', 'IXIIYI', 'IXXIXY', 'XXIXYI', 'IIIXIY', 'XIYIII']\n",
    "# test_params = [0.0944527, 0.04799566, -0.0590973, -0.05908328, 0.04114604, 0.02695483, 0.02604318, 0.03485649]"
   ]
  },
  {
   "cell_type": "code",
   "execution_count": 6,
   "id": "f68a81ee",
   "metadata": {},
   "outputs": [],
   "source": [
    "from benchmarks.UCCSD_entanglers import generate_UCCSD_entanglers"
   ]
  },
  {
   "cell_type": "code",
   "execution_count": 7,
   "id": "0c283024",
   "metadata": {},
   "outputs": [],
   "source": [
    "test_observables = ['XXXXXXXXXXXX', 'ZZZZZZZZZZZZ']\n",
    "test_paulis = generate_UCCSD_entanglers(6,12)[0:40]\n",
    "test_params = [0.01 * i for i in range(len(test_paulis))]"
   ]
  },
  {
   "cell_type": "markdown",
   "id": "63fe1b0e",
   "metadata": {},
   "source": [
    "First run the original circuit and simulate"
   ]
  },
  {
   "cell_type": "code",
   "execution_count": 8,
   "id": "898ad66e",
   "metadata": {},
   "outputs": [
    {
     "data": {
      "text/plain": [
       "560"
      ]
     },
     "execution_count": 8,
     "metadata": {},
     "output_type": "execute_result"
    }
   ],
   "source": [
    "origin_qc = construct_qcc_circuit(entanglers = test_paulis, params = test_params, barrier=False)\n",
    "origin_qc.count_ops()['cx']"
   ]
  },
  {
   "cell_type": "code",
   "execution_count": 9,
   "id": "fb631aa5",
   "metadata": {},
   "outputs": [
    {
     "data": {
      "text/plain": [
       "270"
      ]
     },
     "execution_count": 9,
     "metadata": {},
     "output_type": "execute_result"
    }
   ],
   "source": [
    "origin_qiskit = transpile(origin_qc, optimization_level = 3, basis_gates = [\"cx\", \"sx\", \"x\", \"rz\"])\n",
    "origin_qiskit.count_ops()['cx']"
   ]
  },
  {
   "cell_type": "code",
   "execution_count": 10,
   "id": "01689845",
   "metadata": {},
   "outputs": [
    {
     "name": "stdout",
     "output_type": "stream",
     "text": [
      "XXXXXXXXXXXX\n",
      "ZZZZZZZZZZZZ\n"
     ]
    }
   ],
   "source": [
    "orign_expect_vals = []\n",
    "for obs in test_observables:\n",
    "    expectation_val = simulate_expectationval(origin_qc, observable=obs, shots=100000)\n",
    "    orign_expect_vals.append(expectation_val)"
   ]
  },
  {
   "cell_type": "code",
   "execution_count": 11,
   "id": "b680415c",
   "metadata": {},
   "outputs": [
    {
     "data": {
      "text/plain": [
       "[-0.0009, 1.0]"
      ]
     },
     "execution_count": 11,
     "metadata": {},
     "output_type": "execute_result"
    }
   ],
   "source": [
    "orign_expect_vals"
   ]
  },
  {
   "cell_type": "markdown",
   "id": "757c1f0f",
   "metadata": {},
   "source": [
    "Now let's generate the optimized fully connected circuits, \n",
    "there are four versions: 1. generate_fc_tree_circuit: Just local search\n",
    "2. generate_fc_tree_commute_circuit: local search + commute\n",
    "3. generate_fc_tree_lookahead_circuit: local search + lookahead\n",
    "4. generate_fc_tree_lookahead_commute_circuit: local search + commute + lookahead"
   ]
  },
  {
   "cell_type": "code",
   "execution_count": 12,
   "id": "e1594565",
   "metadata": {},
   "outputs": [],
   "source": [
    "opt_qc, append_clifford, opt_paulis, opt_params = fc_tree_circuit(entanglers = test_paulis, params = test_params, barrier=False)"
   ]
  },
  {
   "cell_type": "code",
   "execution_count": 13,
   "id": "e571a031",
   "metadata": {},
   "outputs": [
    {
     "data": {
      "text/plain": [
       "120"
      ]
     },
     "execution_count": 13,
     "metadata": {},
     "output_type": "execute_result"
    }
   ],
   "source": [
    "opt_qc.count_ops()['cx']"
   ]
  },
  {
   "cell_type": "code",
   "execution_count": 14,
   "id": "6b105de0",
   "metadata": {},
   "outputs": [
    {
     "data": {
      "text/plain": [
       "119"
      ]
     },
     "execution_count": 14,
     "metadata": {},
     "output_type": "execute_result"
    }
   ],
   "source": [
    "opt_qiskit = transpile(opt_qc, optimization_level = 3, basis_gates = [\"cx\", \"sx\", \"x\", \"rz\"])\n",
    "opt_qiskit.count_ops()['cx']"
   ]
  },
  {
   "cell_type": "code",
   "execution_count": 15,
   "id": "84660b93",
   "metadata": {},
   "outputs": [
    {
     "name": "stdout",
     "output_type": "stream",
     "text": [
      "['ZXZIZZXXZXZZ', 'IXIZZYIZIXXX']\n"
     ]
    }
   ],
   "source": [
    "updated_signs, updated_observables = update_observables(test_observables, [append_clifford])\n",
    "print(updated_observables)"
   ]
  },
  {
   "cell_type": "code",
   "execution_count": 16,
   "id": "dad1314f",
   "metadata": {},
   "outputs": [
    {
     "name": "stdout",
     "output_type": "stream",
     "text": [
      "ZZXZXXZZZZXZ\n",
      "XXXZZZYZZZXZ\n"
     ]
    }
   ],
   "source": [
    "opt_expect_vals = []\n",
    "for idx, obs in enumerate(updated_observables):\n",
    "    expectation_val = simulate_expectationval(opt_qc, observable=obs, shots=100000)\n",
    "    if updated_signs[idx] == '+1':\n",
    "        updated_sign = 1\n",
    "    elif updated_signs[idx] == '-1':\n",
    "        updated_sign = -1\n",
    "    else:\n",
    "        raise Exception(\"incorrect sign\")\n",
    "    opt_expect_vals.append(updated_sign * expectation_val)"
   ]
  },
  {
   "cell_type": "code",
   "execution_count": 17,
   "id": "939c1e1c",
   "metadata": {},
   "outputs": [
    {
     "data": {
      "text/plain": [
       "[0.00056, 1.0]"
      ]
     },
     "execution_count": 17,
     "metadata": {},
     "output_type": "execute_result"
    }
   ],
   "source": [
    "opt_expect_vals"
   ]
  },
  {
   "cell_type": "markdown",
   "id": "3f33ad2c",
   "metadata": {},
   "source": [
    "Run the optimized versoin with lookahead and commute"
   ]
  },
  {
   "cell_type": "code",
   "execution_count": 18,
   "id": "c81cdaf5",
   "metadata": {},
   "outputs": [
    {
     "data": {
      "text/plain": [
       "58"
      ]
     },
     "execution_count": 18,
     "metadata": {},
     "output_type": "execute_result"
    }
   ],
   "source": [
    "opt_qc2, append_clifford2, sorted_entanglers2 = fc_tree_commute_lookahead_circuit(entanglers=test_paulis, params=test_params, barrier=False, lookahead_size = 5)\n",
    "opt_qc2.count_ops()['cx']"
   ]
  },
  {
   "cell_type": "code",
   "execution_count": 19,
   "id": "629c1c2b",
   "metadata": {},
   "outputs": [
    {
     "data": {
      "text/plain": [
       "53"
      ]
     },
     "execution_count": 19,
     "metadata": {},
     "output_type": "execute_result"
    }
   ],
   "source": [
    "opt_qiskit2 = transpile(opt_qc2, optimization_level = 3, basis_gates = [\"cx\", \"sx\", \"x\", \"rz\"])\n",
    "opt_qiskit2.count_ops()['cx']"
   ]
  },
  {
   "cell_type": "code",
   "execution_count": 20,
   "id": "f3e63be3",
   "metadata": {},
   "outputs": [
    {
     "name": "stdout",
     "output_type": "stream",
     "text": [
      "['ZZYXZXYZIYYY', 'IIIYIIIIXXII']\n"
     ]
    }
   ],
   "source": [
    "updated_signs2, updated_observables2 = update_observables(test_observables, [append_clifford2])\n",
    "print(updated_observables2)"
   ]
  },
  {
   "cell_type": "code",
   "execution_count": 21,
   "id": "35177b84",
   "metadata": {},
   "outputs": [
    {
     "name": "stdout",
     "output_type": "stream",
     "text": [
      "YYYZZYXZXYZZ\n",
      "ZZXXZZZZYZZZ\n"
     ]
    }
   ],
   "source": [
    "opt_expect_vals2 = []\n",
    "for idx, obs in enumerate(updated_observables2):\n",
    "    expectation_val = simulate_expectationval(opt_qc2, observable=obs, shots=100000)\n",
    "    if updated_signs2[idx] == '+1':\n",
    "        updated_sign = 1\n",
    "    elif updated_signs2[idx] == '-1':\n",
    "        updated_sign = -1\n",
    "    else:\n",
    "        raise Exception(\"incorrect sign\")\n",
    "    opt_expect_vals2.append(updated_sign * expectation_val)"
   ]
  },
  {
   "cell_type": "code",
   "execution_count": 22,
   "id": "dd95d7c4",
   "metadata": {},
   "outputs": [
    {
     "data": {
      "text/plain": [
       "[0.00512, 1.0]"
      ]
     },
     "execution_count": 22,
     "metadata": {},
     "output_type": "execute_result"
    }
   ],
   "source": [
    "opt_expect_vals2"
   ]
  },
  {
   "cell_type": "code",
   "execution_count": null,
   "id": "eb92fae6",
   "metadata": {},
   "outputs": [],
   "source": []
  },
  {
   "cell_type": "markdown",
   "id": "bc299825",
   "metadata": {},
   "source": [
    "Validate the results"
   ]
  },
  {
   "cell_type": "code",
   "execution_count": 27,
   "id": "acb87998",
   "metadata": {},
   "outputs": [
    {
     "name": "stdout",
     "output_type": "stream",
     "text": [
      "Lists are within the tolerance.\n"
     ]
    }
   ],
   "source": [
    "try:\n",
    "    compare_lists(orign_expect_vals, opt_expect_vals, tolerance = 0.01)\n",
    "    print(\"Lists are within the tolerance.\")\n",
    "except ValueError as e:\n",
    "    print(e)"
   ]
  },
  {
   "cell_type": "code",
   "execution_count": 28,
   "id": "4ee8dfb6",
   "metadata": {},
   "outputs": [
    {
     "name": "stdout",
     "output_type": "stream",
     "text": [
      "Lists are within the tolerance.\n"
     ]
    }
   ],
   "source": [
    "try:\n",
    "    compare_lists(orign_expect_vals, opt_expect_vals2, tolerance = 0.01)\n",
    "    print(\"Lists are within the tolerance.\")\n",
    "except ValueError as e:\n",
    "    print(e)"
   ]
  },
  {
   "cell_type": "code",
   "execution_count": null,
   "id": "47388103",
   "metadata": {},
   "outputs": [],
   "source": []
  }
 ],
 "metadata": {
  "kernelspec": {
   "display_name": "Python 3 (ipykernel)",
   "language": "python",
   "name": "python3"
  },
  "language_info": {
   "codemirror_mode": {
    "name": "ipython",
    "version": 3
   },
   "file_extension": ".py",
   "mimetype": "text/x-python",
   "name": "python",
   "nbconvert_exporter": "python",
   "pygments_lexer": "ipython3",
   "version": "3.10.14"
  }
 },
 "nbformat": 4,
 "nbformat_minor": 5
}
