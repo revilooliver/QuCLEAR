{
 "cells": [
  {
   "cell_type": "code",
   "execution_count": 1,
   "metadata": {},
   "outputs": [],
   "source": [
    "import json\n",
    "import os"
   ]
  },
  {
   "cell_type": "code",
   "execution_count": 2,
   "metadata": {},
   "outputs": [],
   "source": [
    "import tables_utilities as tables_utl\n",
    "import importlib\n",
    "importlib.reload(tables_utl)\n",
    "file_dir=\"../experiments/results_google/\"\n",
    "from tabulate import tabulate"
   ]
  },
  {
   "cell_type": "code",
   "execution_count": 3,
   "metadata": {},
   "outputs": [
    {
     "name": "stdout",
     "output_type": "stream",
     "text": [
      "['test_paulihedral_Paulis13400.json', 'test_tetris_Paulis80.json', 'test_tetris_Paulis320.json', 'test_quclear_Paulis320.json', 'test_tetris_Paulis13400.json', 'test_paulihedral_Paulis1656.json', 'test_tetris_Paulis24.json', 'test_paulihedral_Paulis5376.json', 'test_quclear_Paulis5376.json', 'test_paulihedral_Paulis80.json', 'test_pytket_Paulis13400.json', 'test_paulihedral_Paulis320.json', 'test_quclear_Paulis1656.json', 'test_quclear_Paulis24.json', 'test_tetris_Paulis5376.json', 'test_quclear_Paulis13400.json', 'test_tetris_Paulis1656.json', 'test_paulihedral_Paulis24.json', 'test_quclear_Paulis80.json'] ../experiments/results_google/\n",
      "['test_H2O.json', 'test_quclear_H2O.json', 'test_paulihedral_H2O.json', 'test_tetris_H2O.json'] ../experiments/results_google/\n",
      "['test_LiH.json', 'test_paulihedral_LiH.json', 'test_quclear_LiH.json', 'test_tetris_LiH.json'] ../experiments/results_google/\n",
      "['test_paulihedral_benzene.json', 'test_tetris_benzene.json', 'test_benzene.json', 'test_pytket_benzene.json', 'test_quclear_benzene.json'] ../experiments/results_google/\n",
      "['test_tetris_max_cut_benchmark_regular_n20_e12_l1.json', 'test_max_cut_benchmark_regular_n20_e8_l1.json', 'test_paulihedral_max_cut_benchmark_regular_n20_e8_l1.json', 'test_tetris_max_cut_benchmark_regular_n20_e4_l1.json', 'test_pytket_max_cut_benchmark_regular_n20_e12_l1.json', 'test_quclear_max_cut_benchmark_connected_n10_e12_l1.json', 'test_quclear_max_cut_benchmark_connected_n15_e63_l1.json', 'test_tetris_max_cut_benchmark_regular_n15_e4_l1.json', 'test_max_cut_benchmark_regular_n20_e12_l1.json', 'test_quclear_max_cut_benchmark_regular_n20_e8_l1.json', 'test_quclear_max_cut_benchmark_regular_n20_e12_l1.json', 'test_max_cut_benchmark_connected_n15_e63_l1.json', 'test_max_cut_benchmark_connected_n20_e117_l1.json', 'test_paulihedral_max_cut_benchmark_connected_n20_e117_l1.json', 'test_paulihedral_max_cut_benchmark_connected_n10_e12_l1.json', 'test_quclear_max_cut_benchmark_regular_n20_e4_l1.json', 'test_max_cut_benchmark_regular_n15_e4_l1.json', 'test_paulihedral_max_cut_benchmark_regular_n15_e4_l1.json', 'test_tetris_max_cut_benchmark_connected_n10_e12_l1.json', 'test_quclear_max_cut_benchmark_connected_n20_e117_l1.json', 'test_paulihedral_max_cut_benchmark_connected_n15_e63_l1.json', 'test_tetris_max_cut_benchmark_connected_n15_e63_l1.json', 'test_paulihedral_max_cut_benchmark_regular_n20_e12_l1.json', 'test_max_cut_benchmark_connected_n10_e12_l1.json', 'test_tetris_max_cut_benchmark_connected_n20_e117_l1.json', 'test_tetris_max_cut_benchmark_regular_n20_e8_l1.json', 'test_quclear_max_cut_benchmark_regular_n15_e4_l1.json', 'test_max_cut_benchmark_regular_n20_e4_l1.json', 'test_paulihedral_max_cut_benchmark_regular_n20_e4_l1.json'] ../experiments/results_google/\n",
      "['test_labs_n10_layers1.json', 'test_tetris_labs_n15_layers1.json', 'test_labs_n20_layers1.json', 'test_paulihedral_labs_n15_layers1.json', 'test_quclear_labs_n20_layers1.json', 'test_quclear_labs_n10_layers1.json', 'test_pytket_labs_n20_layers1.json', 'test_paulihedral_labs_n20_layers1.json', 'test_quclear_labs_n15_layers1.json', 'test_paulihedral_labs_n10_layers1.json', 'test_tetris_labs_n10_layers1.json', 'test_labs_n15_layers1.json', 'test_tetris_labs_n20_layers1.json'] ../experiments/results_google/\n",
      "[[{'test_quclear_Paulis320.json': {'num_paulis': 320, 'gate_counts': {'combined_method': 782, 'qiskit_method': 816}, 'circuit_entangling_depth': {'combined_method': 564, 'qiskit_method': 775}, 'test_paulis_file': 'experiments/results_google/test_quclear_Paulis320.json', 'num_qubits': 8}, 'test_quclear_Paulis5376.json': {'num_paulis': 5376, 'gate_counts': {'combined_method': 19931, 'qiskit_method': 27854}, 'circuit_entangling_depth': {'combined_method': 12206, 'qiskit_method': 25452}, 'test_paulis_file': 'experiments/results_google/test_quclear_Paulis5376.json', 'num_qubits': 16}, 'test_quclear_Paulis1656.json': {'num_paulis': 1656, 'gate_counts': {'combined_method': 5139, 'qiskit_method': 6303}, 'circuit_entangling_depth': {'combined_method': 3454, 'qiskit_method': 5818}, 'test_paulis_file': 'experiments/results_google/test_quclear_Paulis1656.json', 'num_qubits': 12}, 'test_quclear_Paulis24.json': {'num_paulis': 24, 'gate_counts': {'combined_method': 28, 'qiskit_method': 35}, 'circuit_entangling_depth': {'combined_method': 22, 'qiskit_method': 35}, 'test_paulis_file': 'experiments/results_google/test_quclear_Paulis24.json', 'num_qubits': 4}, 'test_quclear_Paulis13400.json': {'num_paulis': 13400, 'gate_counts': {'combined_method': 63397, 'qiskit_method': 87039}, 'circuit_entangling_depth': {'combined_method': 35265, 'qiskit_method': 79859}, 'test_paulis_file': 'experiments/results_google/test_uccsd_paulis_e10_o20.json', 'num_qubits': 20}, 'test_quclear_Paulis80.json': {'num_paulis': 80, 'gate_counts': {'combined_method': 158, 'qiskit_method': 183}, 'circuit_entangling_depth': {'combined_method': 130, 'qiskit_method': 180}, 'test_paulis_file': 'experiments/results_google/test_quclear_Paulis80.json', 'num_qubits': 6}}], [{'test_quclear_H2O.json': {'num_paulis': 184, 'gate_counts': {'combined_method': 552, 'qiskit_method': 980}, 'circuit_entangling_depth': {'combined_method': 416, 'qiskit_method': 872}, 'test_paulis_file': 'experiments/results_google/test_quclear_H2O.json', 'num_qubits': 8}}, {'test_quclear_LiH.json': {'num_paulis': 61, 'gate_counts': {'combined_method': 143, 'qiskit_method': 222}, 'circuit_entangling_depth': {'combined_method': 126, 'qiskit_method': 201}, 'test_paulis_file': 'experiments/results_google/test_quclear_LiH.json', 'num_qubits': 6}}, {'test_quclear_benzene.json': {'num_paulis': 1254, 'gate_counts': {'combined_method': 6284, 'qiskit_method': 9005}, 'circuit_entangling_depth': {'combined_method': 4250, 'qiskit_method': 8102}, 'test_paulis_file': 'experiments/results_google/test_quclear_benzene.json', 'num_qubits': 12}}], [{'test_quclear_max_cut_benchmark_connected_n10_e12_l1.json': {'num_paulis': 22, 'gate_counts': {'combined_method': 46, 'qiskit_method': 28}, 'circuit_entangling_depth': {'combined_method': 32, 'qiskit_method': 13}, 'test_paulis_file': 'experiments/results_google/test_quclear_max_cut_benchmark_connected_n10_e12_l1.json', 'num_qubits': 10}, 'test_quclear_max_cut_benchmark_connected_n15_e63_l1.json': {'num_paulis': 78, 'gate_counts': {'combined_method': 207, 'qiskit_method': 218}, 'circuit_entangling_depth': {'combined_method': 128, 'qiskit_method': 99}, 'test_paulis_file': 'experiments/results_google/test_quclear_max_cut_benchmark_connected_n15_e63_l1.json', 'num_qubits': 15}, 'test_quclear_max_cut_benchmark_regular_n20_e8_l1.json': {'num_paulis': 100, 'gate_counts': {'combined_method': 393, 'qiskit_method': 337}, 'circuit_entangling_depth': {'combined_method': 199, 'qiskit_method': 197}, 'test_paulis_file': 'experiments/results_google/test_quclear_max_cut_benchmark_regular_n20_e8_l1.json', 'num_qubits': 20}, 'test_quclear_max_cut_benchmark_regular_n20_e12_l1.json': {'num_paulis': 140, 'gate_counts': {'combined_method': 517, 'qiskit_method': 505}, 'circuit_entangling_depth': {'combined_method': 272, 'qiskit_method': 317}, 'test_paulis_file': 'experiments/results_google/test_quclear_max_cut_benchmark_regular_n20_e12_l1.json', 'num_qubits': 20}, 'test_quclear_max_cut_benchmark_regular_n20_e4_l1.json': {'num_paulis': 60, 'gate_counts': {'combined_method': 229, 'qiskit_method': 140}, 'circuit_entangling_depth': {'combined_method': 102, 'qiskit_method': 57}, 'test_paulis_file': 'experiments/results_google/test_quclear_max_cut_benchmark_regular_n20_e4_l1.json', 'num_qubits': 20}, 'test_quclear_max_cut_benchmark_connected_n20_e117_l1.json': {'num_paulis': 137, 'gate_counts': {'combined_method': 463, 'qiskit_method': 470}, 'circuit_entangling_depth': {'combined_method': 226, 'qiskit_method': 208}, 'test_paulis_file': 'experiments/results_google/test_quclear_max_cut_benchmark_connected_n20_e117_l1.json', 'num_qubits': 20}, 'test_quclear_max_cut_benchmark_regular_n15_e4_l1.json': {'num_paulis': 45, 'gate_counts': {'combined_method': 163, 'qiskit_method': 100}, 'circuit_entangling_depth': {'combined_method': 100, 'qiskit_method': 49}, 'test_paulis_file': 'experiments/results_google/test_quclear_max_cut_benchmark_regular_n15_e4_l1.json', 'num_qubits': 15}}], [{'test_quclear_labs_n20_layers1.json': {'num_paulis': 635, 'gate_counts': {'combined_method': 3816, 'qiskit_method': 6493}, 'circuit_entangling_depth': {'combined_method': 2111, 'qiskit_method': 3809}, 'test_paulis_file': 'experiments/results_google/test_quclear_labs_n20_layers1.json', 'num_qubits': 20}, 'test_quclear_labs_n10_layers1.json': {'num_paulis': 80, 'gate_counts': {'combined_method': 256, 'qiskit_method': 526}, 'circuit_entangling_depth': {'combined_method': 205, 'qiskit_method': 344}, 'test_paulis_file': 'experiments/results_google/test_quclear_labs_n10_layers1.json', 'num_qubits': 10}, 'test_quclear_labs_n15_layers1.json': {'num_paulis': 267, 'gate_counts': {'combined_method': 1185, 'qiskit_method': 2487}, 'circuit_entangling_depth': {'combined_method': 702, 'qiskit_method': 1481}, 'test_paulis_file': 'experiments/results_google/test_quclear_labs_n15_layers1.json', 'num_qubits': 15}}]]\n"
     ]
    }
   ],
   "source": [
    "experiments=[[\"Paulis\"], [\"H2O\", \"LiH\", \"benzene\"], [\"max_cut\"], [\"labs\"]]\n",
    "# all_tags=[\"new\", \"qiskit\", \"rustiq\", \"paulihedral\", \"pytket\"] #new==quclear\n",
    "quclear_tag=\"quclear\"\n",
    "quclear_tag2=\"our\"\n",
    "quclear_tag3=\"combined\"\n",
    "qiskit_tag=\"qiskit\"\n",
    "rustiq_tag=\"rustiq\"\n",
    "paulihedral_tag=\"paulihedral\"\n",
    "pytket_tag=\"pytket\"\n",
    "tetris_tag='tetris'\n",
    "quclear_res=[[tables_utl.get_results(file_dir, quclear_tag, exper) for exper in block] for block in experiments]\n",
    "qiskit_res=[[tables_utl.get_results(file_dir, qiskit_tag, exper) for exper in block] for block in experiments]\n",
    "paulih_res=[[tables_utl.get_results(file_dir, paulihedral_tag, exper) for exper in block] for block in experiments]\n",
    "pytket_res=[[tables_utl.get_results(file_dir, pytket_tag, exper) for exper in block] for block in experiments]\n",
    "tetris_res=[[tables_utl.get_results(file_dir, tetris_tag, exper) for exper in block] for block in experiments]\n",
    "print(quclear_res)"
   ]
  },
  {
   "cell_type": "code",
   "execution_count": 4,
   "metadata": {},
   "outputs": [
    {
     "data": {
      "text/plain": [
       "[[{'test_quclear_Paulis320.json': {'num_paulis': 320,\n",
       "    'gate_counts': {'combined_method': 782, 'qiskit_method': 816},\n",
       "    'circuit_entangling_depth': {'combined_method': 564, 'qiskit_method': 775},\n",
       "    'test_paulis_file': 'experiments/results_google/test_quclear_Paulis320.json',\n",
       "    'num_qubits': 8},\n",
       "   'test_quclear_Paulis5376.json': {'num_paulis': 5376,\n",
       "    'gate_counts': {'combined_method': 19931, 'qiskit_method': 27854},\n",
       "    'circuit_entangling_depth': {'combined_method': 12206,\n",
       "     'qiskit_method': 25452},\n",
       "    'test_paulis_file': 'experiments/results_google/test_quclear_Paulis5376.json',\n",
       "    'num_qubits': 16},\n",
       "   'test_quclear_Paulis1656.json': {'num_paulis': 1656,\n",
       "    'gate_counts': {'combined_method': 5139, 'qiskit_method': 6303},\n",
       "    'circuit_entangling_depth': {'combined_method': 3454,\n",
       "     'qiskit_method': 5818},\n",
       "    'test_paulis_file': 'experiments/results_google/test_quclear_Paulis1656.json',\n",
       "    'num_qubits': 12},\n",
       "   'test_quclear_Paulis24.json': {'num_paulis': 24,\n",
       "    'gate_counts': {'combined_method': 28, 'qiskit_method': 35},\n",
       "    'circuit_entangling_depth': {'combined_method': 22, 'qiskit_method': 35},\n",
       "    'test_paulis_file': 'experiments/results_google/test_quclear_Paulis24.json',\n",
       "    'num_qubits': 4},\n",
       "   'test_quclear_Paulis13400.json': {'num_paulis': 13400,\n",
       "    'gate_counts': {'combined_method': 63397, 'qiskit_method': 87039},\n",
       "    'circuit_entangling_depth': {'combined_method': 35265,\n",
       "     'qiskit_method': 79859},\n",
       "    'test_paulis_file': 'experiments/results_google/test_uccsd_paulis_e10_o20.json',\n",
       "    'num_qubits': 20},\n",
       "   'test_quclear_Paulis80.json': {'num_paulis': 80,\n",
       "    'gate_counts': {'combined_method': 158, 'qiskit_method': 183},\n",
       "    'circuit_entangling_depth': {'combined_method': 130, 'qiskit_method': 180},\n",
       "    'test_paulis_file': 'experiments/results_google/test_quclear_Paulis80.json',\n",
       "    'num_qubits': 6}}],\n",
       " [{'test_quclear_H2O.json': {'num_paulis': 184,\n",
       "    'gate_counts': {'combined_method': 552, 'qiskit_method': 980},\n",
       "    'circuit_entangling_depth': {'combined_method': 416, 'qiskit_method': 872},\n",
       "    'test_paulis_file': 'experiments/results_google/test_quclear_H2O.json',\n",
       "    'num_qubits': 8}},\n",
       "  {'test_quclear_LiH.json': {'num_paulis': 61,\n",
       "    'gate_counts': {'combined_method': 143, 'qiskit_method': 222},\n",
       "    'circuit_entangling_depth': {'combined_method': 126, 'qiskit_method': 201},\n",
       "    'test_paulis_file': 'experiments/results_google/test_quclear_LiH.json',\n",
       "    'num_qubits': 6}},\n",
       "  {'test_quclear_benzene.json': {'num_paulis': 1254,\n",
       "    'gate_counts': {'combined_method': 6284, 'qiskit_method': 9005},\n",
       "    'circuit_entangling_depth': {'combined_method': 4250,\n",
       "     'qiskit_method': 8102},\n",
       "    'test_paulis_file': 'experiments/results_google/test_quclear_benzene.json',\n",
       "    'num_qubits': 12}}],\n",
       " [{'test_quclear_max_cut_benchmark_connected_n10_e12_l1.json': {'num_paulis': 22,\n",
       "    'gate_counts': {'combined_method': 46, 'qiskit_method': 28},\n",
       "    'circuit_entangling_depth': {'combined_method': 32, 'qiskit_method': 13},\n",
       "    'test_paulis_file': 'experiments/results_google/test_quclear_max_cut_benchmark_connected_n10_e12_l1.json',\n",
       "    'num_qubits': 10},\n",
       "   'test_quclear_max_cut_benchmark_connected_n15_e63_l1.json': {'num_paulis': 78,\n",
       "    'gate_counts': {'combined_method': 207, 'qiskit_method': 218},\n",
       "    'circuit_entangling_depth': {'combined_method': 128, 'qiskit_method': 99},\n",
       "    'test_paulis_file': 'experiments/results_google/test_quclear_max_cut_benchmark_connected_n15_e63_l1.json',\n",
       "    'num_qubits': 15},\n",
       "   'test_quclear_max_cut_benchmark_regular_n20_e8_l1.json': {'num_paulis': 100,\n",
       "    'gate_counts': {'combined_method': 393, 'qiskit_method': 337},\n",
       "    'circuit_entangling_depth': {'combined_method': 199, 'qiskit_method': 197},\n",
       "    'test_paulis_file': 'experiments/results_google/test_quclear_max_cut_benchmark_regular_n20_e8_l1.json',\n",
       "    'num_qubits': 20},\n",
       "   'test_quclear_max_cut_benchmark_regular_n20_e12_l1.json': {'num_paulis': 140,\n",
       "    'gate_counts': {'combined_method': 517, 'qiskit_method': 505},\n",
       "    'circuit_entangling_depth': {'combined_method': 272, 'qiskit_method': 317},\n",
       "    'test_paulis_file': 'experiments/results_google/test_quclear_max_cut_benchmark_regular_n20_e12_l1.json',\n",
       "    'num_qubits': 20},\n",
       "   'test_quclear_max_cut_benchmark_regular_n20_e4_l1.json': {'num_paulis': 60,\n",
       "    'gate_counts': {'combined_method': 229, 'qiskit_method': 140},\n",
       "    'circuit_entangling_depth': {'combined_method': 102, 'qiskit_method': 57},\n",
       "    'test_paulis_file': 'experiments/results_google/test_quclear_max_cut_benchmark_regular_n20_e4_l1.json',\n",
       "    'num_qubits': 20},\n",
       "   'test_quclear_max_cut_benchmark_connected_n20_e117_l1.json': {'num_paulis': 137,\n",
       "    'gate_counts': {'combined_method': 463, 'qiskit_method': 470},\n",
       "    'circuit_entangling_depth': {'combined_method': 226, 'qiskit_method': 208},\n",
       "    'test_paulis_file': 'experiments/results_google/test_quclear_max_cut_benchmark_connected_n20_e117_l1.json',\n",
       "    'num_qubits': 20},\n",
       "   'test_quclear_max_cut_benchmark_regular_n15_e4_l1.json': {'num_paulis': 45,\n",
       "    'gate_counts': {'combined_method': 163, 'qiskit_method': 100},\n",
       "    'circuit_entangling_depth': {'combined_method': 100, 'qiskit_method': 49},\n",
       "    'test_paulis_file': 'experiments/results_google/test_quclear_max_cut_benchmark_regular_n15_e4_l1.json',\n",
       "    'num_qubits': 15}}],\n",
       " [{'test_quclear_labs_n20_layers1.json': {'num_paulis': 635,\n",
       "    'gate_counts': {'combined_method': 3816, 'qiskit_method': 6493},\n",
       "    'circuit_entangling_depth': {'combined_method': 2111,\n",
       "     'qiskit_method': 3809},\n",
       "    'test_paulis_file': 'experiments/results_google/test_quclear_labs_n20_layers1.json',\n",
       "    'num_qubits': 20},\n",
       "   'test_quclear_labs_n10_layers1.json': {'num_paulis': 80,\n",
       "    'gate_counts': {'combined_method': 256, 'qiskit_method': 526},\n",
       "    'circuit_entangling_depth': {'combined_method': 205, 'qiskit_method': 344},\n",
       "    'test_paulis_file': 'experiments/results_google/test_quclear_labs_n10_layers1.json',\n",
       "    'num_qubits': 10},\n",
       "   'test_quclear_labs_n15_layers1.json': {'num_paulis': 267,\n",
       "    'gate_counts': {'combined_method': 1185, 'qiskit_method': 2487},\n",
       "    'circuit_entangling_depth': {'combined_method': 702,\n",
       "     'qiskit_method': 1481},\n",
       "    'test_paulis_file': 'experiments/results_google/test_quclear_labs_n15_layers1.json',\n",
       "    'num_qubits': 15}}]]"
      ]
     },
     "execution_count": 4,
     "metadata": {},
     "output_type": "execute_result"
    }
   ],
   "source": [
    "quclear_res"
   ]
  },
  {
   "cell_type": "code",
   "execution_count": 5,
   "metadata": {},
   "outputs": [
    {
     "name": "stdout",
     "output_type": "stream",
     "text": [
      "True\n",
      "True\n",
      "False\n",
      "True\n",
      "True\n",
      "dict_keys(['test_quclear_Paulis320.json', 'test_quclear_Paulis5376.json', 'test_quclear_Paulis1656.json', 'test_quclear_Paulis24.json', 'test_quclear_Paulis13400.json', 'test_quclear_Paulis80.json'])\n"
     ]
    }
   ],
   "source": [
    "quclear_uccsd=tables_utl.get_gate_counts(quclear_res[0][0], quclear_tag3)\n",
    "quclear_hs= {}\n",
    "for d in [tables_utl.get_gate_counts(exper, quclear_tag3) for exper in quclear_res[1]]:\n",
    "    quclear_hs |= d\n",
    "quclear_max_cut=tables_utl.get_gate_counts(quclear_res[2][0], quclear_tag3)\n",
    "quclear_labs=tables_utl.get_gate_counts(quclear_res[3][0], quclear_tag3)\n",
    "\n",
    "qiskit_uccsd=tables_utl.get_gate_counts(qiskit_res[0][0], qiskit_tag)\n",
    "qiskit_hs= {}\n",
    "for d in [tables_utl.get_gate_counts(exper, qiskit_tag) for exper in qiskit_res[1]]:\n",
    "    qiskit_hs |= d\n",
    "qiskit_max_cut=tables_utl.get_gate_counts(qiskit_res[2][0], qiskit_tag)\n",
    "qiskit_labs=tables_utl.get_gate_counts(qiskit_res[3][0], qiskit_tag)\n",
    "\n",
    "\n",
    "paulih_uccsd=tables_utl.get_gate_counts(paulih_res[0][0], paulihedral_tag)\n",
    "paulih_hs= {}\n",
    "for d in [tables_utl.get_gate_counts(exper, paulihedral_tag) for exper in paulih_res[1]]:\n",
    "    paulih_hs |= d\n",
    "paulih_max_cut=tables_utl.get_gate_counts(paulih_res[2][0], paulihedral_tag)\n",
    "paulih_labs=tables_utl.get_gate_counts(paulih_res[3][0], paulihedral_tag)\n",
    "\n",
    "pytket_uccsd=tables_utl.get_gate_counts(pytket_res[0][0], pytket_tag)\n",
    "pytket_hs= {}\n",
    "for d in [tables_utl.get_gate_counts(exper, pytket_tag) for exper in pytket_res[1]]:\n",
    "    pytket_hs |= d\n",
    "pytket_max_cut=tables_utl.get_gate_counts(pytket_res[2][0], pytket_tag)\n",
    "pytket_labs=tables_utl.get_gate_counts(pytket_res[3][0], pytket_tag)\n",
    "\n",
    "tetris_uccsd=tables_utl.get_gate_counts(tetris_res[0][0], tetris_tag)\n",
    "tetris_hs= {}\n",
    "for d in [tables_utl.get_gate_counts(exper, tetris_tag) for exper in tetris_res[1]]:\n",
    "    tetris_hs |= d\n",
    "tetris_max_cut=tables_utl.get_gate_counts(tetris_res[2][0], tetris_tag)\n",
    "tetris_labs=tables_utl.get_gate_counts(tetris_res[3][0], tetris_tag)\n",
    "\n",
    "\n",
    "tables_utl.test_lenghts_res(quclear_res)\n",
    "tables_utl.test_lenghts_res(qiskit_res)\n",
    "tables_utl.test_lenghts_res(pytket_res)\n",
    "tables_utl.test_lenghts_res(paulih_res)\n",
    "tables_utl.test_lenghts_res(tetris_res)\n",
    "\n",
    "data_all = [[qiskit_uccsd, pytket_uccsd, paulih_uccsd, tetris_uccsd, quclear_uccsd],\n",
    " [qiskit_hs, pytket_hs, paulih_hs, tetris_hs, quclear_hs],\n",
    " [qiskit_labs, pytket_labs, paulih_labs, tetris_labs, quclear_labs],\n",
    " [qiskit_max_cut, pytket_max_cut, paulih_max_cut, tetris_max_cut, quclear_max_cut],]\n",
    "print(quclear_uccsd.keys())"
   ]
  },
  {
   "cell_type": "code",
   "execution_count": 6,
   "metadata": {},
   "outputs": [],
   "source": [
    "def get_table(data_all, experiment):\n",
    "    table_data = []\n",
    "    uccsd_files = ['test_quclear_Paulis13400.json']\n",
    "    hs_files = ['test_quclear_benzene.json']\n",
    "    labs_files = ['test_quclear_labs_n20_layers1.json']\n",
    "    max_cut_files = ['test_quclear_max_cut_benchmark_regular_n20_e12_l1.json']\n",
    "    file_names = [uccsd_files, hs_files, labs_files, max_cut_files]\n",
    "    for idx, data_bench in enumerate(data_all):\n",
    "        qiskit, pytket, paulih, tetris, quclear = data_bench[0],data_bench[1],data_bench[2],data_bench[3],data_bench[4]\n",
    "        files = file_names[idx]\n",
    "        for file in files:\n",
    "            qiskit_f, pytket_f, paulih_f, tetris_f, quclear_f= tables_utl.get_hardware_data_handles(qiskit, pytket, paulih, tetris, quclear, file)\n",
    "            row = [file] + [qiskit_f[experiment], pytket_f[experiment], paulih_f[experiment], tetris_f[experiment], quclear_f[experiment]]\n",
    "            table_data.append(row)\n",
    "\n",
    "            # Define table headers\n",
    "    headers = [\"Benchmark\", \"Qiskit\", \"Pytket\", \"PauliH\", \"Tetris\", 'QuCLEAR']\n",
    "\n",
    "    # Generate formatted table\n",
    "    formatted_table = tabulate(table_data, headers=headers, tablefmt=\"grid\")\n",
    "    print(formatted_table)"
   ]
  },
  {
   "cell_type": "code",
   "execution_count": 7,
   "metadata": {},
   "outputs": [
    {
     "name": "stdout",
     "output_type": "stream",
     "text": [
      "+--------------------------------------------------------+----------+----------+----------+----------+-----------+\n",
      "| Benchmark                                              |   Qiskit |   Pytket |   PauliH |   Tetris |   QuCLEAR |\n",
      "+========================================================+==========+==========+==========+==========+===========+\n",
      "| test_quclear_Paulis13400.json                          |    87039 |   198059 |    83933 |    79087 |     63397 |\n",
      "+--------------------------------------------------------+----------+----------+----------+----------+-----------+\n",
      "| test_quclear_benzene.json                              |     9005 |     9433 |     9447 |     9452 |      6284 |\n",
      "+--------------------------------------------------------+----------+----------+----------+----------+-----------+\n",
      "| test_quclear_labs_n20_layers1.json                     |     6493 |     4584 |     7085 |     7095 |      3816 |\n",
      "+--------------------------------------------------------+----------+----------+----------+----------+-----------+\n",
      "| test_quclear_max_cut_benchmark_regular_n20_e12_l1.json |      505 |      742 |      494 |      536 |       517 |\n",
      "+--------------------------------------------------------+----------+----------+----------+----------+-----------+\n"
     ]
    }
   ],
   "source": [
    "get_table(data_all, 'cnots')"
   ]
  },
  {
   "cell_type": "code",
   "execution_count": null,
   "metadata": {},
   "outputs": [],
   "source": []
  }
 ],
 "metadata": {
  "kernelspec": {
   "display_name": "QuCLEAR_env",
   "language": "python",
   "name": "python3"
  },
  "language_info": {
   "codemirror_mode": {
    "name": "ipython",
    "version": 3
   },
   "file_extension": ".py",
   "mimetype": "text/x-python",
   "name": "python",
   "nbconvert_exporter": "python",
   "pygments_lexer": "ipython3",
   "version": "3.10.15"
  }
 },
 "nbformat": 4,
 "nbformat_minor": 2
}
