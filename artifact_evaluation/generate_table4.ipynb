{
 "cells": [
  {
   "cell_type": "code",
   "execution_count": 5,
   "id": "9c238604-5e42-4a53-a2bc-3412c403d4b7",
   "metadata": {},
   "outputs": [],
   "source": [
    "import re\n",
    "import json\n",
    "import time\n",
    "import os\n",
    "import sys\n",
    "import numpy as np\n",
    "import qiskit\n",
    "\n",
    "from qiskit import transpile\n",
    "from qiskit_aer import AerSimulator\n",
    "from qiskit.converters import circuit_to_dag\n",
    "\n",
    "# Dynamically add the project root to sys.path\n",
    "project_root = os.path.abspath(os.path.join(os.path.dirname(os.getcwd())))  # Adjust path to root\n",
    "sys.path.append(project_root)\n",
    "\n",
    "from src.CE_module import construct_qcc_circuit, CE_recur_tree\n",
    "from src.CA_module import extract_CNOT_network, update_probabilities, update_observables\n",
    "from src.utilities import compare_lists, generate_pauli_strings\n",
    "from benchmarks.UCCSD_entanglers import generate_UCCSD_entanglers"
   ]
  },
  {
   "cell_type": "code",
   "execution_count": 3,
   "id": "3c33dc7b",
   "metadata": {},
   "outputs": [
    {
     "name": "stdout",
     "output_type": "stream",
     "text": [
      "801\n"
     ]
    }
   ],
   "source": [
    "#first compare the UCCSD ansatz\n",
    "test_paulis = generate_UCCSD_entanglers(10, 20)\n",
    "test_params = [0.01 * i for i in range(len(test_paulis))]\n",
    "\n",
    "start_time = time.time()\n",
    "opt_qc_f2, append_clifford_f2, sorted_entanglers_f2 = CE_recur_tree(entanglers=test_paulis, params=test_params, barrier=False)\n",
    "opt_qiskit = transpile(opt_qc_f2, optimization_level=3, basis_gates=[\"cx\", \"sx\", \"x\", \"rz\"])\n",
    "end_time = time.time()\n",
    "combined_time = end_time - start_time"
   ]
  },
  {
   "cell_type": "code",
   "execution_count": 4,
   "id": "3119d1f0",
   "metadata": {},
   "outputs": [
    {
     "data": {
      "text/plain": [
       "OrderedDict([('rz', 36679), ('cx', 24022), ('sx', 23637), ('x', 881)])"
      ]
     },
     "execution_count": 4,
     "metadata": {},
     "output_type": "execute_result"
    }
   ],
   "source": [
    "opt_qiskit.count_ops()"
   ]
  },
  {
   "cell_type": "code",
   "execution_count": 6,
   "id": "e3a9e086",
   "metadata": {},
   "outputs": [
    {
     "name": "stdout",
     "output_type": "stream",
     "text": [
      "num_obs 10 compile_time 0.05076193809509277\n",
      "num_obs 50 compile_time 0.11133980751037598\n",
      "num_obs 100 compile_time 0.2135317325592041\n",
      "num_obs 500 compile_time 1.038912057876587\n",
      "num_obs 1000 compile_time 2.0829989910125732\n",
      "num_obs 5000 compile_time 10.279476165771484\n"
     ]
    }
   ],
   "source": [
    "for num_obs in [10, 50, 100, 500, 1000, 5000]:\n",
    "    random_paulis = generate_pauli_strings(20, num_obs)\n",
    "    start_time = time.time()\n",
    "    updated_signs, updated_observables = update_observables(random_paulis, [append_clifford_f2])\n",
    "    end_time = time.time()\n",
    "    compile_time = end_time - start_time\n",
    "    print(\"num_obs\", num_obs, \"compile_time\", compile_time)"
   ]
  },
  {
   "cell_type": "code",
   "execution_count": 7,
   "id": "daed7329",
   "metadata": {},
   "outputs": [],
   "source": [
    "#then compare the compile time for MAXCUT \n",
    "with open(\"../benchmarks/max_cut_paulis/max_cut_benchmark_regular_n20_e12_l1.json\", \"r\") as file:\n",
    "    test_paulis = json.load(file)\n",
    "test_params = [0.01 * i for i in range(len(test_paulis))]\n",
    "\n",
    "start_time = time.time()\n",
    "opt_qc, append_clifford, sorted_entanglers = CE_recur_tree(entanglers=test_paulis, params=test_params, barrier=False)\n",
    "opt_qiskit = transpile(opt_qc, optimization_level=3, basis_gates=[\"cx\", \"sx\", \"x\", \"rz\"])\n",
    "end_time = time.time()\n",
    "opt_qiskit.measure_active()\n",
    "combined_time = end_time - start_time"
   ]
  },
  {
   "cell_type": "code",
   "execution_count": 8,
   "id": "f9587d7b",
   "metadata": {},
   "outputs": [
    {
     "data": {
      "text/plain": [
       "OrderedDict([('cx', 171),\n",
       "             ('rz', 156),\n",
       "             ('sx', 20),\n",
       "             ('measure', 20),\n",
       "             ('barrier', 1)])"
      ]
     },
     "execution_count": 8,
     "metadata": {},
     "output_type": "execute_result"
    }
   ],
   "source": [
    "opt_qiskit.count_ops()"
   ]
  },
  {
   "cell_type": "code",
   "execution_count": 9,
   "id": "93d067ae",
   "metadata": {},
   "outputs": [
    {
     "name": "stdout",
     "output_type": "stream",
     "text": [
      "num_states 10 compile_time 0.0034470558166503906\n",
      "num_states 50 compile_time 0.008790016174316406\n",
      "num_states 100 compile_time 0.016021013259887695\n",
      "num_states 500 compile_time 0.07719922065734863\n",
      "num_states 1000 compile_time 0.14345502853393555\n",
      "num_states 5000 compile_time 0.562302827835083\n"
     ]
    }
   ],
   "source": [
    "simulator = AerSimulator()\n",
    "cnot_network = extract_CNOT_network(append_clifford)\n",
    "for num_states in [10, 50, 100, 500, 1000, 5000]:\n",
    "    opt_result = simulator.run(opt_qiskit, shots = num_states).result()\n",
    "    start_time = time.time()\n",
    "    dag = circuit_to_dag(cnot_network)\n",
    "    updated_probs = update_probabilities(opt_result.get_counts(), dag)\n",
    "    end_time = time.time()\n",
    "    compile_time = end_time - start_time\n",
    "    print(\"num_states\", num_states, \"compile_time\", compile_time)"
   ]
  },
  {
   "cell_type": "code",
   "execution_count": null,
   "id": "f4f56876",
   "metadata": {},
   "outputs": [],
   "source": []
  }
 ],
 "metadata": {
  "kernelspec": {
   "display_name": "QuClear_test",
   "language": "python",
   "name": "python3"
  },
  "language_info": {
   "codemirror_mode": {
    "name": "ipython",
    "version": 3
   },
   "file_extension": ".py",
   "mimetype": "text/x-python",
   "name": "python",
   "nbconvert_exporter": "python",
   "pygments_lexer": "ipython3",
   "version": "3.10.14"
  }
 },
 "nbformat": 4,
 "nbformat_minor": 5
}
