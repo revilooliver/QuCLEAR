{
 "cells": [
  {
   "cell_type": "code",
   "execution_count": 1,
   "metadata": {},
   "outputs": [],
   "source": [
    "import json\n",
    "import os"
   ]
  },
  {
   "cell_type": "code",
   "execution_count": 2,
   "metadata": {},
   "outputs": [],
   "source": [
    "import tables_utilities as tables_utl\n",
    "import importlib\n",
    "importlib.reload(tables_utl)\n",
    "file_dir=\"../experiments/results_fullyconnected/\""
   ]
  },
  {
   "cell_type": "code",
   "execution_count": 3,
   "metadata": {},
   "outputs": [
    {
     "name": "stdout",
     "output_type": "stream",
     "text": [
      "['test_paulihedral_Paulis13400.json', 'test_pytket_Paulis80.json', 'test_quclear_Paulis320.json', 'test_pytket_Paulis1656.json', 'test_paulihedral_Paulis1656.json', 'test_pytket_Paulis24.json', 'test_pytket_Paulis5376.json', 'test_pytket_Paulis320.json', 'test_paulihedral_Paulis5376.json', 'test_quclear_Paulis5376.json', 'test_paulihedral_Paulis80.json', 'test_pytket_Paulis13400.json', 'test_paulihedral_Paulis320.json', 'test_quclear_Paulis1656.json', 'test_quclear_Paulis24.json', 'test_paulihedral_Paulis24.json', 'test_quclear_Paulis80.json'] ../experiments/results_fullyconnected/\n",
      "['test_pytket_H2O.json', 'test_quclear_H2O.json', 'test_paulihedral_H2O.json'] ../experiments/results_fullyconnected/\n",
      "['test_pytket_LiH.json', 'test_paulihedral_LiH.json', 'test_quclear_LiH.json'] ../experiments/results_fullyconnected/\n",
      "['test_paulihedral_benzene.json', 'test_pytket_benzene.json', 'test_quclear_benzene.json'] ../experiments/results_fullyconnected/\n",
      "['test_paulihedral_max_cut_benchmark_regular_n20_e8_l1.json', 'test_pytket_max_cut_benchmark_regular_n20_e12_l1.json', 'test_quclear_max_cut_benchmark_connected_n10_e12_l1.json', 'test_pytket_max_cut_benchmark_regular_n15_e4_l1.json', 'test_quclear_max_cut_benchmark_connected_n15_e63_l1.json', 'test_quclear_max_cut_benchmark_regular_n20_e8_l1.json', 'test_quclear_max_cut_benchmark_regular_n20_e12_l1.json', 'test_pytket_max_cut_benchmark_regular_n20_e4_l1.json', 'test_pytket_max_cut_benchmark_regular_n20_e8_l1.json', 'test_pytket_max_cut_benchmark_regular_n10_e3_l1.json', 'test_paulihedral_max_cut_benchmark_connected_n20_e117_l1.json', 'test_paulihedral_max_cut_benchmark_connected_n10_e12_l1.json', 'test_quclear_max_cut_benchmark_regular_n20_e4_l1.json', 'test_paulihedral_max_cut_benchmark_regular_n15_e4_l1.json', 'test_pytket_max_cut_benchmark_connected_n15_e63_l1.json', 'test_quclear_max_cut_benchmark_connected_n20_e117_l1.json', 'test_paulihedral_max_cut_benchmark_connected_n15_e63_l1.json', 'test_pytket_max_cut_benchmark_connected_n10_e12_l1.json', 'test_pytket_max_cut_benchmark_regular_n20_e3_l1.json', 'test_pytket_max_cut_benchmark_connected_n20_e117_l1.json', 'test_paulihedral_max_cut_benchmark_regular_n20_e12_l1.json', 'test_quclear_max_cut_benchmark_regular_n15_e4_l1.json', 'test_paulihedral_max_cut_benchmark_regular_n20_e4_l1.json'] ../experiments/results_fullyconnected/\n",
      "['test_pytket_labs_n15_layers1.json', 'test_paulihedral_labs_n15_layers1.json', 'test_quclear_labs_n20_layers1.json', 'test_quclear_labs_n10_layers1.json', 'test_pytket_labs_n20_layers1.json', 'test_paulihedral_labs_n20_layers1.json', 'test_quclear_labs_n15_layers1.json', 'test_pytket_labs_n10_layers1.json', 'test_paulihedral_labs_n10_layers1.json'] ../experiments/results_fullyconnected/\n",
      "['test_paulihedral_Paulis13400.json', 'test_pytket_Paulis80.json', 'test_quclear_Paulis320.json', 'test_pytket_Paulis1656.json', 'test_paulihedral_Paulis1656.json', 'test_pytket_Paulis24.json', 'test_pytket_Paulis5376.json', 'test_pytket_Paulis320.json', 'test_paulihedral_Paulis5376.json', 'test_quclear_Paulis5376.json', 'test_paulihedral_Paulis80.json', 'test_pytket_Paulis13400.json', 'test_paulihedral_Paulis320.json', 'test_quclear_Paulis1656.json', 'test_quclear_Paulis24.json', 'test_paulihedral_Paulis24.json', 'test_quclear_Paulis80.json'] ../experiments/results_fullyconnected/\n"
     ]
    },
    {
     "name": "stdout",
     "output_type": "stream",
     "text": [
      "['test_pytket_H2O.json', 'test_quclear_H2O.json', 'test_paulihedral_H2O.json'] ../experiments/results_fullyconnected/\n",
      "['test_pytket_LiH.json', 'test_paulihedral_LiH.json', 'test_quclear_LiH.json'] ../experiments/results_fullyconnected/\n",
      "['test_paulihedral_benzene.json', 'test_pytket_benzene.json', 'test_quclear_benzene.json'] ../experiments/results_fullyconnected/\n",
      "['test_paulihedral_max_cut_benchmark_regular_n20_e8_l1.json', 'test_pytket_max_cut_benchmark_regular_n20_e12_l1.json', 'test_quclear_max_cut_benchmark_connected_n10_e12_l1.json', 'test_pytket_max_cut_benchmark_regular_n15_e4_l1.json', 'test_quclear_max_cut_benchmark_connected_n15_e63_l1.json', 'test_quclear_max_cut_benchmark_regular_n20_e8_l1.json', 'test_quclear_max_cut_benchmark_regular_n20_e12_l1.json', 'test_pytket_max_cut_benchmark_regular_n20_e4_l1.json', 'test_pytket_max_cut_benchmark_regular_n20_e8_l1.json', 'test_pytket_max_cut_benchmark_regular_n10_e3_l1.json', 'test_paulihedral_max_cut_benchmark_connected_n20_e117_l1.json', 'test_paulihedral_max_cut_benchmark_connected_n10_e12_l1.json', 'test_quclear_max_cut_benchmark_regular_n20_e4_l1.json', 'test_paulihedral_max_cut_benchmark_regular_n15_e4_l1.json', 'test_pytket_max_cut_benchmark_connected_n15_e63_l1.json', 'test_quclear_max_cut_benchmark_connected_n20_e117_l1.json', 'test_paulihedral_max_cut_benchmark_connected_n15_e63_l1.json', 'test_pytket_max_cut_benchmark_connected_n10_e12_l1.json', 'test_pytket_max_cut_benchmark_regular_n20_e3_l1.json', 'test_pytket_max_cut_benchmark_connected_n20_e117_l1.json', 'test_paulihedral_max_cut_benchmark_regular_n20_e12_l1.json', 'test_quclear_max_cut_benchmark_regular_n15_e4_l1.json', 'test_paulihedral_max_cut_benchmark_regular_n20_e4_l1.json'] ../experiments/results_fullyconnected/\n",
      "['test_pytket_labs_n15_layers1.json', 'test_paulihedral_labs_n15_layers1.json', 'test_quclear_labs_n20_layers1.json', 'test_quclear_labs_n10_layers1.json', 'test_pytket_labs_n20_layers1.json', 'test_paulihedral_labs_n20_layers1.json', 'test_quclear_labs_n15_layers1.json', 'test_pytket_labs_n10_layers1.json', 'test_paulihedral_labs_n10_layers1.json'] ../experiments/results_fullyconnected/\n",
      "[[{'test_quclear_Paulis320.json': {'num_paulis': 320, 'times': {'our_time': 2.290482997894287, 'combined_time': 2.726691246032715, 'qiskit_time': 2.718395948410034, 'rustiq_time': 0.11527895927429199}, 'gate_counts': {'our_method': 507, 'combined_method': 448, 'qiskit_method': 1003, 'rustiq_method': 794}, 'circuit_entangling_depth': {'our_method': 385, 'combined_method': 335, 'qiskit_method': 990, 'rustiq_method': 664}, 'test_paulis_file': 'experiments/results_fullyconnected/test_uccsd_paulis_e4_o8.json', 'num_qubits': 8}, 'test_quclear_Paulis5376.json': {'num_paulis': 5376, 'times': {'our_time': 85.3802137374878, 'combined_time': 111.06760120391846, 'qiskit_time': 95.37274074554443, 'rustiq_time': 4177.472219944}, 'gate_counts': {'our_method': 9832, 'combined_method': 8820, 'qiskit_method': 23498, 'rustiq_method': 18552}, 'circuit_entangling_depth': {'our_method': 6941, 'combined_method': 6153, 'qiskit_method': 23020, 'rustiq_method': 13084}, 'test_paulis_file': 'experiments/results_fullyconnected/test_uccsd_paulis_e8_o16.json', 'num_qubits': 16}, 'test_quclear_Paulis1656.json': {'num_paulis': 1656, 'times': {'our_time': 17.398980140686035, 'combined_time': 21.107481956481934, 'qiskit_time': 18.32570505142212, 'rustiq_time': 17.482309818267822}, 'gate_counts': {'our_method': 2863, 'combined_method': 2580, 'qiskit_method': 5723, 'rustiq_method': 4706}, 'circuit_entangling_depth': {'our_method': 2063, 'combined_method': 1832, 'qiskit_method': 5582, 'rustiq_method': 3589}, 'test_paulis_file': 'experiments/results_fullyconnected/test_uccsd_paulis_e6_o12.json', 'num_qubits': 12}, 'test_quclear_Paulis24.json': {'num_paulis': 24, 'times': {'our_time': 0.1077568531036377, 'combined_time': 0.17030906677246094, 'qiskit_time': 0.15168380737304688, 'rustiq_time': 0.0021381378173828125}, 'gate_counts': {'our_method': 27, 'combined_method': 23, 'qiskit_method': 41, 'rustiq_method': 33}, 'circuit_entangling_depth': {'our_method': 21, 'combined_method': 17, 'qiskit_method': 41, 'rustiq_method': 31}, 'test_paulis_file': 'experiments/results_fullyconnected/test_uccsd_paulis_e2_o4.json', 'num_qubits': 4}, 'test_quclear_Paulis80.json': {'num_paulis': 80, 'times': {'our_time': 0.4145500659942627, 'combined_time': 0.692650556564331, 'qiskit_time': 0.5157513618469238, 'rustiq_time': 0.008050918579101562}, 'gate_counts': {'our_method': 119, 'combined_method': 106, 'qiskit_method': 181, 'rustiq_method': 161}, 'circuit_entangling_depth': {'our_method': 94, 'combined_method': 82, 'qiskit_method': 178, 'rustiq_method': 143}, 'test_paulis_file': 'experiments/results_fullyconnected/test_uccsd_paulis_e2_o6.json', 'num_qubits': 6}}], [{'test_quclear_H2O.json': {'num_paulis': 184, 'times': {'our_time': 1.6871728897094727, 'combined_time': 1.7589750289916992, 'qiskit_time': 1.3371262550354004, 'rustiq_time': 0.0404660701751709}, 'gate_counts': {'our_method': 277, 'combined_method': 274, 'qiskit_method': 786, 'rustiq_method': 351}, 'circuit_entangling_depth': {'our_method': 191, 'combined_method': 189, 'qiskit_method': 769, 'rustiq_method': 268}, 'test_paulis_file': 'experiments/results_fullyconnected/test_H2O.json', 'num_qubits': 8}}, {'test_quclear_LiH.json': {'num_paulis': 61, 'times': {'our_time': 0.37484073638916016, 'combined_time': 0.49176692962646484, 'qiskit_time': 0.4388899803161621, 'rustiq_time': 0.008079767227172852}, 'gate_counts': {'our_method': 76, 'combined_method': 74, 'qiskit_method': 180, 'rustiq_method': 113}, 'circuit_entangling_depth': {'our_method': 62, 'combined_method': 60, 'qiskit_method': 176, 'rustiq_method': 91}, 'test_paulis_file': 'experiments/results_fullyconnected/test_LiH.json', 'num_qubits': 6}}, {'test_quclear_benzene.json': {'num_paulis': 1254, 'times': {'our_time': 17.903608798980713, 'combined_time': 16.9015212059021, 'qiskit_time': 10.0815749168396, 'rustiq_time': 7.230542898178101}, 'gate_counts': {'our_method': 2479, 'combined_method': 2470, 'qiskit_method': 7602, 'rustiq_method': 3354}, 'circuit_entangling_depth': {'our_method': 1486, 'combined_method': 1481, 'qiskit_method': 7477, 'rustiq_method': 2318}, 'test_paulis_file': 'experiments/results_fullyconnected/test_benzene.json', 'num_qubits': 12}}], [{'test_quclear_max_cut_benchmark_connected_n10_e12_l1.json': {'num_paulis': 22, 'times': {'our_time': 0.26601505279541016, 'combined_time': 0.2651491165161133, 'qiskit_time': 0.03136897087097168, 'rustiq_time': 0.01007986068725586}, 'gate_counts': {'our_method': 26, 'combined_method': 26, 'qiskit_method': 22, 'rustiq_method': 33}, 'circuit_entangling_depth': {'our_method': 21, 'combined_method': 21, 'qiskit_method': 10, 'rustiq_method': 18}, 'test_paulis_file': 'experiments/results_fullyconnected/test_max_cut_benchmark_connected_n10_e12_l1.json', 'num_qubits': 10}, 'test_quclear_max_cut_benchmark_connected_n15_e63_l1.json': {'num_paulis': 78, 'times': {'our_time': 3.7221779823303223, 'combined_time': 4.482073068618774, 'qiskit_time': 0.10979008674621582, 'rustiq_time': 0.03811216354370117}, 'gate_counts': {'our_method': 80, 'combined_method': 80, 'qiskit_method': 114, 'rustiq_method': 108}, 'circuit_entangling_depth': {'our_method': 47, 'combined_method': 47, 'qiskit_method': 36, 'rustiq_method': 59}, 'test_paulis_file': 'experiments/results_fullyconnected/test_max_cut_benchmark_connected_n15_e63_l1.json', 'num_qubits': 15}, 'test_quclear_max_cut_benchmark_regular_n20_e8_l1.json': {'num_paulis': 100, 'times': {'our_time': 8.177272081375122, 'combined_time': 8.237835884094238, 'qiskit_time': 0.12206268310546875, 'rustiq_time': 0.0994112491607666}, 'gate_counts': {'our_method': 128, 'combined_method': 128, 'qiskit_method': 158, 'rustiq_method': 188}, 'circuit_entangling_depth': {'our_method': 58, 'combined_method': 58, 'qiskit_method': 94, 'rustiq_method': 101}, 'test_paulis_file': 'experiments/results_fullyconnected/test_max_cut_benchmark_regular_n20_e8_l1.json', 'num_qubits': 20}, 'test_quclear_max_cut_benchmark_regular_n20_e12_l1.json': {'num_paulis': 140, 'times': {'our_time': 15.604050874710083, 'combined_time': 16.549638032913208, 'qiskit_time': 0.2908339500427246, 'rustiq_time': 0.10129117965698242}, 'gate_counts': {'our_method': 171, 'combined_method': 171, 'qiskit_method': 238, 'rustiq_method': 218}, 'circuit_entangling_depth': {'our_method': 93, 'combined_method': 93, 'qiskit_method': 158, 'rustiq_method': 113}, 'test_paulis_file': 'experiments/results_fullyconnected/test_max_cut_benchmark_regular_n20_e12_l1.json', 'num_qubits': 20}, 'test_quclear_max_cut_benchmark_regular_n20_e4_l1.json': {'num_paulis': 60, 'times': {'our_time': 2.8413190841674805, 'combined_time': 2.407991886138916, 'qiskit_time': 0.06804704666137695, 'rustiq_time': 0.0805811882019043}, 'gate_counts': {'our_method': 89, 'combined_method': 87, 'qiskit_method': 78, 'rustiq_method': 126}, 'circuit_entangling_depth': {'our_method': 35, 'combined_method': 34, 'qiskit_method': 28, 'rustiq_method': 60}, 'test_paulis_file': 'experiments/results_fullyconnected/test_max_cut_benchmark_regular_n20_e4_l1.json', 'num_qubits': 20}, 'test_quclear_max_cut_benchmark_connected_n20_e117_l1.json': {'num_paulis': 137, 'times': {'our_time': 15.61230182647705, 'combined_time': 14.3733229637146, 'qiskit_time': 0.3054080009460449, 'rustiq_time': 0.07987403869628906}, 'gate_counts': {'our_method': 148, 'combined_method': 148, 'qiskit_method': 216, 'rustiq_method': 188}, 'circuit_entangling_depth': {'our_method': 67, 'combined_method': 67, 'qiskit_method': 56, 'rustiq_method': 85}, 'test_paulis_file': 'experiments/results_fullyconnected/test_max_cut_benchmark_connected_n20_e117_l1.json', 'num_qubits': 20}, 'test_quclear_max_cut_benchmark_regular_n15_e4_l1.json': {'num_paulis': 45, 'times': {'our_time': 1.8176109790802002, 'combined_time': 1.9130029678344727, 'qiskit_time': 0.05798983573913574, 'rustiq_time': 0.042608022689819336}, 'gate_counts': {'our_method': 67, 'combined_method': 67, 'qiskit_method': 58, 'rustiq_method': 92}, 'circuit_entangling_depth': {'our_method': 31, 'combined_method': 31, 'qiskit_method': 28, 'rustiq_method': 47}, 'test_paulis_file': 'experiments/results_fullyconnected/test_max_cut_benchmark_regular_n15_e4_l1.json', 'num_qubits': 15}}], [{'test_quclear_labs_n20_layers1.json': {'num_paulis': 635, 'times': {'our_time': 447.3010938167572, 'combined_time': 387.85383701324463, 'qiskit_time': 1.2624578475952148, 'rustiq_time': 0.532465934753418}, 'gate_counts': {'our_method': 1052, 'combined_method': 1052, 'qiskit_method': 2914, 'rustiq_method': 1137}, 'circuit_entangling_depth': {'our_method': 679, 'combined_method': 679, 'qiskit_method': 1731, 'rustiq_method': 672}, 'test_paulis_file': 'experiments/results_fullyconnected/test_labs_n20_layers1.json', 'num_qubits': 20}, 'test_quclear_labs_n10_layers1.json': {'num_paulis': 80, 'times': {'our_time': 4.93082594871521, 'combined_time': 3.8309860229492188, 'qiskit_time': 0.11831402778625488, 'rustiq_time': 0.013764142990112305}, 'gate_counts': {'our_method': 106, 'combined_method': 106, 'qiskit_method': 296, 'rustiq_method': 116}, 'circuit_entangling_depth': {'our_method': 76, 'combined_method': 76, 'qiskit_method': 173, 'rustiq_method': 77}, 'test_paulis_file': 'experiments/results_fullyconnected/test_labs_n10_layers1.json', 'num_qubits': 10}, 'test_quclear_labs_n15_layers1.json': {'num_paulis': 267, 'times': {'our_time': 60.28118562698364, 'combined_time': 56.87217116355896, 'qiskit_time': 0.9085330963134766, 'rustiq_time': 0.2803380489349365}, 'gate_counts': {'our_method': 383, 'combined_method': 383, 'qiskit_method': 1208, 'rustiq_method': 456}, 'circuit_entangling_depth': {'our_method': 254, 'combined_method': 254, 'qiskit_method': 672, 'rustiq_method': 279}, 'test_paulis_file': 'experiments/results_fullyconnected/test_labs_n15_layers1.json', 'num_qubits': 15}}]]\n"
     ]
    }
   ],
   "source": [
    "experiments=[[\"Paulis\"], [\"H2O\", \"LiH\", \"benzene\"], [\"max_cut\"], [\"labs\"]]\n",
    "# all_tags=[\"new\", \"qiskit\", \"rustiq\", \"paulihedral\", \"pytket\"] #new==quclear\n",
    "quclear_tag=\"quclear\"\n",
    "quclear_tag2=\"our\"\n",
    "quclear_tag3=\"combined\"\n",
    "qiskit_tag=\"qiskit\"\n",
    "rustiq_tag=\"rustiq\"\n",
    "paulihedral_tag=\"paulihedral\"\n",
    "pytket_tag=\"pytket\"\n",
    "quclear_res=[[tables_utl.get_results(file_dir, quclear_tag, exper) for exper in block] for block in experiments]\n",
    "qiskit_res=[[tables_utl.get_results(file_dir, qiskit_tag, exper) for exper in block] for block in experiments]\n",
    "rustiq_res=[[tables_utl.get_results(file_dir, rustiq_tag, exper) for exper in block] for block in experiments]\n",
    "paulih_res=[[tables_utl.get_results(file_dir, paulihedral_tag, exper) for exper in block] for block in experiments]\n",
    "pytket_res=[[tables_utl.get_results(file_dir, pytket_tag, exper) for exper in block] for block in experiments]\n",
    "print(quclear_res)"
   ]
  },
  {
   "cell_type": "code",
   "execution_count": 4,
   "metadata": {},
   "outputs": [
    {
     "name": "stdout",
     "output_type": "stream",
     "text": [
      "True\n",
      "True\n",
      "True\n",
      "True\n",
      "True\n",
      "dict_keys(['test_quclear_Paulis320.json', 'test_quclear_Paulis5376.json', 'test_quclear_Paulis1656.json', 'test_quclear_Paulis24.json', 'test_quclear_Paulis80.json'])\n"
     ]
    }
   ],
   "source": [
    "quclear_uccsd=tables_utl.get_metrics(quclear_res[0][0], quclear_tag3)\n",
    "quclear_hs=[tables_utl.get_metrics(exper, quclear_tag3) for exper in quclear_res[1]]\n",
    "quclear_max_cut=tables_utl.get_metrics(quclear_res[2][0], quclear_tag3)\n",
    "quclear_labs=tables_utl.get_metrics(quclear_res[3][0], quclear_tag3)\n",
    "\n",
    "qiskit_uccsd=tables_utl.get_metrics(qiskit_res[0][0], qiskit_tag)\n",
    "qiskit_hs=[tables_utl.get_metrics(exper, qiskit_tag) for exper in qiskit_res[1]]\n",
    "qiskit_max_cut=tables_utl.get_metrics(qiskit_res[2][0], qiskit_tag)\n",
    "qiskit_labs=tables_utl.get_metrics(qiskit_res[3][0], qiskit_tag)\n",
    "\n",
    "rustiq_uccsd=tables_utl.get_metrics(rustiq_res[0][0], rustiq_tag)\n",
    "rustiq_hs=[tables_utl.get_metrics(exper, rustiq_tag) for exper in rustiq_res[1]]\n",
    "rustiq_max_cut=tables_utl.get_metrics(rustiq_res[2][0], rustiq_tag)\n",
    "rustiq_labs=tables_utl.get_metrics(rustiq_res[3][0], rustiq_tag)\n",
    "\n",
    "paulih_uccsd=tables_utl.get_metrics(paulih_res[0][0], paulihedral_tag)\n",
    "paulih_hs=[tables_utl.get_metrics(exper, paulihedral_tag) for exper in paulih_res[1]]\n",
    "paulih_max_cut=tables_utl.get_metrics(paulih_res[2][0], paulihedral_tag)\n",
    "paulih_labs=tables_utl.get_metrics(paulih_res[3][0], paulihedral_tag)\n",
    "\n",
    "pytket_uccsd=tables_utl.get_metrics(pytket_res[0][0], pytket_tag)\n",
    "pytket_hs=[tables_utl.get_metrics(exper, pytket_tag) for exper in pytket_res[1]]\n",
    "pytket_max_cut=tables_utl.get_metrics(pytket_res[2][0], pytket_tag)\n",
    "pytket_labs=tables_utl.get_metrics(pytket_res[3][0], pytket_tag)\n",
    "\n",
    "\n",
    "tables_utl.test_lenghts_res(quclear_res)\n",
    "tables_utl.test_lenghts_res(qiskit_res)\n",
    "tables_utl.test_lenghts_res(rustiq_res)\n",
    "tables_utl.test_lenghts_res(paulih_res)\n",
    "tables_utl.test_lenghts_res(pytket_res)\n",
    "print(quclear_uccsd.keys())"
   ]
  },
  {
   "cell_type": "code",
   "execution_count": 5,
   "metadata": {},
   "outputs": [],
   "source": [
    "def get_table_row(quclear, qiskit, rustiq, paulih, pytket, file):\n",
    "    quclear_f,qiskit_f, rustiq_f, paulih_f, pytket_f= tables_utl.get_data_handles(quclear, qiskit, rustiq, paulih, pytket, file)\n",
    "    # uccsd1_prelude=\" \\\\multirow{7}{*}{UCCSD} & UCC-(2,4) \"\n",
    "    uccsd1_times=f\"  & {quclear_f['times']} & {qiskit_f['times']} & {rustiq_f['times']} & {paulih_f['times']} & {pytket_f['times']} \" \n",
    "    uccsd1_cnots=f\"  & {quclear_f['cnots']} & {qiskit_f['cnots']} & {rustiq_f['cnots']} & {paulih_f['cnots']} & {pytket_f['cnots']} \"\n",
    "    uccsd1_depths=f\" & {quclear_f['circuit_entangling_depth']} & {qiskit_f['circuit_entangling_depth']} & {rustiq_f['circuit_entangling_depth']} & {paulih_f['circuit_entangling_depth']} & {pytket_f['circuit_entangling_depth']}\"\n",
    "    # uccsd1_post=\" \\\\\\\\ \\\\cline{2-6} \"\n",
    "    uccsd1=uccsd1_cnots+uccsd1_depths+uccsd1_times\n",
    "    print(file)\n",
    "    print(uccsd1)"
   ]
  },
  {
   "cell_type": "code",
   "execution_count": 6,
   "metadata": {},
   "outputs": [
    {
     "name": "stdout",
     "output_type": "stream",
     "text": [
      "dict_keys(['test_quclear_Paulis320.json', 'test_quclear_Paulis5376.json', 'test_quclear_Paulis1656.json', 'test_quclear_Paulis24.json', 'test_quclear_Paulis80.json'])\n",
      "test_quclear_Paulis1656.json\n",
      "  & 2580 & 5723 & 4706 & 6076 & 8868  & 1832 & 5582 & 3589 & 6051 & 7926  & 21.1075 & 18.3257 & 17.4823 & 21.8002 & 295.3129 \n",
      "\n",
      "test_quclear_Paulis24.json\n",
      "  & 23 & 41 & 33 & 48 & 53  & 17 & 41 & 31 & 48 & 50  & 0.1703 & 0.1517 & 0.0021 & 0.092 & 1.5971 \n",
      "\n",
      "test_quclear_Paulis320.json\n",
      "  & 448 & 1003 & 794 & 947 & 1263  & 335 & 990 & 664 & 941 & 1116  & 2.7267 & 2.7184 & 0.1153 & 2.517 & 33.9565 \n",
      "\n",
      "test_quclear_Paulis5376.json\n",
      "  & 8820 & 23498 & 18552 & 23389 & 36412  & 6153 & 23020 & 13084 & 23333 & 33076  & 111.0676 & 95.3727 & 4177.4722 & 111.13 & 2334.8848 \n",
      "\n",
      "test_quclear_Paulis80.json\n",
      "  & 106 & 181 & 161 & 216 & 236  & 82 & 178 & 143 & 215 & 211  & 0.6927 & 0.5158 & 0.0081 & 0.48 & 6.1929 \n",
      "\n"
     ]
    }
   ],
   "source": [
    "#uccsd\n",
    "print(quclear_uccsd.keys())\n",
    "for file in sorted(quclear_uccsd.keys(),):\n",
    "    get_table_row(quclear_uccsd, qiskit_uccsd, rustiq_uccsd, paulih_uccsd, pytket_uccsd, file)\n",
    "    print()"
   ]
  },
  {
   "cell_type": "code",
   "execution_count": 7,
   "metadata": {},
   "outputs": [
    {
     "name": "stdout",
     "output_type": "stream",
     "text": [
      "dict_keys(['test_quclear_H2O.json'])\n",
      "test_quclear_H2O.json\n",
      "  & 274 & 786 & 351 & 620 & 505  & 189 & 769 & 268 & 610 & 442  & 1.759 & 1.3371 & 0.0405 & 0.8297 & 12.5976 \n",
      "\n",
      "dict_keys(['test_quclear_LiH.json'])\n",
      "test_quclear_LiH.json\n",
      "  & 74 & 180 & 113 & 117 & 132  & 60 & 176 & 91 & 115 & 112  & 0.4918 & 0.4389 & 0.0081 & 2.1728 & 3.6723 \n",
      "\n",
      "dict_keys(['test_quclear_benzene.json'])\n",
      "test_quclear_benzene.json\n",
      "  & 2470 & 7602 & 3354 & 3267 & 4738  & 1481 & 7477 & 2318 & 3237 & 4092  & 16.9015 & 10.0816 & 7.2305 & 14.6315 & 173.8676 \n",
      "\n"
     ]
    }
   ],
   "source": [
    "# Chemestry\n",
    "for idx, elem in enumerate(quclear_hs):\n",
    "    print(elem.keys())\n",
    "    for file in sorted(elem.keys()):\n",
    "        get_table_row(quclear_hs[idx], qiskit_hs[idx], rustiq_hs[idx], paulih_hs[idx], pytket_hs[idx], file)\n",
    "        print()"
   ]
  },
  {
   "cell_type": "code",
   "execution_count": 8,
   "metadata": {},
   "outputs": [
    {
     "name": "stdout",
     "output_type": "stream",
     "text": [
      "dict_keys(['test_quclear_labs_n20_layers1.json', 'test_quclear_labs_n10_layers1.json', 'test_quclear_labs_n15_layers1.json'])\n",
      "test_quclear_labs_n10_layers1.json\n",
      "  & 106 & 296 & 116 & 230 & 145  & 76 & 173 & 77 & 209 & 127  & 3.831 & 0.1183 & 0.0138 & 0.143 & 2.4885 \n",
      "\n",
      "test_quclear_labs_n15_layers1.json\n",
      "  & 383 & 1208 & 456 & 880 & 641  & 254 & 672 & 279 & 797 & 568  & 56.8722 & 0.9085 & 0.2803 & 0.3562 & 11.8388 \n",
      "\n",
      "test_quclear_labs_n20_layers1.json\n",
      "  & 1052 & 2914 & 1137 & 2218 & 1762  & 679 & 1731 & 672 & 2023 & 1673  & 387.8538 & 1.2625 & 0.5325 & 0.9411 & 38.9282 \n",
      "\n"
     ]
    }
   ],
   "source": [
    "#labs\n",
    "print(quclear_labs.keys())\n",
    "for file in sorted(quclear_labs.keys(),):\n",
    "    get_table_row(quclear_labs, qiskit_labs, rustiq_labs, paulih_labs, pytket_labs, file)\n",
    "    print()"
   ]
  },
  {
   "cell_type": "code",
   "execution_count": 9,
   "metadata": {},
   "outputs": [
    {
     "name": "stdout",
     "output_type": "stream",
     "text": [
      "dict_keys(['test_quclear_max_cut_benchmark_connected_n10_e12_l1.json', 'test_quclear_max_cut_benchmark_connected_n15_e63_l1.json', 'test_quclear_max_cut_benchmark_regular_n20_e8_l1.json', 'test_quclear_max_cut_benchmark_regular_n20_e12_l1.json', 'test_quclear_max_cut_benchmark_regular_n20_e4_l1.json', 'test_quclear_max_cut_benchmark_connected_n20_e117_l1.json', 'test_quclear_max_cut_benchmark_regular_n15_e4_l1.json'])\n",
      "test_quclear_max_cut_benchmark_connected_n10_e12_l1.json\n",
      "  & 26 & 22 & 33 & 24 & 24  & 21 & 10 & 18 & 12 & 12  & 0.2651 & 0.0314 & 0.0101 & 0.0171 & 0.4562 \n",
      "\n",
      "test_quclear_max_cut_benchmark_connected_n15_e63_l1.json\n",
      "  & 80 & 114 & 108 & 102 & 137  & 47 & 36 & 59 & 42 & 69  & 4.4821 & 0.1098 & 0.0381 & 0.0719 & 2.4579 \n",
      "\n",
      "test_quclear_max_cut_benchmark_connected_n20_e117_l1.json\n",
      "  & 148 & 216 & 188 & 192 & 298  & 67 & 56 & 85 & 56 & 121  & 14.3733 & 0.3054 & 0.0799 & 0.1084 & 5.5238 \n",
      "\n",
      "test_quclear_max_cut_benchmark_regular_n15_e4_l1.json\n",
      "  & 67 & 58 & 92 & 60 & 62  & 31 & 28 & 47 & 26 & 36  & 1.913 & 0.058 & 0.0426 & 0.0236 & 1.1438 \n",
      "\n",
      "test_quclear_max_cut_benchmark_regular_n20_e12_l1.json\n",
      "  & 171 & 238 & 218 & 240 & 247  & 93 & 158 & 113 & 70 & 121  & 16.5496 & 0.2908 & 0.1013 & 0.168 & 4.1703 \n",
      "\n",
      "test_quclear_max_cut_benchmark_regular_n20_e4_l1.json\n",
      "  & 87 & 78 & 126 & 80 & 100  & 34 & 28 & 60 & 22 & 46  & 2.408 & 0.068 & 0.0806 & 0.0336 & 1.8792 \n",
      "\n",
      "test_quclear_max_cut_benchmark_regular_n20_e8_l1.json\n",
      "  & 128 & 158 & 188 & 160 & 210  & 58 & 94 & 101 & 48 & 123  & 8.2378 & 0.1221 & 0.0994 & 0.0677 & 3.9515 \n",
      "\n"
     ]
    }
   ],
   "source": [
    "#maxcut\n",
    "print(quclear_max_cut.keys())\n",
    "for file in sorted(quclear_max_cut.keys(),):\n",
    "    get_table_row(quclear_max_cut, qiskit_max_cut, rustiq_max_cut, paulih_max_cut, pytket_max_cut, file)\n",
    "    print()"
   ]
  },
  {
   "cell_type": "code",
   "execution_count": null,
   "metadata": {},
   "outputs": [
    {
     "ename": "KeyError",
     "evalue": "'test_quclear_Paulis13400.json'",
     "output_type": "error",
     "traceback": [
      "\u001b[0;31m---------------------------------------------------------------------------\u001b[0m",
      "\u001b[0;31mKeyError\u001b[0m                                  Traceback (most recent call last)",
      "Cell \u001b[0;32mIn[10], line 65\u001b[0m\n\u001b[1;32m     62\u001b[0m     \u001b[38;5;28mprint\u001b[39m(\u001b[38;5;124mf\u001b[39m\u001b[38;5;124m\"\u001b[39m\u001b[38;5;124mavg: paulih \u001b[39m\u001b[38;5;132;01m{\u001b[39;00mtag\u001b[38;5;132;01m}\u001b[39;00m\u001b[38;5;124m reduction \u001b[39m\u001b[38;5;132;01m{\u001b[39;00m\u001b[38;5;28mround\u001b[39m(\u001b[38;5;28msum\u001b[39m(all_reduce_paulih)\u001b[38;5;241m/\u001b[39m\u001b[38;5;28mlen\u001b[39m(all_reduce_paulih)\u001b[38;5;241m*\u001b[39m\u001b[38;5;241m100\u001b[39m,\u001b[38;5;250m \u001b[39m\u001b[38;5;241m4\u001b[39m)\u001b[38;5;132;01m}\u001b[39;00m\u001b[38;5;124m\"\u001b[39m)\n\u001b[1;32m     63\u001b[0m     \u001b[38;5;28mprint\u001b[39m(\u001b[38;5;124mf\u001b[39m\u001b[38;5;124m\"\u001b[39m\u001b[38;5;124mavg: pytket \u001b[39m\u001b[38;5;132;01m{\u001b[39;00mtag\u001b[38;5;132;01m}\u001b[39;00m\u001b[38;5;124m reduction \u001b[39m\u001b[38;5;132;01m{\u001b[39;00m\u001b[38;5;28mround\u001b[39m(\u001b[38;5;28msum\u001b[39m(all_reduce_pytket)\u001b[38;5;241m/\u001b[39m\u001b[38;5;28mlen\u001b[39m(all_reduce_pytket)\u001b[38;5;241m*\u001b[39m\u001b[38;5;241m100\u001b[39m,\u001b[38;5;250m \u001b[39m\u001b[38;5;241m4\u001b[39m)\u001b[38;5;132;01m}\u001b[39;00m\u001b[38;5;124m\"\u001b[39m)\n\u001b[0;32m---> 65\u001b[0m \u001b[43mget_averages\u001b[49m\u001b[43m(\u001b[49m\u001b[38;5;124;43m\"\u001b[39;49m\u001b[38;5;124;43mcnots\u001b[39;49m\u001b[38;5;124;43m\"\u001b[39;49m\u001b[43m)\u001b[49m\n\u001b[1;32m     66\u001b[0m get_averages(\u001b[38;5;124m\"\u001b[39m\u001b[38;5;124mcircuit_entangling_depth\u001b[39m\u001b[38;5;124m\"\u001b[39m)\n\u001b[1;32m     68\u001b[0m \u001b[38;5;66;03m# print(all_cnot_reduce_paulih)\u001b[39;00m\n",
      "Cell \u001b[0;32mIn[10], line 35\u001b[0m, in \u001b[0;36mget_averages\u001b[0;34m(tag)\u001b[0m\n\u001b[1;32m     33\u001b[0m \u001b[38;5;28;01mfor\u001b[39;00m idx, (all_files, all_results) \u001b[38;5;129;01min\u001b[39;00m \u001b[38;5;28menumerate\u001b[39m(\u001b[38;5;28mzip\u001b[39m(all_files_avg, all_results_by_exper)):\n\u001b[1;32m     34\u001b[0m     \u001b[38;5;28;01mfor\u001b[39;00m file \u001b[38;5;129;01min\u001b[39;00m all_files:\n\u001b[0;32m---> 35\u001b[0m         qiskit_reduct, rustiq_reduct, paulih_reduct, pytket_reduct\u001b[38;5;241m=\u001b[39m\u001b[43mget_percent_reduce_tag\u001b[49m\u001b[43m(\u001b[49m\u001b[43mall_results\u001b[49m\u001b[43m[\u001b[49m\u001b[38;5;241;43m0\u001b[39;49m\u001b[43m]\u001b[49m\u001b[43m,\u001b[49m\u001b[43m \u001b[49m\n\u001b[1;32m     36\u001b[0m \u001b[43m                                        \u001b[49m\u001b[43mall_results\u001b[49m\u001b[43m[\u001b[49m\u001b[38;5;241;43m1\u001b[39;49m\u001b[43m]\u001b[49m\u001b[43m,\u001b[49m\u001b[43m \u001b[49m\u001b[43mall_results\u001b[49m\u001b[43m[\u001b[49m\u001b[38;5;241;43m2\u001b[39;49m\u001b[43m]\u001b[49m\u001b[43m,\u001b[49m\u001b[43m \u001b[49m\u001b[43mall_results\u001b[49m\u001b[43m[\u001b[49m\u001b[38;5;241;43m3\u001b[39;49m\u001b[43m]\u001b[49m\u001b[43m,\u001b[49m\u001b[43m \u001b[49m\u001b[43mall_results\u001b[49m\u001b[43m[\u001b[49m\u001b[38;5;241;43m4\u001b[39;49m\u001b[43m]\u001b[49m\u001b[43m,\u001b[49m\u001b[43m \u001b[49m\u001b[43mtag\u001b[49m\u001b[43m,\u001b[49m\u001b[43m \u001b[49m\u001b[43mfile\u001b[49m\u001b[43m)\u001b[49m\n\u001b[1;32m     37\u001b[0m         all_reduce_qiskit\u001b[38;5;241m.\u001b[39mappend(qiskit_reduct)\n\u001b[1;32m     38\u001b[0m         all_reduce_rustiq\u001b[38;5;241m.\u001b[39mappend(rustiq_reduct)\n",
      "Cell \u001b[0;32mIn[10], line 10\u001b[0m, in \u001b[0;36mget_percent_reduce_tag\u001b[0;34m(quclear, qiskit, rustiq, paulih, pytket, tag, file)\u001b[0m\n\u001b[1;32m      8\u001b[0m \u001b[38;5;28;01mdef\u001b[39;00m \u001b[38;5;21mget_percent_reduce_tag\u001b[39m(quclear, qiskit, rustiq, paulih, pytket, tag, file):\n\u001b[1;32m      9\u001b[0m \u001b[38;5;250m    \u001b[39m\u001b[38;5;124;03m'''Inputs are to the full results for each method.'''\u001b[39;00m\n\u001b[0;32m---> 10\u001b[0m     quclear_f,qiskit_f, rustiq_f, paulih_f, pytket_f\u001b[38;5;241m=\u001b[39m \u001b[43mtables_utl\u001b[49m\u001b[38;5;241;43m.\u001b[39;49m\u001b[43mget_data_handles\u001b[49m\u001b[43m(\u001b[49m\u001b[43mquclear\u001b[49m\u001b[43m,\u001b[49m\u001b[43m \u001b[49m\u001b[43mqiskit\u001b[49m\u001b[43m,\u001b[49m\u001b[43m \u001b[49m\u001b[43mrustiq\u001b[49m\u001b[43m,\u001b[49m\u001b[43m \u001b[49m\u001b[43mpaulih\u001b[49m\u001b[43m,\u001b[49m\u001b[43m \u001b[49m\u001b[43mpytket\u001b[49m\u001b[43m,\u001b[49m\u001b[43m \u001b[49m\u001b[43mfile\u001b[49m\u001b[43m)\u001b[49m\n\u001b[1;32m     11\u001b[0m     qiskit_reduct\u001b[38;5;241m=\u001b[39m(qiskit_f[tag]\u001b[38;5;241m-\u001b[39mquclear_f[tag])\u001b[38;5;241m/\u001b[39mqiskit_f[tag]\n\u001b[1;32m     12\u001b[0m     rustiq_reduct\u001b[38;5;241m=\u001b[39m(rustiq_f[tag]\u001b[38;5;241m-\u001b[39mquclear_f[tag])\u001b[38;5;241m/\u001b[39mrustiq_f[tag]\n",
      "File \u001b[0;32m~/Documents/quantum_computing/research/clifford_extraction/github/github_HW/QuCLEAR/artifact_evaluation/tables_utilities.py:78\u001b[0m, in \u001b[0;36mget_data_handles\u001b[0;34m(quclear, qiskit, rustiq, paulih, pytket, file)\u001b[0m\n\u001b[1;32m     75\u001b[0m \u001b[38;5;28;01mdef\u001b[39;00m \u001b[38;5;21mget_data_handles\u001b[39m(quclear, qiskit, rustiq, paulih, pytket, file) \u001b[38;5;241m-\u001b[39m\u001b[38;5;241m>\u001b[39m Tuple[Dict, Dict, Dict, Dict, Dict]:\n\u001b[1;32m     76\u001b[0m \u001b[38;5;250m    \u001b[39m\u001b[38;5;124;03m'''Gets handles for specific file. Returns in the specific order:\u001b[39;00m\n\u001b[1;32m     77\u001b[0m \u001b[38;5;124;03m    quclear, qiskit, rustiq, paulihedral, pytket'''\u001b[39;00m\n\u001b[0;32m---> 78\u001b[0m     quclear_f\u001b[38;5;241m=\u001b[39m\u001b[43mquclear\u001b[49m\u001b[43m[\u001b[49m\u001b[43mfile\u001b[49m\u001b[43m]\u001b[49m\n\u001b[1;32m     79\u001b[0m     qiskit_f\u001b[38;5;241m=\u001b[39mqiskit[file]\n\u001b[1;32m     80\u001b[0m     rustiq_f\u001b[38;5;241m=\u001b[39mrustiq[file]\n",
      "\u001b[0;31mKeyError\u001b[0m: 'test_quclear_Paulis13400.json'"
     ]
    }
   ],
   "source": [
    "# Average cnot decrease.\n",
    "# print(quclear_uccsd.keys())\n",
    "# for elem in quclear_hs:\n",
    "#     print(elem.keys())\n",
    "# print(sorted(quclear_max_cut.keys()))\n",
    "# print(quclear_labs.keys())\n",
    "\n",
    "def get_percent_reduce_tag(quclear, qiskit, rustiq, paulih, pytket, tag, file):\n",
    "    '''Inputs are to the full results for each method.'''\n",
    "    quclear_f,qiskit_f, rustiq_f, paulih_f, pytket_f= tables_utl.get_data_handles(quclear, qiskit, rustiq, paulih, pytket, file)\n",
    "    qiskit_reduct=(qiskit_f[tag]-quclear_f[tag])/qiskit_f[tag]\n",
    "    rustiq_reduct=(rustiq_f[tag]-quclear_f[tag])/rustiq_f[tag]\n",
    "    paulih_reduct=(paulih_f[tag]-quclear_f[tag])/paulih_f[tag]\n",
    "    pytket_reduct=(pytket_f[tag]-quclear_f[tag])/pytket_f[tag]\n",
    "    return qiskit_reduct, rustiq_reduct, paulih_reduct, pytket_reduct\n",
    "\n",
    "# The following method relies on global variables.\n",
    "def get_averages(tag):\n",
    "    uccsd_files=['test_quclear_Paulis24.json', 'test_quclear_Paulis80.json', 'test_quclear_Paulis320.json', 'test_quclear_Paulis1656.json', 'test_quclear_Paulis5376.json']#, 'test_quclear_Paulis13400.json']\n",
    "    hs_files=['test_quclear_H2O.json', 'test_quclear_LiH.json', 'test_quclear_benzene.json']\n",
    "    labs_files=['test_quclear_labs_n10_layers1.json', 'test_quclear_labs_n15_layers1.json', 'test_quclear_labs_n20_layers1.json']\n",
    "    max_cut_files=['test_quclear_max_cut_benchmark_regular_n15_e4_l1.json', 'test_quclear_max_cut_benchmark_regular_n20_e4_l1.json', 'test_quclear_max_cut_benchmark_regular_n20_e8_l1.json', 'test_quclear_max_cut_benchmark_regular_n20_e12_l1.json']\n",
    "    all_files_avg=[uccsd_files,labs_files,max_cut_files] # we will do HS separately. it has different structure.\n",
    "    all_results_by_exper=[[quclear_uccsd, qiskit_uccsd, rustiq_uccsd, paulih_uccsd, pytket_uccsd],\n",
    "                        [quclear_labs, qiskit_labs, rustiq_labs, paulih_labs, pytket_labs],\n",
    "                        [quclear_max_cut, qiskit_max_cut, rustiq_max_cut, paulih_max_cut, pytket_max_cut]]\n",
    "\n",
    "    all_reduce_qiskit=[]\n",
    "    all_reduce_rustiq=[]\n",
    "    all_reduce_paulih=[]\n",
    "    all_reduce_pytket=[]\n",
    "\n",
    "    for idx, (all_files, all_results) in enumerate(zip(all_files_avg, all_results_by_exper)):\n",
    "        for file in all_files:\n",
    "            qiskit_reduct, rustiq_reduct, paulih_reduct, pytket_reduct=get_percent_reduce_tag(all_results[0], \n",
    "                                            all_results[1], all_results[2], all_results[3], all_results[4], tag, file)\n",
    "            all_reduce_qiskit.append(qiskit_reduct)\n",
    "            all_reduce_rustiq.append(rustiq_reduct)\n",
    "            all_reduce_paulih.append(paulih_reduct)\n",
    "            all_reduce_pytket.append(pytket_reduct)\n",
    "\n",
    "    for idx, file in enumerate(hs_files): #Hamiltonian sim.\n",
    "        print(quclear_hs)\n",
    "        qiskit_reduct, rustiq_reduct, paulih_reduct, pytket_reduct=get_percent_reduce_tag(quclear_hs[idx], \n",
    "                                                qiskit_hs[idx], rustiq_hs[idx], paulih_hs[idx], pytket_hs[idx], tag, file)\n",
    "        all_reduce_qiskit.append(qiskit_reduct)\n",
    "        all_reduce_rustiq.append(rustiq_reduct)\n",
    "        all_reduce_paulih.append(paulih_reduct)\n",
    "        all_reduce_pytket.append(pytket_reduct)\n",
    "\n",
    "    assert len(all_reduce_qiskit)==len([f for block in all_files_avg for f in block])+len(hs_files)\n",
    "    assert len(all_reduce_rustiq)==len([f for block in all_files_avg for f in block])+len(hs_files)\n",
    "    assert len(all_reduce_paulih)==len([f for block in all_files_avg for f in block])+len(hs_files)\n",
    "    assert len(all_reduce_pytket)==len([f for block in all_files_avg for f in block])+len(hs_files)\n",
    "    print(f\"largest: qiskit {tag} reduction {round(max(all_reduce_qiskit)*100,4)}\")\n",
    "    print(f\"largest: rustiq {tag} reduction {round(max(all_reduce_rustiq)*100,4)}\")\n",
    "    print(f\"largest: paulih {tag} reduction {round(max(all_reduce_paulih)*100, 4)}\")\n",
    "    print(f\"largest: pytket {tag} reduction {round(max(all_reduce_pytket)*100, 4)}\")\n",
    "\n",
    "    print(f\"avg: qiskit {tag} reduction {round(sum(all_reduce_qiskit)/len(all_reduce_qiskit)*100,4)}\")\n",
    "    print(f\"avg: rustiq {tag} reduction {round(sum(all_reduce_rustiq)/len(all_reduce_rustiq)*100,4)}\")\n",
    "    print(f\"avg: paulih {tag} reduction {round(sum(all_reduce_paulih)/len(all_reduce_paulih)*100, 4)}\")\n",
    "    print(f\"avg: pytket {tag} reduction {round(sum(all_reduce_pytket)/len(all_reduce_pytket)*100, 4)}\")\n",
    "\n",
    "get_averages(\"cnots\")\n",
    "get_averages(\"circuit_entangling_depth\")\n",
    "\n",
    "# print(all_cnot_reduce_paulih)"
   ]
  },
  {
   "cell_type": "code",
   "execution_count": null,
   "metadata": {},
   "outputs": [],
   "source": []
  },
  {
   "cell_type": "code",
   "execution_count": null,
   "metadata": {},
   "outputs": [],
   "source": []
  },
  {
   "cell_type": "code",
   "execution_count": null,
   "metadata": {},
   "outputs": [],
   "source": []
  },
  {
   "cell_type": "code",
   "execution_count": null,
   "metadata": {},
   "outputs": [],
   "source": []
  }
 ],
 "metadata": {
  "kernelspec": {
   "display_name": "QuClear_test",
   "language": "python",
   "name": "python3"
  },
  "language_info": {
   "codemirror_mode": {
    "name": "ipython",
    "version": 3
   },
   "file_extension": ".py",
   "mimetype": "text/x-python",
   "name": "python",
   "nbconvert_exporter": "python",
   "pygments_lexer": "ipython3",
   "version": "3.10.14"
  }
 },
 "nbformat": 4,
 "nbformat_minor": 2
}
