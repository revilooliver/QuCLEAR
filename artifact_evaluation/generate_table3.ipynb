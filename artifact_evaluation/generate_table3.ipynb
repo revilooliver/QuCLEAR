{
 "cells": [
  {
   "cell_type": "code",
   "execution_count": 1,
   "metadata": {},
   "outputs": [],
   "source": [
    "import json\n",
    "import os"
   ]
  },
  {
   "cell_type": "code",
   "execution_count": 2,
   "metadata": {},
   "outputs": [],
   "source": [
    "import tables_utilities as tables_utl\n",
    "import importlib\n",
    "importlib.reload(tables_utl)\n",
    "file_dir=\"../experiments/results_fullyconnected/\"\n",
    "from tabulate import tabulate"
   ]
  },
  {
   "cell_type": "code",
   "execution_count": 3,
   "metadata": {},
   "outputs": [
    {
     "name": "stdout",
     "output_type": "stream",
     "text": [
      "['test_paulihedral_Paulis13400.json', 'test_pytket_Paulis80.json', 'test_quclear_Paulis320.json', 'test_pytket_Paulis1656.json', 'test_paulihedral_Paulis1656.json', 'test_pytket_Paulis24.json', 'test_pytket_Paulis5376.json', 'test_pytket_Paulis320.json', 'test_paulihedral_Paulis5376.json', 'test_quclear_Paulis5376.json', 'test_paulihedral_Paulis80.json', 'test_pytket_Paulis13400.json', 'test_paulihedral_Paulis320.json', 'test_quclear_Paulis1656.json', 'test_quclear_Paulis24.json', 'test_quclear_Paulis13400.json', 'test_paulihedral_Paulis24.json', 'test_quclear_Paulis80.json'] ../experiments/results_fullyconnected/\n",
      "['test_pytket_H2O.json', 'test_quclear_H2O.json', 'test_paulihedral_H2O.json'] ../experiments/results_fullyconnected/\n",
      "['test_pytket_LiH.json', 'test_paulihedral_LiH.json', 'test_quclear_LiH.json'] ../experiments/results_fullyconnected/\n",
      "['test_paulihedral_benzene.json', 'test_pytket_benzene.json', 'test_quclear_benzene.json'] ../experiments/results_fullyconnected/\n",
      "['test_paulihedral_max_cut_benchmark_regular_n20_e8_l1.json', 'test_pytket_max_cut_benchmark_regular_n20_e12_l1.json', 'test_quclear_max_cut_benchmark_connected_n10_e12_l1.json', 'test_pytket_max_cut_benchmark_regular_n15_e4_l1.json', 'test_quclear_max_cut_benchmark_connected_n15_e63_l1.json', 'test_quclear_max_cut_benchmark_regular_n20_e8_l1.json', 'test_quclear_max_cut_benchmark_regular_n20_e12_l1.json', 'test_pytket_max_cut_benchmark_regular_n20_e4_l1.json', 'test_pytket_max_cut_benchmark_regular_n20_e8_l1.json', 'test_pytket_max_cut_benchmark_regular_n10_e3_l1.json', 'test_paulihedral_max_cut_benchmark_connected_n20_e117_l1.json', 'test_paulihedral_max_cut_benchmark_connected_n10_e12_l1.json', 'test_quclear_max_cut_benchmark_regular_n20_e4_l1.json', 'test_paulihedral_max_cut_benchmark_regular_n15_e4_l1.json', 'test_pytket_max_cut_benchmark_connected_n15_e63_l1.json', 'test_quclear_max_cut_benchmark_connected_n20_e117_l1.json', 'test_paulihedral_max_cut_benchmark_connected_n15_e63_l1.json', 'test_pytket_max_cut_benchmark_connected_n10_e12_l1.json', 'test_pytket_max_cut_benchmark_regular_n20_e3_l1.json', 'test_pytket_max_cut_benchmark_connected_n20_e117_l1.json', 'test_paulihedral_max_cut_benchmark_regular_n20_e12_l1.json', 'test_quclear_max_cut_benchmark_regular_n15_e4_l1.json', 'test_paulihedral_max_cut_benchmark_regular_n20_e4_l1.json'] ../experiments/results_fullyconnected/\n",
      "['test_pytket_labs_n15_layers1.json', 'test_paulihedral_labs_n15_layers1.json', 'test_quclear_labs_n20_layers1.json', 'test_quclear_labs_n10_layers1.json', 'test_pytket_labs_n20_layers1.json', 'test_paulihedral_labs_n20_layers1.json', 'test_quclear_labs_n15_layers1.json', 'test_pytket_labs_n10_layers1.json', 'test_paulihedral_labs_n10_layers1.json'] ../experiments/results_fullyconnected/\n",
      "['test_paulihedral_Paulis13400.json', 'test_pytket_Paulis80.json', 'test_quclear_Paulis320.json', 'test_pytket_Paulis1656.json', 'test_paulihedral_Paulis1656.json', 'test_pytket_Paulis24.json', 'test_pytket_Paulis5376.json', 'test_pytket_Paulis320.json', 'test_paulihedral_Paulis5376.json', 'test_quclear_Paulis5376.json', 'test_paulihedral_Paulis80.json', 'test_pytket_Paulis13400.json', 'test_paulihedral_Paulis320.json', 'test_quclear_Paulis1656.json', 'test_quclear_Paulis24.json', 'test_quclear_Paulis13400.json', 'test_paulihedral_Paulis24.json', 'test_quclear_Paulis80.json'] ../experiments/results_fullyconnected/\n",
      "['test_pytket_H2O.json', 'test_quclear_H2O.json', 'test_paulihedral_H2O.json'] ../experiments/results_fullyconnected/\n",
      "['test_pytket_LiH.json', 'test_paulihedral_LiH.json', 'test_quclear_LiH.json'] ../experiments/results_fullyconnected/\n",
      "['test_paulihedral_benzene.json', 'test_pytket_benzene.json', 'test_quclear_benzene.json'] ../experiments/results_fullyconnected/\n",
      "['test_paulihedral_max_cut_benchmark_regular_n20_e8_l1.json', 'test_pytket_max_cut_benchmark_regular_n20_e12_l1.json', 'test_quclear_max_cut_benchmark_connected_n10_e12_l1.json', 'test_pytket_max_cut_benchmark_regular_n15_e4_l1.json', 'test_quclear_max_cut_benchmark_connected_n15_e63_l1.json', 'test_quclear_max_cut_benchmark_regular_n20_e8_l1.json', 'test_quclear_max_cut_benchmark_regular_n20_e12_l1.json', 'test_pytket_max_cut_benchmark_regular_n20_e4_l1.json', 'test_pytket_max_cut_benchmark_regular_n20_e8_l1.json', 'test_pytket_max_cut_benchmark_regular_n10_e3_l1.json', 'test_paulihedral_max_cut_benchmark_connected_n20_e117_l1.json', 'test_paulihedral_max_cut_benchmark_connected_n10_e12_l1.json', 'test_quclear_max_cut_benchmark_regular_n20_e4_l1.json', 'test_paulihedral_max_cut_benchmark_regular_n15_e4_l1.json', 'test_pytket_max_cut_benchmark_connected_n15_e63_l1.json', 'test_quclear_max_cut_benchmark_connected_n20_e117_l1.json', 'test_paulihedral_max_cut_benchmark_connected_n15_e63_l1.json', 'test_pytket_max_cut_benchmark_connected_n10_e12_l1.json', 'test_pytket_max_cut_benchmark_regular_n20_e3_l1.json', 'test_pytket_max_cut_benchmark_connected_n20_e117_l1.json', 'test_paulihedral_max_cut_benchmark_regular_n20_e12_l1.json', 'test_quclear_max_cut_benchmark_regular_n15_e4_l1.json', 'test_paulihedral_max_cut_benchmark_regular_n20_e4_l1.json'] ../experiments/results_fullyconnected/\n",
      "['test_pytket_labs_n15_layers1.json', 'test_paulihedral_labs_n15_layers1.json', 'test_quclear_labs_n20_layers1.json', 'test_quclear_labs_n10_layers1.json', 'test_pytket_labs_n20_layers1.json', 'test_paulihedral_labs_n20_layers1.json', 'test_quclear_labs_n15_layers1.json', 'test_pytket_labs_n10_layers1.json', 'test_paulihedral_labs_n10_layers1.json'] ../experiments/results_fullyconnected/\n",
      "[[{'test_quclear_Paulis320.json': {'num_paulis': 320, 'times': {'our_time': 2.290482997894287, 'combined_time': 2.726691246032715, 'qiskit_time': 2.718395948410034, 'rustiq_time': 0.11527895927429199}, 'gate_counts': {'our_method': 507, 'combined_method': 448, 'qiskit_method': 1003, 'rustiq_method': 794}, 'circuit_entangling_depth': {'our_method': 385, 'combined_method': 335, 'qiskit_method': 990, 'rustiq_method': 664}, 'test_paulis_file': 'experiments/results_fullyconnected/test_uccsd_paulis_e4_o8.json', 'num_qubits': 8}, 'test_quclear_Paulis5376.json': {'num_paulis': 5376, 'times': {'our_time': 85.3802137374878, 'combined_time': 111.06760120391846, 'qiskit_time': 95.37274074554443, 'rustiq_time': 4177.472219944}, 'gate_counts': {'our_method': 9832, 'combined_method': 8820, 'qiskit_method': 23498, 'rustiq_method': 18552}, 'circuit_entangling_depth': {'our_method': 6941, 'combined_method': 6153, 'qiskit_method': 23020, 'rustiq_method': 13084}, 'test_paulis_file': 'experiments/results_fullyconnected/test_uccsd_paulis_e8_o16.json', 'num_qubits': 16}, 'test_quclear_Paulis1656.json': {'num_paulis': 1656, 'times': {'our_time': 17.398980140686035, 'combined_time': 21.107481956481934, 'qiskit_time': 18.32570505142212, 'rustiq_time': 17.482309818267822}, 'gate_counts': {'our_method': 2863, 'combined_method': 2580, 'qiskit_method': 5723, 'rustiq_method': 4706}, 'circuit_entangling_depth': {'our_method': 2063, 'combined_method': 1832, 'qiskit_method': 5582, 'rustiq_method': 3589}, 'test_paulis_file': 'experiments/results_fullyconnected/test_uccsd_paulis_e6_o12.json', 'num_qubits': 12}, 'test_quclear_Paulis24.json': {'num_paulis': 24, 'times': {'our_time': 0.1077568531036377, 'combined_time': 0.17030906677246094, 'qiskit_time': 0.15168380737304688, 'rustiq_time': 0.0021381378173828125}, 'gate_counts': {'our_method': 27, 'combined_method': 23, 'qiskit_method': 41, 'rustiq_method': 33}, 'circuit_entangling_depth': {'our_method': 21, 'combined_method': 17, 'qiskit_method': 41, 'rustiq_method': 31}, 'test_paulis_file': 'experiments/results_fullyconnected/test_uccsd_paulis_e2_o4.json', 'num_qubits': 4}, 'test_quclear_Paulis13400.json': {'num_paulis': 13400, 'times': {'our_time': 243.48707699775696, 'combined_time': 266.47091579437256, 'qiskit_time': 288.2890660762787, 'rustiq_time': 29291.06209397316}, 'gate_counts': {'our_method': 26704, 'combined_method': 24022, 'qiskit_method': 72005, 'rustiq_method': 50923}, 'circuit_entangling_depth': {'our_method': 17661, 'combined_method': 15620, 'qiskit_method': 70705, 'rustiq_method': 34421}, 'test_paulis_file': 'experiments/results_fullyconnected/test_uccsd_paulis_e10_o20.json', 'num_qubits': 20}, 'test_quclear_Paulis80.json': {'num_paulis': 80, 'times': {'our_time': 0.4145500659942627, 'combined_time': 0.692650556564331, 'qiskit_time': 0.5157513618469238, 'rustiq_time': 0.008050918579101562}, 'gate_counts': {'our_method': 119, 'combined_method': 106, 'qiskit_method': 181, 'rustiq_method': 161}, 'circuit_entangling_depth': {'our_method': 94, 'combined_method': 82, 'qiskit_method': 178, 'rustiq_method': 143}, 'test_paulis_file': 'experiments/results_fullyconnected/test_uccsd_paulis_e2_o6.json', 'num_qubits': 6}}], [{'test_quclear_H2O.json': {'num_paulis': 184, 'times': {'our_time': 1.2316110134124756, 'combined_time': 1.514981985092163, 'qiskit_time': 1.0271170139312744, 'rustiq_time': 0.02046823501586914}, 'gate_counts': {'our_method': 277, 'combined_method': 274, 'qiskit_method': 786, 'rustiq_method': 352}, 'circuit_entangling_depth': {'our_method': 191, 'combined_method': 189, 'qiskit_method': 769, 'rustiq_method': 265}, 'test_paulis_file': 'experiments/results_fullyconnected/test_quclear_H2O.json', 'num_qubits': 8}}, {'test_quclear_LiH.json': {'num_paulis': 61, 'times': {'our_time': 0.40436792373657227, 'combined_time': 0.4089541435241699, 'qiskit_time': 0.25371694564819336, 'rustiq_time': 0.00443577766418457}, 'gate_counts': {'our_method': 76, 'combined_method': 74, 'qiskit_method': 180, 'rustiq_method': 115}, 'circuit_entangling_depth': {'our_method': 62, 'combined_method': 60, 'qiskit_method': 176, 'rustiq_method': 92}, 'test_paulis_file': 'experiments/results_fullyconnected/test_quclear_LiH.json', 'num_qubits': 6}}, {'test_quclear_benzene.json': {'num_paulis': 1254, 'times': {'our_time': 13.280921220779419, 'combined_time': 15.744943857192993, 'qiskit_time': 9.516340970993042, 'rustiq_time': 4.080456972122192}, 'gate_counts': {'our_method': 2479, 'combined_method': 2470, 'qiskit_method': 7602, 'rustiq_method': 3356}, 'circuit_entangling_depth': {'our_method': 1486, 'combined_method': 1481, 'qiskit_method': 7477, 'rustiq_method': 2313}, 'test_paulis_file': 'experiments/results_fullyconnected/test_quclear_benzene.json', 'num_qubits': 12}}], [{'test_quclear_max_cut_benchmark_connected_n10_e12_l1.json': {'num_paulis': 22, 'times': {'our_time': 0.26601505279541016, 'combined_time': 0.2651491165161133, 'qiskit_time': 0.03136897087097168, 'rustiq_time': 0.01007986068725586}, 'gate_counts': {'our_method': 26, 'combined_method': 26, 'qiskit_method': 22, 'rustiq_method': 33}, 'circuit_entangling_depth': {'our_method': 21, 'combined_method': 21, 'qiskit_method': 10, 'rustiq_method': 18}, 'test_paulis_file': 'experiments/results_fullyconnected/test_max_cut_benchmark_connected_n10_e12_l1.json', 'num_qubits': 10}, 'test_quclear_max_cut_benchmark_connected_n15_e63_l1.json': {'num_paulis': 78, 'times': {'our_time': 3.7221779823303223, 'combined_time': 4.482073068618774, 'qiskit_time': 0.10979008674621582, 'rustiq_time': 0.03811216354370117}, 'gate_counts': {'our_method': 80, 'combined_method': 80, 'qiskit_method': 114, 'rustiq_method': 108}, 'circuit_entangling_depth': {'our_method': 47, 'combined_method': 47, 'qiskit_method': 36, 'rustiq_method': 59}, 'test_paulis_file': 'experiments/results_fullyconnected/test_max_cut_benchmark_connected_n15_e63_l1.json', 'num_qubits': 15}, 'test_quclear_max_cut_benchmark_regular_n20_e8_l1.json': {'num_paulis': 100, 'times': {'our_time': 8.177272081375122, 'combined_time': 8.237835884094238, 'qiskit_time': 0.12206268310546875, 'rustiq_time': 0.0994112491607666}, 'gate_counts': {'our_method': 128, 'combined_method': 128, 'qiskit_method': 158, 'rustiq_method': 188}, 'circuit_entangling_depth': {'our_method': 58, 'combined_method': 58, 'qiskit_method': 94, 'rustiq_method': 101}, 'test_paulis_file': 'experiments/results_fullyconnected/test_max_cut_benchmark_regular_n20_e8_l1.json', 'num_qubits': 20}, 'test_quclear_max_cut_benchmark_regular_n20_e12_l1.json': {'num_paulis': 140, 'times': {'our_time': 15.604050874710083, 'combined_time': 16.549638032913208, 'qiskit_time': 0.2908339500427246, 'rustiq_time': 0.10129117965698242}, 'gate_counts': {'our_method': 171, 'combined_method': 171, 'qiskit_method': 238, 'rustiq_method': 218}, 'circuit_entangling_depth': {'our_method': 93, 'combined_method': 93, 'qiskit_method': 158, 'rustiq_method': 113}, 'test_paulis_file': 'experiments/results_fullyconnected/test_max_cut_benchmark_regular_n20_e12_l1.json', 'num_qubits': 20}, 'test_quclear_max_cut_benchmark_regular_n20_e4_l1.json': {'num_paulis': 60, 'times': {'our_time': 2.8413190841674805, 'combined_time': 2.407991886138916, 'qiskit_time': 0.06804704666137695, 'rustiq_time': 0.0805811882019043}, 'gate_counts': {'our_method': 89, 'combined_method': 87, 'qiskit_method': 78, 'rustiq_method': 126}, 'circuit_entangling_depth': {'our_method': 35, 'combined_method': 34, 'qiskit_method': 28, 'rustiq_method': 60}, 'test_paulis_file': 'experiments/results_fullyconnected/test_max_cut_benchmark_regular_n20_e4_l1.json', 'num_qubits': 20}, 'test_quclear_max_cut_benchmark_connected_n20_e117_l1.json': {'num_paulis': 137, 'times': {'our_time': 15.61230182647705, 'combined_time': 14.3733229637146, 'qiskit_time': 0.3054080009460449, 'rustiq_time': 0.07987403869628906}, 'gate_counts': {'our_method': 148, 'combined_method': 148, 'qiskit_method': 216, 'rustiq_method': 188}, 'circuit_entangling_depth': {'our_method': 67, 'combined_method': 67, 'qiskit_method': 56, 'rustiq_method': 85}, 'test_paulis_file': 'experiments/results_fullyconnected/test_max_cut_benchmark_connected_n20_e117_l1.json', 'num_qubits': 20}, 'test_quclear_max_cut_benchmark_regular_n15_e4_l1.json': {'num_paulis': 45, 'times': {'our_time': 1.8176109790802002, 'combined_time': 1.9130029678344727, 'qiskit_time': 0.05798983573913574, 'rustiq_time': 0.042608022689819336}, 'gate_counts': {'our_method': 67, 'combined_method': 67, 'qiskit_method': 58, 'rustiq_method': 92}, 'circuit_entangling_depth': {'our_method': 31, 'combined_method': 31, 'qiskit_method': 28, 'rustiq_method': 47}, 'test_paulis_file': 'experiments/results_fullyconnected/test_max_cut_benchmark_regular_n15_e4_l1.json', 'num_qubits': 15}}], [{'test_quclear_labs_n20_layers1.json': {'num_paulis': 635, 'times': {'our_time': 447.3010938167572, 'combined_time': 387.85383701324463, 'qiskit_time': 1.2624578475952148, 'rustiq_time': 0.532465934753418}, 'gate_counts': {'our_method': 1052, 'combined_method': 1052, 'qiskit_method': 2914, 'rustiq_method': 1137}, 'circuit_entangling_depth': {'our_method': 679, 'combined_method': 679, 'qiskit_method': 1731, 'rustiq_method': 672}, 'test_paulis_file': 'experiments/results_fullyconnected/test_labs_n20_layers1.json', 'num_qubits': 20}, 'test_quclear_labs_n10_layers1.json': {'num_paulis': 80, 'times': {'our_time': 4.93082594871521, 'combined_time': 3.8309860229492188, 'qiskit_time': 0.11831402778625488, 'rustiq_time': 0.013764142990112305}, 'gate_counts': {'our_method': 106, 'combined_method': 106, 'qiskit_method': 296, 'rustiq_method': 116}, 'circuit_entangling_depth': {'our_method': 76, 'combined_method': 76, 'qiskit_method': 173, 'rustiq_method': 77}, 'test_paulis_file': 'experiments/results_fullyconnected/test_labs_n10_layers1.json', 'num_qubits': 10}, 'test_quclear_labs_n15_layers1.json': {'num_paulis': 267, 'times': {'our_time': 60.28118562698364, 'combined_time': 56.87217116355896, 'qiskit_time': 0.9085330963134766, 'rustiq_time': 0.2803380489349365}, 'gate_counts': {'our_method': 383, 'combined_method': 383, 'qiskit_method': 1208, 'rustiq_method': 456}, 'circuit_entangling_depth': {'our_method': 254, 'combined_method': 254, 'qiskit_method': 672, 'rustiq_method': 279}, 'test_paulis_file': 'experiments/results_fullyconnected/test_labs_n15_layers1.json', 'num_qubits': 15}}]]\n"
     ]
    }
   ],
   "source": [
    "experiments=[[\"Paulis\"], [\"H2O\", \"LiH\", \"benzene\"], [\"max_cut\"], [\"labs\"]]\n",
    "# all_tags=[\"new\", \"qiskit\", \"rustiq\", \"paulihedral\", \"pytket\"] #new==quclear\n",
    "quclear_tag=\"quclear\"\n",
    "quclear_tag2=\"our\"\n",
    "quclear_tag3=\"combined\"\n",
    "qiskit_tag=\"qiskit\"\n",
    "rustiq_tag=\"rustiq\"\n",
    "paulihedral_tag=\"paulihedral\"\n",
    "pytket_tag=\"pytket\"\n",
    "quclear_res=[[tables_utl.get_results(file_dir, quclear_tag, exper) for exper in block] for block in experiments]\n",
    "qiskit_res=[[tables_utl.get_results(file_dir, qiskit_tag, exper) for exper in block] for block in experiments]\n",
    "rustiq_res=[[tables_utl.get_results(file_dir, rustiq_tag, exper) for exper in block] for block in experiments]\n",
    "paulih_res=[[tables_utl.get_results(file_dir, paulihedral_tag, exper) for exper in block] for block in experiments]\n",
    "pytket_res=[[tables_utl.get_results(file_dir, pytket_tag, exper) for exper in block] for block in experiments]\n",
    "print(quclear_res)"
   ]
  },
  {
   "cell_type": "code",
   "execution_count": 11,
   "metadata": {},
   "outputs": [
    {
     "name": "stdout",
     "output_type": "stream",
     "text": [
      "True\n",
      "True\n",
      "True\n",
      "True\n",
      "True\n",
      "dict_keys(['test_quclear_Paulis320.json', 'test_quclear_Paulis5376.json', 'test_quclear_Paulis1656.json', 'test_quclear_Paulis24.json', 'test_quclear_Paulis13400.json', 'test_quclear_Paulis80.json'])\n"
     ]
    }
   ],
   "source": [
    "quclear_uccsd=tables_utl.get_metrics(quclear_res[0][0], quclear_tag3)\n",
    "quclear_hs= {}\n",
    "for d in [tables_utl.get_metrics(exper, quclear_tag3) for exper in quclear_res[1]]:\n",
    "    quclear_hs |= d\n",
    "quclear_max_cut=tables_utl.get_metrics(quclear_res[2][0], quclear_tag3)\n",
    "quclear_labs=tables_utl.get_metrics(quclear_res[3][0], quclear_tag3)\n",
    "\n",
    "qiskit_uccsd=tables_utl.get_metrics(qiskit_res[0][0], qiskit_tag)\n",
    "qiskit_hs= {}\n",
    "for d in [tables_utl.get_metrics(exper, qiskit_tag) for exper in qiskit_res[1]]:\n",
    "    qiskit_hs |= d\n",
    "qiskit_max_cut=tables_utl.get_metrics(qiskit_res[2][0], qiskit_tag)\n",
    "qiskit_labs=tables_utl.get_metrics(qiskit_res[3][0], qiskit_tag)\n",
    "\n",
    "rustiq_uccsd=tables_utl.get_metrics(rustiq_res[0][0], rustiq_tag)\n",
    "rustiq_hs= {}\n",
    "for d in [tables_utl.get_metrics(exper, rustiq_tag) for exper in rustiq_res[1]]:\n",
    "    rustiq_hs |= d\n",
    "rustiq_max_cut=tables_utl.get_metrics(rustiq_res[2][0], rustiq_tag)\n",
    "rustiq_labs=tables_utl.get_metrics(rustiq_res[3][0], rustiq_tag)\n",
    "\n",
    "paulih_uccsd=tables_utl.get_metrics(paulih_res[0][0], paulihedral_tag)\n",
    "paulih_hs= {}\n",
    "for d in [tables_utl.get_metrics(exper, paulihedral_tag) for exper in paulih_res[1]]:\n",
    "    paulih_hs |= d\n",
    "paulih_max_cut=tables_utl.get_metrics(paulih_res[2][0], paulihedral_tag)\n",
    "paulih_labs=tables_utl.get_metrics(paulih_res[3][0], paulihedral_tag)\n",
    "\n",
    "pytket_uccsd=tables_utl.get_metrics(pytket_res[0][0], pytket_tag)\n",
    "pytket_hs= {}\n",
    "for d in [tables_utl.get_metrics(exper, pytket_tag) for exper in pytket_res[1]]:\n",
    "    pytket_hs |= d\n",
    "pytket_max_cut=tables_utl.get_metrics(pytket_res[2][0], pytket_tag)\n",
    "pytket_labs=tables_utl.get_metrics(pytket_res[3][0], pytket_tag)\n",
    "\n",
    "\n",
    "tables_utl.test_lenghts_res(quclear_res)\n",
    "tables_utl.test_lenghts_res(qiskit_res)\n",
    "tables_utl.test_lenghts_res(rustiq_res)\n",
    "tables_utl.test_lenghts_res(paulih_res)\n",
    "tables_utl.test_lenghts_res(pytket_res)\n",
    "\n",
    "data_all = [[quclear_uccsd, qiskit_uccsd, rustiq_uccsd, paulih_uccsd, pytket_uccsd],\n",
    " [quclear_hs, qiskit_hs, rustiq_hs, paulih_hs, pytket_hs],\n",
    "  [quclear_labs, qiskit_labs, rustiq_labs, paulih_labs, pytket_labs],\n",
    " [quclear_max_cut, qiskit_max_cut, rustiq_max_cut, paulih_max_cut, pytket_max_cut]]\n",
    "print(quclear_uccsd.keys())"
   ]
  },
  {
   "cell_type": "code",
   "execution_count": null,
   "metadata": {},
   "outputs": [],
   "source": []
  },
  {
   "cell_type": "code",
   "execution_count": 20,
   "metadata": {},
   "outputs": [],
   "source": [
    "def get_table(data_all, experiment):\n",
    "    table_data = []\n",
    "    uccsd_files=['test_quclear_Paulis24.json', 'test_quclear_Paulis80.json', 'test_quclear_Paulis320.json', 'test_quclear_Paulis1656.json', 'test_quclear_Paulis5376.json', 'test_quclear_Paulis13400.json']\n",
    "    hs_files=['test_quclear_LiH.json', 'test_quclear_H2O.json', 'test_quclear_benzene.json']\n",
    "    labs_files=['test_quclear_labs_n10_layers1.json', 'test_quclear_labs_n15_layers1.json', 'test_quclear_labs_n20_layers1.json']\n",
    "    max_cut_files=['test_quclear_max_cut_benchmark_regular_n15_e4_l1.json', 'test_quclear_max_cut_benchmark_regular_n20_e4_l1.json', 'test_quclear_max_cut_benchmark_regular_n20_e8_l1.json', 'test_quclear_max_cut_benchmark_regular_n20_e12_l1.json','test_quclear_max_cut_benchmark_connected_n10_e12_l1.json', 'test_quclear_max_cut_benchmark_connected_n15_e63_l1.json', 'test_quclear_max_cut_benchmark_connected_n20_e117_l1.json']\n",
    "    file_names = [uccsd_files, hs_files, labs_files, max_cut_files]\n",
    "    for idx, data_bench in enumerate(data_all):\n",
    "        quclear, qiskit, rustiq, paulih, pytket = data_bench[0],data_bench[1],data_bench[2],data_bench[3],data_bench[4]\n",
    "        files = file_names[idx]\n",
    "        for file in files:\n",
    "            quclear_f,qiskit_f, rustiq_f, paulih_f, pytket_f= tables_utl.get_data_handles(quclear, qiskit, rustiq, paulih, pytket, file)\n",
    "            row = [file] + [quclear_f[experiment], qiskit_f[experiment], rustiq_f[experiment], paulih_f[experiment], pytket_f[experiment]]\n",
    "            table_data.append(row)\n",
    "\n",
    "            # Define table headers\n",
    "    headers = [\"Benchmark\", \"Quclear\", \"Qiskit\", \"RustiQ\", \"PauliH\", \"PyTKET\"]\n",
    "\n",
    "    # Generate formatted table\n",
    "    formatted_table = tabulate(table_data, headers=headers, tablefmt=\"grid\")\n",
    "    print(formatted_table)"
   ]
  },
  {
   "cell_type": "code",
   "execution_count": 21,
   "metadata": {},
   "outputs": [
    {
     "name": "stdout",
     "output_type": "stream",
     "text": [
      "+-----------------------------------------------------------+-----------+----------+----------+----------+----------+\n",
      "| Benchmark                                                 |   Quclear |   Qiskit |   RustiQ |   PauliH |   PyTKET |\n",
      "+===========================================================+===========+==========+==========+==========+==========+\n",
      "| test_quclear_Paulis24.json                                |        23 |       41 |       33 |       48 |       53 |\n",
      "+-----------------------------------------------------------+-----------+----------+----------+----------+----------+\n",
      "| test_quclear_Paulis80.json                                |       106 |      181 |      161 |      216 |      236 |\n",
      "+-----------------------------------------------------------+-----------+----------+----------+----------+----------+\n",
      "| test_quclear_Paulis320.json                               |       448 |     1003 |      794 |      947 |     1263 |\n",
      "+-----------------------------------------------------------+-----------+----------+----------+----------+----------+\n",
      "| test_quclear_Paulis1656.json                              |      2580 |     5723 |     4706 |     6076 |     8868 |\n",
      "+-----------------------------------------------------------+-----------+----------+----------+----------+----------+\n",
      "| test_quclear_Paulis5376.json                              |      8820 |    23498 |    18552 |    23389 |    36412 |\n",
      "+-----------------------------------------------------------+-----------+----------+----------+----------+----------+\n",
      "| test_quclear_Paulis13400.json                             |     24022 |    72005 |    50923 |    67336 |   109223 |\n",
      "+-----------------------------------------------------------+-----------+----------+----------+----------+----------+\n",
      "| test_quclear_LiH.json                                     |        74 |      180 |      115 |      117 |      132 |\n",
      "+-----------------------------------------------------------+-----------+----------+----------+----------+----------+\n",
      "| test_quclear_H2O.json                                     |       274 |      786 |      352 |      620 |      505 |\n",
      "+-----------------------------------------------------------+-----------+----------+----------+----------+----------+\n",
      "| test_quclear_benzene.json                                 |      2470 |     7602 |     3356 |     3267 |     4738 |\n",
      "+-----------------------------------------------------------+-----------+----------+----------+----------+----------+\n",
      "| test_quclear_labs_n10_layers1.json                        |       106 |      296 |      116 |      230 |      145 |\n",
      "+-----------------------------------------------------------+-----------+----------+----------+----------+----------+\n",
      "| test_quclear_labs_n15_layers1.json                        |       383 |     1208 |      456 |      880 |      641 |\n",
      "+-----------------------------------------------------------+-----------+----------+----------+----------+----------+\n",
      "| test_quclear_labs_n20_layers1.json                        |      1052 |     2914 |     1137 |     2218 |     1762 |\n",
      "+-----------------------------------------------------------+-----------+----------+----------+----------+----------+\n",
      "| test_quclear_max_cut_benchmark_regular_n15_e4_l1.json     |        67 |       58 |       92 |       60 |       62 |\n",
      "+-----------------------------------------------------------+-----------+----------+----------+----------+----------+\n",
      "| test_quclear_max_cut_benchmark_regular_n20_e4_l1.json     |        87 |       78 |      126 |       80 |      100 |\n",
      "+-----------------------------------------------------------+-----------+----------+----------+----------+----------+\n",
      "| test_quclear_max_cut_benchmark_regular_n20_e8_l1.json     |       128 |      158 |      188 |      160 |      210 |\n",
      "+-----------------------------------------------------------+-----------+----------+----------+----------+----------+\n",
      "| test_quclear_max_cut_benchmark_regular_n20_e12_l1.json    |       171 |      238 |      218 |      240 |      247 |\n",
      "+-----------------------------------------------------------+-----------+----------+----------+----------+----------+\n",
      "| test_quclear_max_cut_benchmark_connected_n10_e12_l1.json  |        26 |       22 |       33 |       24 |       24 |\n",
      "+-----------------------------------------------------------+-----------+----------+----------+----------+----------+\n",
      "| test_quclear_max_cut_benchmark_connected_n15_e63_l1.json  |        80 |      114 |      108 |      102 |      137 |\n",
      "+-----------------------------------------------------------+-----------+----------+----------+----------+----------+\n",
      "| test_quclear_max_cut_benchmark_connected_n20_e117_l1.json |       148 |      216 |      188 |      192 |      298 |\n",
      "+-----------------------------------------------------------+-----------+----------+----------+----------+----------+\n"
     ]
    }
   ],
   "source": [
    "get_table(data_all, 'cnots')"
   ]
  },
  {
   "cell_type": "code",
   "execution_count": 22,
   "metadata": {},
   "outputs": [
    {
     "name": "stdout",
     "output_type": "stream",
     "text": [
      "+-----------------------------------------------------------+-----------+----------+----------+----------+----------+\n",
      "| Benchmark                                                 |   Quclear |   Qiskit |   RustiQ |   PauliH |   PyTKET |\n",
      "+===========================================================+===========+==========+==========+==========+==========+\n",
      "| test_quclear_Paulis24.json                                |        17 |       41 |       31 |       48 |       50 |\n",
      "+-----------------------------------------------------------+-----------+----------+----------+----------+----------+\n",
      "| test_quclear_Paulis80.json                                |        82 |      178 |      143 |      215 |      211 |\n",
      "+-----------------------------------------------------------+-----------+----------+----------+----------+----------+\n",
      "| test_quclear_Paulis320.json                               |       335 |      990 |      664 |      941 |     1116 |\n",
      "+-----------------------------------------------------------+-----------+----------+----------+----------+----------+\n",
      "| test_quclear_Paulis1656.json                              |      1832 |     5582 |     3589 |     6051 |     7926 |\n",
      "+-----------------------------------------------------------+-----------+----------+----------+----------+----------+\n",
      "| test_quclear_Paulis5376.json                              |      6153 |    23020 |    13084 |    23333 |    33076 |\n",
      "+-----------------------------------------------------------+-----------+----------+----------+----------+----------+\n",
      "| test_quclear_Paulis13400.json                             |     15620 |    70705 |    34421 |    67237 |   100587 |\n",
      "+-----------------------------------------------------------+-----------+----------+----------+----------+----------+\n",
      "| test_quclear_LiH.json                                     |        60 |      176 |       92 |      115 |      112 |\n",
      "+-----------------------------------------------------------+-----------+----------+----------+----------+----------+\n",
      "| test_quclear_H2O.json                                     |       189 |      769 |      265 |      610 |      442 |\n",
      "+-----------------------------------------------------------+-----------+----------+----------+----------+----------+\n",
      "| test_quclear_benzene.json                                 |      1481 |     7477 |     2313 |     3237 |     4092 |\n",
      "+-----------------------------------------------------------+-----------+----------+----------+----------+----------+\n",
      "| test_quclear_labs_n10_layers1.json                        |        76 |      173 |       77 |      209 |      127 |\n",
      "+-----------------------------------------------------------+-----------+----------+----------+----------+----------+\n",
      "| test_quclear_labs_n15_layers1.json                        |       254 |      672 |      279 |      797 |      568 |\n",
      "+-----------------------------------------------------------+-----------+----------+----------+----------+----------+\n",
      "| test_quclear_labs_n20_layers1.json                        |       679 |     1731 |      672 |     2023 |     1673 |\n",
      "+-----------------------------------------------------------+-----------+----------+----------+----------+----------+\n",
      "| test_quclear_max_cut_benchmark_regular_n15_e4_l1.json     |        31 |       28 |       47 |       26 |       36 |\n",
      "+-----------------------------------------------------------+-----------+----------+----------+----------+----------+\n",
      "| test_quclear_max_cut_benchmark_regular_n20_e4_l1.json     |        34 |       28 |       60 |       22 |       46 |\n",
      "+-----------------------------------------------------------+-----------+----------+----------+----------+----------+\n",
      "| test_quclear_max_cut_benchmark_regular_n20_e8_l1.json     |        58 |       94 |      101 |       48 |      123 |\n",
      "+-----------------------------------------------------------+-----------+----------+----------+----------+----------+\n",
      "| test_quclear_max_cut_benchmark_regular_n20_e12_l1.json    |        93 |      158 |      113 |       70 |      121 |\n",
      "+-----------------------------------------------------------+-----------+----------+----------+----------+----------+\n",
      "| test_quclear_max_cut_benchmark_connected_n10_e12_l1.json  |        21 |       10 |       18 |       12 |       12 |\n",
      "+-----------------------------------------------------------+-----------+----------+----------+----------+----------+\n",
      "| test_quclear_max_cut_benchmark_connected_n15_e63_l1.json  |        47 |       36 |       59 |       42 |       69 |\n",
      "+-----------------------------------------------------------+-----------+----------+----------+----------+----------+\n",
      "| test_quclear_max_cut_benchmark_connected_n20_e117_l1.json |        67 |       56 |       85 |       56 |      121 |\n",
      "+-----------------------------------------------------------+-----------+----------+----------+----------+----------+\n"
     ]
    }
   ],
   "source": [
    "get_table(data_all, 'circuit_entangling_depth')"
   ]
  },
  {
   "cell_type": "code",
   "execution_count": 23,
   "metadata": {},
   "outputs": [
    {
     "name": "stdout",
     "output_type": "stream",
     "text": [
      "+-----------------------------------------------------------+-----------+----------+------------+----------+------------+\n",
      "| Benchmark                                                 |   Quclear |   Qiskit |     RustiQ |   PauliH |     PyTKET |\n",
      "+===========================================================+===========+==========+============+==========+============+\n",
      "| test_quclear_Paulis24.json                                |    0.1703 |   0.1517 |     0.0021 |   0.092  |     1.3447 |\n",
      "+-----------------------------------------------------------+-----------+----------+------------+----------+------------+\n",
      "| test_quclear_Paulis80.json                                |    0.6927 |   0.5158 |     0.0081 |   0.48   |     6.0524 |\n",
      "+-----------------------------------------------------------+-----------+----------+------------+----------+------------+\n",
      "| test_quclear_Paulis320.json                               |    2.7267 |   2.7184 |     0.1153 |   2.517  |    36.3124 |\n",
      "+-----------------------------------------------------------+-----------+----------+------------+----------+------------+\n",
      "| test_quclear_Paulis1656.json                              |   21.1075 |  18.3257 |    17.4823 |  21.8002 |   289.001  |\n",
      "+-----------------------------------------------------------+-----------+----------+------------+----------+------------+\n",
      "| test_quclear_Paulis5376.json                              |  111.068  |  95.3727 |  4177.47   | 111.13   |  2480.53   |\n",
      "+-----------------------------------------------------------+-----------+----------+------------+----------+------------+\n",
      "| test_quclear_Paulis13400.json                             |  266.471  | 288.289  | 29291.1    | 562.305  | 22588.7    |\n",
      "+-----------------------------------------------------------+-----------+----------+------------+----------+------------+\n",
      "| test_quclear_LiH.json                                     |    0.409  |   0.2537 |     0.0044 |   1.3137 |     2.9604 |\n",
      "+-----------------------------------------------------------+-----------+----------+------------+----------+------------+\n",
      "| test_quclear_H2O.json                                     |    1.515  |   1.0271 |     0.0205 |   0.7787 |    11.1196 |\n",
      "+-----------------------------------------------------------+-----------+----------+------------+----------+------------+\n",
      "| test_quclear_benzene.json                                 |   15.7449 |   9.5163 |     4.0805 |  11.4166 |   151.332  |\n",
      "+-----------------------------------------------------------+-----------+----------+------------+----------+------------+\n",
      "| test_quclear_labs_n10_layers1.json                        |    3.831  |   0.1183 |     0.0138 |   0.143  |     3.0479 |\n",
      "+-----------------------------------------------------------+-----------+----------+------------+----------+------------+\n",
      "| test_quclear_labs_n15_layers1.json                        |   56.8722 |   0.9085 |     0.2803 |   0.3562 |    13.665  |\n",
      "+-----------------------------------------------------------+-----------+----------+------------+----------+------------+\n",
      "| test_quclear_labs_n20_layers1.json                        |  387.854  |   1.2625 |     0.5325 |   0.9411 |    42.9596 |\n",
      "+-----------------------------------------------------------+-----------+----------+------------+----------+------------+\n",
      "| test_quclear_max_cut_benchmark_regular_n15_e4_l1.json     |    1.913  |   0.058  |     0.0426 |   0.0236 |     1.1614 |\n",
      "+-----------------------------------------------------------+-----------+----------+------------+----------+------------+\n",
      "| test_quclear_max_cut_benchmark_regular_n20_e4_l1.json     |    2.408  |   0.068  |     0.0806 |   0.0336 |     2.0641 |\n",
      "+-----------------------------------------------------------+-----------+----------+------------+----------+------------+\n",
      "| test_quclear_max_cut_benchmark_regular_n20_e8_l1.json     |    8.2378 |   0.1221 |     0.0994 |   0.0677 |     4.663  |\n",
      "+-----------------------------------------------------------+-----------+----------+------------+----------+------------+\n",
      "| test_quclear_max_cut_benchmark_regular_n20_e12_l1.json    |   16.5496 |   0.2908 |     0.1013 |   0.168  |     4.3812 |\n",
      "+-----------------------------------------------------------+-----------+----------+------------+----------+------------+\n",
      "| test_quclear_max_cut_benchmark_connected_n10_e12_l1.json  |    0.2651 |   0.0314 |     0.0101 |   0.0171 |     0.49   |\n",
      "+-----------------------------------------------------------+-----------+----------+------------+----------+------------+\n",
      "| test_quclear_max_cut_benchmark_connected_n15_e63_l1.json  |    4.4821 |   0.1098 |     0.0381 |   0.0719 |     2.4726 |\n",
      "+-----------------------------------------------------------+-----------+----------+------------+----------+------------+\n",
      "| test_quclear_max_cut_benchmark_connected_n20_e117_l1.json |   14.3733 |   0.3054 |     0.0799 |   0.1084 |     6.1043 |\n",
      "+-----------------------------------------------------------+-----------+----------+------------+----------+------------+\n"
     ]
    }
   ],
   "source": [
    "get_table(data_all, 'times')"
   ]
  }
 ],
 "metadata": {
  "kernelspec": {
   "display_name": "QuCLEAR_env",
   "language": "python",
   "name": "python3"
  },
  "language_info": {
   "codemirror_mode": {
    "name": "ipython",
    "version": 3
   },
   "file_extension": ".py",
   "mimetype": "text/x-python",
   "name": "python",
   "nbconvert_exporter": "python",
   "pygments_lexer": "ipython3",
   "version": "3.10.15"
  }
 },
 "nbformat": 4,
 "nbformat_minor": 2
}
