{
 "cells": [
  {
   "cell_type": "code",
   "execution_count": 1,
   "id": "9c238604-5e42-4a53-a2bc-3412c403d4b7",
   "metadata": {},
   "outputs": [],
   "source": [
    "import json\n",
    "import time\n",
    "import os\n",
    "from pytket.passes import FullPeepholeOptimise, KAKDecomposition\n",
    "from pytket import Circuit, Qubit\n",
    "from pytket.circuit import PauliExpBox, OpType\n",
    "from pytket.pauli import Pauli, QubitPauliString\n",
    "from pytket.circuit.display import render_circuit_jupyter\n",
    "from pytket.passes import DecomposeBoxes, PauliSimp\n",
    "from pytket.extensions.qiskit import tk_to_qiskit"
   ]
  },
  {
   "cell_type": "code",
   "execution_count": 2,
   "id": "3983ba39",
   "metadata": {},
   "outputs": [],
   "source": [
    "# Pytket\n",
    "pauli_dict={\"I\": Pauli.I, \"X\": Pauli.X, \"Y\": Pauli.Y, \"Z\": Pauli.Z}\n",
    "def pytket_run(parr):\n",
    "    print(parr)\n",
    "    n = len(parr[0][0])\n",
    "    q = [Qubit(i) for i in range(n)]\n",
    "    oplist = {}\n",
    "    def to_pauli_list(ps):\n",
    "        r = []\n",
    "        for i in ps:\n",
    "            r.append(pauli_dict[i])\n",
    "        return r\n",
    "    for i in parr:\n",
    "        for j in i:\n",
    "            op = QubitPauliString(q, to_pauli_list(j))\n",
    "            oplist[op] = 1/3.14\n",
    "    def add_excitation(circ, term_dict, param=1.0):\n",
    "        for term, coeff in term_dict.items():\n",
    "            qubits, paulis = zip(*term.to_list())\n",
    "            paulis=[pauli_dict[p] for p in paulis]\n",
    "            pbox = PauliExpBox(paulis, coeff * param)\n",
    "            # transform the string form of the qubits to qubits\n",
    "            qubits=[circ.get_q_register(q_list[0])[q_list[1][0]] for q_list in qubits]\n",
    "            circ.add_pauliexpbox(pbox, qubits)\n",
    "    ansatz = Circuit(n)\n",
    "    # print(type(ansatz))\n",
    "    add_excitation(ansatz, oplist)\n",
    "    DecomposeBoxes().apply(ansatz)\n",
    "    # render_circuit_jupyter(ansatz)\n",
    "    FullPeepholeOptimise().apply(ansatz)\n",
    "    KAKDecomposition().apply(ansatz)\n",
    "    # render_circuit_jupyter(ansatz)\n",
    "    print(f\"CNOT: {ansatz.n_gates_of_type(OpType.CX)}, Single: {ansatz.n_gates-ansatz.n_gates_of_type(OpType.CX)}, Total: {ansatz.n_gates}, Depth: {ansatz.depth()}\")\n",
    "\n",
    "    return ansatz\n",
    "\n",
    "def is_all_identity(pauli):\n",
    "    return all(char == 'I' for char in pauli)\n",
    "\n",
    "\n",
    "# def update_json_file(filename, runtime, cx_count, circ_depth):\n",
    "#     with open(f'benchmarks/results/test_' + filename, 'r') as paulis_file:\n",
    "#         data=json.load(paulis_file)\n",
    "#     print(data[1])\n",
    "#     # with open(f'benchmarks/results/test_' + filename, 'w') as paulis_file:\n",
    "#     #     json.dump([test_paulis, results], paulis_file, indent=4)"
   ]
  },
  {
   "cell_type": "code",
   "execution_count": 3,
   "id": "42e7d866",
   "metadata": {},
   "outputs": [],
   "source": [
    "#Compare json files in a specific folder\n",
    "def run_experiment_folder(folder_path = None, filename = None, save_output = False):\n",
    "\n",
    "    if filename == None:\n",
    "        file_list = os.listdir(folder_path)\n",
    "    else:\n",
    "        file_list = [filename]\n",
    "    # Iterate over all files in the folder\n",
    "    for filename in file_list:\n",
    "        # Check if the file is a JSON file\n",
    "        if filename.endswith(\".json\"):\n",
    "            results = []\n",
    "            # Print the filename\n",
    "            print(filename)\n",
    "            with open(folder_path + '/' + filename, \"r\") as file:\n",
    "                test_paulis = json.load(file)\n",
    "            # Filter the list to remove all identity Paulis\n",
    "            paulis = [[p] for p in test_paulis if not is_all_identity(p)]\n",
    "            number_of_ham=len(paulis)\n",
    "\n",
    "            # Measure time for Tetris method\n",
    "            start_time = time.time()\n",
    "            circuit = pytket_run(paulis)\n",
    "            end_time = time.time()\n",
    "            circuit_qiskit=tk_to_qiskit(circuit)\n",
    "            # circuit_qiskit = transpile(circuit_qiskit, basis_gates=[\"cx\", \"sx\", \"x\", \"rz\"], optimization_level=3)\n",
    "            tot_time = end_time - start_time\n",
    "        \n",
    "            # Collect results\n",
    "            result = {\n",
    "                \"num_paulis\": number_of_ham,\n",
    "                \"times\": {\n",
    "                    \"pytket_time\": tot_time\n",
    "                },\n",
    "                \"gate_counts\": {\n",
    "                    \"pytket_method\": circuit.n_gates_of_type(OpType.CX)\n",
    "                },\n",
    "                \"circuit_entangling_depth\": {\n",
    "                    \"pytket_method\": circuit_qiskit.depth(lambda instr: len(instr.qubits) > 1)\n",
    "                },\n",
    "                \"test_paulis_file\": f'benchmarks/results/test_pytket_' + filename\n",
    "            }\n",
    "            print(result)\n",
    "            results.append(result)\n",
    "            if save_output == True:\n",
    "                # Save test_paulis to a separate JSON file\n",
    "                with open(f'benchmarks/results/test_pytket_' + filename, 'w') as paulis_file:\n",
    "                    json.dump([test_paulis, results], paulis_file, indent=4)\n",
    "    \n",
    "\n",
    "    "
   ]
  },
  {
   "cell_type": "code",
   "execution_count": 4,
   "id": "63f85128",
   "metadata": {},
   "outputs": [],
   "source": [
    "#Compare a given list of paulis\n",
    "def run_experiment_paulis(test_paulis, test_params = None, save_output = False, filename = \"Paulis\"):\n",
    "\n",
    "    results = []\n",
    "    # Filter the list to remove all identity Paulis\n",
    "    if test_params is None:\n",
    "        test_params = [0.01 * i for i in range(len(test_paulis))]\n",
    "    \n",
    "    number_of_ham=len([p for block in test_paulis for p in block])\n",
    "    # Measure time for Tetris method\n",
    "    start_time = time.time()\n",
    "    circuit = pytket_run(test_paulis)\n",
    "    end_time = time.time()\n",
    "    circuit_qiskit=tk_to_qiskit(circuit)\n",
    "    # circuit_qiskit = transpile(circuit_qiskit, basis_gates=[\"cx\", \"sx\", \"x\", \"rz\"], optimization_level=3)\n",
    "    tot_time = end_time - start_time\n",
    "\n",
    "    # Collect results\n",
    "    result = {\n",
    "        \"num_paulis\": number_of_ham,\n",
    "        \"times\": {\n",
    "            \"pytket_time\": tot_time\n",
    "        },\n",
    "        \"gate_counts\": {\n",
    "            \"pytket_method\": circuit.n_gates_of_type(OpType.CX)\n",
    "        },\n",
    "        \"circuit_entangling_depth\": {\n",
    "            \"pytket_method\": circuit_qiskit.depth(lambda instr: len(instr.qubits) > 1)\n",
    "        },\n",
    "        \"test_paulis_file\": f'benchmarks/results/test_pytket_' + filename\n",
    "    }\n",
    "    print(result)\n",
    "    results.append(result)\n",
    "    if save_output == True:\n",
    "        # Save test_paulis to a separate JSON file\n",
    "        with open(f'benchmarks/results/test_pytket_' + filename, 'w') as paulis_file:\n",
    "            json.dump([test_paulis, results], paulis_file, indent=4)\n",
    "    return circuit #sorted_entanglers_f\n",
    "    \n",
    "\n",
    "    "
   ]
  },
  {
   "cell_type": "code",
   "execution_count": 5,
   "id": "3c33dc7b",
   "metadata": {},
   "outputs": [
    {
     "name": "stdout",
     "output_type": "stream",
     "text": [
      "[['YZXI', 'XZXI', 'YZYI', 'XZYI'], ['IYZX', 'IXZX', 'IYZY', 'IXZY'], ['YXYX', 'XXYX', 'YYYX', 'XYYX', 'YXYY', 'XXYY', 'YYYY', 'XYYY', 'YXXX', 'XXXX', 'YYXX', 'XYXX', 'YXXY', 'XXXY', 'YYXY', 'XYXY']]\n",
      "[['YZXI', 'XZXI', 'YZYI', 'XZYI'], ['IYZX', 'IXZX', 'IYZY', 'IXZY'], ['YXYX', 'XXYX', 'YYYX', 'XYYX', 'YXYY', 'XXYY', 'YYYY', 'XYYY', 'YXXX', 'XXXX', 'YYXX', 'XYXX', 'YXXY', 'XXXY', 'YYXY', 'XYXY']]\n",
      "[['YZXI', 'XZXI', 'YZYI', 'XZYI'], ['IYZX', 'IXZX', 'IYZY', 'IXZY'], ['YXYX', 'XXYX', 'YYYX', 'XYYX', 'YXYY', 'XXYY', 'YYYY', 'XYYY', 'YXXX', 'XXXX', 'YYXX', 'XYXX', 'YXXY', 'XXXY', 'YYXY', 'XYXY']]\n",
      "CNOT: 66, Single: 82, Total: 148, Depth: 117\n",
      "{'num_paulis': 24, 'times': {'pytket_time': 1.2741155624389648}, 'gate_counts': {'pytket_method': 66}, 'circuit_entangling_depth': {'pytket_method': 62}, 'test_paulis_file': 'benchmarks/results/test_pytket_Paulis3.json'}\n",
      "[['YZXIII', 'XZXIII', 'YZYIII', 'XZYIII'], ['YZZZXI', 'XZZZXI', 'YZZZYI', 'XZZZYI'], ['IYZXII', 'IXZXII', 'IYZYII', 'IXZYII'], ['IYZZZX', 'IXZZZX', 'IYZZZY', 'IXZZZY'], ['YXYXII', 'XXYXII', 'YYYXII', 'XYYXII', 'YXYYII', 'XXYYII', 'YYYYII', 'XYYYII', 'YXXXII', 'XXXXII', 'YYXXII', 'XYXXII', 'YXXYII', 'XXXYII', 'YYXYII', 'XYXYII'], ['YXYZZX', 'XXYZZX', 'YYYZZX', 'XYYZZX', 'YXYZZY', 'XXYZZY', 'YYYZZY', 'XYYZZY', 'YXXZZX', 'XXXZZX', 'YYXZZX', 'XYXZZX', 'YXXZZY', 'XXXZZY', 'YYXZZY', 'XYXZZY'], ['YXIYXI', 'XXIYXI', 'YYIYXI', 'XYIYXI', 'YXIYYI', 'XXIYYI', 'YYIYYI', 'XYIYYI', 'YXIXXI', 'XXIXXI', 'YYIXXI', 'XYIXXI', 'YXIXYI', 'XXIXYI', 'YYIXYI', 'XYIXYI'], ['YXIIYX', 'XXIIYX', 'YYIIYX', 'XYIIYX', 'YXIIYY', 'XXIIYY', 'YYIIYY', 'XYIIYY', 'YXIIXX', 'XXIIXX', 'YYIIXX', 'XYIIXX', 'YXIIXY', 'XXIIXY', 'YYIIXY', 'XYIIXY']]\n",
      "[['YZXIII', 'XZXIII', 'YZYIII', 'XZYIII'], ['YZZZXI', 'XZZZXI', 'YZZZYI', 'XZZZYI'], ['IYZXII', 'IXZXII', 'IYZYII', 'IXZYII'], ['IYZZZX', 'IXZZZX', 'IYZZZY', 'IXZZZY'], ['YXYXII', 'XXYXII', 'YYYXII', 'XYYXII', 'YXYYII', 'XXYYII', 'YYYYII', 'XYYYII', 'YXXXII', 'XXXXII', 'YYXXII', 'XYXXII', 'YXXYII', 'XXXYII', 'YYXYII', 'XYXYII'], ['YXYZZX', 'XXYZZX', 'YYYZZX', 'XYYZZX', 'YXYZZY', 'XXYZZY', 'YYYZZY', 'XYYZZY', 'YXXZZX', 'XXXZZX', 'YYXZZX', 'XYXZZX', 'YXXZZY', 'XXXZZY', 'YYXZZY', 'XYXZZY'], ['YXIYXI', 'XXIYXI', 'YYIYXI', 'XYIYXI', 'YXIYYI', 'XXIYYI', 'YYIYYI', 'XYIYYI', 'YXIXXI', 'XXIXXI', 'YYIXXI', 'XYIXXI', 'YXIXYI', 'XXIXYI', 'YYIXYI', 'XYIXYI'], ['YXIIYX', 'XXIIYX', 'YYIIYX', 'XYIIYX', 'YXIIYY', 'XXIIYY', 'YYIIYY', 'XYIIYY', 'YXIIXX', 'XXIIXX', 'YYIIXX', 'XYIIXX', 'YXIIXY', 'XXIIXY', 'YYIIXY', 'XYIIXY']]\n",
      "[['YZXIII', 'XZXIII', 'YZYIII', 'XZYIII'], ['YZZZXI', 'XZZZXI', 'YZZZYI', 'XZZZYI'], ['IYZXII', 'IXZXII', 'IYZYII', 'IXZYII'], ['IYZZZX', 'IXZZZX', 'IYZZZY', 'IXZZZY'], ['YXYXII', 'XXYXII', 'YYYXII', 'XYYXII', 'YXYYII', 'XXYYII', 'YYYYII', 'XYYYII', 'YXXXII', 'XXXXII', 'YYXXII', 'XYXXII', 'YXXYII', 'XXXYII', 'YYXYII', 'XYXYII'], ['YXYZZX', 'XXYZZX', 'YYYZZX', 'XYYZZX', 'YXYZZY', 'XXYZZY', 'YYYZZY', 'XYYZZY', 'YXXZZX', 'XXXZZX', 'YYXZZX', 'XYXZZX', 'YXXZZY', 'XXXZZY', 'YYXZZY', 'XYXZZY'], ['YXIYXI', 'XXIYXI', 'YYIYXI', 'XYIYXI', 'YXIYYI', 'XXIYYI', 'YYIYYI', 'XYIYYI', 'YXIXXI', 'XXIXXI', 'YYIXXI', 'XYIXXI', 'YXIXYI', 'XXIXYI', 'YYIXYI', 'XYIXYI'], ['YXIIYX', 'XXIIYX', 'YYIIYX', 'XYIIYX', 'YXIIYY', 'XXIIYY', 'YYIIYY', 'XYIIYY', 'YXIIXX', 'XXIIXX', 'YYIIXX', 'XYIIXX', 'YXIIXY', 'XXIIXY', 'YYIIXY', 'XYIIXY']]\n",
      "CNOT: 264, Single: 316, Total: 580, Depth: 458\n",
      "{'num_paulis': 80, 'times': {'pytket_time': 6.054412126541138}, 'gate_counts': {'pytket_method': 264}, 'circuit_entangling_depth': {'pytket_method': 239}, 'test_paulis_file': 'benchmarks/results/test_pytket_Paulis8.json'}\n",
      "[['YZZZXIII', 'XZZZXIII', 'YZZZYIII', 'XZZZYIII'], ['YZZZZZXI', 'XZZZZZXI', 'YZZZZZYI', 'XZZZZZYI'], ['IYZZZXII', 'IXZZZXII', 'IYZZZYII', 'IXZZZYII'], ['IYZZZZZX', 'IXZZZZZX', 'IYZZZZZY', 'IXZZZZZY'], ['IIYZXIII', 'IIXZXIII', 'IIYZYIII', 'IIXZYIII'], ['IIYZZZXI', 'IIXZZZXI', 'IIYZZZYI', 'IIXZZZYI'], ['IIIYZXII', 'IIIXZXII', 'IIIYZYII', 'IIIXZYII'], ['IIIYZZZX', 'IIIXZZZX', 'IIIYZZZY', 'IIIXZZZY'], ['YXIIYXII', 'XXIIYXII', 'YYIIYXII', 'XYIIYXII', 'YXIIYYII', 'XXIIYYII', 'YYIIYYII', 'XYIIYYII', 'YXIIXXII', 'XXIIXXII', 'YYIIXXII', 'XYIIXXII', 'YXIIXYII', 'XXIIXYII', 'YYIIXYII', 'XYIIXYII'], ['YXIIYZZX', 'XXIIYZZX', 'YYIIYZZX', 'XYIIYZZX', 'YXIIYZZY', 'XXIIYZZY', 'YYIIYZZY', 'XYIIYZZY', 'YXIIXZZX', 'XXIIXZZX', 'YYIIXZZX', 'XYIIXZZX', 'YXIIXZZY', 'XXIIXZZY', 'YYIIXZZY', 'XYIIXZZY'], ['YXIIIYXI', 'XXIIIYXI', 'YYIIIYXI', 'XYIIIYXI', 'YXIIIYYI', 'XXIIIYYI', 'YYIIIYYI', 'XYIIIYYI', 'YXIIIXXI', 'XXIIIXXI', 'YYIIIXXI', 'XYIIIXXI', 'YXIIIXYI', 'XXIIIXYI', 'YYIIIXYI', 'XYIIIXYI'], ['YXIIIIYX', 'XXIIIIYX', 'YYIIIIYX', 'XYIIIIYX', 'YXIIIIYY', 'XXIIIIYY', 'YYIIIIYY', 'XYIIIIYY', 'YXIIIIXX', 'XXIIIIXX', 'YYIIIIXX', 'XYIIIIXX', 'YXIIIIXY', 'XXIIIIXY', 'YYIIIIXY', 'XYIIIIXY'], ['YZXIYZXI', 'XZXIYZXI', 'YZYIYZXI', 'XZYIYZXI', 'YZXIYZYI', 'XZXIYZYI', 'YZYIYZYI', 'XZYIYZYI', 'YZXIXZXI', 'XZXIXZXI', 'YZYIXZXI', 'XZYIXZXI', 'YZXIXZYI', 'XZXIXZYI', 'YZYIXZYI', 'XZYIXZYI'], ['YZZXYXII', 'XZZXYXII', 'YZZYYXII', 'XZZYYXII', 'YZZXYYII', 'XZZXYYII', 'YZZYYYII', 'XZZYYYII', 'YZZXXXII', 'XZZXXXII', 'YZZYXXII', 'XZZYXXII', 'YZZXXYII', 'XZZXXYII', 'YZZYXYII', 'XZZYXYII'], ['YZZXYZZX', 'XZZXYZZX', 'YZZYYZZX', 'XZZYYZZX', 'YZZXYZZY', 'XZZXYZZY', 'YZZYYZZY', 'XZZYYZZY', 'YZZXXZZX', 'XZZXXZZX', 'YZZYXZZX', 'XZZYXZZX', 'YZZXXZZY', 'XZZXXZZY', 'YZZYXZZY', 'XZZYXZZY'], ['YZZXIYXI', 'XZZXIYXI', 'YZZYIYXI', 'XZZYIYXI', 'YZZXIYYI', 'XZZXIYYI', 'YZZYIYYI', 'XZZYIYYI', 'YZZXIXXI', 'XZZXIXXI', 'YZZYIXXI', 'XZZYIXXI', 'YZZXIXYI', 'XZZXIXYI', 'YZZYIXYI', 'XZZYIXYI'], ['YZZXIIYX', 'XZZXIIYX', 'YZZYIIYX', 'XZZYIIYX', 'YZZXIIYY', 'XZZXIIYY', 'YZZYIIYY', 'XZZYIIYY', 'YZZXIIXX', 'XZZXIIXX', 'YZZYIIXX', 'XZZYIIXX', 'YZZXIIXY', 'XZZXIIXY', 'YZZYIIXY', 'XZZYIIXY'], ['IYXIYXII', 'IXXIYXII', 'IYYIYXII', 'IXYIYXII', 'IYXIYYII', 'IXXIYYII', 'IYYIYYII', 'IXYIYYII', 'IYXIXXII', 'IXXIXXII', 'IYYIXXII', 'IXYIXXII', 'IYXIXYII', 'IXXIXYII', 'IYYIXYII', 'IXYIXYII'], ['IYXIYZZX', 'IXXIYZZX', 'IYYIYZZX', 'IXYIYZZX', 'IYXIYZZY', 'IXXIYZZY', 'IYYIYZZY', 'IXYIYZZY', 'IYXIXZZX', 'IXXIXZZX', 'IYYIXZZX', 'IXYIXZZX', 'IYXIXZZY', 'IXXIXZZY', 'IYYIXZZY', 'IXYIXZZY'], ['IYXIIYXI', 'IXXIIYXI', 'IYYIIYXI', 'IXYIIYXI', 'IYXIIYYI', 'IXXIIYYI', 'IYYIIYYI', 'IXYIIYYI', 'IYXIIXXI', 'IXXIIXXI', 'IYYIIXXI', 'IXYIIXXI', 'IYXIIXYI', 'IXXIIXYI', 'IYYIIXYI', 'IXYIIXYI'], ['IYXIIIYX', 'IXXIIIYX', 'IYYIIIYX', 'IXYIIIYX', 'IYXIIIYY', 'IXXIIIYY', 'IYYIIIYY', 'IXYIIIYY', 'IYXIIIXX', 'IXXIIIXX', 'IYYIIIXX', 'IXYIIIXX', 'IYXIIIXY', 'IXXIIIXY', 'IYYIIIXY', 'IXYIIIXY'], ['IYZXIYZX', 'IXZXIYZX', 'IYZYIYZX', 'IXZYIYZX', 'IYZXIYZY', 'IXZXIYZY', 'IYZYIYZY', 'IXZYIYZY', 'IYZXIXZX', 'IXZXIXZX', 'IYZYIXZX', 'IXZYIXZX', 'IYZXIXZY', 'IXZXIXZY', 'IYZYIXZY', 'IXZYIXZY'], ['IIYXYXII', 'IIXXYXII', 'IIYYYXII', 'IIXYYXII', 'IIYXYYII', 'IIXXYYII', 'IIYYYYII', 'IIXYYYII', 'IIYXXXII', 'IIXXXXII', 'IIYYXXII', 'IIXYXXII', 'IIYXXYII', 'IIXXXYII', 'IIYYXYII', 'IIXYXYII'], ['IIYXYZZX', 'IIXXYZZX', 'IIYYYZZX', 'IIXYYZZX', 'IIYXYZZY', 'IIXXYZZY', 'IIYYYZZY', 'IIXYYZZY', 'IIYXXZZX', 'IIXXXZZX', 'IIYYXZZX', 'IIXYXZZX', 'IIYXXZZY', 'IIXXXZZY', 'IIYYXZZY', 'IIXYXZZY'], ['IIYXIYXI', 'IIXXIYXI', 'IIYYIYXI', 'IIXYIYXI', 'IIYXIYYI', 'IIXXIYYI', 'IIYYIYYI', 'IIXYIYYI', 'IIYXIXXI', 'IIXXIXXI', 'IIYYIXXI', 'IIXYIXXI', 'IIYXIXYI', 'IIXXIXYI', 'IIYYIXYI', 'IIXYIXYI'], ['IIYXIIYX', 'IIXXIIYX', 'IIYYIIYX', 'IIXYIIYX', 'IIYXIIYY', 'IIXXIIYY', 'IIYYIIYY', 'IIXYIIYY', 'IIYXIIXX', 'IIXXIIXX', 'IIYYIIXX', 'IIXYIIXX', 'IIYXIIXY', 'IIXXIIXY', 'IIYYIIXY', 'IIXYIIXY']]\n",
      "[['YZZZXIII', 'XZZZXIII', 'YZZZYIII', 'XZZZYIII'], ['YZZZZZXI', 'XZZZZZXI', 'YZZZZZYI', 'XZZZZZYI'], ['IYZZZXII', 'IXZZZXII', 'IYZZZYII', 'IXZZZYII'], ['IYZZZZZX', 'IXZZZZZX', 'IYZZZZZY', 'IXZZZZZY'], ['IIYZXIII', 'IIXZXIII', 'IIYZYIII', 'IIXZYIII'], ['IIYZZZXI', 'IIXZZZXI', 'IIYZZZYI', 'IIXZZZYI'], ['IIIYZXII', 'IIIXZXII', 'IIIYZYII', 'IIIXZYII'], ['IIIYZZZX', 'IIIXZZZX', 'IIIYZZZY', 'IIIXZZZY'], ['YXIIYXII', 'XXIIYXII', 'YYIIYXII', 'XYIIYXII', 'YXIIYYII', 'XXIIYYII', 'YYIIYYII', 'XYIIYYII', 'YXIIXXII', 'XXIIXXII', 'YYIIXXII', 'XYIIXXII', 'YXIIXYII', 'XXIIXYII', 'YYIIXYII', 'XYIIXYII'], ['YXIIYZZX', 'XXIIYZZX', 'YYIIYZZX', 'XYIIYZZX', 'YXIIYZZY', 'XXIIYZZY', 'YYIIYZZY', 'XYIIYZZY', 'YXIIXZZX', 'XXIIXZZX', 'YYIIXZZX', 'XYIIXZZX', 'YXIIXZZY', 'XXIIXZZY', 'YYIIXZZY', 'XYIIXZZY'], ['YXIIIYXI', 'XXIIIYXI', 'YYIIIYXI', 'XYIIIYXI', 'YXIIIYYI', 'XXIIIYYI', 'YYIIIYYI', 'XYIIIYYI', 'YXIIIXXI', 'XXIIIXXI', 'YYIIIXXI', 'XYIIIXXI', 'YXIIIXYI', 'XXIIIXYI', 'YYIIIXYI', 'XYIIIXYI'], ['YXIIIIYX', 'XXIIIIYX', 'YYIIIIYX', 'XYIIIIYX', 'YXIIIIYY', 'XXIIIIYY', 'YYIIIIYY', 'XYIIIIYY', 'YXIIIIXX', 'XXIIIIXX', 'YYIIIIXX', 'XYIIIIXX', 'YXIIIIXY', 'XXIIIIXY', 'YYIIIIXY', 'XYIIIIXY'], ['YZXIYZXI', 'XZXIYZXI', 'YZYIYZXI', 'XZYIYZXI', 'YZXIYZYI', 'XZXIYZYI', 'YZYIYZYI', 'XZYIYZYI', 'YZXIXZXI', 'XZXIXZXI', 'YZYIXZXI', 'XZYIXZXI', 'YZXIXZYI', 'XZXIXZYI', 'YZYIXZYI', 'XZYIXZYI'], ['YZZXYXII', 'XZZXYXII', 'YZZYYXII', 'XZZYYXII', 'YZZXYYII', 'XZZXYYII', 'YZZYYYII', 'XZZYYYII', 'YZZXXXII', 'XZZXXXII', 'YZZYXXII', 'XZZYXXII', 'YZZXXYII', 'XZZXXYII', 'YZZYXYII', 'XZZYXYII'], ['YZZXYZZX', 'XZZXYZZX', 'YZZYYZZX', 'XZZYYZZX', 'YZZXYZZY', 'XZZXYZZY', 'YZZYYZZY', 'XZZYYZZY', 'YZZXXZZX', 'XZZXXZZX', 'YZZYXZZX', 'XZZYXZZX', 'YZZXXZZY', 'XZZXXZZY', 'YZZYXZZY', 'XZZYXZZY'], ['YZZXIYXI', 'XZZXIYXI', 'YZZYIYXI', 'XZZYIYXI', 'YZZXIYYI', 'XZZXIYYI', 'YZZYIYYI', 'XZZYIYYI', 'YZZXIXXI', 'XZZXIXXI', 'YZZYIXXI', 'XZZYIXXI', 'YZZXIXYI', 'XZZXIXYI', 'YZZYIXYI', 'XZZYIXYI'], ['YZZXIIYX', 'XZZXIIYX', 'YZZYIIYX', 'XZZYIIYX', 'YZZXIIYY', 'XZZXIIYY', 'YZZYIIYY', 'XZZYIIYY', 'YZZXIIXX', 'XZZXIIXX', 'YZZYIIXX', 'XZZYIIXX', 'YZZXIIXY', 'XZZXIIXY', 'YZZYIIXY', 'XZZYIIXY'], ['IYXIYXII', 'IXXIYXII', 'IYYIYXII', 'IXYIYXII', 'IYXIYYII', 'IXXIYYII', 'IYYIYYII', 'IXYIYYII', 'IYXIXXII', 'IXXIXXII', 'IYYIXXII', 'IXYIXXII', 'IYXIXYII', 'IXXIXYII', 'IYYIXYII', 'IXYIXYII'], ['IYXIYZZX', 'IXXIYZZX', 'IYYIYZZX', 'IXYIYZZX', 'IYXIYZZY', 'IXXIYZZY', 'IYYIYZZY', 'IXYIYZZY', 'IYXIXZZX', 'IXXIXZZX', 'IYYIXZZX', 'IXYIXZZX', 'IYXIXZZY', 'IXXIXZZY', 'IYYIXZZY', 'IXYIXZZY'], ['IYXIIYXI', 'IXXIIYXI', 'IYYIIYXI', 'IXYIIYXI', 'IYXIIYYI', 'IXXIIYYI', 'IYYIIYYI', 'IXYIIYYI', 'IYXIIXXI', 'IXXIIXXI', 'IYYIIXXI', 'IXYIIXXI', 'IYXIIXYI', 'IXXIIXYI', 'IYYIIXYI', 'IXYIIXYI'], ['IYXIIIYX', 'IXXIIIYX', 'IYYIIIYX', 'IXYIIIYX', 'IYXIIIYY', 'IXXIIIYY', 'IYYIIIYY', 'IXYIIIYY', 'IYXIIIXX', 'IXXIIIXX', 'IYYIIIXX', 'IXYIIIXX', 'IYXIIIXY', 'IXXIIIXY', 'IYYIIIXY', 'IXYIIIXY'], ['IYZXIYZX', 'IXZXIYZX', 'IYZYIYZX', 'IXZYIYZX', 'IYZXIYZY', 'IXZXIYZY', 'IYZYIYZY', 'IXZYIYZY', 'IYZXIXZX', 'IXZXIXZX', 'IYZYIXZX', 'IXZYIXZX', 'IYZXIXZY', 'IXZXIXZY', 'IYZYIXZY', 'IXZYIXZY'], ['IIYXYXII', 'IIXXYXII', 'IIYYYXII', 'IIXYYXII', 'IIYXYYII', 'IIXXYYII', 'IIYYYYII', 'IIXYYYII', 'IIYXXXII', 'IIXXXXII', 'IIYYXXII', 'IIXYXXII', 'IIYXXYII', 'IIXXXYII', 'IIYYXYII', 'IIXYXYII'], ['IIYXYZZX', 'IIXXYZZX', 'IIYYYZZX', 'IIXYYZZX', 'IIYXYZZY', 'IIXXYZZY', 'IIYYYZZY', 'IIXYYZZY', 'IIYXXZZX', 'IIXXXZZX', 'IIYYXZZX', 'IIXYXZZX', 'IIYXXZZY', 'IIXXXZZY', 'IIYYXZZY', 'IIXYXZZY'], ['IIYXIYXI', 'IIXXIYXI', 'IIYYIYXI', 'IIXYIYXI', 'IIYXIYYI', 'IIXXIYYI', 'IIYYIYYI', 'IIXYIYYI', 'IIYXIXXI', 'IIXXIXXI', 'IIYYIXXI', 'IIXYIXXI', 'IIYXIXYI', 'IIXXIXYI', 'IIYYIXYI', 'IIXYIXYI'], ['IIYXIIYX', 'IIXXIIYX', 'IIYYIIYX', 'IIXYIIYX', 'IIYXIIYY', 'IIXXIIYY', 'IIYYIIYY', 'IIXYIIYY', 'IIYXIIXX', 'IIXXIIXX', 'IIYYIIXX', 'IIXYIIXX', 'IIYXIIXY', 'IIXXIIXY', 'IIYYIIXY', 'IIXYIIXY']]\n",
      "[['YZZZXIII', 'XZZZXIII', 'YZZZYIII', 'XZZZYIII'], ['YZZZZZXI', 'XZZZZZXI', 'YZZZZZYI', 'XZZZZZYI'], ['IYZZZXII', 'IXZZZXII', 'IYZZZYII', 'IXZZZYII'], ['IYZZZZZX', 'IXZZZZZX', 'IYZZZZZY', 'IXZZZZZY'], ['IIYZXIII', 'IIXZXIII', 'IIYZYIII', 'IIXZYIII'], ['IIYZZZXI', 'IIXZZZXI', 'IIYZZZYI', 'IIXZZZYI'], ['IIIYZXII', 'IIIXZXII', 'IIIYZYII', 'IIIXZYII'], ['IIIYZZZX', 'IIIXZZZX', 'IIIYZZZY', 'IIIXZZZY'], ['YXIIYXII', 'XXIIYXII', 'YYIIYXII', 'XYIIYXII', 'YXIIYYII', 'XXIIYYII', 'YYIIYYII', 'XYIIYYII', 'YXIIXXII', 'XXIIXXII', 'YYIIXXII', 'XYIIXXII', 'YXIIXYII', 'XXIIXYII', 'YYIIXYII', 'XYIIXYII'], ['YXIIYZZX', 'XXIIYZZX', 'YYIIYZZX', 'XYIIYZZX', 'YXIIYZZY', 'XXIIYZZY', 'YYIIYZZY', 'XYIIYZZY', 'YXIIXZZX', 'XXIIXZZX', 'YYIIXZZX', 'XYIIXZZX', 'YXIIXZZY', 'XXIIXZZY', 'YYIIXZZY', 'XYIIXZZY'], ['YXIIIYXI', 'XXIIIYXI', 'YYIIIYXI', 'XYIIIYXI', 'YXIIIYYI', 'XXIIIYYI', 'YYIIIYYI', 'XYIIIYYI', 'YXIIIXXI', 'XXIIIXXI', 'YYIIIXXI', 'XYIIIXXI', 'YXIIIXYI', 'XXIIIXYI', 'YYIIIXYI', 'XYIIIXYI'], ['YXIIIIYX', 'XXIIIIYX', 'YYIIIIYX', 'XYIIIIYX', 'YXIIIIYY', 'XXIIIIYY', 'YYIIIIYY', 'XYIIIIYY', 'YXIIIIXX', 'XXIIIIXX', 'YYIIIIXX', 'XYIIIIXX', 'YXIIIIXY', 'XXIIIIXY', 'YYIIIIXY', 'XYIIIIXY'], ['YZXIYZXI', 'XZXIYZXI', 'YZYIYZXI', 'XZYIYZXI', 'YZXIYZYI', 'XZXIYZYI', 'YZYIYZYI', 'XZYIYZYI', 'YZXIXZXI', 'XZXIXZXI', 'YZYIXZXI', 'XZYIXZXI', 'YZXIXZYI', 'XZXIXZYI', 'YZYIXZYI', 'XZYIXZYI'], ['YZZXYXII', 'XZZXYXII', 'YZZYYXII', 'XZZYYXII', 'YZZXYYII', 'XZZXYYII', 'YZZYYYII', 'XZZYYYII', 'YZZXXXII', 'XZZXXXII', 'YZZYXXII', 'XZZYXXII', 'YZZXXYII', 'XZZXXYII', 'YZZYXYII', 'XZZYXYII'], ['YZZXYZZX', 'XZZXYZZX', 'YZZYYZZX', 'XZZYYZZX', 'YZZXYZZY', 'XZZXYZZY', 'YZZYYZZY', 'XZZYYZZY', 'YZZXXZZX', 'XZZXXZZX', 'YZZYXZZX', 'XZZYXZZX', 'YZZXXZZY', 'XZZXXZZY', 'YZZYXZZY', 'XZZYXZZY'], ['YZZXIYXI', 'XZZXIYXI', 'YZZYIYXI', 'XZZYIYXI', 'YZZXIYYI', 'XZZXIYYI', 'YZZYIYYI', 'XZZYIYYI', 'YZZXIXXI', 'XZZXIXXI', 'YZZYIXXI', 'XZZYIXXI', 'YZZXIXYI', 'XZZXIXYI', 'YZZYIXYI', 'XZZYIXYI'], ['YZZXIIYX', 'XZZXIIYX', 'YZZYIIYX', 'XZZYIIYX', 'YZZXIIYY', 'XZZXIIYY', 'YZZYIIYY', 'XZZYIIYY', 'YZZXIIXX', 'XZZXIIXX', 'YZZYIIXX', 'XZZYIIXX', 'YZZXIIXY', 'XZZXIIXY', 'YZZYIIXY', 'XZZYIIXY'], ['IYXIYXII', 'IXXIYXII', 'IYYIYXII', 'IXYIYXII', 'IYXIYYII', 'IXXIYYII', 'IYYIYYII', 'IXYIYYII', 'IYXIXXII', 'IXXIXXII', 'IYYIXXII', 'IXYIXXII', 'IYXIXYII', 'IXXIXYII', 'IYYIXYII', 'IXYIXYII'], ['IYXIYZZX', 'IXXIYZZX', 'IYYIYZZX', 'IXYIYZZX', 'IYXIYZZY', 'IXXIYZZY', 'IYYIYZZY', 'IXYIYZZY', 'IYXIXZZX', 'IXXIXZZX', 'IYYIXZZX', 'IXYIXZZX', 'IYXIXZZY', 'IXXIXZZY', 'IYYIXZZY', 'IXYIXZZY'], ['IYXIIYXI', 'IXXIIYXI', 'IYYIIYXI', 'IXYIIYXI', 'IYXIIYYI', 'IXXIIYYI', 'IYYIIYYI', 'IXYIIYYI', 'IYXIIXXI', 'IXXIIXXI', 'IYYIIXXI', 'IXYIIXXI', 'IYXIIXYI', 'IXXIIXYI', 'IYYIIXYI', 'IXYIIXYI'], ['IYXIIIYX', 'IXXIIIYX', 'IYYIIIYX', 'IXYIIIYX', 'IYXIIIYY', 'IXXIIIYY', 'IYYIIIYY', 'IXYIIIYY', 'IYXIIIXX', 'IXXIIIXX', 'IYYIIIXX', 'IXYIIIXX', 'IYXIIIXY', 'IXXIIIXY', 'IYYIIIXY', 'IXYIIIXY'], ['IYZXIYZX', 'IXZXIYZX', 'IYZYIYZX', 'IXZYIYZX', 'IYZXIYZY', 'IXZXIYZY', 'IYZYIYZY', 'IXZYIYZY', 'IYZXIXZX', 'IXZXIXZX', 'IYZYIXZX', 'IXZYIXZX', 'IYZXIXZY', 'IXZXIXZY', 'IYZYIXZY', 'IXZYIXZY'], ['IIYXYXII', 'IIXXYXII', 'IIYYYXII', 'IIXYYXII', 'IIYXYYII', 'IIXXYYII', 'IIYYYYII', 'IIXYYYII', 'IIYXXXII', 'IIXXXXII', 'IIYYXXII', 'IIXYXXII', 'IIYXXYII', 'IIXXXYII', 'IIYYXYII', 'IIXYXYII'], ['IIYXYZZX', 'IIXXYZZX', 'IIYYYZZX', 'IIXYYZZX', 'IIYXYZZY', 'IIXXYZZY', 'IIYYYZZY', 'IIXYYZZY', 'IIYXXZZX', 'IIXXXZZX', 'IIYYXZZX', 'IIXYXZZX', 'IIYXXZZY', 'IIXXXZZY', 'IIYYXZZY', 'IIXYXZZY'], ['IIYXIYXI', 'IIXXIYXI', 'IIYYIYXI', 'IIXYIYXI', 'IIYXIYYI', 'IIXXIYYI', 'IIYYIYYI', 'IIXYIYYI', 'IIYXIXXI', 'IIXXIXXI', 'IIYYIXXI', 'IIXYIXXI', 'IIYXIXYI', 'IIXXIXYI', 'IIYYIXYI', 'IIXYIXYI'], ['IIYXIIYX', 'IIXXIIYX', 'IIYYIIYX', 'IIXYIIYX', 'IIYXIIYY', 'IIXXIIYY', 'IIYYIIYY', 'IIXYIIYY', 'IIYXIIXX', 'IIXXIIXX', 'IIYYIIXX', 'IIXYIIXX', 'IIYXIIXY', 'IIXXIIXY', 'IIYYIIXY', 'IIXYIIXY']]\n"
     ]
    },
    {
     "ename": "KeyboardInterrupt",
     "evalue": "",
     "output_type": "error",
     "traceback": [
      "\u001b[1;31m---------------------------------------------------------------------------\u001b[0m",
      "\u001b[1;31mKeyboardInterrupt\u001b[0m                         Traceback (most recent call last)",
      "Cell \u001b[1;32mIn[5], line 15\u001b[0m\n\u001b[0;32m     13\u001b[0m num_hams\u001b[38;5;241m=\u001b[39m\u001b[38;5;28mlen\u001b[39m(data)\n\u001b[0;32m     14\u001b[0m \u001b[38;5;28mprint\u001b[39m(data)\n\u001b[1;32m---> 15\u001b[0m entanglers \u001b[38;5;241m=\u001b[39m \u001b[43mrun_experiment_paulis\u001b[49m\u001b[43m(\u001b[49m\u001b[43mdata\u001b[49m\u001b[43m,\u001b[49m\u001b[43m \u001b[49m\u001b[43msave_output\u001b[49m\u001b[43m \u001b[49m\u001b[38;5;241;43m=\u001b[39;49m\u001b[43m \u001b[49m\u001b[38;5;28;43;01mTrue\u001b[39;49;00m\u001b[43m,\u001b[49m\u001b[43m \u001b[49m\u001b[43mfilename\u001b[49m\u001b[38;5;241;43m=\u001b[39;49m\u001b[38;5;124;43mf\u001b[39;49m\u001b[38;5;124;43m\"\u001b[39;49m\u001b[38;5;124;43mPaulis\u001b[39;49m\u001b[38;5;132;43;01m{\u001b[39;49;00m\u001b[43mnum_hams\u001b[49m\u001b[38;5;132;43;01m}\u001b[39;49;00m\u001b[38;5;124;43m.json\u001b[39;49m\u001b[38;5;124;43m\"\u001b[39;49m\u001b[43m)\u001b[49m\n",
      "Cell \u001b[1;32mIn[4], line 12\u001b[0m, in \u001b[0;36mrun_experiment_paulis\u001b[1;34m(test_paulis, test_params, save_output, filename)\u001b[0m\n\u001b[0;32m     10\u001b[0m \u001b[38;5;66;03m# Measure time for Tetris method\u001b[39;00m\n\u001b[0;32m     11\u001b[0m start_time \u001b[38;5;241m=\u001b[39m time\u001b[38;5;241m.\u001b[39mtime()\n\u001b[1;32m---> 12\u001b[0m circuit \u001b[38;5;241m=\u001b[39m \u001b[43mpytket_run\u001b[49m\u001b[43m(\u001b[49m\u001b[43mtest_paulis\u001b[49m\u001b[43m)\u001b[49m\n\u001b[0;32m     13\u001b[0m end_time \u001b[38;5;241m=\u001b[39m time\u001b[38;5;241m.\u001b[39mtime()\n\u001b[0;32m     14\u001b[0m circuit_qiskit\u001b[38;5;241m=\u001b[39mtk_to_qiskit(circuit)\n",
      "Cell \u001b[1;32mIn[2], line 31\u001b[0m, in \u001b[0;36mpytket_run\u001b[1;34m(parr)\u001b[0m\n\u001b[0;32m     29\u001b[0m \u001b[38;5;66;03m# render_circuit_jupyter(ansatz)\u001b[39;00m\n\u001b[0;32m     30\u001b[0m FullPeepholeOptimise()\u001b[38;5;241m.\u001b[39mapply(ansatz)\n\u001b[1;32m---> 31\u001b[0m \u001b[43mKAKDecomposition\u001b[49m\u001b[43m(\u001b[49m\u001b[43m)\u001b[49m\u001b[38;5;241m.\u001b[39mapply(ansatz)\n\u001b[0;32m     32\u001b[0m \u001b[38;5;66;03m# render_circuit_jupyter(ansatz)\u001b[39;00m\n\u001b[0;32m     33\u001b[0m \u001b[38;5;28mprint\u001b[39m(\u001b[38;5;124mf\u001b[39m\u001b[38;5;124m\"\u001b[39m\u001b[38;5;124mCNOT: \u001b[39m\u001b[38;5;132;01m{\u001b[39;00mansatz\u001b[38;5;241m.\u001b[39mn_gates_of_type(OpType\u001b[38;5;241m.\u001b[39mCX)\u001b[38;5;132;01m}\u001b[39;00m\u001b[38;5;124m, Single: \u001b[39m\u001b[38;5;132;01m{\u001b[39;00mansatz\u001b[38;5;241m.\u001b[39mn_gates\u001b[38;5;241m-\u001b[39mansatz\u001b[38;5;241m.\u001b[39mn_gates_of_type(OpType\u001b[38;5;241m.\u001b[39mCX)\u001b[38;5;132;01m}\u001b[39;00m\u001b[38;5;124m, Total: \u001b[39m\u001b[38;5;132;01m{\u001b[39;00mansatz\u001b[38;5;241m.\u001b[39mn_gates\u001b[38;5;132;01m}\u001b[39;00m\u001b[38;5;124m, Depth: \u001b[39m\u001b[38;5;132;01m{\u001b[39;00mansatz\u001b[38;5;241m.\u001b[39mdepth()\u001b[38;5;132;01m}\u001b[39;00m\u001b[38;5;124m\"\u001b[39m)\n",
      "\u001b[1;31mKeyboardInterrupt\u001b[0m: "
     ]
    }
   ],
   "source": [
    "#first compare the UCCSD ansatz\n",
    "electrons_list = [2, 2, 4, 6, 8, 10,]# 12]\n",
    "orbitals_list = [4, 6, 8, 12, 16, 20]#, 24]\n",
    "#First evaluate the UCCSD ansatz:\n",
    "for e, o in zip(electrons_list, orbitals_list):\n",
    "    filename=f\"uccsd_hamiltonian_e{e}_o{o}.json\"\n",
    "    with open(f\"benchmarks/uccsd_hamiltonians/{filename}\", \"r\") as file:\n",
    "        data=json.load(file)\n",
    "    # test_paulis = generate_UCCSD_entanglers(x, y)\n",
    "    print(data)\n",
    "    data = [[p for p in block if not is_all_identity(p)] for block in data]\n",
    "    data= [block for block in data if len(block)!=0]\n",
    "    num_hams=len(data)\n",
    "    print(data)\n",
    "    entanglers = run_experiment_paulis(data, save_output = True, filename=f\"Paulis{num_hams}.json\")"
   ]
  },
  {
   "cell_type": "code",
   "execution_count": null,
   "id": "5bac21d1",
   "metadata": {},
   "outputs": [],
   "source": [
    "#Then compare the Hamiltonian simulation paulis in HS_paulis folder\n",
    "run_experiment_folder(folder_path = \"benchmarks/HS_paulis\", save_output = True)"
   ]
  },
  {
   "cell_type": "code",
   "execution_count": null,
   "id": "f36637cf",
   "metadata": {},
   "outputs": [
    {
     "name": "stdout",
     "output_type": "stream",
     "text": [
      "max_cut_benchmark_n10_e45_l20.json\n",
      "[['IIIIIIIIZZ'], ['IIIIIIIZIZ'], ['IIIIIIZIIZ'], ['IIIIIZIIIZ'], ['IIIIZIIIIZ'], ['IIIZIIIIIZ'], ['IIZIIIIIIZ'], ['IZIIIIIIIZ'], ['ZIIIIIIIIZ'], ['IIIIIIIZZI'], ['IIIIIIZIZI'], ['IIIIIZIIZI'], ['IIIIZIIIZI'], ['IIIZIIIIZI'], ['IIZIIIIIZI'], ['IZIIIIIIZI'], ['ZIIIIIIIZI'], ['IIIIIIZZII'], ['IIIIIZIZII'], ['IIIIZIIZII'], ['IIIZIIIZII'], ['IIZIIIIZII'], ['IZIIIIIZII'], ['ZIIIIIIZII'], ['IIIIIZZIII'], ['IIIIZIZIII'], ['IIIZIIZIII'], ['IIZIIIZIII'], ['IZIIIIZIII'], ['ZIIIIIZIII'], ['IIIIZZIIII'], ['IIIZIZIIII'], ['IIZIIZIIII'], ['IZIIIZIIII'], ['ZIIIIZIIII'], ['IIIZZIIIII'], ['IIZIZIIIII'], ['IZIIZIIIII'], ['ZIIIZIIIII'], ['IIZZIIIIII'], ['IZIZIIIIII'], ['ZIIZIIIIII'], ['IZZIIIIIII'], ['ZIZIIIIIII'], ['ZZIIIIIIII'], ['XIIIIIIIII'], ['IXIIIIIIII'], ['IIXIIIIIII'], ['IIIXIIIIII'], ['IIIIXIIIII'], ['IIIIIXIIII'], ['IIIIIIXIII'], ['IIIIIIIXII'], ['IIIIIIIIXI'], ['IIIIIIIIIX'], ['IIIIIIIIZZ'], ['IIIIIIIZIZ'], ['IIIIIIZIIZ'], ['IIIIIZIIIZ'], ['IIIIZIIIIZ'], ['IIIZIIIIIZ'], ['IIZIIIIIIZ'], ['IZIIIIIIIZ'], ['ZIIIIIIIIZ'], ['IIIIIIIZZI'], ['IIIIIIZIZI'], ['IIIIIZIIZI'], ['IIIIZIIIZI'], ['IIIZIIIIZI'], ['IIZIIIIIZI'], ['IZIIIIIIZI'], ['ZIIIIIIIZI'], ['IIIIIIZZII'], ['IIIIIZIZII'], ['IIIIZIIZII'], ['IIIZIIIZII'], ['IIZIIIIZII'], ['IZIIIIIZII'], ['ZIIIIIIZII'], ['IIIIIZZIII'], ['IIIIZIZIII'], ['IIIZIIZIII'], ['IIZIIIZIII'], ['IZIIIIZIII'], ['ZIIIIIZIII'], ['IIIIZZIIII'], ['IIIZIZIIII'], ['IIZIIZIIII'], ['IZIIIZIIII'], ['ZIIIIZIIII'], ['IIIZZIIIII'], ['IIZIZIIIII'], ['IZIIZIIIII'], ['ZIIIZIIIII'], ['IIZZIIIIII'], ['IZIZIIIIII'], ['ZIIZIIIIII'], ['IZZIIIIIII'], ['ZIZIIIIIII'], ['ZZIIIIIIII'], ['XIIIIIIIII'], ['IXIIIIIIII'], ['IIXIIIIIII'], ['IIIXIIIIII'], ['IIIIXIIIII'], ['IIIIIXIIII'], ['IIIIIIXIII'], ['IIIIIIIXII'], ['IIIIIIIIXI'], ['IIIIIIIIIX'], ['IIIIIIIIZZ'], ['IIIIIIIZIZ'], ['IIIIIIZIIZ'], ['IIIIIZIIIZ'], ['IIIIZIIIIZ'], ['IIIZIIIIIZ'], ['IIZIIIIIIZ'], ['IZIIIIIIIZ'], ['ZIIIIIIIIZ'], ['IIIIIIIZZI'], ['IIIIIIZIZI'], ['IIIIIZIIZI'], ['IIIIZIIIZI'], ['IIIZIIIIZI'], ['IIZIIIIIZI'], ['IZIIIIIIZI'], ['ZIIIIIIIZI'], ['IIIIIIZZII'], ['IIIIIZIZII'], ['IIIIZIIZII'], ['IIIZIIIZII'], ['IIZIIIIZII'], ['IZIIIIIZII'], ['ZIIIIIIZII'], ['IIIIIZZIII'], ['IIIIZIZIII'], ['IIIZIIZIII'], ['IIZIIIZIII'], ['IZIIIIZIII'], ['ZIIIIIZIII'], ['IIIIZZIIII'], ['IIIZIZIIII'], ['IIZIIZIIII'], ['IZIIIZIIII'], ['ZIIIIZIIII'], ['IIIZZIIIII'], ['IIZIZIIIII'], ['IZIIZIIIII'], ['ZIIIZIIIII'], ['IIZZIIIIII'], ['IZIZIIIIII'], ['ZIIZIIIIII'], ['IZZIIIIIII'], ['ZIZIIIIIII'], ['ZZIIIIIIII'], ['XIIIIIIIII'], ['IXIIIIIIII'], ['IIXIIIIIII'], ['IIIXIIIIII'], ['IIIIXIIIII'], ['IIIIIXIIII'], ['IIIIIIXIII'], ['IIIIIIIXII'], ['IIIIIIIIXI'], ['IIIIIIIIIX'], ['IIIIIIIIZZ'], ['IIIIIIIZIZ'], ['IIIIIIZIIZ'], ['IIIIIZIIIZ'], ['IIIIZIIIIZ'], ['IIIZIIIIIZ'], ['IIZIIIIIIZ'], ['IZIIIIIIIZ'], ['ZIIIIIIIIZ'], ['IIIIIIIZZI'], ['IIIIIIZIZI'], ['IIIIIZIIZI'], ['IIIIZIIIZI'], ['IIIZIIIIZI'], ['IIZIIIIIZI'], ['IZIIIIIIZI'], ['ZIIIIIIIZI'], ['IIIIIIZZII'], ['IIIIIZIZII'], ['IIIIZIIZII'], ['IIIZIIIZII'], ['IIZIIIIZII'], ['IZIIIIIZII'], ['ZIIIIIIZII'], ['IIIIIZZIII'], ['IIIIZIZIII'], ['IIIZIIZIII'], ['IIZIIIZIII'], ['IZIIIIZIII'], ['ZIIIIIZIII'], ['IIIIZZIIII'], ['IIIZIZIIII'], ['IIZIIZIIII'], ['IZIIIZIIII'], ['ZIIIIZIIII'], ['IIIZZIIIII'], ['IIZIZIIIII'], ['IZIIZIIIII'], ['ZIIIZIIIII'], ['IIZZIIIIII'], ['IZIZIIIIII'], ['ZIIZIIIIII'], ['IZZIIIIIII'], ['ZIZIIIIIII'], ['ZZIIIIIIII'], ['XIIIIIIIII'], ['IXIIIIIIII'], ['IIXIIIIIII'], ['IIIXIIIIII'], ['IIIIXIIIII'], ['IIIIIXIIII'], ['IIIIIIXIII'], ['IIIIIIIXII'], ['IIIIIIIIXI'], ['IIIIIIIIIX'], ['IIIIIIIIZZ'], ['IIIIIIIZIZ'], ['IIIIIIZIIZ'], ['IIIIIZIIIZ'], ['IIIIZIIIIZ'], ['IIIZIIIIIZ'], ['IIZIIIIIIZ'], ['IZIIIIIIIZ'], ['ZIIIIIIIIZ'], ['IIIIIIIZZI'], ['IIIIIIZIZI'], ['IIIIIZIIZI'], ['IIIIZIIIZI'], ['IIIZIIIIZI'], ['IIZIIIIIZI'], ['IZIIIIIIZI'], ['ZIIIIIIIZI'], ['IIIIIIZZII'], ['IIIIIZIZII'], ['IIIIZIIZII'], ['IIIZIIIZII'], ['IIZIIIIZII'], ['IZIIIIIZII'], ['ZIIIIIIZII'], ['IIIIIZZIII'], ['IIIIZIZIII'], ['IIIZIIZIII'], ['IIZIIIZIII'], ['IZIIIIZIII'], ['ZIIIIIZIII'], ['IIIIZZIIII'], ['IIIZIZIIII'], ['IIZIIZIIII'], ['IZIIIZIIII'], ['ZIIIIZIIII'], ['IIIZZIIIII'], ['IIZIZIIIII'], ['IZIIZIIIII'], ['ZIIIZIIIII'], ['IIZZIIIIII'], ['IZIZIIIIII'], ['ZIIZIIIIII'], ['IZZIIIIIII'], ['ZIZIIIIIII'], ['ZZIIIIIIII'], ['XIIIIIIIII'], ['IXIIIIIIII'], ['IIXIIIIIII'], ['IIIXIIIIII'], ['IIIIXIIIII'], ['IIIIIXIIII'], ['IIIIIIXIII'], ['IIIIIIIXII'], ['IIIIIIIIXI'], ['IIIIIIIIIX'], ['IIIIIIIIZZ'], ['IIIIIIIZIZ'], ['IIIIIIZIIZ'], ['IIIIIZIIIZ'], ['IIIIZIIIIZ'], ['IIIZIIIIIZ'], ['IIZIIIIIIZ'], ['IZIIIIIIIZ'], ['ZIIIIIIIIZ'], ['IIIIIIIZZI'], ['IIIIIIZIZI'], ['IIIIIZIIZI'], ['IIIIZIIIZI'], ['IIIZIIIIZI'], ['IIZIIIIIZI'], ['IZIIIIIIZI'], ['ZIIIIIIIZI'], ['IIIIIIZZII'], ['IIIIIZIZII'], ['IIIIZIIZII'], ['IIIZIIIZII'], ['IIZIIIIZII'], ['IZIIIIIZII'], ['ZIIIIIIZII'], ['IIIIIZZIII'], ['IIIIZIZIII'], ['IIIZIIZIII'], ['IIZIIIZIII'], ['IZIIIIZIII'], ['ZIIIIIZIII'], ['IIIIZZIIII'], ['IIIZIZIIII'], ['IIZIIZIIII'], ['IZIIIZIIII'], ['ZIIIIZIIII'], ['IIIZZIIIII'], ['IIZIZIIIII'], ['IZIIZIIIII'], ['ZIIIZIIIII'], ['IIZZIIIIII'], ['IZIZIIIIII'], ['ZIIZIIIIII'], ['IZZIIIIIII'], ['ZIZIIIIIII'], ['ZZIIIIIIII'], ['XIIIIIIIII'], ['IXIIIIIIII'], ['IIXIIIIIII'], ['IIIXIIIIII'], ['IIIIXIIIII'], ['IIIIIXIIII'], ['IIIIIIXIII'], ['IIIIIIIXII'], ['IIIIIIIIXI'], ['IIIIIIIIIX'], ['IIIIIIIIZZ'], ['IIIIIIIZIZ'], ['IIIIIIZIIZ'], ['IIIIIZIIIZ'], ['IIIIZIIIIZ'], ['IIIZIIIIIZ'], ['IIZIIIIIIZ'], ['IZIIIIIIIZ'], ['ZIIIIIIIIZ'], ['IIIIIIIZZI'], ['IIIIIIZIZI'], ['IIIIIZIIZI'], ['IIIIZIIIZI'], ['IIIZIIIIZI'], ['IIZIIIIIZI'], ['IZIIIIIIZI'], ['ZIIIIIIIZI'], ['IIIIIIZZII'], ['IIIIIZIZII'], ['IIIIZIIZII'], ['IIIZIIIZII'], ['IIZIIIIZII'], ['IZIIIIIZII'], ['ZIIIIIIZII'], ['IIIIIZZIII'], ['IIIIZIZIII'], ['IIIZIIZIII'], ['IIZIIIZIII'], ['IZIIIIZIII'], ['ZIIIIIZIII'], ['IIIIZZIIII'], ['IIIZIZIIII'], ['IIZIIZIIII'], ['IZIIIZIIII'], ['ZIIIIZIIII'], ['IIIZZIIIII'], ['IIZIZIIIII'], ['IZIIZIIIII'], ['ZIIIZIIIII'], ['IIZZIIIIII'], ['IZIZIIIIII'], ['ZIIZIIIIII'], ['IZZIIIIIII'], ['ZIZIIIIIII'], ['ZZIIIIIIII'], ['XIIIIIIIII'], ['IXIIIIIIII'], ['IIXIIIIIII'], ['IIIXIIIIII'], ['IIIIXIIIII'], ['IIIIIXIIII'], ['IIIIIIXIII'], ['IIIIIIIXII'], ['IIIIIIIIXI'], ['IIIIIIIIIX'], ['IIIIIIIIZZ'], ['IIIIIIIZIZ'], ['IIIIIIZIIZ'], ['IIIIIZIIIZ'], ['IIIIZIIIIZ'], ['IIIZIIIIIZ'], ['IIZIIIIIIZ'], ['IZIIIIIIIZ'], ['ZIIIIIIIIZ'], ['IIIIIIIZZI'], ['IIIIIIZIZI'], ['IIIIIZIIZI'], ['IIIIZIIIZI'], ['IIIZIIIIZI'], ['IIZIIIIIZI'], ['IZIIIIIIZI'], ['ZIIIIIIIZI'], ['IIIIIIZZII'], ['IIIIIZIZII'], ['IIIIZIIZII'], ['IIIZIIIZII'], ['IIZIIIIZII'], ['IZIIIIIZII'], ['ZIIIIIIZII'], ['IIIIIZZIII'], ['IIIIZIZIII'], ['IIIZIIZIII'], ['IIZIIIZIII'], ['IZIIIIZIII'], ['ZIIIIIZIII'], ['IIIIZZIIII'], ['IIIZIZIIII'], ['IIZIIZIIII'], ['IZIIIZIIII'], ['ZIIIIZIIII'], ['IIIZZIIIII'], ['IIZIZIIIII'], ['IZIIZIIIII'], ['ZIIIZIIIII'], ['IIZZIIIIII'], ['IZIZIIIIII'], ['ZIIZIIIIII'], ['IZZIIIIIII'], ['ZIZIIIIIII'], ['ZZIIIIIIII'], ['XIIIIIIIII'], ['IXIIIIIIII'], ['IIXIIIIIII'], ['IIIXIIIIII'], ['IIIIXIIIII'], ['IIIIIXIIII'], ['IIIIIIXIII'], ['IIIIIIIXII'], ['IIIIIIIIXI'], ['IIIIIIIIIX'], ['IIIIIIIIZZ'], ['IIIIIIIZIZ'], ['IIIIIIZIIZ'], ['IIIIIZIIIZ'], ['IIIIZIIIIZ'], ['IIIZIIIIIZ'], ['IIZIIIIIIZ'], ['IZIIIIIIIZ'], ['ZIIIIIIIIZ'], ['IIIIIIIZZI'], ['IIIIIIZIZI'], ['IIIIIZIIZI'], ['IIIIZIIIZI'], ['IIIZIIIIZI'], ['IIZIIIIIZI'], ['IZIIIIIIZI'], ['ZIIIIIIIZI'], ['IIIIIIZZII'], ['IIIIIZIZII'], ['IIIIZIIZII'], ['IIIZIIIZII'], ['IIZIIIIZII'], ['IZIIIIIZII'], ['ZIIIIIIZII'], ['IIIIIZZIII'], ['IIIIZIZIII'], ['IIIZIIZIII'], ['IIZIIIZIII'], ['IZIIIIZIII'], ['ZIIIIIZIII'], ['IIIIZZIIII'], ['IIIZIZIIII'], ['IIZIIZIIII'], ['IZIIIZIIII'], ['ZIIIIZIIII'], ['IIIZZIIIII'], ['IIZIZIIIII'], ['IZIIZIIIII'], ['ZIIIZIIIII'], ['IIZZIIIIII'], ['IZIZIIIIII'], ['ZIIZIIIIII'], ['IZZIIIIIII'], ['ZIZIIIIIII'], ['ZZIIIIIIII'], ['XIIIIIIIII'], ['IXIIIIIIII'], ['IIXIIIIIII'], ['IIIXIIIIII'], ['IIIIXIIIII'], ['IIIIIXIIII'], ['IIIIIIXIII'], ['IIIIIIIXII'], ['IIIIIIIIXI'], ['IIIIIIIIIX'], ['IIIIIIIIZZ'], ['IIIIIIIZIZ'], ['IIIIIIZIIZ'], ['IIIIIZIIIZ'], ['IIIIZIIIIZ'], ['IIIZIIIIIZ'], ['IIZIIIIIIZ'], ['IZIIIIIIIZ'], ['ZIIIIIIIIZ'], ['IIIIIIIZZI'], ['IIIIIIZIZI'], ['IIIIIZIIZI'], ['IIIIZIIIZI'], ['IIIZIIIIZI'], ['IIZIIIIIZI'], ['IZIIIIIIZI'], ['ZIIIIIIIZI'], ['IIIIIIZZII'], ['IIIIIZIZII'], ['IIIIZIIZII'], ['IIIZIIIZII'], ['IIZIIIIZII'], ['IZIIIIIZII'], ['ZIIIIIIZII'], ['IIIIIZZIII'], ['IIIIZIZIII'], ['IIIZIIZIII'], ['IIZIIIZIII'], ['IZIIIIZIII'], ['ZIIIIIZIII'], ['IIIIZZIIII'], ['IIIZIZIIII'], ['IIZIIZIIII'], ['IZIIIZIIII'], ['ZIIIIZIIII'], ['IIIZZIIIII'], ['IIZIZIIIII'], ['IZIIZIIIII'], ['ZIIIZIIIII'], ['IIZZIIIIII'], ['IZIZIIIIII'], ['ZIIZIIIIII'], ['IZZIIIIIII'], ['ZIZIIIIIII'], ['ZZIIIIIIII'], ['XIIIIIIIII'], ['IXIIIIIIII'], ['IIXIIIIIII'], ['IIIXIIIIII'], ['IIIIXIIIII'], ['IIIIIXIIII'], ['IIIIIIXIII'], ['IIIIIIIXII'], ['IIIIIIIIXI'], ['IIIIIIIIIX'], ['IIIIIIIIZZ'], ['IIIIIIIZIZ'], ['IIIIIIZIIZ'], ['IIIIIZIIIZ'], ['IIIIZIIIIZ'], ['IIIZIIIIIZ'], ['IIZIIIIIIZ'], ['IZIIIIIIIZ'], ['ZIIIIIIIIZ'], ['IIIIIIIZZI'], ['IIIIIIZIZI'], ['IIIIIZIIZI'], ['IIIIZIIIZI'], ['IIIZIIIIZI'], ['IIZIIIIIZI'], ['IZIIIIIIZI'], ['ZIIIIIIIZI'], ['IIIIIIZZII'], ['IIIIIZIZII'], ['IIIIZIIZII'], ['IIIZIIIZII'], ['IIZIIIIZII'], ['IZIIIIIZII'], ['ZIIIIIIZII'], ['IIIIIZZIII'], ['IIIIZIZIII'], ['IIIZIIZIII'], ['IIZIIIZIII'], ['IZIIIIZIII'], ['ZIIIIIZIII'], ['IIIIZZIIII'], ['IIIZIZIIII'], ['IIZIIZIIII'], ['IZIIIZIIII'], ['ZIIIIZIIII'], ['IIIZZIIIII'], ['IIZIZIIIII'], ['IZIIZIIIII'], ['ZIIIZIIIII'], ['IIZZIIIIII'], ['IZIZIIIIII'], ['ZIIZIIIIII'], ['IZZIIIIIII'], ['ZIZIIIIIII'], ['ZZIIIIIIII'], ['XIIIIIIIII'], ['IXIIIIIIII'], ['IIXIIIIIII'], ['IIIXIIIIII'], ['IIIIXIIIII'], ['IIIIIXIIII'], ['IIIIIIXIII'], ['IIIIIIIXII'], ['IIIIIIIIXI'], ['IIIIIIIIIX'], ['IIIIIIIIZZ'], ['IIIIIIIZIZ'], ['IIIIIIZIIZ'], ['IIIIIZIIIZ'], ['IIIIZIIIIZ'], ['IIIZIIIIIZ'], ['IIZIIIIIIZ'], ['IZIIIIIIIZ'], ['ZIIIIIIIIZ'], ['IIIIIIIZZI'], ['IIIIIIZIZI'], ['IIIIIZIIZI'], ['IIIIZIIIZI'], ['IIIZIIIIZI'], ['IIZIIIIIZI'], ['IZIIIIIIZI'], ['ZIIIIIIIZI'], ['IIIIIIZZII'], ['IIIIIZIZII'], ['IIIIZIIZII'], ['IIIZIIIZII'], ['IIZIIIIZII'], ['IZIIIIIZII'], ['ZIIIIIIZII'], ['IIIIIZZIII'], ['IIIIZIZIII'], ['IIIZIIZIII'], ['IIZIIIZIII'], ['IZIIIIZIII'], ['ZIIIIIZIII'], ['IIIIZZIIII'], ['IIIZIZIIII'], ['IIZIIZIIII'], ['IZIIIZIIII'], ['ZIIIIZIIII'], ['IIIZZIIIII'], ['IIZIZIIIII'], ['IZIIZIIIII'], ['ZIIIZIIIII'], ['IIZZIIIIII'], ['IZIZIIIIII'], ['ZIIZIIIIII'], ['IZZIIIIIII'], ['ZIZIIIIIII'], ['ZZIIIIIIII'], ['XIIIIIIIII'], ['IXIIIIIIII'], ['IIXIIIIIII'], ['IIIXIIIIII'], ['IIIIXIIIII'], ['IIIIIXIIII'], ['IIIIIIXIII'], ['IIIIIIIXII'], ['IIIIIIIIXI'], ['IIIIIIIIIX'], ['IIIIIIIIZZ'], ['IIIIIIIZIZ'], ['IIIIIIZIIZ'], ['IIIIIZIIIZ'], ['IIIIZIIIIZ'], ['IIIZIIIIIZ'], ['IIZIIIIIIZ'], ['IZIIIIIIIZ'], ['ZIIIIIIIIZ'], ['IIIIIIIZZI'], ['IIIIIIZIZI'], ['IIIIIZIIZI'], ['IIIIZIIIZI'], ['IIIZIIIIZI'], ['IIZIIIIIZI'], ['IZIIIIIIZI'], ['ZIIIIIIIZI'], ['IIIIIIZZII'], ['IIIIIZIZII'], ['IIIIZIIZII'], ['IIIZIIIZII'], ['IIZIIIIZII'], ['IZIIIIIZII'], ['ZIIIIIIZII'], ['IIIIIZZIII'], ['IIIIZIZIII'], ['IIIZIIZIII'], ['IIZIIIZIII'], ['IZIIIIZIII'], ['ZIIIIIZIII'], ['IIIIZZIIII'], ['IIIZIZIIII'], ['IIZIIZIIII'], ['IZIIIZIIII'], ['ZIIIIZIIII'], ['IIIZZIIIII'], ['IIZIZIIIII'], ['IZIIZIIIII'], ['ZIIIZIIIII'], ['IIZZIIIIII'], ['IZIZIIIIII'], ['ZIIZIIIIII'], ['IZZIIIIIII'], ['ZIZIIIIIII'], ['ZZIIIIIIII'], ['XIIIIIIIII'], ['IXIIIIIIII'], ['IIXIIIIIII'], ['IIIXIIIIII'], ['IIIIXIIIII'], ['IIIIIXIIII'], ['IIIIIIXIII'], ['IIIIIIIXII'], ['IIIIIIIIXI'], ['IIIIIIIIIX'], ['IIIIIIIIZZ'], ['IIIIIIIZIZ'], ['IIIIIIZIIZ'], ['IIIIIZIIIZ'], ['IIIIZIIIIZ'], ['IIIZIIIIIZ'], ['IIZIIIIIIZ'], ['IZIIIIIIIZ'], ['ZIIIIIIIIZ'], ['IIIIIIIZZI'], ['IIIIIIZIZI'], ['IIIIIZIIZI'], ['IIIIZIIIZI'], ['IIIZIIIIZI'], ['IIZIIIIIZI'], ['IZIIIIIIZI'], ['ZIIIIIIIZI'], ['IIIIIIZZII'], ['IIIIIZIZII'], ['IIIIZIIZII'], ['IIIZIIIZII'], ['IIZIIIIZII'], ['IZIIIIIZII'], ['ZIIIIIIZII'], ['IIIIIZZIII'], ['IIIIZIZIII'], ['IIIZIIZIII'], ['IIZIIIZIII'], ['IZIIIIZIII'], ['ZIIIIIZIII'], ['IIIIZZIIII'], ['IIIZIZIIII'], ['IIZIIZIIII'], ['IZIIIZIIII'], ['ZIIIIZIIII'], ['IIIZZIIIII'], ['IIZIZIIIII'], ['IZIIZIIIII'], ['ZIIIZIIIII'], ['IIZZIIIIII'], ['IZIZIIIIII'], ['ZIIZIIIIII'], ['IZZIIIIIII'], ['ZIZIIIIIII'], ['ZZIIIIIIII'], ['XIIIIIIIII'], ['IXIIIIIIII'], ['IIXIIIIIII'], ['IIIXIIIIII'], ['IIIIXIIIII'], ['IIIIIXIIII'], ['IIIIIIXIII'], ['IIIIIIIXII'], ['IIIIIIIIXI'], ['IIIIIIIIIX'], ['IIIIIIIIZZ'], ['IIIIIIIZIZ'], ['IIIIIIZIIZ'], ['IIIIIZIIIZ'], ['IIIIZIIIIZ'], ['IIIZIIIIIZ'], ['IIZIIIIIIZ'], ['IZIIIIIIIZ'], ['ZIIIIIIIIZ'], ['IIIIIIIZZI'], ['IIIIIIZIZI'], ['IIIIIZIIZI'], ['IIIIZIIIZI'], ['IIIZIIIIZI'], ['IIZIIIIIZI'], ['IZIIIIIIZI'], ['ZIIIIIIIZI'], ['IIIIIIZZII'], ['IIIIIZIZII'], ['IIIIZIIZII'], ['IIIZIIIZII'], ['IIZIIIIZII'], ['IZIIIIIZII'], ['ZIIIIIIZII'], ['IIIIIZZIII'], ['IIIIZIZIII'], ['IIIZIIZIII'], ['IIZIIIZIII'], ['IZIIIIZIII'], ['ZIIIIIZIII'], ['IIIIZZIIII'], ['IIIZIZIIII'], ['IIZIIZIIII'], ['IZIIIZIIII'], ['ZIIIIZIIII'], ['IIIZZIIIII'], ['IIZIZIIIII'], ['IZIIZIIIII'], ['ZIIIZIIIII'], ['IIZZIIIIII'], ['IZIZIIIIII'], ['ZIIZIIIIII'], ['IZZIIIIIII'], ['ZIZIIIIIII'], ['ZZIIIIIIII'], ['XIIIIIIIII'], ['IXIIIIIIII'], ['IIXIIIIIII'], ['IIIXIIIIII'], ['IIIIXIIIII'], ['IIIIIXIIII'], ['IIIIIIXIII'], ['IIIIIIIXII'], ['IIIIIIIIXI'], ['IIIIIIIIIX'], ['IIIIIIIIZZ'], ['IIIIIIIZIZ'], ['IIIIIIZIIZ'], ['IIIIIZIIIZ'], ['IIIIZIIIIZ'], ['IIIZIIIIIZ'], ['IIZIIIIIIZ'], ['IZIIIIIIIZ'], ['ZIIIIIIIIZ'], ['IIIIIIIZZI'], ['IIIIIIZIZI'], ['IIIIIZIIZI'], ['IIIIZIIIZI'], ['IIIZIIIIZI'], ['IIZIIIIIZI'], ['IZIIIIIIZI'], ['ZIIIIIIIZI'], ['IIIIIIZZII'], ['IIIIIZIZII'], ['IIIIZIIZII'], ['IIIZIIIZII'], ['IIZIIIIZII'], ['IZIIIIIZII'], ['ZIIIIIIZII'], ['IIIIIZZIII'], ['IIIIZIZIII'], ['IIIZIIZIII'], ['IIZIIIZIII'], ['IZIIIIZIII'], ['ZIIIIIZIII'], ['IIIIZZIIII'], ['IIIZIZIIII'], ['IIZIIZIIII'], ['IZIIIZIIII'], ['ZIIIIZIIII'], ['IIIZZIIIII'], ['IIZIZIIIII'], ['IZIIZIIIII'], ['ZIIIZIIIII'], ['IIZZIIIIII'], ['IZIZIIIIII'], ['ZIIZIIIIII'], ['IZZIIIIIII'], ['ZIZIIIIIII'], ['ZZIIIIIIII'], ['XIIIIIIIII'], ['IXIIIIIIII'], ['IIXIIIIIII'], ['IIIXIIIIII'], ['IIIIXIIIII'], ['IIIIIXIIII'], ['IIIIIIXIII'], ['IIIIIIIXII'], ['IIIIIIIIXI'], ['IIIIIIIIIX'], ['IIIIIIIIZZ'], ['IIIIIIIZIZ'], ['IIIIIIZIIZ'], ['IIIIIZIIIZ'], ['IIIIZIIIIZ'], ['IIIZIIIIIZ'], ['IIZIIIIIIZ'], ['IZIIIIIIIZ'], ['ZIIIIIIIIZ'], ['IIIIIIIZZI'], ['IIIIIIZIZI'], ['IIIIIZIIZI'], ['IIIIZIIIZI'], ['IIIZIIIIZI'], ['IIZIIIIIZI'], ['IZIIIIIIZI'], ['ZIIIIIIIZI'], ['IIIIIIZZII'], ['IIIIIZIZII'], ['IIIIZIIZII'], ['IIIZIIIZII'], ['IIZIIIIZII'], ['IZIIIIIZII'], ['ZIIIIIIZII'], ['IIIIIZZIII'], ['IIIIZIZIII'], ['IIIZIIZIII'], ['IIZIIIZIII'], ['IZIIIIZIII'], ['ZIIIIIZIII'], ['IIIIZZIIII'], ['IIIZIZIIII'], ['IIZIIZIIII'], ['IZIIIZIIII'], ['ZIIIIZIIII'], ['IIIZZIIIII'], ['IIZIZIIIII'], ['IZIIZIIIII'], ['ZIIIZIIIII'], ['IIZZIIIIII'], ['IZIZIIIIII'], ['ZIIZIIIIII'], ['IZZIIIIIII'], ['ZIZIIIIIII'], ['ZZIIIIIIII'], ['XIIIIIIIII'], ['IXIIIIIIII'], ['IIXIIIIIII'], ['IIIXIIIIII'], ['IIIIXIIIII'], ['IIIIIXIIII'], ['IIIIIIXIII'], ['IIIIIIIXII'], ['IIIIIIIIXI'], ['IIIIIIIIIX'], ['IIIIIIIIZZ'], ['IIIIIIIZIZ'], ['IIIIIIZIIZ'], ['IIIIIZIIIZ'], ['IIIIZIIIIZ'], ['IIIZIIIIIZ'], ['IIZIIIIIIZ'], ['IZIIIIIIIZ'], ['ZIIIIIIIIZ'], ['IIIIIIIZZI'], ['IIIIIIZIZI'], ['IIIIIZIIZI'], ['IIIIZIIIZI'], ['IIIZIIIIZI'], ['IIZIIIIIZI'], ['IZIIIIIIZI'], ['ZIIIIIIIZI'], ['IIIIIIZZII'], ['IIIIIZIZII'], ['IIIIZIIZII'], ['IIIZIIIZII'], ['IIZIIIIZII'], ['IZIIIIIZII'], ['ZIIIIIIZII'], ['IIIIIZZIII'], ['IIIIZIZIII'], ['IIIZIIZIII'], ['IIZIIIZIII'], ['IZIIIIZIII'], ['ZIIIIIZIII'], ['IIIIZZIIII'], ['IIIZIZIIII'], ['IIZIIZIIII'], ['IZIIIZIIII'], ['ZIIIIZIIII'], ['IIIZZIIIII'], ['IIZIZIIIII'], ['IZIIZIIIII'], ['ZIIIZIIIII'], ['IIZZIIIIII'], ['IZIZIIIIII'], ['ZIIZIIIIII'], ['IZZIIIIIII'], ['ZIZIIIIIII'], ['ZZIIIIIIII'], ['XIIIIIIIII'], ['IXIIIIIIII'], ['IIXIIIIIII'], ['IIIXIIIIII'], ['IIIIXIIIII'], ['IIIIIXIIII'], ['IIIIIIXIII'], ['IIIIIIIXII'], ['IIIIIIIIXI'], ['IIIIIIIIIX'], ['IIIIIIIIZZ'], ['IIIIIIIZIZ'], ['IIIIIIZIIZ'], ['IIIIIZIIIZ'], ['IIIIZIIIIZ'], ['IIIZIIIIIZ'], ['IIZIIIIIIZ'], ['IZIIIIIIIZ'], ['ZIIIIIIIIZ'], ['IIIIIIIZZI'], ['IIIIIIZIZI'], ['IIIIIZIIZI'], ['IIIIZIIIZI'], ['IIIZIIIIZI'], ['IIZIIIIIZI'], ['IZIIIIIIZI'], ['ZIIIIIIIZI'], ['IIIIIIZZII'], ['IIIIIZIZII'], ['IIIIZIIZII'], ['IIIZIIIZII'], ['IIZIIIIZII'], ['IZIIIIIZII'], ['ZIIIIIIZII'], ['IIIIIZZIII'], ['IIIIZIZIII'], ['IIIZIIZIII'], ['IIZIIIZIII'], ['IZIIIIZIII'], ['ZIIIIIZIII'], ['IIIIZZIIII'], ['IIIZIZIIII'], ['IIZIIZIIII'], ['IZIIIZIIII'], ['ZIIIIZIIII'], ['IIIZZIIIII'], ['IIZIZIIIII'], ['IZIIZIIIII'], ['ZIIIZIIIII'], ['IIZZIIIIII'], ['IZIZIIIIII'], ['ZIIZIIIIII'], ['IZZIIIIIII'], ['ZIZIIIIIII'], ['ZZIIIIIIII'], ['XIIIIIIIII'], ['IXIIIIIIII'], ['IIXIIIIIII'], ['IIIXIIIIII'], ['IIIIXIIIII'], ['IIIIIXIIII'], ['IIIIIIXIII'], ['IIIIIIIXII'], ['IIIIIIIIXI'], ['IIIIIIIIIX'], ['IIIIIIIIZZ'], ['IIIIIIIZIZ'], ['IIIIIIZIIZ'], ['IIIIIZIIIZ'], ['IIIIZIIIIZ'], ['IIIZIIIIIZ'], ['IIZIIIIIIZ'], ['IZIIIIIIIZ'], ['ZIIIIIIIIZ'], ['IIIIIIIZZI'], ['IIIIIIZIZI'], ['IIIIIZIIZI'], ['IIIIZIIIZI'], ['IIIZIIIIZI'], ['IIZIIIIIZI'], ['IZIIIIIIZI'], ['ZIIIIIIIZI'], ['IIIIIIZZII'], ['IIIIIZIZII'], ['IIIIZIIZII'], ['IIIZIIIZII'], ['IIZIIIIZII'], ['IZIIIIIZII'], ['ZIIIIIIZII'], ['IIIIIZZIII'], ['IIIIZIZIII'], ['IIIZIIZIII'], ['IIZIIIZIII'], ['IZIIIIZIII'], ['ZIIIIIZIII'], ['IIIIZZIIII'], ['IIIZIZIIII'], ['IIZIIZIIII'], ['IZIIIZIIII'], ['ZIIIIZIIII'], ['IIIZZIIIII'], ['IIZIZIIIII'], ['IZIIZIIIII'], ['ZIIIZIIIII'], ['IIZZIIIIII'], ['IZIZIIIIII'], ['ZIIZIIIIII'], ['IZZIIIIIII'], ['ZIZIIIIIII'], ['ZZIIIIIIII'], ['XIIIIIIIII'], ['IXIIIIIIII'], ['IIXIIIIIII'], ['IIIXIIIIII'], ['IIIIXIIIII'], ['IIIIIXIIII'], ['IIIIIIXIII'], ['IIIIIIIXII'], ['IIIIIIIIXI'], ['IIIIIIIIIX']]\n",
      "CNOT: 90, Single: 54, Total: 144, Depth: 52\n",
      "{'num_paulis': 1100, 'times': {'pytket_time': 2.057269811630249}, 'gate_counts': {'pytket_method': 90}, 'circuit_entangling_depth': {'pytket_method': 34}, 'test_paulis_file': 'benchmarks/results/test_pytket_max_cut_benchmark_n10_e45_l20.json'}\n",
      "max_cut_benchmark_n14_e60_l5.json\n",
      "[['IIZIIIIIZIIIII'], ['IIIZIIIIIIIIIZ'], ['IIIIIZZIIIIIII'], ['IIIIIIIIIZIIZI'], ['IIIIIIZIZIIIII'], ['ZIIIIIIIIIIZII'], ['IIZIIIIIIIZIII'], ['IIIIZIIIIZIIII'], ['IIIZIIIIZIIIII'], ['IIIIIIIIIIZIZI'], ['IIIIIIIZIIIZII'], ['ZIIIZIIIIIIIII'], ['IIIIIIIZIIIIIZ'], ['ZIIIIIZIIIIIII'], ['IIIIIIIIIIIZZI'], ['ZIIIIIIIIZIIII'], ['ZIIIIIIIIIZIII'], ['ZIZIIIIIIIIIII'], ['IIZIIIIIIZIIII'], ['IIIIZIIZIIIIII'], ['IZIIIZIIIIIIII'], ['ZIIIIIIIIIIIZI'], ['IIZIIIIIIZIIII'], ['IIIZIIIZIIIIII'], ['IIZIIIIZIIIIII'], ['IZZIIIIIIIIIII'], ['IZIIIIZIIIIIII'], ['IIIIZZIIIIIIII'], ['IIIIZIIIIIIIZI'], ['IIIIZIZIIIIIII'], ['IIIIIIIZIIIIIZ'], ['IZIIIIIIIIZIII'], ['IIIIIIIZIIIIZI'], ['IIIZZIIIIIIIII'], ['IZIIIIIIIIIZII'], ['IIIIIIIIZIIIZI'], ['IIIIIIIIIZIIIZ'], ['IZIIZIIIIIIIII'], ['IIIZIIIIZIIIII'], ['IZIIIIIIIIIIZI'], ['IIIIIIZZIIIIII'], ['IIIIIIIIIIZIIZ'], ['IIIIIIZIZIIIII'], ['IIZIIZIIIIIIII'], ['ZIZIIIIIIIIIII'], ['ZZIIIIIIIIIIII'], ['IIIIZIIIIIIIIZ'], ['IIIIIIZIIIIIIZ'], ['IZIIIIIIZIIIII'], ['IIIZIIIIIIIZII'], ['IIIIIIZZIIIIII'], ['IIZIIIZIIIIIII'], ['IZIIZIIIIIIIII'], ['IIIIZZIIIIIIII'], ['IIZIIIIIIIIZII'], ['IIIIIIIIIIZZII'], ['IZIIIIIZIIIIII'], ['IIIZIIIIIZIIII'], ['IIIIIZIIIIIIIZ'], ['IIZIIIIIIIIIZI'], ['XIIIIIIIIIIIII'], ['IXIIIIIIIIIIII'], ['IIXIIIIIIIIIII'], ['IIIXIIIIIIIIII'], ['IIIIXIIIIIIIII'], ['IIIIIXIIIIIIII'], ['IIIIIIXIIIIIII'], ['IIIIIIIXIIIIII'], ['IIIIIIIIXIIIII'], ['IIIIIIIIIXIIII'], ['IIIIIIIIIIXIII'], ['IIIIIIIIIIIXII'], ['IIIIIIIIIIIIXI'], ['IIIIIIIIIIIIIX'], ['IIZIIIIIZIIIII'], ['IIIZIIIIIIIIIZ'], ['IIIIIZZIIIIIII'], ['IIIIIIIIIZIIZI'], ['IIIIIIZIZIIIII'], ['ZIIIIIIIIIIZII'], ['IIZIIIIIIIZIII'], ['IIIIZIIIIZIIII'], ['IIIZIIIIZIIIII'], ['IIIIIIIIIIZIZI'], ['IIIIIIIZIIIZII'], ['ZIIIZIIIIIIIII'], ['IIIIIIIZIIIIIZ'], ['ZIIIIIZIIIIIII'], ['IIIIIIIIIIIZZI'], ['ZIIIIIIIIZIIII'], ['ZIIIIIIIIIZIII'], ['ZIZIIIIIIIIIII'], ['IIZIIIIIIZIIII'], ['IIIIZIIZIIIIII'], ['IZIIIZIIIIIIII'], ['ZIIIIIIIIIIIZI'], ['IIZIIIIIIZIIII'], ['IIIZIIIZIIIIII'], ['IIZIIIIZIIIIII'], ['IZZIIIIIIIIIII'], ['IZIIIIZIIIIIII'], ['IIIIZZIIIIIIII'], ['IIIIZIIIIIIIZI'], ['IIIIZIZIIIIIII'], ['IIIIIIIZIIIIIZ'], ['IZIIIIIIIIZIII'], ['IIIIIIIZIIIIZI'], ['IIIZZIIIIIIIII'], ['IZIIIIIIIIIZII'], ['IIIIIIIIZIIIZI'], ['IIIIIIIIIZIIIZ'], ['IZIIZIIIIIIIII'], ['IIIZIIIIZIIIII'], ['IZIIIIIIIIIIZI'], ['IIIIIIZZIIIIII'], ['IIIIIIIIIIZIIZ'], ['IIIIIIZIZIIIII'], ['IIZIIZIIIIIIII'], ['ZIZIIIIIIIIIII'], ['ZZIIIIIIIIIIII'], ['IIIIZIIIIIIIIZ'], ['IIIIIIZIIIIIIZ'], ['IZIIIIIIZIIIII'], ['IIIZIIIIIIIZII'], ['IIIIIIZZIIIIII'], ['IIZIIIZIIIIIII'], ['IZIIZIIIIIIIII'], ['IIIIZZIIIIIIII'], ['IIZIIIIIIIIZII'], ['IIIIIIIIIIZZII'], ['IZIIIIIZIIIIII'], ['IIIZIIIIIZIIII'], ['IIIIIZIIIIIIIZ'], ['IIZIIIIIIIIIZI'], ['XIIIIIIIIIIIII'], ['IXIIIIIIIIIIII'], ['IIXIIIIIIIIIII'], ['IIIXIIIIIIIIII'], ['IIIIXIIIIIIIII'], ['IIIIIXIIIIIIII'], ['IIIIIIXIIIIIII'], ['IIIIIIIXIIIIII'], ['IIIIIIIIXIIIII'], ['IIIIIIIIIXIIII'], ['IIIIIIIIIIXIII'], ['IIIIIIIIIIIXII'], ['IIIIIIIIIIIIXI'], ['IIIIIIIIIIIIIX'], ['IIZIIIIIZIIIII'], ['IIIZIIIIIIIIIZ'], ['IIIIIZZIIIIIII'], ['IIIIIIIIIZIIZI'], ['IIIIIIZIZIIIII'], ['ZIIIIIIIIIIZII'], ['IIZIIIIIIIZIII'], ['IIIIZIIIIZIIII'], ['IIIZIIIIZIIIII'], ['IIIIIIIIIIZIZI'], ['IIIIIIIZIIIZII'], ['ZIIIZIIIIIIIII'], ['IIIIIIIZIIIIIZ'], ['ZIIIIIZIIIIIII'], ['IIIIIIIIIIIZZI'], ['ZIIIIIIIIZIIII'], ['ZIIIIIIIIIZIII'], ['ZIZIIIIIIIIIII'], ['IIZIIIIIIZIIII'], ['IIIIZIIZIIIIII'], ['IZIIIZIIIIIIII'], ['ZIIIIIIIIIIIZI'], ['IIZIIIIIIZIIII'], ['IIIZIIIZIIIIII'], ['IIZIIIIZIIIIII'], ['IZZIIIIIIIIIII'], ['IZIIIIZIIIIIII'], ['IIIIZZIIIIIIII'], ['IIIIZIIIIIIIZI'], ['IIIIZIZIIIIIII'], ['IIIIIIIZIIIIIZ'], ['IZIIIIIIIIZIII'], ['IIIIIIIZIIIIZI'], ['IIIZZIIIIIIIII'], ['IZIIIIIIIIIZII'], ['IIIIIIIIZIIIZI'], ['IIIIIIIIIZIIIZ'], ['IZIIZIIIIIIIII'], ['IIIZIIIIZIIIII'], ['IZIIIIIIIIIIZI'], ['IIIIIIZZIIIIII'], ['IIIIIIIIIIZIIZ'], ['IIIIIIZIZIIIII'], ['IIZIIZIIIIIIII'], ['ZIZIIIIIIIIIII'], ['ZZIIIIIIIIIIII'], ['IIIIZIIIIIIIIZ'], ['IIIIIIZIIIIIIZ'], ['IZIIIIIIZIIIII'], ['IIIZIIIIIIIZII'], ['IIIIIIZZIIIIII'], ['IIZIIIZIIIIIII'], ['IZIIZIIIIIIIII'], ['IIIIZZIIIIIIII'], ['IIZIIIIIIIIZII'], ['IIIIIIIIIIZZII'], ['IZIIIIIZIIIIII'], ['IIIZIIIIIZIIII'], ['IIIIIZIIIIIIIZ'], ['IIZIIIIIIIIIZI'], ['XIIIIIIIIIIIII'], ['IXIIIIIIIIIIII'], ['IIXIIIIIIIIIII'], ['IIIXIIIIIIIIII'], ['IIIIXIIIIIIIII'], ['IIIIIXIIIIIIII'], ['IIIIIIXIIIIIII'], ['IIIIIIIXIIIIII'], ['IIIIIIIIXIIIII'], ['IIIIIIIIIXIIII'], ['IIIIIIIIIIXIII'], ['IIIIIIIIIIIXII'], ['IIIIIIIIIIIIXI'], ['IIIIIIIIIIIIIX'], ['IIZIIIIIZIIIII'], ['IIIZIIIIIIIIIZ'], ['IIIIIZZIIIIIII'], ['IIIIIIIIIZIIZI'], ['IIIIIIZIZIIIII'], ['ZIIIIIIIIIIZII'], ['IIZIIIIIIIZIII'], ['IIIIZIIIIZIIII'], ['IIIZIIIIZIIIII'], ['IIIIIIIIIIZIZI'], ['IIIIIIIZIIIZII'], ['ZIIIZIIIIIIIII'], ['IIIIIIIZIIIIIZ'], ['ZIIIIIZIIIIIII'], ['IIIIIIIIIIIZZI'], ['ZIIIIIIIIZIIII'], ['ZIIIIIIIIIZIII'], ['ZIZIIIIIIIIIII'], ['IIZIIIIIIZIIII'], ['IIIIZIIZIIIIII'], ['IZIIIZIIIIIIII'], ['ZIIIIIIIIIIIZI'], ['IIZIIIIIIZIIII'], ['IIIZIIIZIIIIII'], ['IIZIIIIZIIIIII'], ['IZZIIIIIIIIIII'], ['IZIIIIZIIIIIII'], ['IIIIZZIIIIIIII'], ['IIIIZIIIIIIIZI'], ['IIIIZIZIIIIIII'], ['IIIIIIIZIIIIIZ'], ['IZIIIIIIIIZIII'], ['IIIIIIIZIIIIZI'], ['IIIZZIIIIIIIII'], ['IZIIIIIIIIIZII'], ['IIIIIIIIZIIIZI'], ['IIIIIIIIIZIIIZ'], ['IZIIZIIIIIIIII'], ['IIIZIIIIZIIIII'], ['IZIIIIIIIIIIZI'], ['IIIIIIZZIIIIII'], ['IIIIIIIIIIZIIZ'], ['IIIIIIZIZIIIII'], ['IIZIIZIIIIIIII'], ['ZIZIIIIIIIIIII'], ['ZZIIIIIIIIIIII'], ['IIIIZIIIIIIIIZ'], ['IIIIIIZIIIIIIZ'], ['IZIIIIIIZIIIII'], ['IIIZIIIIIIIZII'], ['IIIIIIZZIIIIII'], ['IIZIIIZIIIIIII'], ['IZIIZIIIIIIIII'], ['IIIIZZIIIIIIII'], ['IIZIIIIIIIIZII'], ['IIIIIIIIIIZZII'], ['IZIIIIIZIIIIII'], ['IIIZIIIIIZIIII'], ['IIIIIZIIIIIIIZ'], ['IIZIIIIIIIIIZI'], ['XIIIIIIIIIIIII'], ['IXIIIIIIIIIIII'], ['IIXIIIIIIIIIII'], ['IIIXIIIIIIIIII'], ['IIIIXIIIIIIIII'], ['IIIIIXIIIIIIII'], ['IIIIIIXIIIIIII'], ['IIIIIIIXIIIIII'], ['IIIIIIIIXIIIII'], ['IIIIIIIIIXIIII'], ['IIIIIIIIIIXIII'], ['IIIIIIIIIIIXII'], ['IIIIIIIIIIIIXI'], ['IIIIIIIIIIIIIX'], ['IIZIIIIIZIIIII'], ['IIIZIIIIIIIIIZ'], ['IIIIIZZIIIIIII'], ['IIIIIIIIIZIIZI'], ['IIIIIIZIZIIIII'], ['ZIIIIIIIIIIZII'], ['IIZIIIIIIIZIII'], ['IIIIZIIIIZIIII'], ['IIIZIIIIZIIIII'], ['IIIIIIIIIIZIZI'], ['IIIIIIIZIIIZII'], ['ZIIIZIIIIIIIII'], ['IIIIIIIZIIIIIZ'], ['ZIIIIIZIIIIIII'], ['IIIIIIIIIIIZZI'], ['ZIIIIIIIIZIIII'], ['ZIIIIIIIIIZIII'], ['ZIZIIIIIIIIIII'], ['IIZIIIIIIZIIII'], ['IIIIZIIZIIIIII'], ['IZIIIZIIIIIIII'], ['ZIIIIIIIIIIIZI'], ['IIZIIIIIIZIIII'], ['IIIZIIIZIIIIII'], ['IIZIIIIZIIIIII'], ['IZZIIIIIIIIIII'], ['IZIIIIZIIIIIII'], ['IIIIZZIIIIIIII'], ['IIIIZIIIIIIIZI'], ['IIIIZIZIIIIIII'], ['IIIIIIIZIIIIIZ'], ['IZIIIIIIIIZIII'], ['IIIIIIIZIIIIZI'], ['IIIZZIIIIIIIII'], ['IZIIIIIIIIIZII'], ['IIIIIIIIZIIIZI'], ['IIIIIIIIIZIIIZ'], ['IZIIZIIIIIIIII'], ['IIIZIIIIZIIIII'], ['IZIIIIIIIIIIZI'], ['IIIIIIZZIIIIII'], ['IIIIIIIIIIZIIZ'], ['IIIIIIZIZIIIII'], ['IIZIIZIIIIIIII'], ['ZIZIIIIIIIIIII'], ['ZZIIIIIIIIIIII'], ['IIIIZIIIIIIIIZ'], ['IIIIIIZIIIIIIZ'], ['IZIIIIIIZIIIII'], ['IIIZIIIIIIIZII'], ['IIIIIIZZIIIIII'], ['IIZIIIZIIIIIII'], ['IZIIZIIIIIIIII'], ['IIIIZZIIIIIIII'], ['IIZIIIIIIIIZII'], ['IIIIIIIIIIZZII'], ['IZIIIIIZIIIIII'], ['IIIZIIIIIZIIII'], ['IIIIIZIIIIIIIZ'], ['IIZIIIIIIIIIZI'], ['XIIIIIIIIIIIII'], ['IXIIIIIIIIIIII'], ['IIXIIIIIIIIIII'], ['IIIXIIIIIIIIII'], ['IIIIXIIIIIIIII'], ['IIIIIXIIIIIIII'], ['IIIIIIXIIIIIII'], ['IIIIIIIXIIIIII'], ['IIIIIIIIXIIIII'], ['IIIIIIIIIXIIII'], ['IIIIIIIIIIXIII'], ['IIIIIIIIIIIXII'], ['IIIIIIIIIIIIXI'], ['IIIIIIIIIIIIIX']]\n",
      "CNOT: 104, Single: 59, Total: 163, Depth: 58\n",
      "{'num_paulis': 370, 'times': {'pytket_time': 2.483309030532837}, 'gate_counts': {'pytket_method': 104}, 'circuit_entangling_depth': {'pytket_method': 38}, 'test_paulis_file': 'benchmarks/results/test_pytket_max_cut_benchmark_n14_e60_l5.json'}\n"
     ]
    }
   ],
   "source": [
    "# #Then compare the MAXCUT paulis in max_cut_paulis folder\n",
    "\n",
    "run_experiment_folder(folder_path = \"benchmarks/max_cut_paulis\", save_output = True)"
   ]
  },
  {
   "cell_type": "code",
   "execution_count": null,
   "id": "77c0d26d",
   "metadata": {},
   "outputs": [
    {
     "name": "stdout",
     "output_type": "stream",
     "text": [
      "labs_n10_layers1.json\n",
      "[['IIZZZZIIII'], ['ZZIIIIZZII'], ['ZZIIZZIIII'], ['IIZZIIZZII'], ['ZZIIIIIIZZ'], ['IIZZIZZIII'], ['IIZZIIIIZZ'], ['ZZIIIZZIII'], ['ZZZZIIIIII'], ['IIIIZZZZII'], ['ZZIIIIIZZI'], ['IIIZZZZIII'], ['IIZZIIIZZI'], ['IZIIIIIIIZ'], ['IZIIIZIIII'], ['ZIIIIIZIII'], ['ZIIIZIIIII'], ['IIIIIZIIIZ'], ['ZIIIZZIIIZ'], ['IZIIZIZIIZ'], ['IIIIZIZIII'], ['IIIIZZIZZI'], ['ZIZIIIIIII'], ['IZIZIIIIII'], ['IIIIZZIIZZ'], ['IZZIIIZZII'], ['IIIIIIZZZZ'], ['ZZIZZIIIII'], ['IZZIIIIIZZ'], ['IIIZZIZZII'], ['IZZZZIIIII'], ['IIIIIZZIZZ'], ['IZZIZZIIII'], ['IIIIIIIZIZ'], ['IIIIIIZIZI'], ['IZZIIZZIII'], ['IIIZZIIIZZ'], ['IZZIIIIZZI'], ['IIIZIIIIIZ'], ['ZIIZIIZIIZ'], ['IIIZIZIIII'], ['IIIZZIIZZI'], ['IIZIIZZIIZ'], ['IIIIIZZZZI'], ['IIZIZIIIII'], ['IZIZIIZIZI'], ['ZIZIIZIZII'], ['ZIZIIIZIZI'], ['IIIZIIIZII'], ['IZIIIIIZII'], ['IIIZIZIZIZ'], ['IZIZIIIZIZ'], ['IZIZIZIZII'], ['IIIIIZIZII'], ['ZIZIZIZIII'], ['IZIZZIZIII'], ['ZIZIIIIZIZ'], ['IIIIZIZZIZ'], ['ZIZZIZIIII'], ['IIZIZZIZII'], ['ZIIIIIIIZI'], ['IIZIZIIZIZ'], ['IIIZIZZIZI'], ['IIZIZIZIZI'], ['ZIIZIZIIZI'], ['IIZIIIZIII'], ['IZIIZZIIZI'], ['ZIIZZIIZII'], ['IIZIIIIIZI'], ['IIIIZIIIZI'], ['XIIIIIIIII'], ['IXIIIIIIII'], ['IIXIIIIIII'], ['IIIXIIIIII'], ['IIIIXIIIII'], ['IIIIIXIIII'], ['IIIIIIXIII'], ['IIIIIIIXII'], ['IIIIIIIIXI'], ['IIIIIIIIIX']]\n",
      "CNOT: 242, Single: 76, Total: 318, Depth: 165\n",
      "{'num_paulis': 80, 'times': {'pytket_time': 6.453988552093506}, 'gate_counts': {'pytket_method': 242}, 'circuit_entangling_depth': {'pytket_method': 124}, 'test_paulis_file': 'benchmarks/results/test_pytket_labs_n10_layers1.json'}\n",
      "labs_n10_layers3.json\n",
      "[['IIZZZZIIII'], ['ZZIIIIZZII'], ['ZZIIZZIIII'], ['IIZZIIZZII'], ['ZZIIIIIIZZ'], ['IIZZIZZIII'], ['IIZZIIIIZZ'], ['ZZIIIZZIII'], ['ZZZZIIIIII'], ['IIIIZZZZII'], ['ZZIIIIIZZI'], ['IIIZZZZIII'], ['IIZZIIIZZI'], ['IZIIIIIIIZ'], ['IZIIIZIIII'], ['ZIIIIIZIII'], ['ZIIIZIIIII'], ['IIIIIZIIIZ'], ['ZIIIZZIIIZ'], ['IZIIZIZIIZ'], ['IIIIZIZIII'], ['IIIIZZIZZI'], ['ZIZIIIIIII'], ['IZIZIIIIII'], ['IIIIZZIIZZ'], ['IZZIIIZZII'], ['IIIIIIZZZZ'], ['ZZIZZIIIII'], ['IZZIIIIIZZ'], ['IIIZZIZZII'], ['IZZZZIIIII'], ['IIIIIZZIZZ'], ['IZZIZZIIII'], ['IIIIIIIZIZ'], ['IIIIIIZIZI'], ['IZZIIZZIII'], ['IIIZZIIIZZ'], ['IZZIIIIZZI'], ['IIIZIIIIIZ'], ['ZIIZIIZIIZ'], ['IIIZIZIIII'], ['IIIZZIIZZI'], ['IIZIIZZIIZ'], ['IIIIIZZZZI'], ['IIZIZIIIII'], ['IZIZIIZIZI'], ['ZIZIIZIZII'], ['ZIZIIIZIZI'], ['IIIZIIIZII'], ['IZIIIIIZII'], ['IIIZIZIZIZ'], ['IZIZIIIZIZ'], ['IZIZIZIZII'], ['IIIIIZIZII'], ['ZIZIZIZIII'], ['IZIZZIZIII'], ['ZIZIIIIZIZ'], ['IIIIZIZZIZ'], ['ZIZZIZIIII'], ['IIZIZZIZII'], ['ZIIIIIIIZI'], ['IIZIZIIZIZ'], ['IIIZIZZIZI'], ['IIZIZIZIZI'], ['ZIIZIZIIZI'], ['IIZIIIZIII'], ['IZIIZZIIZI'], ['ZIIZZIIZII'], ['IIZIIIIIZI'], ['IIIIZIIIZI'], ['XIIIIIIIII'], ['IXIIIIIIII'], ['IIXIIIIIII'], ['IIIXIIIIII'], ['IIIIXIIIII'], ['IIIIIXIIII'], ['IIIIIIXIII'], ['IIIIIIIXII'], ['IIIIIIIIXI'], ['IIIIIIIIIX'], ['IIZZZZIIII'], ['ZZIIIIZZII'], ['ZZIIZZIIII'], ['IIZZIIZZII'], ['ZZIIIIIIZZ'], ['IIZZIZZIII'], ['IIZZIIIIZZ'], ['ZZIIIZZIII'], ['ZZZZIIIIII'], ['IIIIZZZZII'], ['ZZIIIIIZZI'], ['IIIZZZZIII'], ['IIZZIIIZZI'], ['IZIIIIIIIZ'], ['IZIIIZIIII'], ['ZIIIIIZIII'], ['ZIIIZIIIII'], ['IIIIIZIIIZ'], ['ZIIIZZIIIZ'], ['IZIIZIZIIZ'], ['IIIIZIZIII'], ['IIIIZZIZZI'], ['ZIZIIIIIII'], ['IZIZIIIIII'], ['IIIIZZIIZZ'], ['IZZIIIZZII'], ['IIIIIIZZZZ'], ['ZZIZZIIIII'], ['IZZIIIIIZZ'], ['IIIZZIZZII'], ['IZZZZIIIII'], ['IIIIIZZIZZ'], ['IZZIZZIIII'], ['IIIIIIIZIZ'], ['IIIIIIZIZI'], ['IZZIIZZIII'], ['IIIZZIIIZZ'], ['IZZIIIIZZI'], ['IIIZIIIIIZ'], ['ZIIZIIZIIZ'], ['IIIZIZIIII'], ['IIIZZIIZZI'], ['IIZIIZZIIZ'], ['IIIIIZZZZI'], ['IIZIZIIIII'], ['IZIZIIZIZI'], ['ZIZIIZIZII'], ['ZIZIIIZIZI'], ['IIIZIIIZII'], ['IZIIIIIZII'], ['IIIZIZIZIZ'], ['IZIZIIIZIZ'], ['IZIZIZIZII'], ['IIIIIZIZII'], ['ZIZIZIZIII'], ['IZIZZIZIII'], ['ZIZIIIIZIZ'], ['IIIIZIZZIZ'], ['ZIZZIZIIII'], ['IIZIZZIZII'], ['ZIIIIIIIZI'], ['IIZIZIIZIZ'], ['IIIZIZZIZI'], ['IIZIZIZIZI'], ['ZIIZIZIIZI'], ['IIZIIIZIII'], ['IZIIZZIIZI'], ['ZIIZZIIZII'], ['IIZIIIIIZI'], ['IIIIZIIIZI'], ['XIIIIIIIII'], ['IXIIIIIIII'], ['IIXIIIIIII'], ['IIIXIIIIII'], ['IIIIXIIIII'], ['IIIIIXIIII'], ['IIIIIIXIII'], ['IIIIIIIXII'], ['IIIIIIIIXI'], ['IIIIIIIIIX'], ['IIZZZZIIII'], ['ZZIIIIZZII'], ['ZZIIZZIIII'], ['IIZZIIZZII'], ['ZZIIIIIIZZ'], ['IIZZIZZIII'], ['IIZZIIIIZZ'], ['ZZIIIZZIII'], ['ZZZZIIIIII'], ['IIIIZZZZII'], ['ZZIIIIIZZI'], ['IIIZZZZIII'], ['IIZZIIIZZI'], ['IZIIIIIIIZ'], ['IZIIIZIIII'], ['ZIIIIIZIII'], ['ZIIIZIIIII'], ['IIIIIZIIIZ'], ['ZIIIZZIIIZ'], ['IZIIZIZIIZ'], ['IIIIZIZIII'], ['IIIIZZIZZI'], ['ZIZIIIIIII'], ['IZIZIIIIII'], ['IIIIZZIIZZ'], ['IZZIIIZZII'], ['IIIIIIZZZZ'], ['ZZIZZIIIII'], ['IZZIIIIIZZ'], ['IIIZZIZZII'], ['IZZZZIIIII'], ['IIIIIZZIZZ'], ['IZZIZZIIII'], ['IIIIIIIZIZ'], ['IIIIIIZIZI'], ['IZZIIZZIII'], ['IIIZZIIIZZ'], ['IZZIIIIZZI'], ['IIIZIIIIIZ'], ['ZIIZIIZIIZ'], ['IIIZIZIIII'], ['IIIZZIIZZI'], ['IIZIIZZIIZ'], ['IIIIIZZZZI'], ['IIZIZIIIII'], ['IZIZIIZIZI'], ['ZIZIIZIZII'], ['ZIZIIIZIZI'], ['IIIZIIIZII'], ['IZIIIIIZII'], ['IIIZIZIZIZ'], ['IZIZIIIZIZ'], ['IZIZIZIZII'], ['IIIIIZIZII'], ['ZIZIZIZIII'], ['IZIZZIZIII'], ['ZIZIIIIZIZ'], ['IIIIZIZZIZ'], ['ZIZZIZIIII'], ['IIZIZZIZII'], ['ZIIIIIIIZI'], ['IIZIZIIZIZ'], ['IIIZIZZIZI'], ['IIZIZIZIZI'], ['ZIIZIZIIZI'], ['IIZIIIZIII'], ['IZIIZZIIZI'], ['ZIIZZIIZII'], ['IIZIIIIIZI'], ['IIIIZIIIZI'], ['XIIIIIIIII'], ['IXIIIIIIII'], ['IIXIIIIIII'], ['IIIXIIIIII'], ['IIIIXIIIII'], ['IIIIIXIIII'], ['IIIIIIXIII'], ['IIIIIIIXII'], ['IIIIIIIIXI'], ['IIIIIIIIIX']]\n",
      "CNOT: 242, Single: 76, Total: 318, Depth: 165\n",
      "{'num_paulis': 240, 'times': {'pytket_time': 6.588623285293579}, 'gate_counts': {'pytket_method': 242}, 'circuit_entangling_depth': {'pytket_method': 124}, 'test_paulis_file': 'benchmarks/results/test_pytket_labs_n10_layers3.json'}\n",
      "labs_n11_layers1.json\n",
      "[['IIZZIIZZIII'], ['ZZIIZZIIIII'], ['ZZIIIIZZIII'], ['IIZZZZIIIII'], ['ZZIIIIIIZZI'], ['IIZZIZZIIII'], ['IIZZIIIIZZI'], ['ZZIIIZZIIII'], ['ZZZZIIIIIII'], ['IIIIZZZZIII'], ['ZZIIIIIZZII'], ['IIZZIIIIIZZ'], ['IIZZIIIZZII'], ['ZZIIIIIIIZZ'], ['IIIIZZIZZII'], ['IZZIIIIIIZZ'], ['IIIIZZIIZZI'], ['IZZIIIZZIII'], ['IIIIZZIIIZZ'], ['IZZIIIIZZII'], ['IIIIIIZZZZI'], ['ZZIZZIIIIII'], ['IIIIIIZZIZZ'], ['IZZZZIIIIII'], ['IZZIIIIIZZI'], ['IIIZZZZIIII'], ['IZZIZZIIIII'], ['IIIIIIIZZZZ'], ['IZZIIZZIIII'], ['IIIZZIIIZZI'], ['IIIZZIIIIZZ'], ['IIIIIZZZZII'], ['IIIZZIZZIII'], ['IIZIIIIIIIZ'], ['IIZIIIIIZII'], ['IZIIIIIIIZI'], ['ZIIIIIIIIIZ'], ['ZIIIIIIIZII'], ['IIIIIZIIIZI'], ['IZIIIZIIIII'], ['ZIZIIIIIIII'], ['ZIZIIIIIZIZ'], ['IIIIIIIIZIZ'], ['IIIZZIIZZII'], ['IIIIIZZIIZZ'], ['IIIIIZZIZZI'], ['IIZIZIIIIII'], ['IZIZIIIIIII'], ['IZIZIIIIZIZ'], ['ZIZIZIZIIII'], ['IIIIZIZIIII'], ['IIIIIZIZIII'], ['ZIZIIZIZIII'], ['IZIZZIZIIII'], ['ZIZIIIIZIZI'], ['IZIZIZIZIII'], ['ZIZIIIZIZII'], ['IIIIIIZIZII'], ['IZIZIIIZIZI'], ['IIIIIIIZIZI'], ['IZIZIIZIZII'], ['IIZIZZIZIII'], ['IIIIZIZZIZI'], ['ZIZZIZIIIII'], ['IIIIZIZIZIZ'], ['IIIZIIIIIZI'], ['IIIZIIIZIII'], ['IZIIIIIZIII'], ['IIIZIZIZIZI'], ['IIIZIZIIIII'], ['IIIIIZIZZIZ'], ['ZIIZIIZIIZI'], ['IIZIZIIIZIZ'], ['ZIIIIIZIIII'], ['IIZIZIZIZII'], ['ZIIZIIIZIIZ'], ['IIZIZIIZIZI'], ['IIIZIZIIZIZ'], ['IIIZIZZIZII'], ['IZIIZIIZIIZ'], ['IIZIIZZIIZI'], ['ZIIZZIIZIII'], ['ZIIZIZIIZII'], ['IZIIZIZIIZI'], ['IIZIIZIZIIZ'], ['IIIIZIIIZII'], ['ZIIIZIIIIII'], ['IZIIZZIIZII'], ['IIIZIIZZIIZ'], ['IZIIIZZIIIZ'], ['IIIIIIZIIIZ'], ['ZIIIZZIIIZI'], ['ZIIIZIZIIIZ'], ['IIZIIIZIIII'], ['IIIIZIIIIIZ'], ['XIIIIIIIIII'], ['IXIIIIIIIII'], ['IIXIIIIIIII'], ['IIIXIIIIIII'], ['IIIIXIIIIII'], ['IIIIIXIIIII'], ['IIIIIIXIIII'], ['IIIIIIIXIII'], ['IIIIIIIIXII'], ['IIIIIIIIIXI'], ['IIIIIIIIIIX']]\n"
     ]
    },
    {
     "ename": "KeyboardInterrupt",
     "evalue": "",
     "output_type": "error",
     "traceback": [
      "\u001b[1;31m---------------------------------------------------------------------------\u001b[0m",
      "\u001b[1;31mKeyboardInterrupt\u001b[0m                         Traceback (most recent call last)",
      "Cell \u001b[1;32mIn[15], line 3\u001b[0m\n\u001b[0;32m      1\u001b[0m \u001b[38;5;66;03m# #Labs\u001b[39;00m\n\u001b[1;32m----> 3\u001b[0m \u001b[43mrun_experiment_folder\u001b[49m\u001b[43m(\u001b[49m\u001b[43mfolder_path\u001b[49m\u001b[43m \u001b[49m\u001b[38;5;241;43m=\u001b[39;49m\u001b[43m \u001b[49m\u001b[38;5;124;43m\"\u001b[39;49m\u001b[38;5;124;43mbenchmarks/labs_paulis\u001b[39;49m\u001b[38;5;124;43m\"\u001b[39;49m\u001b[43m,\u001b[49m\u001b[43m \u001b[49m\u001b[43msave_output\u001b[49m\u001b[43m \u001b[49m\u001b[38;5;241;43m=\u001b[39;49m\u001b[43m \u001b[49m\u001b[38;5;28;43;01mFalse\u001b[39;49;00m\u001b[43m)\u001b[49m\n",
      "Cell \u001b[1;32mIn[10], line 23\u001b[0m, in \u001b[0;36mrun_experiment_folder\u001b[1;34m(folder_path, filename, save_output)\u001b[0m\n\u001b[0;32m     21\u001b[0m \u001b[38;5;66;03m# Measure time for Tetris method\u001b[39;00m\n\u001b[0;32m     22\u001b[0m start_time \u001b[38;5;241m=\u001b[39m time\u001b[38;5;241m.\u001b[39mtime()\n\u001b[1;32m---> 23\u001b[0m circuit \u001b[38;5;241m=\u001b[39m \u001b[43mpytket_run\u001b[49m\u001b[43m(\u001b[49m\u001b[43mpaulis\u001b[49m\u001b[43m)\u001b[49m\n\u001b[0;32m     24\u001b[0m \u001b[38;5;66;03m# circuit_tetris = transpile(circuit_tetris, basis_gates=[\"cx\", \"sx\", \"x\", \"rz\"], optimization_level=3)\u001b[39;00m\n\u001b[0;32m     25\u001b[0m end_time \u001b[38;5;241m=\u001b[39m time\u001b[38;5;241m.\u001b[39mtime()\n",
      "Cell \u001b[1;32mIn[9], line 39\u001b[0m, in \u001b[0;36mpytket_run\u001b[1;34m(parr)\u001b[0m\n\u001b[0;32m     37\u001b[0m \u001b[38;5;66;03m# render_circuit_jupyter(ansatz)\u001b[39;00m\n\u001b[0;32m     38\u001b[0m FullPeepholeOptimise()\u001b[38;5;241m.\u001b[39mapply(ansatz)\n\u001b[1;32m---> 39\u001b[0m \u001b[43mKAKDecomposition\u001b[49m\u001b[43m(\u001b[49m\u001b[43m)\u001b[49m\u001b[38;5;241m.\u001b[39mapply(ansatz)\n\u001b[0;32m     40\u001b[0m \u001b[38;5;66;03m# render_circuit_jupyter(ansatz)\u001b[39;00m\n\u001b[0;32m     41\u001b[0m \u001b[38;5;28mprint\u001b[39m(\u001b[38;5;124mf\u001b[39m\u001b[38;5;124m\"\u001b[39m\u001b[38;5;124mCNOT: \u001b[39m\u001b[38;5;132;01m{\u001b[39;00mansatz\u001b[38;5;241m.\u001b[39mn_gates_of_type(OpType\u001b[38;5;241m.\u001b[39mCX)\u001b[38;5;132;01m}\u001b[39;00m\u001b[38;5;124m, Single: \u001b[39m\u001b[38;5;132;01m{\u001b[39;00mansatz\u001b[38;5;241m.\u001b[39mn_gates\u001b[38;5;241m-\u001b[39mansatz\u001b[38;5;241m.\u001b[39mn_gates_of_type(OpType\u001b[38;5;241m.\u001b[39mCX)\u001b[38;5;132;01m}\u001b[39;00m\u001b[38;5;124m, Total: \u001b[39m\u001b[38;5;132;01m{\u001b[39;00mansatz\u001b[38;5;241m.\u001b[39mn_gates\u001b[38;5;132;01m}\u001b[39;00m\u001b[38;5;124m, Depth: \u001b[39m\u001b[38;5;132;01m{\u001b[39;00mansatz\u001b[38;5;241m.\u001b[39mdepth()\u001b[38;5;132;01m}\u001b[39;00m\u001b[38;5;124m\"\u001b[39m)\n",
      "\u001b[1;31mKeyboardInterrupt\u001b[0m: "
     ]
    }
   ],
   "source": [
    "# #Labs\n",
    "\n",
    "run_experiment_folder(folder_path = \"benchmarks/labs_paulis\", save_output = True)"
   ]
  }
 ],
 "metadata": {
  "kernelspec": {
   "display_name": "Python 3 (ipykernel)",
   "language": "python",
   "name": "python3"
  },
  "language_info": {
   "codemirror_mode": {
    "name": "ipython",
    "version": 3
   },
   "file_extension": ".py",
   "mimetype": "text/x-python",
   "name": "python",
   "nbconvert_exporter": "python",
   "pygments_lexer": "ipython3",
   "version": "3.12.4"
  }
 },
 "nbformat": 4,
 "nbformat_minor": 5
}
